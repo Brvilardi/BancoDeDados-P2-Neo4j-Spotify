{
  "nbformat": 4,
  "nbformat_minor": 0,
  "metadata": {
    "colab": {
      "provenance": [],
      "include_colab_link": true
    },
    "kernelspec": {
      "name": "python3",
      "display_name": "Python 3"
    },
    "language_info": {
      "name": "python"
    },
    "widgets": {
      "application/vnd.jupyter.widget-state+json": {
        "68d39b58300f4813a62ea83d444f870a": {
          "model_module": "yfiles-jupyter-graphs",
          "model_name": "GraphModel",
          "model_module_version": "^1.4.5",
          "state": {
            "_context_pane_mapping": [
              {
                "id": "Neighborhood",
                "title": "Neighborhood"
              },
              {
                "id": "Data",
                "title": "Data"
              },
              {
                "id": "Search",
                "title": "Search"
              },
              {
                "id": "About",
                "title": "About"
              }
            ],
            "_data_importer": "neo4j",
            "_directed": true,
            "_dom_classes": [],
            "_edges": [
              {
                "id": 134,
                "start": 374,
                "end": 144,
                "properties": {
                  "label": "PERFORMS"
                },
                "label": "PERFORMS",
                "color": "#094c4b",
                "thickness_factor": 1,
                "directed": true
              },
              {
                "id": 409,
                "start": 374,
                "end": 299,
                "properties": {
                  "label": "PERFORMS"
                },
                "label": "PERFORMS",
                "color": "#094c4b",
                "thickness_factor": 1,
                "directed": true
              },
              {
                "id": 310,
                "start": 374,
                "end": 239,
                "properties": {
                  "label": "PERFORMS"
                },
                "label": "PERFORMS",
                "color": "#094c4b",
                "thickness_factor": 1,
                "directed": true
              },
              {
                "id": 305,
                "start": 374,
                "end": 237,
                "properties": {
                  "label": "PERFORMS"
                },
                "label": "PERFORMS",
                "color": "#094c4b",
                "thickness_factor": 1,
                "directed": true
              },
              {
                "id": 299,
                "start": 374,
                "end": 234,
                "properties": {
                  "label": "PERFORMS"
                },
                "label": "PERFORMS",
                "color": "#094c4b",
                "thickness_factor": 1,
                "directed": true
              },
              {
                "id": 293,
                "start": 374,
                "end": 232,
                "properties": {
                  "label": "PERFORMS"
                },
                "label": "PERFORMS",
                "color": "#094c4b",
                "thickness_factor": 1,
                "directed": true
              },
              {
                "id": 292,
                "start": 374,
                "end": 228,
                "properties": {
                  "label": "PERFORMS"
                },
                "label": "PERFORMS",
                "color": "#094c4b",
                "thickness_factor": 1,
                "directed": true
              },
              {
                "id": 290,
                "start": 374,
                "end": 227,
                "properties": {
                  "label": "PERFORMS"
                },
                "label": "PERFORMS",
                "color": "#094c4b",
                "thickness_factor": 1,
                "directed": true
              },
              {
                "id": 288,
                "start": 374,
                "end": 226,
                "properties": {
                  "label": "PERFORMS"
                },
                "label": "PERFORMS",
                "color": "#094c4b",
                "thickness_factor": 1,
                "directed": true
              },
              {
                "id": 249,
                "start": 374,
                "end": 197,
                "properties": {
                  "label": "PERFORMS"
                },
                "label": "PERFORMS",
                "color": "#094c4b",
                "thickness_factor": 1,
                "directed": true
              },
              {
                "id": 246,
                "start": 374,
                "end": 196,
                "properties": {
                  "label": "PERFORMS"
                },
                "label": "PERFORMS",
                "color": "#094c4b",
                "thickness_factor": 1,
                "directed": true
              },
              {
                "id": 238,
                "start": 374,
                "end": 189,
                "properties": {
                  "label": "PERFORMS"
                },
                "label": "PERFORMS",
                "color": "#094c4b",
                "thickness_factor": 1,
                "directed": true
              },
              {
                "id": 235,
                "start": 374,
                "end": 188,
                "properties": {
                  "label": "PERFORMS"
                },
                "label": "PERFORMS",
                "color": "#094c4b",
                "thickness_factor": 1,
                "directed": true
              },
              {
                "id": 207,
                "start": 374,
                "end": 175,
                "properties": {
                  "label": "PERFORMS"
                },
                "label": "PERFORMS",
                "color": "#094c4b",
                "thickness_factor": 1,
                "directed": true
              },
              {
                "id": 158,
                "start": 374,
                "end": 163,
                "properties": {
                  "label": "PERFORMS"
                },
                "label": "PERFORMS",
                "color": "#094c4b",
                "thickness_factor": 1,
                "directed": true
              },
              {
                "id": 142,
                "start": 374,
                "end": 153,
                "properties": {
                  "label": "PERFORMS"
                },
                "label": "PERFORMS",
                "color": "#094c4b",
                "thickness_factor": 1,
                "directed": true
              },
              {
                "id": 141,
                "start": 374,
                "end": 152,
                "properties": {
                  "label": "PERFORMS"
                },
                "label": "PERFORMS",
                "color": "#094c4b",
                "thickness_factor": 1,
                "directed": true
              },
              {
                "id": 139,
                "start": 374,
                "end": 151,
                "properties": {
                  "label": "PERFORMS"
                },
                "label": "PERFORMS",
                "color": "#094c4b",
                "thickness_factor": 1,
                "directed": true
              },
              {
                "id": 138,
                "start": 374,
                "end": 148,
                "properties": {
                  "label": "PERFORMS"
                },
                "label": "PERFORMS",
                "color": "#094c4b",
                "thickness_factor": 1,
                "directed": true
              },
              {
                "id": 137,
                "start": 374,
                "end": 147,
                "properties": {
                  "label": "PERFORMS"
                },
                "label": "PERFORMS",
                "color": "#094c4b",
                "thickness_factor": 1,
                "directed": true
              },
              {
                "id": 136,
                "start": 374,
                "end": 146,
                "properties": {
                  "label": "PERFORMS"
                },
                "label": "PERFORMS",
                "color": "#094c4b",
                "thickness_factor": 1,
                "directed": true
              },
              {
                "id": 135,
                "start": 374,
                "end": 145,
                "properties": {
                  "label": "PERFORMS"
                },
                "label": "PERFORMS",
                "color": "#094c4b",
                "thickness_factor": 1,
                "directed": true
              },
              {
                "id": 534,
                "start": 374,
                "end": 81,
                "properties": {
                  "label": "PERFORMS"
                },
                "label": "PERFORMS",
                "color": "#094c4b",
                "thickness_factor": 1,
                "directed": true
              },
              {
                "id": 536,
                "start": 374,
                "end": 195,
                "properties": {
                  "label": "PERFORMS"
                },
                "label": "PERFORMS",
                "color": "#094c4b",
                "thickness_factor": 1,
                "directed": true
              },
              {
                "id": 535,
                "start": 374,
                "end": 103,
                "properties": {
                  "label": "PERFORMS"
                },
                "label": "PERFORMS",
                "color": "#094c4b",
                "thickness_factor": 1,
                "directed": true
              },
              {
                "id": 542,
                "start": 374,
                "end": 231,
                "properties": {
                  "label": "PERFORMS"
                },
                "label": "PERFORMS",
                "color": "#094c4b",
                "thickness_factor": 1,
                "directed": true
              },
              {
                "id": 540,
                "start": 374,
                "end": 82,
                "properties": {
                  "label": "PERFORMS"
                },
                "label": "PERFORMS",
                "color": "#094c4b",
                "thickness_factor": 1,
                "directed": true
              },
              {
                "id": 541,
                "start": 374,
                "end": 104,
                "properties": {
                  "label": "PERFORMS"
                },
                "label": "PERFORMS",
                "color": "#094c4b",
                "thickness_factor": 1,
                "directed": true
              },
              {
                "id": 549,
                "start": 374,
                "end": 83,
                "properties": {
                  "label": "PERFORMS"
                },
                "label": "PERFORMS",
                "color": "#094c4b",
                "thickness_factor": 1,
                "directed": true
              },
              {
                "id": 551,
                "start": 374,
                "end": 125,
                "properties": {
                  "label": "PERFORMS"
                },
                "label": "PERFORMS",
                "color": "#094c4b",
                "thickness_factor": 1,
                "directed": true
              },
              {
                "id": 550,
                "start": 374,
                "end": 105,
                "properties": {
                  "label": "PERFORMS"
                },
                "label": "PERFORMS",
                "color": "#094c4b",
                "thickness_factor": 1,
                "directed": true
              },
              {
                "id": 558,
                "start": 374,
                "end": 84,
                "properties": {
                  "label": "PERFORMS"
                },
                "label": "PERFORMS",
                "color": "#094c4b",
                "thickness_factor": 1,
                "directed": true
              },
              {
                "id": 0,
                "start": 374,
                "end": 106,
                "properties": {
                  "label": "PERFORMS"
                },
                "label": "PERFORMS",
                "color": "#094c4b",
                "thickness_factor": 1,
                "directed": true
              },
              {
                "id": 1,
                "start": 374,
                "end": 246,
                "properties": {
                  "label": "PERFORMS"
                },
                "label": "PERFORMS",
                "color": "#094c4b",
                "thickness_factor": 1,
                "directed": true
              },
              {
                "id": 560,
                "start": 374,
                "end": 85,
                "properties": {
                  "label": "PERFORMS"
                },
                "label": "PERFORMS",
                "color": "#094c4b",
                "thickness_factor": 1,
                "directed": true
              },
              {
                "id": 2,
                "start": 374,
                "end": 86,
                "properties": {
                  "label": "PERFORMS"
                },
                "label": "PERFORMS",
                "color": "#094c4b",
                "thickness_factor": 1,
                "directed": true
              },
              {
                "id": 4,
                "start": 374,
                "end": 87,
                "properties": {
                  "label": "PERFORMS"
                },
                "label": "PERFORMS",
                "color": "#094c4b",
                "thickness_factor": 1,
                "directed": true
              },
              {
                "id": 5,
                "start": 374,
                "end": 230,
                "properties": {
                  "label": "PERFORMS"
                },
                "label": "PERFORMS",
                "color": "#094c4b",
                "thickness_factor": 1,
                "directed": true
              },
              {
                "id": 8,
                "start": 374,
                "end": 88,
                "properties": {
                  "label": "PERFORMS"
                },
                "label": "PERFORMS",
                "color": "#094c4b",
                "thickness_factor": 1,
                "directed": true
              },
              {
                "id": 9,
                "start": 374,
                "end": 107,
                "properties": {
                  "label": "PERFORMS"
                },
                "label": "PERFORMS",
                "color": "#094c4b",
                "thickness_factor": 1,
                "directed": true
              },
              {
                "id": 10,
                "start": 374,
                "end": 229,
                "properties": {
                  "label": "PERFORMS"
                },
                "label": "PERFORMS",
                "color": "#094c4b",
                "thickness_factor": 1,
                "directed": true
              },
              {
                "id": 17,
                "start": 374,
                "end": 89,
                "properties": {
                  "label": "PERFORMS"
                },
                "label": "PERFORMS",
                "color": "#094c4b",
                "thickness_factor": 1,
                "directed": true
              },
              {
                "id": 18,
                "start": 374,
                "end": 108,
                "properties": {
                  "label": "PERFORMS"
                },
                "label": "PERFORMS",
                "color": "#094c4b",
                "thickness_factor": 1,
                "directed": true
              },
              {
                "id": 21,
                "start": 374,
                "end": 90,
                "properties": {
                  "label": "PERFORMS"
                },
                "label": "PERFORMS",
                "color": "#094c4b",
                "thickness_factor": 1,
                "directed": true
              },
              {
                "id": 22,
                "start": 374,
                "end": 109,
                "properties": {
                  "label": "PERFORMS"
                },
                "label": "PERFORMS",
                "color": "#094c4b",
                "thickness_factor": 1,
                "directed": true
              },
              {
                "id": 23,
                "start": 374,
                "end": 248,
                "properties": {
                  "label": "PERFORMS"
                },
                "label": "PERFORMS",
                "color": "#094c4b",
                "thickness_factor": 1,
                "directed": true
              },
              {
                "id": 27,
                "start": 374,
                "end": 91,
                "properties": {
                  "label": "PERFORMS"
                },
                "label": "PERFORMS",
                "color": "#094c4b",
                "thickness_factor": 1,
                "directed": true
              },
              {
                "id": 28,
                "start": 374,
                "end": 110,
                "properties": {
                  "label": "PERFORMS"
                },
                "label": "PERFORMS",
                "color": "#094c4b",
                "thickness_factor": 1,
                "directed": true
              },
              {
                "id": 33,
                "start": 374,
                "end": 92,
                "properties": {
                  "label": "PERFORMS"
                },
                "label": "PERFORMS",
                "color": "#094c4b",
                "thickness_factor": 1,
                "directed": true
              },
              {
                "id": 34,
                "start": 374,
                "end": 111,
                "properties": {
                  "label": "PERFORMS"
                },
                "label": "PERFORMS",
                "color": "#094c4b",
                "thickness_factor": 1,
                "directed": true
              }
            ],
            "_graph_layout": {
              "algorithm": "circular",
              "options": {}
            },
            "_highlight": [],
            "_model_module": "yfiles-jupyter-graphs",
            "_model_module_version": "^1.4.5",
            "_model_name": "GraphModel",
            "_neighborhood": {},
            "_nodes": [
              {
                "id": 374,
                "properties": {
                  "name": "Ed Sheeran",
                  "feats": "2,791,278,201",
                  "lead_streams": "38,153,682,361",
                  "label": "Artist"
                },
                "label": "Ed Sheeran",
                "color": "#17bebb",
                "styles": {
                  "color": "#FF8C00",
                  "shape": "ellipse",
                  "label": "name"
                },
                "scale_factor": 1,
                "type": null,
                "position": [
                  0,
                  0
                ]
              },
              {
                "id": 144,
                "properties": {
                  "explicit": false,
                  "duration_ms": 526387,
                  "year": 2011,
                  "album": "+",
                  "name": "Give Me Love",
                  "danceability": 0.526,
                  "energy": 0.3279999999999999,
                  "label": "Track"
                },
                "label": "Track",
                "color": "#17bebb",
                "styles": {
                  "color": "#40E0D0",
                  "shape": "ellipse",
                  "label": "label"
                },
                "scale_factor": 1,
                "type": null,
                "position": [
                  0,
                  0
                ]
              },
              {
                "id": 299,
                "properties": {
                  "duration_ms": 176266,
                  "explicit": false,
                  "year": 2019,
                  "album": "Own It (feat. Ed Sheeran & Burna Boy) [Joel Corry Remix]",
                  "name": "Own It (feat. Ed Sheeran & Burna Boy) - Joel Corry Remix",
                  "danceability": 0.747,
                  "energy": 0.863,
                  "label": "Track"
                },
                "label": "Track",
                "color": "#17bebb",
                "styles": {
                  "color": "#40E0D0",
                  "shape": "ellipse",
                  "label": "label"
                },
                "scale_factor": 1,
                "type": null,
                "position": [
                  0,
                  0
                ]
              },
              {
                "id": 239,
                "properties": {
                  "duration_ms": 173455,
                  "explicit": false,
                  "year": 2019,
                  "album": "South of the Border (feat. Camila Cabello & Cardi B) [Sam Feldt Remix]",
                  "name": "South of the Border (feat. Camila Cabello & Cardi B) - Sam Feldt Remix",
                  "danceability": 0.789,
                  "energy": 0.858,
                  "label": "Track"
                },
                "label": "Track",
                "color": "#17bebb",
                "styles": {
                  "color": "#40E0D0",
                  "shape": "ellipse",
                  "label": "label"
                },
                "scale_factor": 1,
                "type": null,
                "position": [
                  0,
                  0
                ]
              },
              {
                "id": 237,
                "properties": {
                  "duration_ms": 188230,
                  "explicit": false,
                  "year": 2019,
                  "album": "South of the Border (feat. Camila Cabello & Cardi B) [Andy Jarvis Remix]",
                  "name": "South of the Border (feat. Camila Cabello & Cardi B) - Andy Jarvis Remix",
                  "danceability": 0.805,
                  "energy": 0.835,
                  "label": "Track"
                },
                "label": "Track",
                "color": "#17bebb",
                "styles": {
                  "color": "#40E0D0",
                  "shape": "ellipse",
                  "label": "label"
                },
                "scale_factor": 1,
                "type": null,
                "position": [
                  0,
                  0
                ]
              },
              {
                "id": 234,
                "properties": {
                  "duration_ms": 195924,
                  "explicit": false,
                  "year": 2019,
                  "album": "South of the Border (feat. Camila Cabello & Cardi B) [Cheat Codes Remix]",
                  "name": "South of the Border (feat. Camila Cabello & Cardi B) - Cheat Codes Remix",
                  "danceability": 0.845,
                  "energy": 0.7659999999999999,
                  "label": "Track"
                },
                "label": "Track",
                "color": "#17bebb",
                "styles": {
                  "color": "#40E0D0",
                  "shape": "ellipse",
                  "label": "label"
                },
                "scale_factor": 1,
                "type": null,
                "position": [
                  0,
                  0
                ]
              },
              {
                "id": 232,
                "properties": {
                  "duration_ms": 194885,
                  "explicit": false,
                  "year": 2019,
                  "album": "South of the Border (feat. Camila Cabello) [Acoustic]",
                  "name": "South of the Border (feat. Camila Cabello) - Acoustic",
                  "danceability": 0.735,
                  "energy": 0.6859999999999999,
                  "label": "Track"
                },
                "label": "Track",
                "color": "#17bebb",
                "styles": {
                  "color": "#40E0D0",
                  "shape": "ellipse",
                  "label": "label"
                },
                "scale_factor": 1,
                "type": null,
                "position": [
                  0,
                  0
                ]
              },
              {
                "id": 228,
                "properties": {
                  "duration_ms": 186853,
                  "explicit": false,
                  "year": 2019,
                  "album": "Beautiful People (Acoustic)",
                  "name": "Beautiful People - Acoustic",
                  "danceability": 0.679,
                  "energy": 0.369,
                  "label": "Track"
                },
                "label": "Track",
                "color": "#17bebb",
                "styles": {
                  "color": "#40E0D0",
                  "shape": "ellipse",
                  "label": "label"
                },
                "scale_factor": 1,
                "type": null,
                "position": [
                  0,
                  0
                ]
              },
              {
                "id": 227,
                "properties": {
                  "duration_ms": 225367,
                  "explicit": false,
                  "year": 2019,
                  "album": "Beautiful People (feat. Khalid) [Danny L Harle Harlecore Remix]",
                  "name": "Beautiful People (feat. Khalid) - Danny L Harle Harlecore Remix",
                  "danceability": 0.4579999999999999,
                  "energy": 0.93,
                  "label": "Track"
                },
                "label": "Track",
                "color": "#17bebb",
                "styles": {
                  "color": "#40E0D0",
                  "shape": "ellipse",
                  "label": "label"
                },
                "scale_factor": 1,
                "type": null,
                "position": [
                  0,
                  0
                ]
              },
              {
                "id": 226,
                "properties": {
                  "duration_ms": 163049,
                  "explicit": false,
                  "year": 2019,
                  "album": "Beautiful People (feat. Khalid) [Jack Wins Remix]",
                  "name": "Beautiful People (feat. Khalid) - Jack Wins Remix",
                  "danceability": 0.675,
                  "energy": 0.919,
                  "label": "Track"
                },
                "label": "Track",
                "color": "#17bebb",
                "styles": {
                  "color": "#40E0D0",
                  "shape": "ellipse",
                  "label": "label"
                },
                "scale_factor": 1,
                "type": null,
                "position": [
                  0,
                  0
                ]
              },
              {
                "id": 197,
                "properties": {
                  "duration_ms": 192681,
                  "explicit": false,
                  "year": 2019,
                  "album": "I Don't Care (with Justin Bieber) [Jonas Blue Remix]",
                  "name": "I Don't Care (with Justin Bieber) - Jonas Blue Remix",
                  "danceability": 0.708,
                  "energy": 0.872,
                  "label": "Track"
                },
                "label": "Track",
                "color": "#17bebb",
                "styles": {
                  "color": "#40E0D0",
                  "shape": "ellipse",
                  "label": "label"
                },
                "scale_factor": 1,
                "type": null,
                "position": [
                  0,
                  0
                ]
              },
              {
                "id": 196,
                "properties": {
                  "duration_ms": 194754,
                  "explicit": false,
                  "year": 2019,
                  "album": "I Don't Care (with Justin Bieber) [Loud Luxury Remix]",
                  "name": "I Don't Care (with Justin Bieber) - Loud Luxury Remix",
                  "danceability": 0.748,
                  "energy": 0.916,
                  "label": "Track"
                },
                "label": "Track",
                "color": "#17bebb",
                "styles": {
                  "color": "#40E0D0",
                  "shape": "ellipse",
                  "label": "label"
                },
                "scale_factor": 1,
                "type": null,
                "position": [
                  0,
                  0
                ]
              },
              {
                "id": 189,
                "properties": {
                  "duration_ms": 218373,
                  "explicit": false,
                  "year": 2019,
                  "album": "I Don't Care (with Justin Bieber) [Chronixx & Koffee Remix]",
                  "name": "I Don't Care (with Justin Bieber) - Chronixx & Koffee Remix",
                  "danceability": 0.759,
                  "energy": 0.688,
                  "label": "Track"
                },
                "label": "Track",
                "color": "#17bebb",
                "styles": {
                  "color": "#40E0D0",
                  "shape": "ellipse",
                  "label": "label"
                },
                "scale_factor": 1,
                "type": null,
                "position": [
                  0,
                  0
                ]
              },
              {
                "id": 188,
                "properties": {
                  "duration_ms": 207894,
                  "explicit": true,
                  "year": 2019,
                  "album": "Cross Me (feat. Chance the Rapper & PnB Rock) [M-22 Remix]",
                  "name": "Cross Me (feat. Chance the Rapper & PnB Rock) - M-22 Remix",
                  "danceability": 0.679,
                  "energy": 0.923,
                  "label": "Track"
                },
                "label": "Track",
                "color": "#17bebb",
                "styles": {
                  "color": "#40E0D0",
                  "shape": "ellipse",
                  "label": "label"
                },
                "scale_factor": 1,
                "type": null,
                "position": [
                  0,
                  0
                ]
              },
              {
                "id": 175,
                "properties": {
                  "duration_ms": 238220,
                  "explicit": false,
                  "year": 2019,
                  "album": "I Don't Care (Acoustic)",
                  "name": "I Don't Care - Acoustic",
                  "danceability": 0.706,
                  "energy": 0.349,
                  "label": "Track"
                },
                "label": "Track",
                "color": "#17bebb",
                "styles": {
                  "color": "#40E0D0",
                  "shape": "ellipse",
                  "label": "label"
                },
                "scale_factor": 1,
                "type": null,
                "position": [
                  0,
                  0
                ]
              },
              {
                "id": 163,
                "properties": {
                  "duration_ms": 259550,
                  "explicit": false,
                  "year": 2017,
                  "album": "Perfect Duet (Ed Sheeran & Beyoncé)",
                  "name": "Perfect Duet (Ed Sheeran & Beyoncé)",
                  "danceability": 0.5870000000000001,
                  "energy": 0.299,
                  "label": "Track"
                },
                "label": "Track",
                "color": "#17bebb",
                "styles": {
                  "color": "#40E0D0",
                  "shape": "ellipse",
                  "label": "label"
                },
                "scale_factor": 1,
                "type": null,
                "position": [
                  0,
                  0
                ]
              },
              {
                "id": 153,
                "properties": {
                  "duration_ms": 280533,
                  "explicit": false,
                  "year": 2017,
                  "album": "How Would You Feel (Paean)",
                  "name": "How Would You Feel (Paean)",
                  "danceability": 0.617,
                  "energy": 0.439,
                  "label": "Track"
                },
                "label": "Track",
                "color": "#17bebb",
                "styles": {
                  "color": "#40E0D0",
                  "shape": "ellipse",
                  "label": "label"
                },
                "scale_factor": 1,
                "type": null,
                "position": [
                  0,
                  0
                ]
              },
              {
                "id": 152,
                "properties": {
                  "explicit": false,
                  "duration_ms": 226227,
                  "year": 2017,
                  "album": "Castle on the Hill (Acoustic)",
                  "name": "Castle on the Hill - Acoustic",
                  "danceability": 0.563,
                  "energy": 0.26,
                  "label": "Track"
                },
                "label": "Track",
                "color": "#17bebb",
                "styles": {
                  "color": "#40E0D0",
                  "shape": "ellipse",
                  "label": "label"
                },
                "scale_factor": 1,
                "type": null,
                "position": [
                  0,
                  0
                ]
              },
              {
                "id": 151,
                "properties": {
                  "explicit": false,
                  "duration_ms": 195988,
                  "year": 2017,
                  "album": "Shape of You (Galantis Remix)",
                  "name": "Shape of You - Galantis Remix",
                  "danceability": 0.838,
                  "energy": 0.765,
                  "label": "Track"
                },
                "label": "Track",
                "color": "#17bebb",
                "styles": {
                  "color": "#40E0D0",
                  "shape": "ellipse",
                  "label": "label"
                },
                "scale_factor": 1,
                "type": null,
                "position": [
                  0,
                  0
                ]
              },
              {
                "id": 148,
                "properties": {
                  "explicit": false,
                  "duration_ms": 275882,
                  "year": 2011,
                  "album": "+",
                  "name": "Sunburn - Deluxe Edition",
                  "danceability": 0.4639999999999999,
                  "energy": 0.098,
                  "label": "Track"
                },
                "label": "Track",
                "color": "#17bebb",
                "styles": {
                  "color": "#40E0D0",
                  "shape": "ellipse",
                  "label": "label"
                },
                "scale_factor": 1,
                "type": null,
                "position": [
                  0,
                  0
                ]
              },
              {
                "id": 147,
                "properties": {
                  "explicit": false,
                  "duration_ms": 243163,
                  "year": 2011,
                  "album": "+",
                  "name": "Gold Rush - Deluxe Edition",
                  "danceability": 0.74,
                  "energy": 0.248,
                  "label": "Track"
                },
                "label": "Track",
                "color": "#17bebb",
                "styles": {
                  "color": "#40E0D0",
                  "shape": "ellipse",
                  "label": "label"
                },
                "scale_factor": 1,
                "type": null,
                "position": [
                  0,
                  0
                ]
              },
              {
                "id": 146,
                "properties": {
                  "explicit": false,
                  "duration_ms": 224529,
                  "year": 2011,
                  "album": "+",
                  "name": "Little Bird - Deluxe Edition",
                  "danceability": 0.843,
                  "energy": 0.425,
                  "label": "Track"
                },
                "label": "Track",
                "color": "#17bebb",
                "styles": {
                  "color": "#40E0D0",
                  "shape": "ellipse",
                  "label": "label"
                },
                "scale_factor": 1,
                "type": null,
                "position": [
                  0,
                  0
                ]
              },
              {
                "id": 145,
                "properties": {
                  "explicit": false,
                  "duration_ms": 200756,
                  "year": 2011,
                  "album": "+",
                  "name": "Autumn Leaves - Deluxe Edition",
                  "danceability": 0.555,
                  "energy": 0.257,
                  "label": "Track"
                },
                "label": "Track",
                "color": "#17bebb",
                "styles": {
                  "color": "#40E0D0",
                  "shape": "ellipse",
                  "label": "label"
                },
                "scale_factor": 1,
                "type": null,
                "position": [
                  0,
                  0
                ]
              },
              {
                "id": 81,
                "properties": {
                  "explicit": false,
                  "duration_ms": 197867,
                  "year": 2019,
                  "album": "No.6 Collaborations Project",
                  "name": "Beautiful People (feat. Khalid)",
                  "danceability": 0.64,
                  "energy": 0.647,
                  "label": "Track"
                },
                "label": "Track",
                "color": "#17bebb",
                "styles": {
                  "color": "#40E0D0",
                  "shape": "ellipse",
                  "label": "label"
                },
                "scale_factor": 1,
                "type": null,
                "position": [
                  0,
                  0
                ]
              },
              {
                "id": 195,
                "properties": {
                  "duration_ms": 197867,
                  "explicit": false,
                  "year": 2019,
                  "album": "Beautiful People (feat. Khalid)",
                  "name": "Beautiful People (feat. Khalid)",
                  "danceability": 0.64,
                  "energy": 0.648,
                  "label": "Track"
                },
                "label": "Track",
                "color": "#17bebb",
                "styles": {
                  "color": "#40E0D0",
                  "shape": "ellipse",
                  "label": "label"
                },
                "scale_factor": 1,
                "type": null,
                "position": [
                  0,
                  0
                ]
              },
              {
                "id": 103,
                "properties": {
                  "explicit": false,
                  "duration_ms": 197867,
                  "year": 2019,
                  "album": "No.6 Collaborations Project",
                  "name": "Beautiful People (feat. Khalid)",
                  "danceability": 0.64,
                  "energy": 0.648,
                  "label": "Track"
                },
                "label": "Track",
                "color": "#17bebb",
                "styles": {
                  "color": "#40E0D0",
                  "shape": "ellipse",
                  "label": "label"
                },
                "scale_factor": 1,
                "type": null,
                "position": [
                  0,
                  0
                ]
              },
              {
                "id": 231,
                "properties": {
                  "duration_ms": 204467,
                  "explicit": false,
                  "year": 2019,
                  "album": "South of the Border (feat. Camila Cabello & Cardi B)",
                  "name": "South of the Border (feat. Camila Cabello & Cardi B)",
                  "danceability": 0.857,
                  "energy": 0.621,
                  "label": "Track"
                },
                "label": "Track",
                "color": "#17bebb",
                "styles": {
                  "color": "#40E0D0",
                  "shape": "ellipse",
                  "label": "label"
                },
                "scale_factor": 1,
                "type": null,
                "position": [
                  0,
                  0
                ]
              },
              {
                "id": 82,
                "properties": {
                  "explicit": false,
                  "duration_ms": 204467,
                  "year": 2019,
                  "album": "No.6 Collaborations Project",
                  "name": "South of the Border (feat. Camila Cabello & Cardi B)",
                  "danceability": 0.857,
                  "energy": 0.621,
                  "label": "Track"
                },
                "label": "Track",
                "color": "#17bebb",
                "styles": {
                  "color": "#40E0D0",
                  "shape": "ellipse",
                  "label": "label"
                },
                "scale_factor": 1,
                "type": null,
                "position": [
                  0,
                  0
                ]
              },
              {
                "id": 104,
                "properties": {
                  "explicit": false,
                  "duration_ms": 204467,
                  "year": 2019,
                  "album": "No.6 Collaborations Project",
                  "name": "South of the Border (feat. Camila Cabello & Cardi B)",
                  "danceability": 0.857,
                  "energy": 0.621,
                  "label": "Track"
                },
                "label": "Track",
                "color": "#17bebb",
                "styles": {
                  "color": "#40E0D0",
                  "shape": "ellipse",
                  "label": "label"
                },
                "scale_factor": 1,
                "type": null,
                "position": [
                  0,
                  0
                ]
              },
              {
                "id": 83,
                "properties": {
                  "explicit": true,
                  "duration_ms": 206187,
                  "year": 2019,
                  "album": "No.6 Collaborations Project",
                  "name": "Cross Me (feat. Chance the Rapper & PnB Rock)",
                  "danceability": 0.746,
                  "energy": 0.787,
                  "label": "Track"
                },
                "label": "Track",
                "color": "#17bebb",
                "styles": {
                  "color": "#40E0D0",
                  "shape": "ellipse",
                  "label": "label"
                },
                "scale_factor": 1,
                "type": null,
                "position": [
                  0,
                  0
                ]
              },
              {
                "id": 125,
                "properties": {
                  "duration_ms": 206187,
                  "explicit": true,
                  "year": 2019,
                  "album": "Cross Me (feat. Chance the Rapper & PnB Rock)",
                  "name": "Cross Me (feat. Chance the Rapper & PnB Rock)",
                  "danceability": 0.746,
                  "energy": 0.787,
                  "label": "Track"
                },
                "label": "Track",
                "color": "#17bebb",
                "styles": {
                  "color": "#40E0D0",
                  "shape": "ellipse",
                  "label": "label"
                },
                "scale_factor": 1,
                "type": null,
                "position": [
                  0,
                  0
                ]
              },
              {
                "id": 105,
                "properties": {
                  "explicit": false,
                  "duration_ms": 204833,
                  "year": 2019,
                  "album": "No.6 Collaborations Project",
                  "name": "Cross Me (feat. Chance the Rapper & PnB Rock)",
                  "danceability": 0.654,
                  "energy": 0.784,
                  "label": "Track"
                },
                "label": "Track",
                "color": "#17bebb",
                "styles": {
                  "color": "#40E0D0",
                  "shape": "ellipse",
                  "label": "label"
                },
                "scale_factor": 1,
                "type": null,
                "position": [
                  0,
                  0
                ]
              },
              {
                "id": 84,
                "properties": {
                  "explicit": false,
                  "duration_ms": 189733,
                  "year": 2019,
                  "album": "No.6 Collaborations Project",
                  "name": "Take Me Back to London (feat. Stormzy)",
                  "danceability": 0.885,
                  "energy": 0.762,
                  "label": "Track"
                },
                "label": "Track",
                "color": "#17bebb",
                "styles": {
                  "color": "#40E0D0",
                  "shape": "ellipse",
                  "label": "label"
                },
                "scale_factor": 1,
                "type": null,
                "position": [
                  0,
                  0
                ]
              },
              {
                "id": 106,
                "properties": {
                  "explicit": false,
                  "duration_ms": 243267,
                  "year": 2019,
                  "album": "No.6 Collaborations Project",
                  "name": "Best Part of Me (feat. YEBBA)",
                  "danceability": 0.565,
                  "energy": 0.242,
                  "label": "Track"
                },
                "label": "Track",
                "color": "#17bebb",
                "styles": {
                  "color": "#40E0D0",
                  "shape": "ellipse",
                  "label": "label"
                },
                "scale_factor": 1,
                "type": null,
                "position": [
                  0,
                  0
                ]
              },
              {
                "id": 246,
                "properties": {
                  "duration_ms": 243267,
                  "explicit": false,
                  "year": 2019,
                  "album": "Best Part of Me (feat. YEBBA)",
                  "name": "Best Part of Me (feat. YEBBA)",
                  "danceability": 0.565,
                  "energy": 0.242,
                  "label": "Track"
                },
                "label": "Track",
                "color": "#17bebb",
                "styles": {
                  "color": "#40E0D0",
                  "shape": "ellipse",
                  "label": "label"
                },
                "scale_factor": 1,
                "type": null,
                "position": [
                  0,
                  0
                ]
              },
              {
                "id": 85,
                "properties": {
                  "explicit": false,
                  "duration_ms": 243267,
                  "year": 2019,
                  "album": "No.6 Collaborations Project",
                  "name": "Best Part of Me (feat. YEBBA)",
                  "danceability": 0.565,
                  "energy": 0.243,
                  "label": "Track"
                },
                "label": "Track",
                "color": "#17bebb",
                "styles": {
                  "color": "#40E0D0",
                  "shape": "ellipse",
                  "label": "label"
                },
                "scale_factor": 1,
                "type": null,
                "position": [
                  0,
                  0
                ]
              },
              {
                "id": 86,
                "properties": {
                  "explicit": false,
                  "duration_ms": 219947,
                  "year": 2019,
                  "album": "No.6 Collaborations Project",
                  "name": "I Don't Care (with Justin Bieber)",
                  "danceability": 0.7979999999999999,
                  "energy": 0.6759999999999999,
                  "label": "Track"
                },
                "label": "Track",
                "color": "#17bebb",
                "styles": {
                  "color": "#40E0D0",
                  "shape": "ellipse",
                  "label": "label"
                },
                "scale_factor": 1,
                "type": null,
                "position": [
                  0,
                  0
                ]
              },
              {
                "id": 87,
                "properties": {
                  "explicit": false,
                  "duration_ms": 161747,
                  "year": 2019,
                  "album": "No.6 Collaborations Project",
                  "name": "Antisocial (with Travis Scott)",
                  "danceability": 0.716,
                  "energy": 0.823,
                  "label": "Track"
                },
                "label": "Track",
                "color": "#17bebb",
                "styles": {
                  "color": "#40E0D0",
                  "shape": "ellipse",
                  "label": "label"
                },
                "scale_factor": 1,
                "type": null,
                "position": [
                  0,
                  0
                ]
              },
              {
                "id": 230,
                "properties": {
                  "duration_ms": 161747,
                  "explicit": false,
                  "year": 2019,
                  "album": "Antisocial (with Travis Scott)",
                  "name": "Antisocial (with Travis Scott)",
                  "danceability": 0.715,
                  "energy": 0.823,
                  "label": "Track"
                },
                "label": "Track",
                "color": "#17bebb",
                "styles": {
                  "color": "#40E0D0",
                  "shape": "ellipse",
                  "label": "label"
                },
                "scale_factor": 1,
                "type": null,
                "position": [
                  0,
                  0
                ]
              },
              {
                "id": 88,
                "properties": {
                  "explicit": true,
                  "duration_ms": 207760,
                  "year": 2019,
                  "album": "No.6 Collaborations Project",
                  "name": "Remember The Name (feat. Eminem & 50 Cent)",
                  "danceability": 0.852,
                  "energy": 0.6659999999999999,
                  "label": "Track"
                },
                "label": "Track",
                "color": "#17bebb",
                "styles": {
                  "color": "#40E0D0",
                  "shape": "ellipse",
                  "label": "label"
                },
                "scale_factor": 1,
                "type": null,
                "position": [
                  0,
                  0
                ]
              },
              {
                "id": 107,
                "properties": {
                  "explicit": false,
                  "duration_ms": 206443,
                  "year": 2019,
                  "album": "No.6 Collaborations Project",
                  "name": "Remember The Name (feat. Eminem & 50 Cent)",
                  "danceability": 0.863,
                  "energy": 0.649,
                  "label": "Track"
                },
                "label": "Track",
                "color": "#17bebb",
                "styles": {
                  "color": "#40E0D0",
                  "shape": "ellipse",
                  "label": "label"
                },
                "scale_factor": 1,
                "type": null,
                "position": [
                  0,
                  0
                ]
              },
              {
                "id": 229,
                "properties": {
                  "duration_ms": 207760,
                  "explicit": true,
                  "year": 2019,
                  "album": "Remember The Name (feat. Eminem & 50 Cent)",
                  "name": "Remember The Name (feat. Eminem & 50 Cent)",
                  "danceability": 0.852,
                  "energy": 0.6659999999999999,
                  "label": "Track"
                },
                "label": "Track",
                "color": "#17bebb",
                "styles": {
                  "color": "#40E0D0",
                  "shape": "ellipse",
                  "label": "label"
                },
                "scale_factor": 1,
                "type": null,
                "position": [
                  0,
                  0
                ]
              },
              {
                "id": 89,
                "properties": {
                  "explicit": false,
                  "duration_ms": 150787,
                  "year": 2019,
                  "album": "No.6 Collaborations Project",
                  "name": "Feels (feat. Young Thug & J Hus)",
                  "danceability": 0.665,
                  "energy": 0.68,
                  "label": "Track"
                },
                "label": "Track",
                "color": "#17bebb",
                "styles": {
                  "color": "#40E0D0",
                  "shape": "ellipse",
                  "label": "label"
                },
                "scale_factor": 1,
                "type": null,
                "position": [
                  0,
                  0
                ]
              },
              {
                "id": 108,
                "properties": {
                  "explicit": false,
                  "duration_ms": 150787,
                  "year": 2019,
                  "album": "No.6 Collaborations Project",
                  "name": "Feels (feat. Young Thug & J Hus)",
                  "danceability": 0.665,
                  "energy": 0.68,
                  "label": "Track"
                },
                "label": "Track",
                "color": "#17bebb",
                "styles": {
                  "color": "#40E0D0",
                  "shape": "ellipse",
                  "label": "label"
                },
                "scale_factor": 1,
                "type": null,
                "position": [
                  0,
                  0
                ]
              },
              {
                "id": 90,
                "properties": {
                  "explicit": false,
                  "duration_ms": 197093,
                  "year": 2019,
                  "album": "No.6 Collaborations Project",
                  "name": "Put It All on Me (feat. Ella Mai)",
                  "danceability": 0.627,
                  "energy": 0.594,
                  "label": "Track"
                },
                "label": "Track",
                "color": "#17bebb",
                "styles": {
                  "color": "#40E0D0",
                  "shape": "ellipse",
                  "label": "label"
                },
                "scale_factor": 1,
                "type": null,
                "position": [
                  0,
                  0
                ]
              },
              {
                "id": 109,
                "properties": {
                  "explicit": false,
                  "duration_ms": 197093,
                  "year": 2019,
                  "album": "No.6 Collaborations Project",
                  "name": "Put It All on Me (feat. Ella Mai)",
                  "danceability": 0.627,
                  "energy": 0.594,
                  "label": "Track"
                },
                "label": "Track",
                "color": "#17bebb",
                "styles": {
                  "color": "#40E0D0",
                  "shape": "ellipse",
                  "label": "label"
                },
                "scale_factor": 1,
                "type": null,
                "position": [
                  0,
                  0
                ]
              },
              {
                "id": 248,
                "properties": {
                  "duration_ms": 197093,
                  "explicit": false,
                  "year": 2019,
                  "album": "Put It All on Me (feat. Ella Mai)",
                  "name": "Put It All on Me (feat. Ella Mai)",
                  "danceability": 0.627,
                  "energy": 0.594,
                  "label": "Track"
                },
                "label": "Track",
                "color": "#17bebb",
                "styles": {
                  "color": "#40E0D0",
                  "shape": "ellipse",
                  "label": "label"
                },
                "scale_factor": 1,
                "type": null,
                "position": [
                  0,
                  0
                ]
              },
              {
                "id": 91,
                "properties": {
                  "explicit": false,
                  "duration_ms": 200733,
                  "year": 2019,
                  "album": "No.6 Collaborations Project",
                  "name": "Nothing On You (feat. Paulo Londra & Dave)",
                  "danceability": 0.747,
                  "energy": 0.649,
                  "label": "Track"
                },
                "label": "Track",
                "color": "#17bebb",
                "styles": {
                  "color": "#40E0D0",
                  "shape": "ellipse",
                  "label": "label"
                },
                "scale_factor": 1,
                "type": null,
                "position": [
                  0,
                  0
                ]
              },
              {
                "id": 110,
                "properties": {
                  "explicit": false,
                  "duration_ms": 200733,
                  "year": 2019,
                  "album": "No.6 Collaborations Project",
                  "name": "Nothing On You (feat. Paulo Londra & Dave)",
                  "danceability": 0.747,
                  "energy": 0.649,
                  "label": "Track"
                },
                "label": "Track",
                "color": "#17bebb",
                "styles": {
                  "color": "#40E0D0",
                  "shape": "ellipse",
                  "label": "label"
                },
                "scale_factor": 1,
                "type": null,
                "position": [
                  0,
                  0
                ]
              },
              {
                "id": 92,
                "properties": {
                  "explicit": false,
                  "duration_ms": 204507,
                  "year": 2019,
                  "album": "No.6 Collaborations Project",
                  "name": "I Don't Want Your Money (feat. H.E.R.)",
                  "danceability": 0.4679999999999999,
                  "energy": 0.63,
                  "label": "Track"
                },
                "label": "Track",
                "color": "#17bebb",
                "styles": {
                  "color": "#40E0D0",
                  "shape": "ellipse",
                  "label": "label"
                },
                "scale_factor": 1,
                "type": null,
                "position": [
                  0,
                  0
                ]
              },
              {
                "id": 111,
                "properties": {
                  "explicit": false,
                  "duration_ms": 204507,
                  "year": 2019,
                  "album": "No.6 Collaborations Project",
                  "name": "I Don't Want Your Money (feat. H.E.R.)",
                  "danceability": 0.469,
                  "energy": 0.631,
                  "label": "Track"
                },
                "label": "Track",
                "color": "#17bebb",
                "styles": {
                  "color": "#40E0D0",
                  "shape": "ellipse",
                  "label": "label"
                },
                "scale_factor": 1,
                "type": null,
                "position": [
                  0,
                  0
                ]
              }
            ],
            "_overview": {
              "enabled": null,
              "overview_set": false
            },
            "_sidebar": {
              "enabled": true,
              "start_with": ""
            },
            "_svg": "",
            "_view_count": null,
            "_view_module": "yfiles-jupyter-graphs",
            "_view_module_version": "^1.4.5",
            "_view_name": "GraphView",
            "layout": "IPY_MODEL_abc8643a77d24804afd34e1ef7b666ed"
          }
        },
        "abc8643a77d24804afd34e1ef7b666ed": {
          "model_module": "@jupyter-widgets/base",
          "model_name": "LayoutModel",
          "model_module_version": "1.2.0",
          "state": {
            "_model_module": "@jupyter-widgets/base",
            "_model_module_version": "1.2.0",
            "_model_name": "LayoutModel",
            "_view_count": null,
            "_view_module": "@jupyter-widgets/base",
            "_view_module_version": "1.2.0",
            "_view_name": "LayoutView",
            "align_content": null,
            "align_items": null,
            "align_self": null,
            "border": null,
            "bottom": null,
            "display": null,
            "flex": null,
            "flex_flow": null,
            "grid_area": null,
            "grid_auto_columns": null,
            "grid_auto_flow": null,
            "grid_auto_rows": null,
            "grid_column": null,
            "grid_gap": null,
            "grid_row": null,
            "grid_template_areas": null,
            "grid_template_columns": null,
            "grid_template_rows": null,
            "height": "500px",
            "justify_content": null,
            "justify_items": null,
            "left": null,
            "margin": null,
            "max_height": null,
            "max_width": null,
            "min_height": null,
            "min_width": null,
            "object_fit": null,
            "object_position": null,
            "order": null,
            "overflow": null,
            "overflow_x": null,
            "overflow_y": null,
            "padding": null,
            "right": null,
            "top": null,
            "visibility": null,
            "width": "100%"
          }
        },
        "1ac951919f3347bfb9fddca7e25d029e": {
          "model_module": "yfiles-jupyter-graphs",
          "model_name": "GraphModel",
          "model_module_version": "^1.4.5",
          "state": {
            "_context_pane_mapping": [
              {
                "id": "Neighborhood",
                "title": "Neighborhood"
              },
              {
                "id": "Data",
                "title": "Data"
              },
              {
                "id": "Search",
                "title": "Search"
              },
              {
                "id": "About",
                "title": "About"
              }
            ],
            "_data_importer": "neo4j",
            "_directed": true,
            "_dom_classes": [],
            "_edges": [
              {
                "id": 469,
                "start": 69,
                "end": 327,
                "properties": {
                  "label": "PERFORMS"
                },
                "label": "PERFORMS",
                "color": "#094c4b",
                "thickness_factor": 1,
                "directed": true
              },
              {
                "id": 468,
                "start": 380,
                "end": 327,
                "properties": {
                  "label": "PERFORMS"
                },
                "label": "PERFORMS",
                "color": "#094c4b",
                "thickness_factor": 1,
                "directed": true
              },
              {
                "id": 467,
                "start": 377,
                "end": 327,
                "properties": {
                  "label": "PERFORMS"
                },
                "label": "PERFORMS",
                "color": "#094c4b",
                "thickness_factor": 1,
                "directed": true
              },
              {
                "id": 466,
                "start": 46,
                "end": 327,
                "properties": {
                  "label": "PERFORMS"
                },
                "label": "PERFORMS",
                "color": "#094c4b",
                "thickness_factor": 1,
                "directed": true
              }
            ],
            "_graph_layout": {
              "algorithm": "organic",
              "options": {}
            },
            "_highlight": [],
            "_model_module": "yfiles-jupyter-graphs",
            "_model_module_version": "^1.4.5",
            "_model_name": "GraphModel",
            "_neighborhood": {},
            "_nodes": [
              {
                "id": 69,
                "properties": {
                  "name": "iann dior",
                  "feats": "2,291,368,890",
                  "lead_streams": "2,102,922,842",
                  "label": "Artist"
                },
                "label": "iann dior",
                "color": "#17bebb",
                "styles": {
                  "color": "#FF8C00",
                  "shape": "ellipse",
                  "label": "name"
                },
                "scale_factor": 1,
                "type": null,
                "position": [
                  0,
                  0
                ]
              },
              {
                "id": 327,
                "properties": {
                  "duration_ms": 192745,
                  "explicit": true,
                  "year": 2020,
                  "album": "Mood (Remix) feat. Justin Bieber, J Balvin & iann dior",
                  "name": "Mood (Remix) feat. Justin Bieber, J Balvin & iann dior",
                  "danceability": 0.721,
                  "energy": 0.745,
                  "label": "Track"
                },
                "label": "Track",
                "color": "#17bebb",
                "styles": {
                  "color": "#40E0D0",
                  "shape": "ellipse",
                  "label": "label"
                },
                "scale_factor": 1,
                "type": null,
                "position": [
                  0,
                  0
                ]
              },
              {
                "id": 380,
                "properties": {
                  "name": "J Balvin",
                  "feats": "9,950,347,777",
                  "lead_streams": "25,892,190,469",
                  "label": "Artist"
                },
                "label": "J Balvin",
                "color": "#17bebb",
                "styles": {
                  "color": "#FF8C00",
                  "shape": "ellipse",
                  "label": "name"
                },
                "scale_factor": 1,
                "type": null,
                "position": [
                  0,
                  0
                ]
              },
              {
                "id": 377,
                "properties": {
                  "name": "Justin Bieber",
                  "feats": "10,816,202,075",
                  "lead_streams": "32,465,998,885",
                  "label": "Artist"
                },
                "label": "Justin Bieber",
                "color": "#17bebb",
                "styles": {
                  "color": "#FF8C00",
                  "shape": "ellipse",
                  "label": "name"
                },
                "scale_factor": 1,
                "type": null,
                "position": [
                  0,
                  0
                ]
              },
              {
                "id": 46,
                "properties": {
                  "name": "24kGoldn",
                  "feats": "1,036,388,958",
                  "lead_streams": "3,705,648,954",
                  "label": "Artist"
                },
                "label": "24kGoldn",
                "color": "#17bebb",
                "styles": {
                  "color": "#FF8C00",
                  "shape": "ellipse",
                  "label": "name"
                },
                "scale_factor": 1,
                "type": null,
                "position": [
                  0,
                  0
                ]
              }
            ],
            "_overview": {
              "enabled": null,
              "overview_set": false
            },
            "_sidebar": {
              "enabled": true,
              "start_with": ""
            },
            "_svg": "",
            "_view_count": null,
            "_view_module": "yfiles-jupyter-graphs",
            "_view_module_version": "^1.4.5",
            "_view_name": "GraphView",
            "layout": "IPY_MODEL_1c9fb57d1cdd4341b099970cce70f74a"
          }
        },
        "1c9fb57d1cdd4341b099970cce70f74a": {
          "model_module": "@jupyter-widgets/base",
          "model_name": "LayoutModel",
          "model_module_version": "1.2.0",
          "state": {
            "_model_module": "@jupyter-widgets/base",
            "_model_module_version": "1.2.0",
            "_model_name": "LayoutModel",
            "_view_count": null,
            "_view_module": "@jupyter-widgets/base",
            "_view_module_version": "1.2.0",
            "_view_name": "LayoutView",
            "align_content": null,
            "align_items": null,
            "align_self": null,
            "border": null,
            "bottom": null,
            "display": null,
            "flex": null,
            "flex_flow": null,
            "grid_area": null,
            "grid_auto_columns": null,
            "grid_auto_flow": null,
            "grid_auto_rows": null,
            "grid_column": null,
            "grid_gap": null,
            "grid_row": null,
            "grid_template_areas": null,
            "grid_template_columns": null,
            "grid_template_rows": null,
            "height": "500px",
            "justify_content": null,
            "justify_items": null,
            "left": null,
            "margin": null,
            "max_height": null,
            "max_width": null,
            "min_height": null,
            "min_width": null,
            "object_fit": null,
            "object_position": null,
            "order": null,
            "overflow": null,
            "overflow_x": null,
            "overflow_y": null,
            "padding": null,
            "right": null,
            "top": null,
            "visibility": null,
            "width": "100%"
          }
        },
        "82d83b18bca44c1f850dc9f44feb32ac": {
          "model_module": "yfiles-jupyter-graphs",
          "model_name": "GraphModel",
          "model_module_version": "^1.4.5",
          "state": {
            "_context_pane_mapping": [
              {
                "id": "Neighborhood",
                "title": "Neighborhood"
              },
              {
                "id": "Data",
                "title": "Data"
              },
              {
                "id": "Search",
                "title": "Search"
              },
              {
                "id": "About",
                "title": "About"
              }
            ],
            "_data_importer": "neo4j",
            "_directed": true,
            "_dom_classes": [],
            "_edges": [
              {
                "id": 319,
                "start": 0,
                "end": 241,
                "properties": {
                  "label": "PERFORMS"
                },
                "label": "PERFORMS",
                "color": "#094c4b",
                "thickness_factor": 1,
                "directed": true
              },
              {
                "id": 312,
                "start": 1,
                "end": 239,
                "properties": {
                  "label": "PERFORMS"
                },
                "label": "PERFORMS",
                "color": "#094c4b",
                "thickness_factor": 1,
                "directed": true
              },
              {
                "id": 307,
                "start": 1,
                "end": 237,
                "properties": {
                  "label": "PERFORMS"
                },
                "label": "PERFORMS",
                "color": "#094c4b",
                "thickness_factor": 1,
                "directed": true
              },
              {
                "id": 301,
                "start": 1,
                "end": 234,
                "properties": {
                  "label": "PERFORMS"
                },
                "label": "PERFORMS",
                "color": "#094c4b",
                "thickness_factor": 1,
                "directed": true
              },
              {
                "id": 294,
                "start": 1,
                "end": 232,
                "properties": {
                  "label": "PERFORMS"
                },
                "label": "PERFORMS",
                "color": "#094c4b",
                "thickness_factor": 1,
                "directed": true
              },
              {
                "id": 543,
                "start": 1,
                "end": 82,
                "properties": {
                  "label": "PERFORMS"
                },
                "label": "PERFORMS",
                "color": "#094c4b",
                "thickness_factor": 1,
                "directed": true
              },
              {
                "id": 544,
                "start": 1,
                "end": 104,
                "properties": {
                  "label": "PERFORMS"
                },
                "label": "PERFORMS",
                "color": "#094c4b",
                "thickness_factor": 1,
                "directed": true
              },
              {
                "id": 545,
                "start": 1,
                "end": 231,
                "properties": {
                  "label": "PERFORMS"
                },
                "label": "PERFORMS",
                "color": "#094c4b",
                "thickness_factor": 1,
                "directed": true
              },
              {
                "id": 422,
                "start": 2,
                "end": 306,
                "properties": {
                  "label": "PERFORMS"
                },
                "label": "PERFORMS",
                "color": "#094c4b",
                "thickness_factor": 1,
                "directed": true
              },
              {
                "id": 220,
                "start": 2,
                "end": 179,
                "properties": {
                  "label": "PERFORMS"
                },
                "label": "PERFORMS",
                "color": "#094c4b",
                "thickness_factor": 1,
                "directed": true
              },
              {
                "id": 189,
                "start": 2,
                "end": 169,
                "properties": {
                  "label": "PERFORMS"
                },
                "label": "PERFORMS",
                "color": "#094c4b",
                "thickness_factor": 1,
                "directed": true
              },
              {
                "id": 448,
                "start": 3,
                "end": 317,
                "properties": {
                  "label": "PERFORMS"
                },
                "label": "PERFORMS",
                "color": "#094c4b",
                "thickness_factor": 1,
                "directed": true
              },
              {
                "id": 447,
                "start": 3,
                "end": 315,
                "properties": {
                  "label": "PERFORMS"
                },
                "label": "PERFORMS",
                "color": "#094c4b",
                "thickness_factor": 1,
                "directed": true
              },
              {
                "id": 374,
                "start": 4,
                "end": 282,
                "properties": {
                  "label": "PERFORMS"
                },
                "label": "PERFORMS",
                "color": "#094c4b",
                "thickness_factor": 1,
                "directed": true
              },
              {
                "id": 446,
                "start": 5,
                "end": 317,
                "properties": {
                  "label": "PERFORMS"
                },
                "label": "PERFORMS",
                "color": "#094c4b",
                "thickness_factor": 1,
                "directed": true
              },
              {
                "id": 445,
                "start": 5,
                "end": 315,
                "properties": {
                  "label": "PERFORMS"
                },
                "label": "PERFORMS",
                "color": "#094c4b",
                "thickness_factor": 1,
                "directed": true
              },
              {
                "id": 455,
                "start": 6,
                "end": 321,
                "properties": {
                  "label": "PERFORMS"
                },
                "label": "PERFORMS",
                "color": "#094c4b",
                "thickness_factor": 1,
                "directed": true
              },
              {
                "id": 400,
                "start": 6,
                "end": 298,
                "properties": {
                  "label": "PERFORMS"
                },
                "label": "PERFORMS",
                "color": "#094c4b",
                "thickness_factor": 1,
                "directed": true
              },
              {
                "id": 399,
                "start": 6,
                "end": 297,
                "properties": {
                  "label": "PERFORMS"
                },
                "label": "PERFORMS",
                "color": "#094c4b",
                "thickness_factor": 1,
                "directed": true
              },
              {
                "id": 401,
                "start": 6,
                "end": 322,
                "properties": {
                  "label": "PERFORMS"
                },
                "label": "PERFORMS",
                "color": "#094c4b",
                "thickness_factor": 1,
                "directed": true
              },
              {
                "id": 153,
                "start": 6,
                "end": 159,
                "properties": {
                  "label": "PERFORMS"
                },
                "label": "PERFORMS",
                "color": "#094c4b",
                "thickness_factor": 1,
                "directed": true
              },
              {
                "id": 311,
                "start": 7,
                "end": 239,
                "properties": {
                  "label": "PERFORMS"
                },
                "label": "PERFORMS",
                "color": "#094c4b",
                "thickness_factor": 1,
                "directed": true
              },
              {
                "id": 306,
                "start": 7,
                "end": 237,
                "properties": {
                  "label": "PERFORMS"
                },
                "label": "PERFORMS",
                "color": "#094c4b",
                "thickness_factor": 1,
                "directed": true
              },
              {
                "id": 300,
                "start": 7,
                "end": 234,
                "properties": {
                  "label": "PERFORMS"
                },
                "label": "PERFORMS",
                "color": "#094c4b",
                "thickness_factor": 1,
                "directed": true
              },
              {
                "id": 190,
                "start": 7,
                "end": 170,
                "properties": {
                  "label": "PERFORMS"
                },
                "label": "PERFORMS",
                "color": "#094c4b",
                "thickness_factor": 1,
                "directed": true
              },
              {
                "id": 191,
                "start": 7,
                "end": 250,
                "properties": {
                  "label": "PERFORMS"
                },
                "label": "PERFORMS",
                "color": "#094c4b",
                "thickness_factor": 1,
                "directed": true
              },
              {
                "id": 547,
                "start": 7,
                "end": 104,
                "properties": {
                  "label": "PERFORMS"
                },
                "label": "PERFORMS",
                "color": "#094c4b",
                "thickness_factor": 1,
                "directed": true
              },
              {
                "id": 546,
                "start": 7,
                "end": 82,
                "properties": {
                  "label": "PERFORMS"
                },
                "label": "PERFORMS",
                "color": "#094c4b",
                "thickness_factor": 1,
                "directed": true
              },
              {
                "id": 548,
                "start": 7,
                "end": 231,
                "properties": {
                  "label": "PERFORMS"
                },
                "label": "PERFORMS",
                "color": "#094c4b",
                "thickness_factor": 1,
                "directed": true
              },
              {
                "id": 364,
                "start": 8,
                "end": 276,
                "properties": {
                  "label": "PERFORMS"
                },
                "label": "PERFORMS",
                "color": "#094c4b",
                "thickness_factor": 1,
                "directed": true
              },
              {
                "id": 118,
                "start": 9,
                "end": 155,
                "properties": {
                  "label": "PERFORMS"
                },
                "label": "PERFORMS",
                "color": "#094c4b",
                "thickness_factor": 1,
                "directed": true
              },
              {
                "id": 117,
                "start": 9,
                "end": 129,
                "properties": {
                  "label": "PERFORMS"
                },
                "label": "PERFORMS",
                "color": "#094c4b",
                "thickness_factor": 1,
                "directed": true
              },
              {
                "id": 436,
                "start": 10,
                "end": 313,
                "properties": {
                  "label": "PERFORMS"
                },
                "label": "PERFORMS",
                "color": "#094c4b",
                "thickness_factor": 1,
                "directed": true
              },
              {
                "id": 315,
                "start": 10,
                "end": 240,
                "properties": {
                  "label": "PERFORMS"
                },
                "label": "PERFORMS",
                "color": "#094c4b",
                "thickness_factor": 1,
                "directed": true
              },
              {
                "id": 20,
                "start": 10,
                "end": 108,
                "properties": {
                  "label": "PERFORMS"
                },
                "label": "PERFORMS",
                "color": "#094c4b",
                "thickness_factor": 1,
                "directed": true
              },
              {
                "id": 19,
                "start": 10,
                "end": 89,
                "properties": {
                  "label": "PERFORMS"
                },
                "label": "PERFORMS",
                "color": "#094c4b",
                "thickness_factor": 1,
                "directed": true
              },
              {
                "id": 258,
                "start": 11,
                "end": 202,
                "properties": {
                  "label": "PERFORMS"
                },
                "label": "PERFORMS",
                "color": "#094c4b",
                "thickness_factor": 1,
                "directed": true
              },
              {
                "id": 255,
                "start": 11,
                "end": 201,
                "properties": {
                  "label": "PERFORMS"
                },
                "label": "PERFORMS",
                "color": "#094c4b",
                "thickness_factor": 1,
                "directed": true
              },
              {
                "id": 269,
                "start": 12,
                "end": 208,
                "properties": {
                  "label": "PERFORMS"
                },
                "label": "PERFORMS",
                "color": "#094c4b",
                "thickness_factor": 1,
                "directed": true
              },
              {
                "id": 180,
                "start": 12,
                "end": 167,
                "properties": {
                  "label": "PERFORMS"
                },
                "label": "PERFORMS",
                "color": "#094c4b",
                "thickness_factor": 1,
                "directed": true
              },
              {
                "id": 173,
                "start": 12,
                "end": 265,
                "properties": {
                  "label": "PERFORMS"
                },
                "label": "PERFORMS",
                "color": "#094c4b",
                "thickness_factor": 1,
                "directed": true
              },
              {
                "id": 172,
                "start": 12,
                "end": 166,
                "properties": {
                  "label": "PERFORMS"
                },
                "label": "PERFORMS",
                "color": "#094c4b",
                "thickness_factor": 1,
                "directed": true
              },
              {
                "id": 166,
                "start": 12,
                "end": 165,
                "properties": {
                  "label": "PERFORMS"
                },
                "label": "PERFORMS",
                "color": "#094c4b",
                "thickness_factor": 1,
                "directed": true
              },
              {
                "id": 162,
                "start": 12,
                "end": 164,
                "properties": {
                  "label": "PERFORMS"
                },
                "label": "PERFORMS",
                "color": "#094c4b",
                "thickness_factor": 1,
                "directed": true
              },
              {
                "id": 145,
                "start": 12,
                "end": 156,
                "properties": {
                  "label": "PERFORMS"
                },
                "label": "PERFORMS",
                "color": "#094c4b",
                "thickness_factor": 1,
                "directed": true
              },
              {
                "id": 57,
                "start": 13,
                "end": 99,
                "properties": {
                  "label": "PERFORMS"
                },
                "label": "PERFORMS",
                "color": "#094c4b",
                "thickness_factor": 1,
                "directed": true
              },
              {
                "id": 473,
                "start": 14,
                "end": 330,
                "properties": {
                  "label": "PERFORMS"
                },
                "label": "PERFORMS",
                "color": "#094c4b",
                "thickness_factor": 1,
                "directed": true
              },
              {
                "id": 42,
                "start": 15,
                "end": 112,
                "properties": {
                  "label": "PERFORMS"
                },
                "label": "PERFORMS",
                "color": "#094c4b",
                "thickness_factor": 1,
                "directed": true
              },
              {
                "id": 41,
                "start": 15,
                "end": 93,
                "properties": {
                  "label": "PERFORMS"
                },
                "label": "PERFORMS",
                "color": "#094c4b",
                "thickness_factor": 1,
                "directed": true
              },
              {
                "id": 91,
                "start": 16,
                "end": 122,
                "properties": {
                  "label": "PERFORMS"
                },
                "label": "PERFORMS",
                "color": "#094c4b",
                "thickness_factor": 1,
                "directed": true
              },
              {
                "id": 344,
                "start": 17,
                "end": 258,
                "properties": {
                  "label": "PERFORMS"
                },
                "label": "PERFORMS",
                "color": "#094c4b",
                "thickness_factor": 1,
                "directed": true
              },
              {
                "id": 342,
                "start": 17,
                "end": 257,
                "properties": {
                  "label": "PERFORMS"
                },
                "label": "PERFORMS",
                "color": "#094c4b",
                "thickness_factor": 1,
                "directed": true
              },
              {
                "id": 208,
                "start": 17,
                "end": 176,
                "properties": {
                  "label": "PERFORMS"
                },
                "label": "PERFORMS",
                "color": "#094c4b",
                "thickness_factor": 1,
                "directed": true
              },
              {
                "id": 109,
                "start": 17,
                "end": 129,
                "properties": {
                  "label": "PERFORMS"
                },
                "label": "PERFORMS",
                "color": "#094c4b",
                "thickness_factor": 1,
                "directed": true
              },
              {
                "id": 110,
                "start": 17,
                "end": 155,
                "properties": {
                  "label": "PERFORMS"
                },
                "label": "PERFORMS",
                "color": "#094c4b",
                "thickness_factor": 1,
                "directed": true
              },
              {
                "id": 106,
                "start": 17,
                "end": 154,
                "properties": {
                  "label": "PERFORMS"
                },
                "label": "PERFORMS",
                "color": "#094c4b",
                "thickness_factor": 1,
                "directed": true
              },
              {
                "id": 105,
                "start": 17,
                "end": 128,
                "properties": {
                  "label": "PERFORMS"
                },
                "label": "PERFORMS",
                "color": "#094c4b",
                "thickness_factor": 1,
                "directed": true
              },
              {
                "id": 102,
                "start": 17,
                "end": 150,
                "properties": {
                  "label": "PERFORMS"
                },
                "label": "PERFORMS",
                "color": "#094c4b",
                "thickness_factor": 1,
                "directed": true
              },
              {
                "id": 101,
                "start": 17,
                "end": 127,
                "properties": {
                  "label": "PERFORMS"
                },
                "label": "PERFORMS",
                "color": "#094c4b",
                "thickness_factor": 1,
                "directed": true
              },
              {
                "id": 73,
                "start": 17,
                "end": 116,
                "properties": {
                  "label": "PERFORMS"
                },
                "label": "PERFORMS",
                "color": "#094c4b",
                "thickness_factor": 1,
                "directed": true
              },
              {
                "id": 74,
                "start": 17,
                "end": 149,
                "properties": {
                  "label": "PERFORMS"
                },
                "label": "PERFORMS",
                "color": "#094c4b",
                "thickness_factor": 1,
                "directed": true
              },
              {
                "id": 61,
                "start": 17,
                "end": 102,
                "properties": {
                  "label": "PERFORMS"
                },
                "label": "PERFORMS",
                "color": "#094c4b",
                "thickness_factor": 1,
                "directed": true
              },
              {
                "id": 62,
                "start": 17,
                "end": 126,
                "properties": {
                  "label": "PERFORMS"
                },
                "label": "PERFORMS",
                "color": "#094c4b",
                "thickness_factor": 1,
                "directed": true
              },
              {
                "id": 456,
                "start": 18,
                "end": 321,
                "properties": {
                  "label": "PERFORMS"
                },
                "label": "PERFORMS",
                "color": "#094c4b",
                "thickness_factor": 1,
                "directed": true
              },
              {
                "id": 404,
                "start": 18,
                "end": 322,
                "properties": {
                  "label": "PERFORMS"
                },
                "label": "PERFORMS",
                "color": "#094c4b",
                "thickness_factor": 1,
                "directed": true
              },
              {
                "id": 402,
                "start": 18,
                "end": 297,
                "properties": {
                  "label": "PERFORMS"
                },
                "label": "PERFORMS",
                "color": "#094c4b",
                "thickness_factor": 1,
                "directed": true
              },
              {
                "id": 403,
                "start": 18,
                "end": 298,
                "properties": {
                  "label": "PERFORMS"
                },
                "label": "PERFORMS",
                "color": "#094c4b",
                "thickness_factor": 1,
                "directed": true
              },
              {
                "id": 431,
                "start": 19,
                "end": 311,
                "properties": {
                  "label": "PERFORMS"
                },
                "label": "PERFORMS",
                "color": "#094c4b",
                "thickness_factor": 1,
                "directed": true
              },
              {
                "id": 460,
                "start": 20,
                "end": 324,
                "properties": {
                  "label": "PERFORMS"
                },
                "label": "PERFORMS",
                "color": "#094c4b",
                "thickness_factor": 1,
                "directed": true
              },
              {
                "id": 458,
                "start": 20,
                "end": 323,
                "properties": {
                  "label": "PERFORMS"
                },
                "label": "PERFORMS",
                "color": "#094c4b",
                "thickness_factor": 1,
                "directed": true
              },
              {
                "id": 251,
                "start": 21,
                "end": 197,
                "properties": {
                  "label": "PERFORMS"
                },
                "label": "PERFORMS",
                "color": "#094c4b",
                "thickness_factor": 1,
                "directed": true
              },
              {
                "id": 16,
                "start": 22,
                "end": 229,
                "properties": {
                  "label": "PERFORMS"
                },
                "label": "PERFORMS",
                "color": "#094c4b",
                "thickness_factor": 1,
                "directed": true
              },
              {
                "id": 15,
                "start": 22,
                "end": 107,
                "properties": {
                  "label": "PERFORMS"
                },
                "label": "PERFORMS",
                "color": "#094c4b",
                "thickness_factor": 1,
                "directed": true
              },
              {
                "id": 14,
                "start": 22,
                "end": 88,
                "properties": {
                  "label": "PERFORMS"
                },
                "label": "PERFORMS",
                "color": "#094c4b",
                "thickness_factor": 1,
                "directed": true
              },
              {
                "id": 385,
                "start": 23,
                "end": 289,
                "properties": {
                  "label": "PERFORMS"
                },
                "label": "PERFORMS",
                "color": "#094c4b",
                "thickness_factor": 1,
                "directed": true
              },
              {
                "id": 494,
                "start": 24,
                "end": 344,
                "properties": {
                  "label": "PERFORMS"
                },
                "label": "PERFORMS",
                "color": "#094c4b",
                "thickness_factor": 1,
                "directed": true
              },
              {
                "id": 465,
                "start": 24,
                "end": 326,
                "properties": {
                  "label": "PERFORMS"
                },
                "label": "PERFORMS",
                "color": "#094c4b",
                "thickness_factor": 1,
                "directed": true
              },
              {
                "id": 424,
                "start": 24,
                "end": 308,
                "properties": {
                  "label": "PERFORMS"
                },
                "label": "PERFORMS",
                "color": "#094c4b",
                "thickness_factor": 1,
                "directed": true
              },
              {
                "id": 80,
                "start": 25,
                "end": 149,
                "properties": {
                  "label": "PERFORMS"
                },
                "label": "PERFORMS",
                "color": "#094c4b",
                "thickness_factor": 1,
                "directed": true
              },
              {
                "id": 79,
                "start": 25,
                "end": 116,
                "properties": {
                  "label": "PERFORMS"
                },
                "label": "PERFORMS",
                "color": "#094c4b",
                "thickness_factor": 1,
                "directed": true
              },
              {
                "id": 179,
                "start": 26,
                "end": 167,
                "properties": {
                  "label": "PERFORMS"
                },
                "label": "PERFORMS",
                "color": "#094c4b",
                "thickness_factor": 1,
                "directed": true
              },
              {
                "id": 170,
                "start": 26,
                "end": 166,
                "properties": {
                  "label": "PERFORMS"
                },
                "label": "PERFORMS",
                "color": "#094c4b",
                "thickness_factor": 1,
                "directed": true
              },
              {
                "id": 171,
                "start": 26,
                "end": 265,
                "properties": {
                  "label": "PERFORMS"
                },
                "label": "PERFORMS",
                "color": "#094c4b",
                "thickness_factor": 1,
                "directed": true
              },
              {
                "id": 165,
                "start": 26,
                "end": 165,
                "properties": {
                  "label": "PERFORMS"
                },
                "label": "PERFORMS",
                "color": "#094c4b",
                "thickness_factor": 1,
                "directed": true
              },
              {
                "id": 161,
                "start": 26,
                "end": 164,
                "properties": {
                  "label": "PERFORMS"
                },
                "label": "PERFORMS",
                "color": "#094c4b",
                "thickness_factor": 1,
                "directed": true
              },
              {
                "id": 144,
                "start": 26,
                "end": 156,
                "properties": {
                  "label": "PERFORMS"
                },
                "label": "PERFORMS",
                "color": "#094c4b",
                "thickness_factor": 1,
                "directed": true
              },
              {
                "id": 44,
                "start": 26,
                "end": 94,
                "properties": {
                  "label": "PERFORMS"
                },
                "label": "PERFORMS",
                "color": "#094c4b",
                "thickness_factor": 1,
                "directed": true
              },
              {
                "id": 284,
                "start": 27,
                "end": 223,
                "properties": {
                  "label": "PERFORMS"
                },
                "label": "PERFORMS",
                "color": "#094c4b",
                "thickness_factor": 1,
                "directed": true
              },
              {
                "id": 227,
                "start": 27,
                "end": 185,
                "properties": {
                  "label": "PERFORMS"
                },
                "label": "PERFORMS",
                "color": "#094c4b",
                "thickness_factor": 1,
                "directed": true
              },
              {
                "id": 228,
                "start": 27,
                "end": 222,
                "properties": {
                  "label": "PERFORMS"
                },
                "label": "PERFORMS",
                "color": "#094c4b",
                "thickness_factor": 1,
                "directed": true
              },
              {
                "id": 261,
                "start": 28,
                "end": 204,
                "properties": {
                  "label": "PERFORMS"
                },
                "label": "PERFORMS",
                "color": "#094c4b",
                "thickness_factor": 1,
                "directed": true
              },
              {
                "id": 260,
                "start": 28,
                "end": 203,
                "properties": {
                  "label": "PERFORMS"
                },
                "label": "PERFORMS",
                "color": "#094c4b",
                "thickness_factor": 1,
                "directed": true
              },
              {
                "id": 39,
                "start": 28,
                "end": 93,
                "properties": {
                  "label": "PERFORMS"
                },
                "label": "PERFORMS",
                "color": "#094c4b",
                "thickness_factor": 1,
                "directed": true
              },
              {
                "id": 40,
                "start": 28,
                "end": 112,
                "properties": {
                  "label": "PERFORMS"
                },
                "label": "PERFORMS",
                "color": "#094c4b",
                "thickness_factor": 1,
                "directed": true
              },
              {
                "id": 30,
                "start": 29,
                "end": 110,
                "properties": {
                  "label": "PERFORMS"
                },
                "label": "PERFORMS",
                "color": "#094c4b",
                "thickness_factor": 1,
                "directed": true
              },
              {
                "id": 29,
                "start": 29,
                "end": 91,
                "properties": {
                  "label": "PERFORMS"
                },
                "label": "PERFORMS",
                "color": "#094c4b",
                "thickness_factor": 1,
                "directed": true
              },
              {
                "id": 420,
                "start": 30,
                "end": 305,
                "properties": {
                  "label": "PERFORMS"
                },
                "label": "PERFORMS",
                "color": "#094c4b",
                "thickness_factor": 1,
                "directed": true
              },
              {
                "id": 95,
                "start": 31,
                "end": 184,
                "properties": {
                  "label": "PERFORMS"
                },
                "label": "PERFORMS",
                "color": "#094c4b",
                "thickness_factor": 1,
                "directed": true
              },
              {
                "id": 94,
                "start": 31,
                "end": 123,
                "properties": {
                  "label": "PERFORMS"
                },
                "label": "PERFORMS",
                "color": "#094c4b",
                "thickness_factor": 1,
                "directed": true
              },
              {
                "id": 96,
                "start": 31,
                "end": 199,
                "properties": {
                  "label": "PERFORMS"
                },
                "label": "PERFORMS",
                "color": "#094c4b",
                "thickness_factor": 1,
                "directed": true
              },
              {
                "id": 55,
                "start": 31,
                "end": 98,
                "properties": {
                  "label": "PERFORMS"
                },
                "label": "PERFORMS",
                "color": "#094c4b",
                "thickness_factor": 1,
                "directed": true
              },
              {
                "id": 53,
                "start": 31,
                "end": 97,
                "properties": {
                  "label": "PERFORMS"
                },
                "label": "PERFORMS",
                "color": "#094c4b",
                "thickness_factor": 1,
                "directed": true
              },
              {
                "id": 155,
                "start": 32,
                "end": 162,
                "properties": {
                  "label": "PERFORMS"
                },
                "label": "PERFORMS",
                "color": "#094c4b",
                "thickness_factor": 1,
                "directed": true
              },
              {
                "id": 154,
                "start": 32,
                "end": 161,
                "properties": {
                  "label": "PERFORMS"
                },
                "label": "PERFORMS",
                "color": "#094c4b",
                "thickness_factor": 1,
                "directed": true
              },
              {
                "id": 378,
                "start": 33,
                "end": 284,
                "properties": {
                  "label": "PERFORMS"
                },
                "label": "PERFORMS",
                "color": "#094c4b",
                "thickness_factor": 1,
                "directed": true
              },
              {
                "id": 415,
                "start": 34,
                "end": 302,
                "properties": {
                  "label": "PERFORMS"
                },
                "label": "PERFORMS",
                "color": "#094c4b",
                "thickness_factor": 1,
                "directed": true
              },
              {
                "id": 302,
                "start": 35,
                "end": 234,
                "properties": {
                  "label": "PERFORMS"
                },
                "label": "PERFORMS",
                "color": "#094c4b",
                "thickness_factor": 1,
                "directed": true
              },
              {
                "id": 236,
                "start": 36,
                "end": 188,
                "properties": {
                  "label": "PERFORMS"
                },
                "label": "PERFORMS",
                "color": "#094c4b",
                "thickness_factor": 1,
                "directed": true
              },
              {
                "id": 211,
                "start": 36,
                "end": 176,
                "properties": {
                  "label": "PERFORMS"
                },
                "label": "PERFORMS",
                "color": "#094c4b",
                "thickness_factor": 1,
                "directed": true
              },
              {
                "id": 115,
                "start": 36,
                "end": 129,
                "properties": {
                  "label": "PERFORMS"
                },
                "label": "PERFORMS",
                "color": "#094c4b",
                "thickness_factor": 1,
                "directed": true
              },
              {
                "id": 116,
                "start": 36,
                "end": 155,
                "properties": {
                  "label": "PERFORMS"
                },
                "label": "PERFORMS",
                "color": "#094c4b",
                "thickness_factor": 1,
                "directed": true
              },
              {
                "id": 65,
                "start": 36,
                "end": 102,
                "properties": {
                  "label": "PERFORMS"
                },
                "label": "PERFORMS",
                "color": "#094c4b",
                "thickness_factor": 1,
                "directed": true
              },
              {
                "id": 66,
                "start": 36,
                "end": 126,
                "properties": {
                  "label": "PERFORMS"
                },
                "label": "PERFORMS",
                "color": "#094c4b",
                "thickness_factor": 1,
                "directed": true
              },
              {
                "id": 552,
                "start": 36,
                "end": 83,
                "properties": {
                  "label": "PERFORMS"
                },
                "label": "PERFORMS",
                "color": "#094c4b",
                "thickness_factor": 1,
                "directed": true
              },
              {
                "id": 554,
                "start": 36,
                "end": 125,
                "properties": {
                  "label": "PERFORMS"
                },
                "label": "PERFORMS",
                "color": "#094c4b",
                "thickness_factor": 1,
                "directed": true
              },
              {
                "id": 553,
                "start": 36,
                "end": 105,
                "properties": {
                  "label": "PERFORMS"
                },
                "label": "PERFORMS",
                "color": "#094c4b",
                "thickness_factor": 1,
                "directed": true
              },
              {
                "id": 376,
                "start": 37,
                "end": 283,
                "properties": {
                  "label": "PERFORMS"
                },
                "label": "PERFORMS",
                "color": "#094c4b",
                "thickness_factor": 1,
                "directed": true
              },
              {
                "id": 222,
                "start": 37,
                "end": 179,
                "properties": {
                  "label": "PERFORMS"
                },
                "label": "PERFORMS",
                "color": "#094c4b",
                "thickness_factor": 1,
                "directed": true
              },
              {
                "id": 140,
                "start": 38,
                "end": 151,
                "properties": {
                  "label": "PERFORMS"
                },
                "label": "PERFORMS",
                "color": "#094c4b",
                "thickness_factor": 1,
                "directed": true
              },
              {
                "id": 428,
                "start": 39,
                "end": 311,
                "properties": {
                  "label": "PERFORMS"
                },
                "label": "PERFORMS",
                "color": "#094c4b",
                "thickness_factor": 1,
                "directed": true
              },
              {
                "id": 397,
                "start": 40,
                "end": 296,
                "properties": {
                  "label": "PERFORMS"
                },
                "label": "PERFORMS",
                "color": "#094c4b",
                "thickness_factor": 1,
                "directed": true
              },
              {
                "id": 395,
                "start": 40,
                "end": 294,
                "properties": {
                  "label": "PERFORMS"
                },
                "label": "PERFORMS",
                "color": "#094c4b",
                "thickness_factor": 1,
                "directed": true
              },
              {
                "id": 253,
                "start": 41,
                "end": 200,
                "properties": {
                  "label": "PERFORMS"
                },
                "label": "PERFORMS",
                "color": "#094c4b",
                "thickness_factor": 1,
                "directed": true
              },
              {
                "id": 184,
                "start": 42,
                "end": 169,
                "properties": {
                  "label": "PERFORMS"
                },
                "label": "PERFORMS",
                "color": "#094c4b",
                "thickness_factor": 1,
                "directed": true
              },
              {
                "id": 380,
                "start": 43,
                "end": 286,
                "properties": {
                  "label": "PERFORMS"
                },
                "label": "PERFORMS",
                "color": "#094c4b",
                "thickness_factor": 1,
                "directed": true
              },
              {
                "id": 487,
                "start": 44,
                "end": 338,
                "properties": {
                  "label": "PERFORMS"
                },
                "label": "PERFORMS",
                "color": "#094c4b",
                "thickness_factor": 1,
                "directed": true
              },
              {
                "id": 417,
                "start": 45,
                "end": 304,
                "properties": {
                  "label": "PERFORMS"
                },
                "label": "PERFORMS",
                "color": "#094c4b",
                "thickness_factor": 1,
                "directed": true
              },
              {
                "id": 466,
                "start": 46,
                "end": 327,
                "properties": {
                  "label": "PERFORMS"
                },
                "label": "PERFORMS",
                "color": "#094c4b",
                "thickness_factor": 1,
                "directed": true
              },
              {
                "id": 348,
                "start": 47,
                "end": 260,
                "properties": {
                  "label": "PERFORMS"
                },
                "label": "PERFORMS",
                "color": "#094c4b",
                "thickness_factor": 1,
                "directed": true
              },
              {
                "id": 340,
                "start": 47,
                "end": 253,
                "properties": {
                  "label": "PERFORMS"
                },
                "label": "PERFORMS",
                "color": "#094c4b",
                "thickness_factor": 1,
                "directed": true
              },
              {
                "id": 308,
                "start": 47,
                "end": 238,
                "properties": {
                  "label": "PERFORMS"
                },
                "label": "PERFORMS",
                "color": "#094c4b",
                "thickness_factor": 1,
                "directed": true
              },
              {
                "id": 121,
                "start": 48,
                "end": 132,
                "properties": {
                  "label": "PERFORMS"
                },
                "label": "PERFORMS",
                "color": "#094c4b",
                "thickness_factor": 1,
                "directed": true
              },
              {
                "id": 36,
                "start": 49,
                "end": 111,
                "properties": {
                  "label": "PERFORMS"
                },
                "label": "PERFORMS",
                "color": "#094c4b",
                "thickness_factor": 1,
                "directed": true
              },
              {
                "id": 35,
                "start": 49,
                "end": 92,
                "properties": {
                  "label": "PERFORMS"
                },
                "label": "PERFORMS",
                "color": "#094c4b",
                "thickness_factor": 1,
                "directed": true
              },
              {
                "id": 475,
                "start": 50,
                "end": 330,
                "properties": {
                  "label": "PERFORMS"
                },
                "label": "PERFORMS",
                "color": "#094c4b",
                "thickness_factor": 1,
                "directed": true
              },
              {
                "id": 429,
                "start": 51,
                "end": 311,
                "properties": {
                  "label": "PERFORMS"
                },
                "label": "PERFORMS",
                "color": "#094c4b",
                "thickness_factor": 1,
                "directed": true
              },
              {
                "id": 89,
                "start": 52,
                "end": 121,
                "properties": {
                  "label": "PERFORMS"
                },
                "label": "PERFORMS",
                "color": "#094c4b",
                "thickness_factor": 1,
                "directed": true
              },
              {
                "id": 266,
                "start": 53,
                "end": 206,
                "properties": {
                  "label": "PERFORMS"
                },
                "label": "PERFORMS",
                "color": "#094c4b",
                "thickness_factor": 1,
                "directed": true
              },
              {
                "id": 391,
                "start": 54,
                "end": 292,
                "properties": {
                  "label": "PERFORMS"
                },
                "label": "PERFORMS",
                "color": "#094c4b",
                "thickness_factor": 1,
                "directed": true
              },
              {
                "id": 389,
                "start": 54,
                "end": 291,
                "properties": {
                  "label": "PERFORMS"
                },
                "label": "PERFORMS",
                "color": "#094c4b",
                "thickness_factor": 1,
                "directed": true
              },
              {
                "id": 383,
                "start": 54,
                "end": 287,
                "properties": {
                  "label": "PERFORMS"
                },
                "label": "PERFORMS",
                "color": "#094c4b",
                "thickness_factor": 1,
                "directed": true
              },
              {
                "id": 313,
                "start": 55,
                "end": 239,
                "properties": {
                  "label": "PERFORMS"
                },
                "label": "PERFORMS",
                "color": "#094c4b",
                "thickness_factor": 1,
                "directed": true
              },
              {
                "id": 47,
                "start": 56,
                "end": 95,
                "properties": {
                  "label": "PERFORMS"
                },
                "label": "PERFORMS",
                "color": "#094c4b",
                "thickness_factor": 1,
                "directed": true
              },
              {
                "id": 48,
                "start": 56,
                "end": 181,
                "properties": {
                  "label": "PERFORMS"
                },
                "label": "PERFORMS",
                "color": "#094c4b",
                "thickness_factor": 1,
                "directed": true
              },
              {
                "id": 321,
                "start": 57,
                "end": 242,
                "properties": {
                  "label": "PERFORMS"
                },
                "label": "PERFORMS",
                "color": "#094c4b",
                "thickness_factor": 1,
                "directed": true
              },
              {
                "id": 210,
                "start": 57,
                "end": 176,
                "properties": {
                  "label": "PERFORMS"
                },
                "label": "PERFORMS",
                "color": "#094c4b",
                "thickness_factor": 1,
                "directed": true
              },
              {
                "id": 113,
                "start": 57,
                "end": 129,
                "properties": {
                  "label": "PERFORMS"
                },
                "label": "PERFORMS",
                "color": "#094c4b",
                "thickness_factor": 1,
                "directed": true
              },
              {
                "id": 114,
                "start": 57,
                "end": 155,
                "properties": {
                  "label": "PERFORMS"
                },
                "label": "PERFORMS",
                "color": "#094c4b",
                "thickness_factor": 1,
                "directed": true
              },
              {
                "id": 68,
                "start": 57,
                "end": 126,
                "properties": {
                  "label": "PERFORMS"
                },
                "label": "PERFORMS",
                "color": "#094c4b",
                "thickness_factor": 1,
                "directed": true
              },
              {
                "id": 67,
                "start": 57,
                "end": 102,
                "properties": {
                  "label": "PERFORMS"
                },
                "label": "PERFORMS",
                "color": "#094c4b",
                "thickness_factor": 1,
                "directed": true
              },
              {
                "id": 278,
                "start": 58,
                "end": 217,
                "properties": {
                  "label": "PERFORMS"
                },
                "label": "PERFORMS",
                "color": "#094c4b",
                "thickness_factor": 1,
                "directed": true
              },
              {
                "id": 215,
                "start": 59,
                "end": 249,
                "properties": {
                  "label": "PERFORMS"
                },
                "label": "PERFORMS",
                "color": "#094c4b",
                "thickness_factor": 1,
                "directed": true
              },
              {
                "id": 214,
                "start": 59,
                "end": 178,
                "properties": {
                  "label": "PERFORMS"
                },
                "label": "PERFORMS",
                "color": "#094c4b",
                "thickness_factor": 1,
                "directed": true
              },
              {
                "id": 32,
                "start": 60,
                "end": 110,
                "properties": {
                  "label": "PERFORMS"
                },
                "label": "PERFORMS",
                "color": "#094c4b",
                "thickness_factor": 1,
                "directed": true
              },
              {
                "id": 31,
                "start": 60,
                "end": 91,
                "properties": {
                  "label": "PERFORMS"
                },
                "label": "PERFORMS",
                "color": "#094c4b",
                "thickness_factor": 1,
                "directed": true
              },
              {
                "id": 204,
                "start": 61,
                "end": 173,
                "properties": {
                  "label": "PERFORMS"
                },
                "label": "PERFORMS",
                "color": "#094c4b",
                "thickness_factor": 1,
                "directed": true
              },
              {
                "id": 408,
                "start": 62,
                "end": 299,
                "properties": {
                  "label": "PERFORMS"
                },
                "label": "PERFORMS",
                "color": "#094c4b",
                "thickness_factor": 1,
                "directed": true
              },
              {
                "id": 559,
                "start": 62,
                "end": 84,
                "properties": {
                  "label": "PERFORMS"
                },
                "label": "PERFORMS",
                "color": "#094c4b",
                "thickness_factor": 1,
                "directed": true
              },
              {
                "id": 296,
                "start": 63,
                "end": 247,
                "properties": {
                  "label": "PERFORMS"
                },
                "label": "PERFORMS",
                "color": "#094c4b",
                "thickness_factor": 1,
                "directed": true
              },
              {
                "id": 295,
                "start": 63,
                "end": 233,
                "properties": {
                  "label": "PERFORMS"
                },
                "label": "PERFORMS",
                "color": "#094c4b",
                "thickness_factor": 1,
                "directed": true
              },
              {
                "id": 75,
                "start": 63,
                "end": 116,
                "properties": {
                  "label": "PERFORMS"
                },
                "label": "PERFORMS",
                "color": "#094c4b",
                "thickness_factor": 1,
                "directed": true
              },
              {
                "id": 76,
                "start": 63,
                "end": 149,
                "properties": {
                  "label": "PERFORMS"
                },
                "label": "PERFORMS",
                "color": "#094c4b",
                "thickness_factor": 1,
                "directed": true
              },
              {
                "id": 411,
                "start": 64,
                "end": 299,
                "properties": {
                  "label": "PERFORMS"
                },
                "label": "PERFORMS",
                "color": "#094c4b",
                "thickness_factor": 1,
                "directed": true
              },
              {
                "id": 198,
                "start": 65,
                "end": 171,
                "properties": {
                  "label": "PERFORMS"
                },
                "label": "PERFORMS",
                "color": "#094c4b",
                "thickness_factor": 1,
                "directed": true
              },
              {
                "id": 185,
                "start": 65,
                "end": 169,
                "properties": {
                  "label": "PERFORMS"
                },
                "label": "PERFORMS",
                "color": "#094c4b",
                "thickness_factor": 1,
                "directed": true
              },
              {
                "id": 212,
                "start": 66,
                "end": 177,
                "properties": {
                  "label": "PERFORMS"
                },
                "label": "PERFORMS",
                "color": "#094c4b",
                "thickness_factor": 1,
                "directed": true
              },
              {
                "id": 237,
                "start": 67,
                "end": 188,
                "properties": {
                  "label": "PERFORMS"
                },
                "label": "PERFORMS",
                "color": "#094c4b",
                "thickness_factor": 1,
                "directed": true
              },
              {
                "id": 556,
                "start": 67,
                "end": 105,
                "properties": {
                  "label": "PERFORMS"
                },
                "label": "PERFORMS",
                "color": "#094c4b",
                "thickness_factor": 1,
                "directed": true
              },
              {
                "id": 555,
                "start": 67,
                "end": 83,
                "properties": {
                  "label": "PERFORMS"
                },
                "label": "PERFORMS",
                "color": "#094c4b",
                "thickness_factor": 1,
                "directed": true
              },
              {
                "id": 557,
                "start": 67,
                "end": 125,
                "properties": {
                  "label": "PERFORMS"
                },
                "label": "PERFORMS",
                "color": "#094c4b",
                "thickness_factor": 1,
                "directed": true
              },
              {
                "id": 26,
                "start": 68,
                "end": 248,
                "properties": {
                  "label": "PERFORMS"
                },
                "label": "PERFORMS",
                "color": "#094c4b",
                "thickness_factor": 1,
                "directed": true
              },
              {
                "id": 25,
                "start": 68,
                "end": 109,
                "properties": {
                  "label": "PERFORMS"
                },
                "label": "PERFORMS",
                "color": "#094c4b",
                "thickness_factor": 1,
                "directed": true
              },
              {
                "id": 24,
                "start": 68,
                "end": 90,
                "properties": {
                  "label": "PERFORMS"
                },
                "label": "PERFORMS",
                "color": "#094c4b",
                "thickness_factor": 1,
                "directed": true
              },
              {
                "id": 469,
                "start": 69,
                "end": 327,
                "properties": {
                  "label": "PERFORMS"
                },
                "label": "PERFORMS",
                "color": "#094c4b",
                "thickness_factor": 1,
                "directed": true
              },
              {
                "id": 316,
                "start": 70,
                "end": 240,
                "properties": {
                  "label": "PERFORMS"
                },
                "label": "PERFORMS",
                "color": "#094c4b",
                "thickness_factor": 1,
                "directed": true
              },
              {
                "id": 480,
                "start": 71,
                "end": 331,
                "properties": {
                  "label": "PERFORMS"
                },
                "label": "PERFORMS",
                "color": "#094c4b",
                "thickness_factor": 1,
                "directed": true
              },
              {
                "id": 248,
                "start": 72,
                "end": 196,
                "properties": {
                  "label": "PERFORMS"
                },
                "label": "PERFORMS",
                "color": "#094c4b",
                "thickness_factor": 1,
                "directed": true
              },
              {
                "id": 257,
                "start": 73,
                "end": 201,
                "properties": {
                  "label": "PERFORMS"
                },
                "label": "PERFORMS",
                "color": "#094c4b",
                "thickness_factor": 1,
                "directed": true
              },
              {
                "id": 410,
                "start": 74,
                "end": 299,
                "properties": {
                  "label": "PERFORMS"
                },
                "label": "PERFORMS",
                "color": "#094c4b",
                "thickness_factor": 1,
                "directed": true
              },
              {
                "id": 367,
                "start": 75,
                "end": 278,
                "properties": {
                  "label": "PERFORMS"
                },
                "label": "PERFORMS",
                "color": "#094c4b",
                "thickness_factor": 1,
                "directed": true
              },
              {
                "id": 199,
                "start": 76,
                "end": 171,
                "properties": {
                  "label": "PERFORMS"
                },
                "label": "PERFORMS",
                "color": "#094c4b",
                "thickness_factor": 1,
                "directed": true
              },
              {
                "id": 187,
                "start": 76,
                "end": 169,
                "properties": {
                  "label": "PERFORMS"
                },
                "label": "PERFORMS",
                "color": "#094c4b",
                "thickness_factor": 1,
                "directed": true
              },
              {
                "id": 178,
                "start": 77,
                "end": 167,
                "properties": {
                  "label": "PERFORMS"
                },
                "label": "PERFORMS",
                "color": "#094c4b",
                "thickness_factor": 1,
                "directed": true
              },
              {
                "id": 169,
                "start": 77,
                "end": 265,
                "properties": {
                  "label": "PERFORMS"
                },
                "label": "PERFORMS",
                "color": "#094c4b",
                "thickness_factor": 1,
                "directed": true
              },
              {
                "id": 168,
                "start": 77,
                "end": 166,
                "properties": {
                  "label": "PERFORMS"
                },
                "label": "PERFORMS",
                "color": "#094c4b",
                "thickness_factor": 1,
                "directed": true
              },
              {
                "id": 164,
                "start": 77,
                "end": 165,
                "properties": {
                  "label": "PERFORMS"
                },
                "label": "PERFORMS",
                "color": "#094c4b",
                "thickness_factor": 1,
                "directed": true
              },
              {
                "id": 160,
                "start": 77,
                "end": 164,
                "properties": {
                  "label": "PERFORMS"
                },
                "label": "PERFORMS",
                "color": "#094c4b",
                "thickness_factor": 1,
                "directed": true
              },
              {
                "id": 143,
                "start": 77,
                "end": 156,
                "properties": {
                  "label": "PERFORMS"
                },
                "label": "PERFORMS",
                "color": "#094c4b",
                "thickness_factor": 1,
                "directed": true
              },
              {
                "id": 369,
                "start": 78,
                "end": 279,
                "properties": {
                  "label": "PERFORMS"
                },
                "label": "PERFORMS",
                "color": "#094c4b",
                "thickness_factor": 1,
                "directed": true
              },
              {
                "id": 78,
                "start": 79,
                "end": 149,
                "properties": {
                  "label": "PERFORMS"
                },
                "label": "PERFORMS",
                "color": "#094c4b",
                "thickness_factor": 1,
                "directed": true
              },
              {
                "id": 77,
                "start": 79,
                "end": 116,
                "properties": {
                  "label": "PERFORMS"
                },
                "label": "PERFORMS",
                "color": "#094c4b",
                "thickness_factor": 1,
                "directed": true
              },
              {
                "id": 177,
                "start": 370,
                "end": 265,
                "properties": {
                  "label": "PERFORMS"
                },
                "label": "PERFORMS",
                "color": "#094c4b",
                "thickness_factor": 1,
                "directed": true
              },
              {
                "id": 176,
                "start": 370,
                "end": 166,
                "properties": {
                  "label": "PERFORMS"
                },
                "label": "PERFORMS",
                "color": "#094c4b",
                "thickness_factor": 1,
                "directed": true
              },
              {
                "id": 223,
                "start": 371,
                "end": 180,
                "properties": {
                  "label": "PERFORMS"
                },
                "label": "PERFORMS",
                "color": "#094c4b",
                "thickness_factor": 1,
                "directed": true
              },
              {
                "id": 197,
                "start": 371,
                "end": 171,
                "properties": {
                  "label": "PERFORMS"
                },
                "label": "PERFORMS",
                "color": "#094c4b",
                "thickness_factor": 1,
                "directed": true
              },
              {
                "id": 150,
                "start": 371,
                "end": 159,
                "properties": {
                  "label": "PERFORMS"
                },
                "label": "PERFORMS",
                "color": "#094c4b",
                "thickness_factor": 1,
                "directed": true
              },
              {
                "id": 474,
                "start": 372,
                "end": 330,
                "properties": {
                  "label": "PERFORMS"
                },
                "label": "PERFORMS",
                "color": "#094c4b",
                "thickness_factor": 1,
                "directed": true
              },
              {
                "id": 470,
                "start": 372,
                "end": 328,
                "properties": {
                  "label": "PERFORMS"
                },
                "label": "PERFORMS",
                "color": "#094c4b",
                "thickness_factor": 1,
                "directed": true
              },
              {
                "id": 457,
                "start": 372,
                "end": 321,
                "properties": {
                  "label": "PERFORMS"
                },
                "label": "PERFORMS",
                "color": "#094c4b",
                "thickness_factor": 1,
                "directed": true
              },
              {
                "id": 454,
                "start": 372,
                "end": 320,
                "properties": {
                  "label": "PERFORMS"
                },
                "label": "PERFORMS",
                "color": "#094c4b",
                "thickness_factor": 1,
                "directed": true
              },
              {
                "id": 444,
                "start": 372,
                "end": 317,
                "properties": {
                  "label": "PERFORMS"
                },
                "label": "PERFORMS",
                "color": "#094c4b",
                "thickness_factor": 1,
                "directed": true
              },
              {
                "id": 443,
                "start": 372,
                "end": 315,
                "properties": {
                  "label": "PERFORMS"
                },
                "label": "PERFORMS",
                "color": "#094c4b",
                "thickness_factor": 1,
                "directed": true
              },
              {
                "id": 439,
                "start": 372,
                "end": 314,
                "properties": {
                  "label": "PERFORMS"
                },
                "label": "PERFORMS",
                "color": "#094c4b",
                "thickness_factor": 1,
                "directed": true
              },
              {
                "id": 440,
                "start": 372,
                "end": 316,
                "properties": {
                  "label": "PERFORMS"
                },
                "label": "PERFORMS",
                "color": "#094c4b",
                "thickness_factor": 1,
                "directed": true
              },
              {
                "id": 407,
                "start": 372,
                "end": 322,
                "properties": {
                  "label": "PERFORMS"
                },
                "label": "PERFORMS",
                "color": "#094c4b",
                "thickness_factor": 1,
                "directed": true
              },
              {
                "id": 406,
                "start": 372,
                "end": 298,
                "properties": {
                  "label": "PERFORMS"
                },
                "label": "PERFORMS",
                "color": "#094c4b",
                "thickness_factor": 1,
                "directed": true
              },
              {
                "id": 405,
                "start": 372,
                "end": 297,
                "properties": {
                  "label": "PERFORMS"
                },
                "label": "PERFORMS",
                "color": "#094c4b",
                "thickness_factor": 1,
                "directed": true
              },
              {
                "id": 396,
                "start": 372,
                "end": 294,
                "properties": {
                  "label": "PERFORMS"
                },
                "label": "PERFORMS",
                "color": "#094c4b",
                "thickness_factor": 1,
                "directed": true
              },
              {
                "id": 394,
                "start": 372,
                "end": 293,
                "properties": {
                  "label": "PERFORMS"
                },
                "label": "PERFORMS",
                "color": "#094c4b",
                "thickness_factor": 1,
                "directed": true
              },
              {
                "id": 392,
                "start": 372,
                "end": 292,
                "properties": {
                  "label": "PERFORMS"
                },
                "label": "PERFORMS",
                "color": "#094c4b",
                "thickness_factor": 1,
                "directed": true
              },
              {
                "id": 390,
                "start": 372,
                "end": 291,
                "properties": {
                  "label": "PERFORMS"
                },
                "label": "PERFORMS",
                "color": "#094c4b",
                "thickness_factor": 1,
                "directed": true
              },
              {
                "id": 384,
                "start": 372,
                "end": 288,
                "properties": {
                  "label": "PERFORMS"
                },
                "label": "PERFORMS",
                "color": "#094c4b",
                "thickness_factor": 1,
                "directed": true
              },
              {
                "id": 382,
                "start": 372,
                "end": 287,
                "properties": {
                  "label": "PERFORMS"
                },
                "label": "PERFORMS",
                "color": "#094c4b",
                "thickness_factor": 1,
                "directed": true
              },
              {
                "id": 345,
                "start": 372,
                "end": 258,
                "properties": {
                  "label": "PERFORMS"
                },
                "label": "PERFORMS",
                "color": "#094c4b",
                "thickness_factor": 1,
                "directed": true
              },
              {
                "id": 343,
                "start": 372,
                "end": 257,
                "properties": {
                  "label": "PERFORMS"
                },
                "label": "PERFORMS",
                "color": "#094c4b",
                "thickness_factor": 1,
                "directed": true
              },
              {
                "id": 332,
                "start": 372,
                "end": 251,
                "properties": {
                  "label": "PERFORMS"
                },
                "label": "PERFORMS",
                "color": "#094c4b",
                "thickness_factor": 1,
                "directed": true
              },
              {
                "id": 335,
                "start": 372,
                "end": 295,
                "properties": {
                  "label": "PERFORMS"
                },
                "label": "PERFORMS",
                "color": "#094c4b",
                "thickness_factor": 1,
                "directed": true
              },
              {
                "id": 334,
                "start": 372,
                "end": 256,
                "properties": {
                  "label": "PERFORMS"
                },
                "label": "PERFORMS",
                "color": "#094c4b",
                "thickness_factor": 1,
                "directed": true
              },
              {
                "id": 333,
                "start": 372,
                "end": 254,
                "properties": {
                  "label": "PERFORMS"
                },
                "label": "PERFORMS",
                "color": "#094c4b",
                "thickness_factor": 1,
                "directed": true
              },
              {
                "id": 324,
                "start": 372,
                "end": 244,
                "properties": {
                  "label": "PERFORMS"
                },
                "label": "PERFORMS",
                "color": "#094c4b",
                "thickness_factor": 1,
                "directed": true
              },
              {
                "id": 325,
                "start": 372,
                "end": 261,
                "properties": {
                  "label": "PERFORMS"
                },
                "label": "PERFORMS",
                "color": "#094c4b",
                "thickness_factor": 1,
                "directed": true
              },
              {
                "id": 326,
                "start": 372,
                "end": 262,
                "properties": {
                  "label": "PERFORMS"
                },
                "label": "PERFORMS",
                "color": "#094c4b",
                "thickness_factor": 1,
                "directed": true
              },
              {
                "id": 303,
                "start": 372,
                "end": 235,
                "properties": {
                  "label": "PERFORMS"
                },
                "label": "PERFORMS",
                "color": "#094c4b",
                "thickness_factor": 1,
                "directed": true
              },
              {
                "id": 298,
                "start": 372,
                "end": 247,
                "properties": {
                  "label": "PERFORMS"
                },
                "label": "PERFORMS",
                "color": "#094c4b",
                "thickness_factor": 1,
                "directed": true
              },
              {
                "id": 297,
                "start": 372,
                "end": 233,
                "properties": {
                  "label": "PERFORMS"
                },
                "label": "PERFORMS",
                "color": "#094c4b",
                "thickness_factor": 1,
                "directed": true
              },
              {
                "id": 285,
                "start": 372,
                "end": 223,
                "properties": {
                  "label": "PERFORMS"
                },
                "label": "PERFORMS",
                "color": "#094c4b",
                "thickness_factor": 1,
                "directed": true
              },
              {
                "id": 283,
                "start": 372,
                "end": 221,
                "properties": {
                  "label": "PERFORMS"
                },
                "label": "PERFORMS",
                "color": "#094c4b",
                "thickness_factor": 1,
                "directed": true
              },
              {
                "id": 263,
                "start": 372,
                "end": 204,
                "properties": {
                  "label": "PERFORMS"
                },
                "label": "PERFORMS",
                "color": "#094c4b",
                "thickness_factor": 1,
                "directed": true
              },
              {
                "id": 262,
                "start": 372,
                "end": 203,
                "properties": {
                  "label": "PERFORMS"
                },
                "label": "PERFORMS",
                "color": "#094c4b",
                "thickness_factor": 1,
                "directed": true
              },
              {
                "id": 252,
                "start": 372,
                "end": 198,
                "properties": {
                  "label": "PERFORMS"
                },
                "label": "PERFORMS",
                "color": "#094c4b",
                "thickness_factor": 1,
                "directed": true
              },
              {
                "id": 230,
                "start": 372,
                "end": 222,
                "properties": {
                  "label": "PERFORMS"
                },
                "label": "PERFORMS",
                "color": "#094c4b",
                "thickness_factor": 1,
                "directed": true
              },
              {
                "id": 229,
                "start": 372,
                "end": 185,
                "properties": {
                  "label": "PERFORMS"
                },
                "label": "PERFORMS",
                "color": "#094c4b",
                "thickness_factor": 1,
                "directed": true
              },
              {
                "id": 205,
                "start": 372,
                "end": 173,
                "properties": {
                  "label": "PERFORMS"
                },
                "label": "PERFORMS",
                "color": "#094c4b",
                "thickness_factor": 1,
                "directed": true
              },
              {
                "id": 183,
                "start": 372,
                "end": 168,
                "properties": {
                  "label": "PERFORMS"
                },
                "label": "PERFORMS",
                "color": "#094c4b",
                "thickness_factor": 1,
                "directed": true
              },
              {
                "id": 149,
                "start": 372,
                "end": 158,
                "properties": {
                  "label": "PERFORMS"
                },
                "label": "PERFORMS",
                "color": "#094c4b",
                "thickness_factor": 1,
                "directed": true
              },
              {
                "id": 107,
                "start": 372,
                "end": 128,
                "properties": {
                  "label": "PERFORMS"
                },
                "label": "PERFORMS",
                "color": "#094c4b",
                "thickness_factor": 1,
                "directed": true
              },
              {
                "id": 108,
                "start": 372,
                "end": 154,
                "properties": {
                  "label": "PERFORMS"
                },
                "label": "PERFORMS",
                "color": "#094c4b",
                "thickness_factor": 1,
                "directed": true
              },
              {
                "id": 104,
                "start": 372,
                "end": 150,
                "properties": {
                  "label": "PERFORMS"
                },
                "label": "PERFORMS",
                "color": "#094c4b",
                "thickness_factor": 1,
                "directed": true
              },
              {
                "id": 103,
                "start": 372,
                "end": 127,
                "properties": {
                  "label": "PERFORMS"
                },
                "label": "PERFORMS",
                "color": "#094c4b",
                "thickness_factor": 1,
                "directed": true
              },
              {
                "id": 86,
                "start": 372,
                "end": 118,
                "properties": {
                  "label": "PERFORMS"
                },
                "label": "PERFORMS",
                "color": "#094c4b",
                "thickness_factor": 1,
                "directed": true
              },
              {
                "id": 84,
                "start": 372,
                "end": 117,
                "properties": {
                  "label": "PERFORMS"
                },
                "label": "PERFORMS",
                "color": "#094c4b",
                "thickness_factor": 1,
                "directed": true
              },
              {
                "id": 81,
                "start": 372,
                "end": 116,
                "properties": {
                  "label": "PERFORMS"
                },
                "label": "PERFORMS",
                "color": "#094c4b",
                "thickness_factor": 1,
                "directed": true
              },
              {
                "id": 82,
                "start": 372,
                "end": 149,
                "properties": {
                  "label": "PERFORMS"
                },
                "label": "PERFORMS",
                "color": "#094c4b",
                "thickness_factor": 1,
                "directed": true
              },
              {
                "id": 54,
                "start": 372,
                "end": 97,
                "properties": {
                  "label": "PERFORMS"
                },
                "label": "PERFORMS",
                "color": "#094c4b",
                "thickness_factor": 1,
                "directed": true
              },
              {
                "id": 373,
                "start": 373,
                "end": 282,
                "properties": {
                  "label": "PERFORMS"
                },
                "label": "PERFORMS",
                "color": "#094c4b",
                "thickness_factor": 1,
                "directed": true
              },
              {
                "id": 498,
                "start": 373,
                "end": 348,
                "properties": {
                  "label": "PERFORMS"
                },
                "label": "PERFORMS",
                "color": "#094c4b",
                "thickness_factor": 1,
                "directed": true
              },
              {
                "id": 497,
                "start": 373,
                "end": 347,
                "properties": {
                  "label": "PERFORMS"
                },
                "label": "PERFORMS",
                "color": "#094c4b",
                "thickness_factor": 1,
                "directed": true
              },
              {
                "id": 496,
                "start": 373,
                "end": 346,
                "properties": {
                  "label": "PERFORMS"
                },
                "label": "PERFORMS",
                "color": "#094c4b",
                "thickness_factor": 1,
                "directed": true
              },
              {
                "id": 495,
                "start": 373,
                "end": 345,
                "properties": {
                  "label": "PERFORMS"
                },
                "label": "PERFORMS",
                "color": "#094c4b",
                "thickness_factor": 1,
                "directed": true
              },
              {
                "id": 493,
                "start": 373,
                "end": 344,
                "properties": {
                  "label": "PERFORMS"
                },
                "label": "PERFORMS",
                "color": "#094c4b",
                "thickness_factor": 1,
                "directed": true
              },
              {
                "id": 492,
                "start": 373,
                "end": 343,
                "properties": {
                  "label": "PERFORMS"
                },
                "label": "PERFORMS",
                "color": "#094c4b",
                "thickness_factor": 1,
                "directed": true
              },
              {
                "id": 491,
                "start": 373,
                "end": 342,
                "properties": {
                  "label": "PERFORMS"
                },
                "label": "PERFORMS",
                "color": "#094c4b",
                "thickness_factor": 1,
                "directed": true
              },
              {
                "id": 490,
                "start": 373,
                "end": 341,
                "properties": {
                  "label": "PERFORMS"
                },
                "label": "PERFORMS",
                "color": "#094c4b",
                "thickness_factor": 1,
                "directed": true
              },
              {
                "id": 489,
                "start": 373,
                "end": 340,
                "properties": {
                  "label": "PERFORMS"
                },
                "label": "PERFORMS",
                "color": "#094c4b",
                "thickness_factor": 1,
                "directed": true
              },
              {
                "id": 488,
                "start": 373,
                "end": 339,
                "properties": {
                  "label": "PERFORMS"
                },
                "label": "PERFORMS",
                "color": "#094c4b",
                "thickness_factor": 1,
                "directed": true
              },
              {
                "id": 486,
                "start": 373,
                "end": 338,
                "properties": {
                  "label": "PERFORMS"
                },
                "label": "PERFORMS",
                "color": "#094c4b",
                "thickness_factor": 1,
                "directed": true
              },
              {
                "id": 485,
                "start": 373,
                "end": 337,
                "properties": {
                  "label": "PERFORMS"
                },
                "label": "PERFORMS",
                "color": "#094c4b",
                "thickness_factor": 1,
                "directed": true
              },
              {
                "id": 484,
                "start": 373,
                "end": 336,
                "properties": {
                  "label": "PERFORMS"
                },
                "label": "PERFORMS",
                "color": "#094c4b",
                "thickness_factor": 1,
                "directed": true
              },
              {
                "id": 483,
                "start": 373,
                "end": 335,
                "properties": {
                  "label": "PERFORMS"
                },
                "label": "PERFORMS",
                "color": "#094c4b",
                "thickness_factor": 1,
                "directed": true
              },
              {
                "id": 482,
                "start": 373,
                "end": 334,
                "properties": {
                  "label": "PERFORMS"
                },
                "label": "PERFORMS",
                "color": "#094c4b",
                "thickness_factor": 1,
                "directed": true
              },
              {
                "id": 477,
                "start": 373,
                "end": 331,
                "properties": {
                  "label": "PERFORMS"
                },
                "label": "PERFORMS",
                "color": "#094c4b",
                "thickness_factor": 1,
                "directed": true
              },
              {
                "id": 464,
                "start": 373,
                "end": 326,
                "properties": {
                  "label": "PERFORMS"
                },
                "label": "PERFORMS",
                "color": "#094c4b",
                "thickness_factor": 1,
                "directed": true
              },
              {
                "id": 461,
                "start": 373,
                "end": 324,
                "properties": {
                  "label": "PERFORMS"
                },
                "label": "PERFORMS",
                "color": "#094c4b",
                "thickness_factor": 1,
                "directed": true
              },
              {
                "id": 459,
                "start": 373,
                "end": 323,
                "properties": {
                  "label": "PERFORMS"
                },
                "label": "PERFORMS",
                "color": "#094c4b",
                "thickness_factor": 1,
                "directed": true
              },
              {
                "id": 452,
                "start": 373,
                "end": 319,
                "properties": {
                  "label": "PERFORMS"
                },
                "label": "PERFORMS",
                "color": "#094c4b",
                "thickness_factor": 1,
                "directed": true
              },
              {
                "id": 450,
                "start": 373,
                "end": 318,
                "properties": {
                  "label": "PERFORMS"
                },
                "label": "PERFORMS",
                "color": "#094c4b",
                "thickness_factor": 1,
                "directed": true
              },
              {
                "id": 427,
                "start": 373,
                "end": 310,
                "properties": {
                  "label": "PERFORMS"
                },
                "label": "PERFORMS",
                "color": "#094c4b",
                "thickness_factor": 1,
                "directed": true
              },
              {
                "id": 426,
                "start": 373,
                "end": 309,
                "properties": {
                  "label": "PERFORMS"
                },
                "label": "PERFORMS",
                "color": "#094c4b",
                "thickness_factor": 1,
                "directed": true
              },
              {
                "id": 425,
                "start": 373,
                "end": 308,
                "properties": {
                  "label": "PERFORMS"
                },
                "label": "PERFORMS",
                "color": "#094c4b",
                "thickness_factor": 1,
                "directed": true
              },
              {
                "id": 423,
                "start": 373,
                "end": 307,
                "properties": {
                  "label": "PERFORMS"
                },
                "label": "PERFORMS",
                "color": "#094c4b",
                "thickness_factor": 1,
                "directed": true
              },
              {
                "id": 421,
                "start": 373,
                "end": 306,
                "properties": {
                  "label": "PERFORMS"
                },
                "label": "PERFORMS",
                "color": "#094c4b",
                "thickness_factor": 1,
                "directed": true
              },
              {
                "id": 419,
                "start": 373,
                "end": 305,
                "properties": {
                  "label": "PERFORMS"
                },
                "label": "PERFORMS",
                "color": "#094c4b",
                "thickness_factor": 1,
                "directed": true
              },
              {
                "id": 418,
                "start": 373,
                "end": 304,
                "properties": {
                  "label": "PERFORMS"
                },
                "label": "PERFORMS",
                "color": "#094c4b",
                "thickness_factor": 1,
                "directed": true
              },
              {
                "id": 416,
                "start": 373,
                "end": 303,
                "properties": {
                  "label": "PERFORMS"
                },
                "label": "PERFORMS",
                "color": "#094c4b",
                "thickness_factor": 1,
                "directed": true
              },
              {
                "id": 414,
                "start": 373,
                "end": 302,
                "properties": {
                  "label": "PERFORMS"
                },
                "label": "PERFORMS",
                "color": "#094c4b",
                "thickness_factor": 1,
                "directed": true
              },
              {
                "id": 413,
                "start": 373,
                "end": 301,
                "properties": {
                  "label": "PERFORMS"
                },
                "label": "PERFORMS",
                "color": "#094c4b",
                "thickness_factor": 1,
                "directed": true
              },
              {
                "id": 393,
                "start": 373,
                "end": 292,
                "properties": {
                  "label": "PERFORMS"
                },
                "label": "PERFORMS",
                "color": "#094c4b",
                "thickness_factor": 1,
                "directed": true
              },
              {
                "id": 379,
                "start": 373,
                "end": 285,
                "properties": {
                  "label": "PERFORMS"
                },
                "label": "PERFORMS",
                "color": "#094c4b",
                "thickness_factor": 1,
                "directed": true
              },
              {
                "id": 377,
                "start": 373,
                "end": 284,
                "properties": {
                  "label": "PERFORMS"
                },
                "label": "PERFORMS",
                "color": "#094c4b",
                "thickness_factor": 1,
                "directed": true
              },
              {
                "id": 375,
                "start": 373,
                "end": 283,
                "properties": {
                  "label": "PERFORMS"
                },
                "label": "PERFORMS",
                "color": "#094c4b",
                "thickness_factor": 1,
                "directed": true
              },
              {
                "id": 69,
                "start": 373,
                "end": 113,
                "properties": {
                  "label": "PERFORMS"
                },
                "label": "PERFORMS",
                "color": "#094c4b",
                "thickness_factor": 1,
                "directed": true
              },
              {
                "id": 70,
                "start": 373,
                "end": 215,
                "properties": {
                  "label": "PERFORMS"
                },
                "label": "PERFORMS",
                "color": "#094c4b",
                "thickness_factor": 1,
                "directed": true
              },
              {
                "id": 122,
                "start": 373,
                "end": 132,
                "properties": {
                  "label": "PERFORMS"
                },
                "label": "PERFORMS",
                "color": "#094c4b",
                "thickness_factor": 1,
                "directed": true
              },
              {
                "id": 152,
                "start": 373,
                "end": 159,
                "properties": {
                  "label": "PERFORMS"
                },
                "label": "PERFORMS",
                "color": "#094c4b",
                "thickness_factor": 1,
                "directed": true
              },
              {
                "id": 182,
                "start": 373,
                "end": 168,
                "properties": {
                  "label": "PERFORMS"
                },
                "label": "PERFORMS",
                "color": "#094c4b",
                "thickness_factor": 1,
                "directed": true
              },
              {
                "id": 186,
                "start": 373,
                "end": 169,
                "properties": {
                  "label": "PERFORMS"
                },
                "label": "PERFORMS",
                "color": "#094c4b",
                "thickness_factor": 1,
                "directed": true
              },
              {
                "id": 193,
                "start": 373,
                "end": 250,
                "properties": {
                  "label": "PERFORMS"
                },
                "label": "PERFORMS",
                "color": "#094c4b",
                "thickness_factor": 1,
                "directed": true
              },
              {
                "id": 192,
                "start": 373,
                "end": 170,
                "properties": {
                  "label": "PERFORMS"
                },
                "label": "PERFORMS",
                "color": "#094c4b",
                "thickness_factor": 1,
                "directed": true
              },
              {
                "id": 200,
                "start": 373,
                "end": 171,
                "properties": {
                  "label": "PERFORMS"
                },
                "label": "PERFORMS",
                "color": "#094c4b",
                "thickness_factor": 1,
                "directed": true
              },
              {
                "id": 202,
                "start": 373,
                "end": 172,
                "properties": {
                  "label": "PERFORMS"
                },
                "label": "PERFORMS",
                "color": "#094c4b",
                "thickness_factor": 1,
                "directed": true
              },
              {
                "id": 206,
                "start": 373,
                "end": 174,
                "properties": {
                  "label": "PERFORMS"
                },
                "label": "PERFORMS",
                "color": "#094c4b",
                "thickness_factor": 1,
                "directed": true
              },
              {
                "id": 213,
                "start": 373,
                "end": 177,
                "properties": {
                  "label": "PERFORMS"
                },
                "label": "PERFORMS",
                "color": "#094c4b",
                "thickness_factor": 1,
                "directed": true
              },
              {
                "id": 218,
                "start": 373,
                "end": 178,
                "properties": {
                  "label": "PERFORMS"
                },
                "label": "PERFORMS",
                "color": "#094c4b",
                "thickness_factor": 1,
                "directed": true
              },
              {
                "id": 219,
                "start": 373,
                "end": 249,
                "properties": {
                  "label": "PERFORMS"
                },
                "label": "PERFORMS",
                "color": "#094c4b",
                "thickness_factor": 1,
                "directed": true
              },
              {
                "id": 221,
                "start": 373,
                "end": 179,
                "properties": {
                  "label": "PERFORMS"
                },
                "label": "PERFORMS",
                "color": "#094c4b",
                "thickness_factor": 1,
                "directed": true
              },
              {
                "id": 224,
                "start": 373,
                "end": 180,
                "properties": {
                  "label": "PERFORMS"
                },
                "label": "PERFORMS",
                "color": "#094c4b",
                "thickness_factor": 1,
                "directed": true
              },
              {
                "id": 225,
                "start": 373,
                "end": 182,
                "properties": {
                  "label": "PERFORMS"
                },
                "label": "PERFORMS",
                "color": "#094c4b",
                "thickness_factor": 1,
                "directed": true
              },
              {
                "id": 254,
                "start": 373,
                "end": 200,
                "properties": {
                  "label": "PERFORMS"
                },
                "label": "PERFORMS",
                "color": "#094c4b",
                "thickness_factor": 1,
                "directed": true
              },
              {
                "id": 265,
                "start": 373,
                "end": 206,
                "properties": {
                  "label": "PERFORMS"
                },
                "label": "PERFORMS",
                "color": "#094c4b",
                "thickness_factor": 1,
                "directed": true
              },
              {
                "id": 267,
                "start": 373,
                "end": 207,
                "properties": {
                  "label": "PERFORMS"
                },
                "label": "PERFORMS",
                "color": "#094c4b",
                "thickness_factor": 1,
                "directed": true
              },
              {
                "id": 268,
                "start": 373,
                "end": 208,
                "properties": {
                  "label": "PERFORMS"
                },
                "label": "PERFORMS",
                "color": "#094c4b",
                "thickness_factor": 1,
                "directed": true
              },
              {
                "id": 270,
                "start": 373,
                "end": 209,
                "properties": {
                  "label": "PERFORMS"
                },
                "label": "PERFORMS",
                "color": "#094c4b",
                "thickness_factor": 1,
                "directed": true
              },
              {
                "id": 271,
                "start": 373,
                "end": 210,
                "properties": {
                  "label": "PERFORMS"
                },
                "label": "PERFORMS",
                "color": "#094c4b",
                "thickness_factor": 1,
                "directed": true
              },
              {
                "id": 272,
                "start": 373,
                "end": 211,
                "properties": {
                  "label": "PERFORMS"
                },
                "label": "PERFORMS",
                "color": "#094c4b",
                "thickness_factor": 1,
                "directed": true
              },
              {
                "id": 273,
                "start": 373,
                "end": 212,
                "properties": {
                  "label": "PERFORMS"
                },
                "label": "PERFORMS",
                "color": "#094c4b",
                "thickness_factor": 1,
                "directed": true
              },
              {
                "id": 274,
                "start": 373,
                "end": 213,
                "properties": {
                  "label": "PERFORMS"
                },
                "label": "PERFORMS",
                "color": "#094c4b",
                "thickness_factor": 1,
                "directed": true
              },
              {
                "id": 275,
                "start": 373,
                "end": 214,
                "properties": {
                  "label": "PERFORMS"
                },
                "label": "PERFORMS",
                "color": "#094c4b",
                "thickness_factor": 1,
                "directed": true
              },
              {
                "id": 276,
                "start": 373,
                "end": 216,
                "properties": {
                  "label": "PERFORMS"
                },
                "label": "PERFORMS",
                "color": "#094c4b",
                "thickness_factor": 1,
                "directed": true
              },
              {
                "id": 277,
                "start": 373,
                "end": 217,
                "properties": {
                  "label": "PERFORMS"
                },
                "label": "PERFORMS",
                "color": "#094c4b",
                "thickness_factor": 1,
                "directed": true
              },
              {
                "id": 279,
                "start": 373,
                "end": 218,
                "properties": {
                  "label": "PERFORMS"
                },
                "label": "PERFORMS",
                "color": "#094c4b",
                "thickness_factor": 1,
                "directed": true
              },
              {
                "id": 280,
                "start": 373,
                "end": 219,
                "properties": {
                  "label": "PERFORMS"
                },
                "label": "PERFORMS",
                "color": "#094c4b",
                "thickness_factor": 1,
                "directed": true
              },
              {
                "id": 281,
                "start": 373,
                "end": 220,
                "properties": {
                  "label": "PERFORMS"
                },
                "label": "PERFORMS",
                "color": "#094c4b",
                "thickness_factor": 1,
                "directed": true
              },
              {
                "id": 282,
                "start": 373,
                "end": 221,
                "properties": {
                  "label": "PERFORMS"
                },
                "label": "PERFORMS",
                "color": "#094c4b",
                "thickness_factor": 1,
                "directed": true
              },
              {
                "id": 286,
                "start": 373,
                "end": 224,
                "properties": {
                  "label": "PERFORMS"
                },
                "label": "PERFORMS",
                "color": "#094c4b",
                "thickness_factor": 1,
                "directed": true
              },
              {
                "id": 352,
                "start": 373,
                "end": 266,
                "properties": {
                  "label": "PERFORMS"
                },
                "label": "PERFORMS",
                "color": "#094c4b",
                "thickness_factor": 1,
                "directed": true
              },
              {
                "id": 353,
                "start": 373,
                "end": 267,
                "properties": {
                  "label": "PERFORMS"
                },
                "label": "PERFORMS",
                "color": "#094c4b",
                "thickness_factor": 1,
                "directed": true
              },
              {
                "id": 354,
                "start": 373,
                "end": 268,
                "properties": {
                  "label": "PERFORMS"
                },
                "label": "PERFORMS",
                "color": "#094c4b",
                "thickness_factor": 1,
                "directed": true
              },
              {
                "id": 355,
                "start": 373,
                "end": 269,
                "properties": {
                  "label": "PERFORMS"
                },
                "label": "PERFORMS",
                "color": "#094c4b",
                "thickness_factor": 1,
                "directed": true
              },
              {
                "id": 357,
                "start": 373,
                "end": 270,
                "properties": {
                  "label": "PERFORMS"
                },
                "label": "PERFORMS",
                "color": "#094c4b",
                "thickness_factor": 1,
                "directed": true
              },
              {
                "id": 358,
                "start": 373,
                "end": 271,
                "properties": {
                  "label": "PERFORMS"
                },
                "label": "PERFORMS",
                "color": "#094c4b",
                "thickness_factor": 1,
                "directed": true
              },
              {
                "id": 359,
                "start": 373,
                "end": 272,
                "properties": {
                  "label": "PERFORMS"
                },
                "label": "PERFORMS",
                "color": "#094c4b",
                "thickness_factor": 1,
                "directed": true
              },
              {
                "id": 360,
                "start": 373,
                "end": 273,
                "properties": {
                  "label": "PERFORMS"
                },
                "label": "PERFORMS",
                "color": "#094c4b",
                "thickness_factor": 1,
                "directed": true
              },
              {
                "id": 361,
                "start": 373,
                "end": 274,
                "properties": {
                  "label": "PERFORMS"
                },
                "label": "PERFORMS",
                "color": "#094c4b",
                "thickness_factor": 1,
                "directed": true
              },
              {
                "id": 362,
                "start": 373,
                "end": 275,
                "properties": {
                  "label": "PERFORMS"
                },
                "label": "PERFORMS",
                "color": "#094c4b",
                "thickness_factor": 1,
                "directed": true
              },
              {
                "id": 363,
                "start": 373,
                "end": 276,
                "properties": {
                  "label": "PERFORMS"
                },
                "label": "PERFORMS",
                "color": "#094c4b",
                "thickness_factor": 1,
                "directed": true
              },
              {
                "id": 365,
                "start": 373,
                "end": 277,
                "properties": {
                  "label": "PERFORMS"
                },
                "label": "PERFORMS",
                "color": "#094c4b",
                "thickness_factor": 1,
                "directed": true
              },
              {
                "id": 366,
                "start": 373,
                "end": 278,
                "properties": {
                  "label": "PERFORMS"
                },
                "label": "PERFORMS",
                "color": "#094c4b",
                "thickness_factor": 1,
                "directed": true
              },
              {
                "id": 368,
                "start": 373,
                "end": 279,
                "properties": {
                  "label": "PERFORMS"
                },
                "label": "PERFORMS",
                "color": "#094c4b",
                "thickness_factor": 1,
                "directed": true
              },
              {
                "id": 370,
                "start": 373,
                "end": 280,
                "properties": {
                  "label": "PERFORMS"
                },
                "label": "PERFORMS",
                "color": "#094c4b",
                "thickness_factor": 1,
                "directed": true
              },
              {
                "id": 371,
                "start": 373,
                "end": 281,
                "properties": {
                  "label": "PERFORMS"
                },
                "label": "PERFORMS",
                "color": "#094c4b",
                "thickness_factor": 1,
                "directed": true
              },
              {
                "id": 134,
                "start": 374,
                "end": 144,
                "properties": {
                  "label": "PERFORMS"
                },
                "label": "PERFORMS",
                "color": "#094c4b",
                "thickness_factor": 1,
                "directed": true
              },
              {
                "id": 409,
                "start": 374,
                "end": 299,
                "properties": {
                  "label": "PERFORMS"
                },
                "label": "PERFORMS",
                "color": "#094c4b",
                "thickness_factor": 1,
                "directed": true
              },
              {
                "id": 310,
                "start": 374,
                "end": 239,
                "properties": {
                  "label": "PERFORMS"
                },
                "label": "PERFORMS",
                "color": "#094c4b",
                "thickness_factor": 1,
                "directed": true
              },
              {
                "id": 305,
                "start": 374,
                "end": 237,
                "properties": {
                  "label": "PERFORMS"
                },
                "label": "PERFORMS",
                "color": "#094c4b",
                "thickness_factor": 1,
                "directed": true
              },
              {
                "id": 299,
                "start": 374,
                "end": 234,
                "properties": {
                  "label": "PERFORMS"
                },
                "label": "PERFORMS",
                "color": "#094c4b",
                "thickness_factor": 1,
                "directed": true
              },
              {
                "id": 293,
                "start": 374,
                "end": 232,
                "properties": {
                  "label": "PERFORMS"
                },
                "label": "PERFORMS",
                "color": "#094c4b",
                "thickness_factor": 1,
                "directed": true
              },
              {
                "id": 292,
                "start": 374,
                "end": 228,
                "properties": {
                  "label": "PERFORMS"
                },
                "label": "PERFORMS",
                "color": "#094c4b",
                "thickness_factor": 1,
                "directed": true
              },
              {
                "id": 290,
                "start": 374,
                "end": 227,
                "properties": {
                  "label": "PERFORMS"
                },
                "label": "PERFORMS",
                "color": "#094c4b",
                "thickness_factor": 1,
                "directed": true
              },
              {
                "id": 288,
                "start": 374,
                "end": 226,
                "properties": {
                  "label": "PERFORMS"
                },
                "label": "PERFORMS",
                "color": "#094c4b",
                "thickness_factor": 1,
                "directed": true
              },
              {
                "id": 249,
                "start": 374,
                "end": 197,
                "properties": {
                  "label": "PERFORMS"
                },
                "label": "PERFORMS",
                "color": "#094c4b",
                "thickness_factor": 1,
                "directed": true
              },
              {
                "id": 246,
                "start": 374,
                "end": 196,
                "properties": {
                  "label": "PERFORMS"
                },
                "label": "PERFORMS",
                "color": "#094c4b",
                "thickness_factor": 1,
                "directed": true
              },
              {
                "id": 238,
                "start": 374,
                "end": 189,
                "properties": {
                  "label": "PERFORMS"
                },
                "label": "PERFORMS",
                "color": "#094c4b",
                "thickness_factor": 1,
                "directed": true
              },
              {
                "id": 235,
                "start": 374,
                "end": 188,
                "properties": {
                  "label": "PERFORMS"
                },
                "label": "PERFORMS",
                "color": "#094c4b",
                "thickness_factor": 1,
                "directed": true
              },
              {
                "id": 207,
                "start": 374,
                "end": 175,
                "properties": {
                  "label": "PERFORMS"
                },
                "label": "PERFORMS",
                "color": "#094c4b",
                "thickness_factor": 1,
                "directed": true
              },
              {
                "id": 158,
                "start": 374,
                "end": 163,
                "properties": {
                  "label": "PERFORMS"
                },
                "label": "PERFORMS",
                "color": "#094c4b",
                "thickness_factor": 1,
                "directed": true
              },
              {
                "id": 142,
                "start": 374,
                "end": 153,
                "properties": {
                  "label": "PERFORMS"
                },
                "label": "PERFORMS",
                "color": "#094c4b",
                "thickness_factor": 1,
                "directed": true
              },
              {
                "id": 141,
                "start": 374,
                "end": 152,
                "properties": {
                  "label": "PERFORMS"
                },
                "label": "PERFORMS",
                "color": "#094c4b",
                "thickness_factor": 1,
                "directed": true
              },
              {
                "id": 139,
                "start": 374,
                "end": 151,
                "properties": {
                  "label": "PERFORMS"
                },
                "label": "PERFORMS",
                "color": "#094c4b",
                "thickness_factor": 1,
                "directed": true
              },
              {
                "id": 138,
                "start": 374,
                "end": 148,
                "properties": {
                  "label": "PERFORMS"
                },
                "label": "PERFORMS",
                "color": "#094c4b",
                "thickness_factor": 1,
                "directed": true
              },
              {
                "id": 137,
                "start": 374,
                "end": 147,
                "properties": {
                  "label": "PERFORMS"
                },
                "label": "PERFORMS",
                "color": "#094c4b",
                "thickness_factor": 1,
                "directed": true
              },
              {
                "id": 136,
                "start": 374,
                "end": 146,
                "properties": {
                  "label": "PERFORMS"
                },
                "label": "PERFORMS",
                "color": "#094c4b",
                "thickness_factor": 1,
                "directed": true
              },
              {
                "id": 135,
                "start": 374,
                "end": 145,
                "properties": {
                  "label": "PERFORMS"
                },
                "label": "PERFORMS",
                "color": "#094c4b",
                "thickness_factor": 1,
                "directed": true
              },
              {
                "id": 534,
                "start": 374,
                "end": 81,
                "properties": {
                  "label": "PERFORMS"
                },
                "label": "PERFORMS",
                "color": "#094c4b",
                "thickness_factor": 1,
                "directed": true
              },
              {
                "id": 536,
                "start": 374,
                "end": 195,
                "properties": {
                  "label": "PERFORMS"
                },
                "label": "PERFORMS",
                "color": "#094c4b",
                "thickness_factor": 1,
                "directed": true
              },
              {
                "id": 535,
                "start": 374,
                "end": 103,
                "properties": {
                  "label": "PERFORMS"
                },
                "label": "PERFORMS",
                "color": "#094c4b",
                "thickness_factor": 1,
                "directed": true
              },
              {
                "id": 542,
                "start": 374,
                "end": 231,
                "properties": {
                  "label": "PERFORMS"
                },
                "label": "PERFORMS",
                "color": "#094c4b",
                "thickness_factor": 1,
                "directed": true
              },
              {
                "id": 540,
                "start": 374,
                "end": 82,
                "properties": {
                  "label": "PERFORMS"
                },
                "label": "PERFORMS",
                "color": "#094c4b",
                "thickness_factor": 1,
                "directed": true
              },
              {
                "id": 541,
                "start": 374,
                "end": 104,
                "properties": {
                  "label": "PERFORMS"
                },
                "label": "PERFORMS",
                "color": "#094c4b",
                "thickness_factor": 1,
                "directed": true
              },
              {
                "id": 549,
                "start": 374,
                "end": 83,
                "properties": {
                  "label": "PERFORMS"
                },
                "label": "PERFORMS",
                "color": "#094c4b",
                "thickness_factor": 1,
                "directed": true
              },
              {
                "id": 551,
                "start": 374,
                "end": 125,
                "properties": {
                  "label": "PERFORMS"
                },
                "label": "PERFORMS",
                "color": "#094c4b",
                "thickness_factor": 1,
                "directed": true
              },
              {
                "id": 550,
                "start": 374,
                "end": 105,
                "properties": {
                  "label": "PERFORMS"
                },
                "label": "PERFORMS",
                "color": "#094c4b",
                "thickness_factor": 1,
                "directed": true
              },
              {
                "id": 558,
                "start": 374,
                "end": 84,
                "properties": {
                  "label": "PERFORMS"
                },
                "label": "PERFORMS",
                "color": "#094c4b",
                "thickness_factor": 1,
                "directed": true
              },
              {
                "id": 0,
                "start": 374,
                "end": 106,
                "properties": {
                  "label": "PERFORMS"
                },
                "label": "PERFORMS",
                "color": "#094c4b",
                "thickness_factor": 1,
                "directed": true
              },
              {
                "id": 1,
                "start": 374,
                "end": 246,
                "properties": {
                  "label": "PERFORMS"
                },
                "label": "PERFORMS",
                "color": "#094c4b",
                "thickness_factor": 1,
                "directed": true
              },
              {
                "id": 560,
                "start": 374,
                "end": 85,
                "properties": {
                  "label": "PERFORMS"
                },
                "label": "PERFORMS",
                "color": "#094c4b",
                "thickness_factor": 1,
                "directed": true
              },
              {
                "id": 2,
                "start": 374,
                "end": 86,
                "properties": {
                  "label": "PERFORMS"
                },
                "label": "PERFORMS",
                "color": "#094c4b",
                "thickness_factor": 1,
                "directed": true
              },
              {
                "id": 4,
                "start": 374,
                "end": 87,
                "properties": {
                  "label": "PERFORMS"
                },
                "label": "PERFORMS",
                "color": "#094c4b",
                "thickness_factor": 1,
                "directed": true
              },
              {
                "id": 5,
                "start": 374,
                "end": 230,
                "properties": {
                  "label": "PERFORMS"
                },
                "label": "PERFORMS",
                "color": "#094c4b",
                "thickness_factor": 1,
                "directed": true
              },
              {
                "id": 8,
                "start": 374,
                "end": 88,
                "properties": {
                  "label": "PERFORMS"
                },
                "label": "PERFORMS",
                "color": "#094c4b",
                "thickness_factor": 1,
                "directed": true
              },
              {
                "id": 9,
                "start": 374,
                "end": 107,
                "properties": {
                  "label": "PERFORMS"
                },
                "label": "PERFORMS",
                "color": "#094c4b",
                "thickness_factor": 1,
                "directed": true
              },
              {
                "id": 10,
                "start": 374,
                "end": 229,
                "properties": {
                  "label": "PERFORMS"
                },
                "label": "PERFORMS",
                "color": "#094c4b",
                "thickness_factor": 1,
                "directed": true
              },
              {
                "id": 17,
                "start": 374,
                "end": 89,
                "properties": {
                  "label": "PERFORMS"
                },
                "label": "PERFORMS",
                "color": "#094c4b",
                "thickness_factor": 1,
                "directed": true
              },
              {
                "id": 18,
                "start": 374,
                "end": 108,
                "properties": {
                  "label": "PERFORMS"
                },
                "label": "PERFORMS",
                "color": "#094c4b",
                "thickness_factor": 1,
                "directed": true
              },
              {
                "id": 21,
                "start": 374,
                "end": 90,
                "properties": {
                  "label": "PERFORMS"
                },
                "label": "PERFORMS",
                "color": "#094c4b",
                "thickness_factor": 1,
                "directed": true
              },
              {
                "id": 22,
                "start": 374,
                "end": 109,
                "properties": {
                  "label": "PERFORMS"
                },
                "label": "PERFORMS",
                "color": "#094c4b",
                "thickness_factor": 1,
                "directed": true
              },
              {
                "id": 23,
                "start": 374,
                "end": 248,
                "properties": {
                  "label": "PERFORMS"
                },
                "label": "PERFORMS",
                "color": "#094c4b",
                "thickness_factor": 1,
                "directed": true
              },
              {
                "id": 27,
                "start": 374,
                "end": 91,
                "properties": {
                  "label": "PERFORMS"
                },
                "label": "PERFORMS",
                "color": "#094c4b",
                "thickness_factor": 1,
                "directed": true
              },
              {
                "id": 28,
                "start": 374,
                "end": 110,
                "properties": {
                  "label": "PERFORMS"
                },
                "label": "PERFORMS",
                "color": "#094c4b",
                "thickness_factor": 1,
                "directed": true
              },
              {
                "id": 33,
                "start": 374,
                "end": 92,
                "properties": {
                  "label": "PERFORMS"
                },
                "label": "PERFORMS",
                "color": "#094c4b",
                "thickness_factor": 1,
                "directed": true
              },
              {
                "id": 34,
                "start": 374,
                "end": 111,
                "properties": {
                  "label": "PERFORMS"
                },
                "label": "PERFORMS",
                "color": "#094c4b",
                "thickness_factor": 1,
                "directed": true
              },
              {
                "id": 37,
                "start": 374,
                "end": 93,
                "properties": {
                  "label": "PERFORMS"
                },
                "label": "PERFORMS",
                "color": "#094c4b",
                "thickness_factor": 1,
                "directed": true
              },
              {
                "id": 38,
                "start": 374,
                "end": 112,
                "properties": {
                  "label": "PERFORMS"
                },
                "label": "PERFORMS",
                "color": "#094c4b",
                "thickness_factor": 1,
                "directed": true
              },
              {
                "id": 43,
                "start": 374,
                "end": 94,
                "properties": {
                  "label": "PERFORMS"
                },
                "label": "PERFORMS",
                "color": "#094c4b",
                "thickness_factor": 1,
                "directed": true
              },
              {
                "id": 45,
                "start": 374,
                "end": 95,
                "properties": {
                  "label": "PERFORMS"
                },
                "label": "PERFORMS",
                "color": "#094c4b",
                "thickness_factor": 1,
                "directed": true
              },
              {
                "id": 46,
                "start": 374,
                "end": 181,
                "properties": {
                  "label": "PERFORMS"
                },
                "label": "PERFORMS",
                "color": "#094c4b",
                "thickness_factor": 1,
                "directed": true
              },
              {
                "id": 51,
                "start": 374,
                "end": 96,
                "properties": {
                  "label": "PERFORMS"
                },
                "label": "PERFORMS",
                "color": "#094c4b",
                "thickness_factor": 1,
                "directed": true
              },
              {
                "id": 72,
                "start": 374,
                "end": 115,
                "properties": {
                  "label": "PERFORMS"
                },
                "label": "PERFORMS",
                "color": "#094c4b",
                "thickness_factor": 1,
                "directed": true
              },
              {
                "id": 87,
                "start": 374,
                "end": 119,
                "properties": {
                  "label": "PERFORMS"
                },
                "label": "PERFORMS",
                "color": "#094c4b",
                "thickness_factor": 1,
                "directed": true
              },
              {
                "id": 100,
                "start": 374,
                "end": 124,
                "properties": {
                  "label": "PERFORMS"
                },
                "label": "PERFORMS",
                "color": "#094c4b",
                "thickness_factor": 1,
                "directed": true
              },
              {
                "id": 119,
                "start": 374,
                "end": 130,
                "properties": {
                  "label": "PERFORMS"
                },
                "label": "PERFORMS",
                "color": "#094c4b",
                "thickness_factor": 1,
                "directed": true
              },
              {
                "id": 120,
                "start": 374,
                "end": 131,
                "properties": {
                  "label": "PERFORMS"
                },
                "label": "PERFORMS",
                "color": "#094c4b",
                "thickness_factor": 1,
                "directed": true
              },
              {
                "id": 123,
                "start": 374,
                "end": 133,
                "properties": {
                  "label": "PERFORMS"
                },
                "label": "PERFORMS",
                "color": "#094c4b",
                "thickness_factor": 1,
                "directed": true
              },
              {
                "id": 124,
                "start": 374,
                "end": 134,
                "properties": {
                  "label": "PERFORMS"
                },
                "label": "PERFORMS",
                "color": "#094c4b",
                "thickness_factor": 1,
                "directed": true
              },
              {
                "id": 125,
                "start": 374,
                "end": 135,
                "properties": {
                  "label": "PERFORMS"
                },
                "label": "PERFORMS",
                "color": "#094c4b",
                "thickness_factor": 1,
                "directed": true
              },
              {
                "id": 126,
                "start": 374,
                "end": 136,
                "properties": {
                  "label": "PERFORMS"
                },
                "label": "PERFORMS",
                "color": "#094c4b",
                "thickness_factor": 1,
                "directed": true
              },
              {
                "id": 127,
                "start": 374,
                "end": 137,
                "properties": {
                  "label": "PERFORMS"
                },
                "label": "PERFORMS",
                "color": "#094c4b",
                "thickness_factor": 1,
                "directed": true
              },
              {
                "id": 128,
                "start": 374,
                "end": 138,
                "properties": {
                  "label": "PERFORMS"
                },
                "label": "PERFORMS",
                "color": "#094c4b",
                "thickness_factor": 1,
                "directed": true
              },
              {
                "id": 129,
                "start": 374,
                "end": 139,
                "properties": {
                  "label": "PERFORMS"
                },
                "label": "PERFORMS",
                "color": "#094c4b",
                "thickness_factor": 1,
                "directed": true
              },
              {
                "id": 130,
                "start": 374,
                "end": 140,
                "properties": {
                  "label": "PERFORMS"
                },
                "label": "PERFORMS",
                "color": "#094c4b",
                "thickness_factor": 1,
                "directed": true
              },
              {
                "id": 131,
                "start": 374,
                "end": 141,
                "properties": {
                  "label": "PERFORMS"
                },
                "label": "PERFORMS",
                "color": "#094c4b",
                "thickness_factor": 1,
                "directed": true
              },
              {
                "id": 132,
                "start": 374,
                "end": 142,
                "properties": {
                  "label": "PERFORMS"
                },
                "label": "PERFORMS",
                "color": "#094c4b",
                "thickness_factor": 1,
                "directed": true
              },
              {
                "id": 133,
                "start": 374,
                "end": 143,
                "properties": {
                  "label": "PERFORMS"
                },
                "label": "PERFORMS",
                "color": "#094c4b",
                "thickness_factor": 1,
                "directed": true
              },
              {
                "id": 481,
                "start": 375,
                "end": 333,
                "properties": {
                  "label": "PERFORMS"
                },
                "label": "PERFORMS",
                "color": "#094c4b",
                "thickness_factor": 1,
                "directed": true
              },
              {
                "id": 472,
                "start": 375,
                "end": 329,
                "properties": {
                  "label": "PERFORMS"
                },
                "label": "PERFORMS",
                "color": "#094c4b",
                "thickness_factor": 1,
                "directed": true
              },
              {
                "id": 433,
                "start": 375,
                "end": 312,
                "properties": {
                  "label": "PERFORMS"
                },
                "label": "PERFORMS",
                "color": "#094c4b",
                "thickness_factor": 1,
                "directed": true
              },
              {
                "id": 398,
                "start": 375,
                "end": 296,
                "properties": {
                  "label": "PERFORMS"
                },
                "label": "PERFORMS",
                "color": "#094c4b",
                "thickness_factor": 1,
                "directed": true
              },
              {
                "id": 388,
                "start": 375,
                "end": 290,
                "properties": {
                  "label": "PERFORMS"
                },
                "label": "PERFORMS",
                "color": "#094c4b",
                "thickness_factor": 1,
                "directed": true
              },
              {
                "id": 318,
                "start": 375,
                "end": 241,
                "properties": {
                  "label": "PERFORMS"
                },
                "label": "PERFORMS",
                "color": "#094c4b",
                "thickness_factor": 1,
                "directed": true
              },
              {
                "id": 304,
                "start": 375,
                "end": 236,
                "properties": {
                  "label": "PERFORMS"
                },
                "label": "PERFORMS",
                "color": "#094c4b",
                "thickness_factor": 1,
                "directed": true
              },
              {
                "id": 233,
                "start": 375,
                "end": 186,
                "properties": {
                  "label": "PERFORMS"
                },
                "label": "PERFORMS",
                "color": "#094c4b",
                "thickness_factor": 1,
                "directed": true
              },
              {
                "id": 234,
                "start": 375,
                "end": 187,
                "properties": {
                  "label": "PERFORMS"
                },
                "label": "PERFORMS",
                "color": "#094c4b",
                "thickness_factor": 1,
                "directed": true
              },
              {
                "id": 92,
                "start": 375,
                "end": 122,
                "properties": {
                  "label": "PERFORMS"
                },
                "label": "PERFORMS",
                "color": "#094c4b",
                "thickness_factor": 1,
                "directed": true
              },
              {
                "id": 56,
                "start": 375,
                "end": 98,
                "properties": {
                  "label": "PERFORMS"
                },
                "label": "PERFORMS",
                "color": "#094c4b",
                "thickness_factor": 1,
                "directed": true
              },
              {
                "id": 532,
                "start": 375,
                "end": 80,
                "properties": {
                  "label": "PERFORMS"
                },
                "label": "PERFORMS",
                "color": "#094c4b",
                "thickness_factor": 1,
                "directed": true
              },
              {
                "id": 533,
                "start": 375,
                "end": 160,
                "properties": {
                  "label": "PERFORMS"
                },
                "label": "PERFORMS",
                "color": "#094c4b",
                "thickness_factor": 1,
                "directed": true
              },
              {
                "id": 350,
                "start": 376,
                "end": 263,
                "properties": {
                  "label": "PERFORMS"
                },
                "label": "PERFORMS",
                "color": "#094c4b",
                "thickness_factor": 1,
                "directed": true
              },
              {
                "id": 346,
                "start": 376,
                "end": 259,
                "properties": {
                  "label": "PERFORMS"
                },
                "label": "PERFORMS",
                "color": "#094c4b",
                "thickness_factor": 1,
                "directed": true
              },
              {
                "id": 287,
                "start": 376,
                "end": 225,
                "properties": {
                  "label": "PERFORMS"
                },
                "label": "PERFORMS",
                "color": "#094c4b",
                "thickness_factor": 1,
                "directed": true
              },
              {
                "id": 467,
                "start": 377,
                "end": 327,
                "properties": {
                  "label": "PERFORMS"
                },
                "label": "PERFORMS",
                "color": "#094c4b",
                "thickness_factor": 1,
                "directed": true
              },
              {
                "id": 435,
                "start": 377,
                "end": 313,
                "properties": {
                  "label": "PERFORMS"
                },
                "label": "PERFORMS",
                "color": "#094c4b",
                "thickness_factor": 1,
                "directed": true
              },
              {
                "id": 430,
                "start": 377,
                "end": 311,
                "properties": {
                  "label": "PERFORMS"
                },
                "label": "PERFORMS",
                "color": "#094c4b",
                "thickness_factor": 1,
                "directed": true
              },
              {
                "id": 349,
                "start": 377,
                "end": 260,
                "properties": {
                  "label": "PERFORMS"
                },
                "label": "PERFORMS",
                "color": "#094c4b",
                "thickness_factor": 1,
                "directed": true
              },
              {
                "id": 341,
                "start": 377,
                "end": 253,
                "properties": {
                  "label": "PERFORMS"
                },
                "label": "PERFORMS",
                "color": "#094c4b",
                "thickness_factor": 1,
                "directed": true
              },
              {
                "id": 338,
                "start": 377,
                "end": 252,
                "properties": {
                  "label": "PERFORMS"
                },
                "label": "PERFORMS",
                "color": "#094c4b",
                "thickness_factor": 1,
                "directed": true
              },
              {
                "id": 339,
                "start": 377,
                "end": 255,
                "properties": {
                  "label": "PERFORMS"
                },
                "label": "PERFORMS",
                "color": "#094c4b",
                "thickness_factor": 1,
                "directed": true
              },
              {
                "id": 323,
                "start": 377,
                "end": 243,
                "properties": {
                  "label": "PERFORMS"
                },
                "label": "PERFORMS",
                "color": "#094c4b",
                "thickness_factor": 1,
                "directed": true
              },
              {
                "id": 320,
                "start": 377,
                "end": 242,
                "properties": {
                  "label": "PERFORMS"
                },
                "label": "PERFORMS",
                "color": "#094c4b",
                "thickness_factor": 1,
                "directed": true
              },
              {
                "id": 309,
                "start": 377,
                "end": 238,
                "properties": {
                  "label": "PERFORMS"
                },
                "label": "PERFORMS",
                "color": "#094c4b",
                "thickness_factor": 1,
                "directed": true
              },
              {
                "id": 256,
                "start": 377,
                "end": 201,
                "properties": {
                  "label": "PERFORMS"
                },
                "label": "PERFORMS",
                "color": "#094c4b",
                "thickness_factor": 1,
                "directed": true
              },
              {
                "id": 250,
                "start": 377,
                "end": 197,
                "properties": {
                  "label": "PERFORMS"
                },
                "label": "PERFORMS",
                "color": "#094c4b",
                "thickness_factor": 1,
                "directed": true
              },
              {
                "id": 247,
                "start": 377,
                "end": 196,
                "properties": {
                  "label": "PERFORMS"
                },
                "label": "PERFORMS",
                "color": "#094c4b",
                "thickness_factor": 1,
                "directed": true
              },
              {
                "id": 241,
                "start": 377,
                "end": 190,
                "properties": {
                  "label": "PERFORMS"
                },
                "label": "PERFORMS",
                "color": "#094c4b",
                "thickness_factor": 1,
                "directed": true
              },
              {
                "id": 239,
                "start": 377,
                "end": 189,
                "properties": {
                  "label": "PERFORMS"
                },
                "label": "PERFORMS",
                "color": "#094c4b",
                "thickness_factor": 1,
                "directed": true
              },
              {
                "id": 209,
                "start": 377,
                "end": 176,
                "properties": {
                  "label": "PERFORMS"
                },
                "label": "PERFORMS",
                "color": "#094c4b",
                "thickness_factor": 1,
                "directed": true
              },
              {
                "id": 181,
                "start": 377,
                "end": 167,
                "properties": {
                  "label": "PERFORMS"
                },
                "label": "PERFORMS",
                "color": "#094c4b",
                "thickness_factor": 1,
                "directed": true
              },
              {
                "id": 174,
                "start": 377,
                "end": 166,
                "properties": {
                  "label": "PERFORMS"
                },
                "label": "PERFORMS",
                "color": "#094c4b",
                "thickness_factor": 1,
                "directed": true
              },
              {
                "id": 175,
                "start": 377,
                "end": 265,
                "properties": {
                  "label": "PERFORMS"
                },
                "label": "PERFORMS",
                "color": "#094c4b",
                "thickness_factor": 1,
                "directed": true
              },
              {
                "id": 167,
                "start": 377,
                "end": 165,
                "properties": {
                  "label": "PERFORMS"
                },
                "label": "PERFORMS",
                "color": "#094c4b",
                "thickness_factor": 1,
                "directed": true
              },
              {
                "id": 163,
                "start": 377,
                "end": 164,
                "properties": {
                  "label": "PERFORMS"
                },
                "label": "PERFORMS",
                "color": "#094c4b",
                "thickness_factor": 1,
                "directed": true
              },
              {
                "id": 146,
                "start": 377,
                "end": 156,
                "properties": {
                  "label": "PERFORMS"
                },
                "label": "PERFORMS",
                "color": "#094c4b",
                "thickness_factor": 1,
                "directed": true
              },
              {
                "id": 112,
                "start": 377,
                "end": 155,
                "properties": {
                  "label": "PERFORMS"
                },
                "label": "PERFORMS",
                "color": "#094c4b",
                "thickness_factor": 1,
                "directed": true
              },
              {
                "id": 111,
                "start": 377,
                "end": 129,
                "properties": {
                  "label": "PERFORMS"
                },
                "label": "PERFORMS",
                "color": "#094c4b",
                "thickness_factor": 1,
                "directed": true
              },
              {
                "id": 99,
                "start": 377,
                "end": 199,
                "properties": {
                  "label": "PERFORMS"
                },
                "label": "PERFORMS",
                "color": "#094c4b",
                "thickness_factor": 1,
                "directed": true
              },
              {
                "id": 98,
                "start": 377,
                "end": 184,
                "properties": {
                  "label": "PERFORMS"
                },
                "label": "PERFORMS",
                "color": "#094c4b",
                "thickness_factor": 1,
                "directed": true
              },
              {
                "id": 97,
                "start": 377,
                "end": 123,
                "properties": {
                  "label": "PERFORMS"
                },
                "label": "PERFORMS",
                "color": "#094c4b",
                "thickness_factor": 1,
                "directed": true
              },
              {
                "id": 90,
                "start": 377,
                "end": 121,
                "properties": {
                  "label": "PERFORMS"
                },
                "label": "PERFORMS",
                "color": "#094c4b",
                "thickness_factor": 1,
                "directed": true
              },
              {
                "id": 63,
                "start": 377,
                "end": 102,
                "properties": {
                  "label": "PERFORMS"
                },
                "label": "PERFORMS",
                "color": "#094c4b",
                "thickness_factor": 1,
                "directed": true
              },
              {
                "id": 64,
                "start": 377,
                "end": 126,
                "properties": {
                  "label": "PERFORMS"
                },
                "label": "PERFORMS",
                "color": "#094c4b",
                "thickness_factor": 1,
                "directed": true
              },
              {
                "id": 3,
                "start": 377,
                "end": 86,
                "properties": {
                  "label": "PERFORMS"
                },
                "label": "PERFORMS",
                "color": "#094c4b",
                "thickness_factor": 1,
                "directed": true
              },
              {
                "id": 386,
                "start": 378,
                "end": 289,
                "properties": {
                  "label": "PERFORMS"
                },
                "label": "PERFORMS",
                "color": "#094c4b",
                "thickness_factor": 1,
                "directed": true
              },
              {
                "id": 381,
                "start": 378,
                "end": 286,
                "properties": {
                  "label": "PERFORMS"
                },
                "label": "PERFORMS",
                "color": "#094c4b",
                "thickness_factor": 1,
                "directed": true
              },
              {
                "id": 322,
                "start": 378,
                "end": 243,
                "properties": {
                  "label": "PERFORMS"
                },
                "label": "PERFORMS",
                "color": "#094c4b",
                "thickness_factor": 1,
                "directed": true
              },
              {
                "id": 317,
                "start": 378,
                "end": 240,
                "properties": {
                  "label": "PERFORMS"
                },
                "label": "PERFORMS",
                "color": "#094c4b",
                "thickness_factor": 1,
                "directed": true
              },
              {
                "id": 264,
                "start": 378,
                "end": 205,
                "properties": {
                  "label": "PERFORMS"
                },
                "label": "PERFORMS",
                "color": "#094c4b",
                "thickness_factor": 1,
                "directed": true
              },
              {
                "id": 259,
                "start": 378,
                "end": 202,
                "properties": {
                  "label": "PERFORMS"
                },
                "label": "PERFORMS",
                "color": "#094c4b",
                "thickness_factor": 1,
                "directed": true
              },
              {
                "id": 245,
                "start": 378,
                "end": 194,
                "properties": {
                  "label": "PERFORMS"
                },
                "label": "PERFORMS",
                "color": "#094c4b",
                "thickness_factor": 1,
                "directed": true
              },
              {
                "id": 244,
                "start": 378,
                "end": 193,
                "properties": {
                  "label": "PERFORMS"
                },
                "label": "PERFORMS",
                "color": "#094c4b",
                "thickness_factor": 1,
                "directed": true
              },
              {
                "id": 243,
                "start": 378,
                "end": 192,
                "properties": {
                  "label": "PERFORMS"
                },
                "label": "PERFORMS",
                "color": "#094c4b",
                "thickness_factor": 1,
                "directed": true
              },
              {
                "id": 242,
                "start": 378,
                "end": 191,
                "properties": {
                  "label": "PERFORMS"
                },
                "label": "PERFORMS",
                "color": "#094c4b",
                "thickness_factor": 1,
                "directed": true
              },
              {
                "id": 71,
                "start": 378,
                "end": 114,
                "properties": {
                  "label": "PERFORMS"
                },
                "label": "PERFORMS",
                "color": "#094c4b",
                "thickness_factor": 1,
                "directed": true
              },
              {
                "id": 462,
                "start": 379,
                "end": 325,
                "properties": {
                  "label": "PERFORMS"
                },
                "label": "PERFORMS",
                "color": "#094c4b",
                "thickness_factor": 1,
                "directed": true
              },
              {
                "id": 463,
                "start": 379,
                "end": 332,
                "properties": {
                  "label": "PERFORMS"
                },
                "label": "PERFORMS",
                "color": "#094c4b",
                "thickness_factor": 1,
                "directed": true
              },
              {
                "id": 412,
                "start": 379,
                "end": 300,
                "properties": {
                  "label": "PERFORMS"
                },
                "label": "PERFORMS",
                "color": "#094c4b",
                "thickness_factor": 1,
                "directed": true
              },
              {
                "id": 351,
                "start": 379,
                "end": 264,
                "properties": {
                  "label": "PERFORMS"
                },
                "label": "PERFORMS",
                "color": "#094c4b",
                "thickness_factor": 1,
                "directed": true
              },
              {
                "id": 327,
                "start": 379,
                "end": 245,
                "properties": {
                  "label": "PERFORMS"
                },
                "label": "PERFORMS",
                "color": "#094c4b",
                "thickness_factor": 1,
                "directed": true
              },
              {
                "id": 226,
                "start": 379,
                "end": 183,
                "properties": {
                  "label": "PERFORMS"
                },
                "label": "PERFORMS",
                "color": "#094c4b",
                "thickness_factor": 1,
                "directed": true
              },
              {
                "id": 156,
                "start": 379,
                "end": 161,
                "properties": {
                  "label": "PERFORMS"
                },
                "label": "PERFORMS",
                "color": "#094c4b",
                "thickness_factor": 1,
                "directed": true
              },
              {
                "id": 157,
                "start": 379,
                "end": 162,
                "properties": {
                  "label": "PERFORMS"
                },
                "label": "PERFORMS",
                "color": "#094c4b",
                "thickness_factor": 1,
                "directed": true
              },
              {
                "id": 147,
                "start": 379,
                "end": 157,
                "properties": {
                  "label": "PERFORMS"
                },
                "label": "PERFORMS",
                "color": "#094c4b",
                "thickness_factor": 1,
                "directed": true
              },
              {
                "id": 88,
                "start": 379,
                "end": 120,
                "properties": {
                  "label": "PERFORMS"
                },
                "label": "PERFORMS",
                "color": "#094c4b",
                "thickness_factor": 1,
                "directed": true
              },
              {
                "id": 60,
                "start": 379,
                "end": 101,
                "properties": {
                  "label": "PERFORMS"
                },
                "label": "PERFORMS",
                "color": "#094c4b",
                "thickness_factor": 1,
                "directed": true
              },
              {
                "id": 59,
                "start": 379,
                "end": 100,
                "properties": {
                  "label": "PERFORMS"
                },
                "label": "PERFORMS",
                "color": "#094c4b",
                "thickness_factor": 1,
                "directed": true
              },
              {
                "id": 58,
                "start": 379,
                "end": 99,
                "properties": {
                  "label": "PERFORMS"
                },
                "label": "PERFORMS",
                "color": "#094c4b",
                "thickness_factor": 1,
                "directed": true
              },
              {
                "id": 13,
                "start": 379,
                "end": 229,
                "properties": {
                  "label": "PERFORMS"
                },
                "label": "PERFORMS",
                "color": "#094c4b",
                "thickness_factor": 1,
                "directed": true
              },
              {
                "id": 12,
                "start": 379,
                "end": 107,
                "properties": {
                  "label": "PERFORMS"
                },
                "label": "PERFORMS",
                "color": "#094c4b",
                "thickness_factor": 1,
                "directed": true
              },
              {
                "id": 11,
                "start": 379,
                "end": 88,
                "properties": {
                  "label": "PERFORMS"
                },
                "label": "PERFORMS",
                "color": "#094c4b",
                "thickness_factor": 1,
                "directed": true
              },
              {
                "id": 468,
                "start": 380,
                "end": 327,
                "properties": {
                  "label": "PERFORMS"
                },
                "label": "PERFORMS",
                "color": "#094c4b",
                "thickness_factor": 1,
                "directed": true
              },
              {
                "id": 195,
                "start": 380,
                "end": 250,
                "properties": {
                  "label": "PERFORMS"
                },
                "label": "PERFORMS",
                "color": "#094c4b",
                "thickness_factor": 1,
                "directed": true
              },
              {
                "id": 194,
                "start": 380,
                "end": 170,
                "properties": {
                  "label": "PERFORMS"
                },
                "label": "PERFORMS",
                "color": "#094c4b",
                "thickness_factor": 1,
                "directed": true
              },
              {
                "id": 188,
                "start": 381,
                "end": 169,
                "properties": {
                  "label": "PERFORMS"
                },
                "label": "PERFORMS",
                "color": "#094c4b",
                "thickness_factor": 1,
                "directed": true
              },
              {
                "id": 291,
                "start": 382,
                "end": 227,
                "properties": {
                  "label": "PERFORMS"
                },
                "label": "PERFORMS",
                "color": "#094c4b",
                "thickness_factor": 1,
                "directed": true
              },
              {
                "id": 289,
                "start": 382,
                "end": 226,
                "properties": {
                  "label": "PERFORMS"
                },
                "label": "PERFORMS",
                "color": "#094c4b",
                "thickness_factor": 1,
                "directed": true
              },
              {
                "id": 52,
                "start": 382,
                "end": 96,
                "properties": {
                  "label": "PERFORMS"
                },
                "label": "PERFORMS",
                "color": "#094c4b",
                "thickness_factor": 1,
                "directed": true
              },
              {
                "id": 537,
                "start": 382,
                "end": 81,
                "properties": {
                  "label": "PERFORMS"
                },
                "label": "PERFORMS",
                "color": "#094c4b",
                "thickness_factor": 1,
                "directed": true
              },
              {
                "id": 538,
                "start": 382,
                "end": 103,
                "properties": {
                  "label": "PERFORMS"
                },
                "label": "PERFORMS",
                "color": "#094c4b",
                "thickness_factor": 1,
                "directed": true
              },
              {
                "id": 539,
                "start": 382,
                "end": 195,
                "properties": {
                  "label": "PERFORMS"
                },
                "label": "PERFORMS",
                "color": "#094c4b",
                "thickness_factor": 1,
                "directed": true
              },
              {
                "id": 434,
                "start": 383,
                "end": 313,
                "properties": {
                  "label": "PERFORMS"
                },
                "label": "PERFORMS",
                "color": "#094c4b",
                "thickness_factor": 1,
                "directed": true
              },
              {
                "id": 432,
                "start": 383,
                "end": 312,
                "properties": {
                  "label": "PERFORMS"
                },
                "label": "PERFORMS",
                "color": "#094c4b",
                "thickness_factor": 1,
                "directed": true
              },
              {
                "id": 93,
                "start": 383,
                "end": 122,
                "properties": {
                  "label": "PERFORMS"
                },
                "label": "PERFORMS",
                "color": "#094c4b",
                "thickness_factor": 1,
                "directed": true
              },
              {
                "id": 7,
                "start": 383,
                "end": 230,
                "properties": {
                  "label": "PERFORMS"
                },
                "label": "PERFORMS",
                "color": "#094c4b",
                "thickness_factor": 1,
                "directed": true
              },
              {
                "id": 6,
                "start": 383,
                "end": 87,
                "properties": {
                  "label": "PERFORMS"
                },
                "label": "PERFORMS",
                "color": "#094c4b",
                "thickness_factor": 1,
                "directed": true
              },
              {
                "id": 240,
                "start": 384,
                "end": 190,
                "properties": {
                  "label": "PERFORMS"
                },
                "label": "PERFORMS",
                "color": "#094c4b",
                "thickness_factor": 1,
                "directed": true
              },
              {
                "id": 347,
                "start": 385,
                "end": 259,
                "properties": {
                  "label": "PERFORMS"
                },
                "label": "PERFORMS",
                "color": "#094c4b",
                "thickness_factor": 1,
                "directed": true
              },
              {
                "id": 49,
                "start": 386,
                "end": 95,
                "properties": {
                  "label": "PERFORMS"
                },
                "label": "PERFORMS",
                "color": "#094c4b",
                "thickness_factor": 1,
                "directed": true
              },
              {
                "id": 50,
                "start": 386,
                "end": 181,
                "properties": {
                  "label": "PERFORMS"
                },
                "label": "PERFORMS",
                "color": "#094c4b",
                "thickness_factor": 1,
                "directed": true
              },
              {
                "id": 478,
                "start": 387,
                "end": 331,
                "properties": {
                  "label": "PERFORMS"
                },
                "label": "PERFORMS",
                "color": "#094c4b",
                "thickness_factor": 1,
                "directed": true
              },
              {
                "id": 356,
                "start": 387,
                "end": 269,
                "properties": {
                  "label": "PERFORMS"
                },
                "label": "PERFORMS",
                "color": "#094c4b",
                "thickness_factor": 1,
                "directed": true
              },
              {
                "id": 216,
                "start": 387,
                "end": 178,
                "properties": {
                  "label": "PERFORMS"
                },
                "label": "PERFORMS",
                "color": "#094c4b",
                "thickness_factor": 1,
                "directed": true
              },
              {
                "id": 217,
                "start": 387,
                "end": 249,
                "properties": {
                  "label": "PERFORMS"
                },
                "label": "PERFORMS",
                "color": "#094c4b",
                "thickness_factor": 1,
                "directed": true
              },
              {
                "id": 387,
                "start": 388,
                "end": 290,
                "properties": {
                  "label": "PERFORMS"
                },
                "label": "PERFORMS",
                "color": "#094c4b",
                "thickness_factor": 1,
                "directed": true
              },
              {
                "id": 314,
                "start": 388,
                "end": 240,
                "properties": {
                  "label": "PERFORMS"
                },
                "label": "PERFORMS",
                "color": "#094c4b",
                "thickness_factor": 1,
                "directed": true
              },
              {
                "id": 476,
                "start": 389,
                "end": 330,
                "properties": {
                  "label": "PERFORMS"
                },
                "label": "PERFORMS",
                "color": "#094c4b",
                "thickness_factor": 1,
                "directed": true
              },
              {
                "id": 453,
                "start": 390,
                "end": 320,
                "properties": {
                  "label": "PERFORMS"
                },
                "label": "PERFORMS",
                "color": "#094c4b",
                "thickness_factor": 1,
                "directed": true
              },
              {
                "id": 232,
                "start": 390,
                "end": 187,
                "properties": {
                  "label": "PERFORMS"
                },
                "label": "PERFORMS",
                "color": "#094c4b",
                "thickness_factor": 1,
                "directed": true
              },
              {
                "id": 231,
                "start": 390,
                "end": 186,
                "properties": {
                  "label": "PERFORMS"
                },
                "label": "PERFORMS",
                "color": "#094c4b",
                "thickness_factor": 1,
                "directed": true
              },
              {
                "id": 159,
                "start": 390,
                "end": 163,
                "properties": {
                  "label": "PERFORMS"
                },
                "label": "PERFORMS",
                "color": "#094c4b",
                "thickness_factor": 1,
                "directed": true
              },
              {
                "id": 442,
                "start": 391,
                "end": 317,
                "properties": {
                  "label": "PERFORMS"
                },
                "label": "PERFORMS",
                "color": "#094c4b",
                "thickness_factor": 1,
                "directed": true
              },
              {
                "id": 441,
                "start": 391,
                "end": 315,
                "properties": {
                  "label": "PERFORMS"
                },
                "label": "PERFORMS",
                "color": "#094c4b",
                "thickness_factor": 1,
                "directed": true
              },
              {
                "id": 437,
                "start": 391,
                "end": 314,
                "properties": {
                  "label": "PERFORMS"
                },
                "label": "PERFORMS",
                "color": "#094c4b",
                "thickness_factor": 1,
                "directed": true
              },
              {
                "id": 438,
                "start": 391,
                "end": 316,
                "properties": {
                  "label": "PERFORMS"
                },
                "label": "PERFORMS",
                "color": "#094c4b",
                "thickness_factor": 1,
                "directed": true
              },
              {
                "id": 203,
                "start": 391,
                "end": 172,
                "properties": {
                  "label": "PERFORMS"
                },
                "label": "PERFORMS",
                "color": "#094c4b",
                "thickness_factor": 1,
                "directed": true
              },
              {
                "id": 148,
                "start": 391,
                "end": 158,
                "properties": {
                  "label": "PERFORMS"
                },
                "label": "PERFORMS",
                "color": "#094c4b",
                "thickness_factor": 1,
                "directed": true
              },
              {
                "id": 85,
                "start": 391,
                "end": 118,
                "properties": {
                  "label": "PERFORMS"
                },
                "label": "PERFORMS",
                "color": "#094c4b",
                "thickness_factor": 1,
                "directed": true
              },
              {
                "id": 83,
                "start": 391,
                "end": 117,
                "properties": {
                  "label": "PERFORMS"
                },
                "label": "PERFORMS",
                "color": "#094c4b",
                "thickness_factor": 1,
                "directed": true
              },
              {
                "id": 531,
                "start": 391,
                "end": 160,
                "properties": {
                  "label": "PERFORMS"
                },
                "label": "PERFORMS",
                "color": "#094c4b",
                "thickness_factor": 1,
                "directed": true
              },
              {
                "id": 530,
                "start": 391,
                "end": 80,
                "properties": {
                  "label": "PERFORMS"
                },
                "label": "PERFORMS",
                "color": "#094c4b",
                "thickness_factor": 1,
                "directed": true
              },
              {
                "id": 337,
                "start": 392,
                "end": 255,
                "properties": {
                  "label": "PERFORMS"
                },
                "label": "PERFORMS",
                "color": "#094c4b",
                "thickness_factor": 1,
                "directed": true
              },
              {
                "id": 336,
                "start": 392,
                "end": 252,
                "properties": {
                  "label": "PERFORMS"
                },
                "label": "PERFORMS",
                "color": "#094c4b",
                "thickness_factor": 1,
                "directed": true
              },
              {
                "id": 330,
                "start": 392,
                "end": 256,
                "properties": {
                  "label": "PERFORMS"
                },
                "label": "PERFORMS",
                "color": "#094c4b",
                "thickness_factor": 1,
                "directed": true
              },
              {
                "id": 328,
                "start": 392,
                "end": 251,
                "properties": {
                  "label": "PERFORMS"
                },
                "label": "PERFORMS",
                "color": "#094c4b",
                "thickness_factor": 1,
                "directed": true
              },
              {
                "id": 331,
                "start": 392,
                "end": 295,
                "properties": {
                  "label": "PERFORMS"
                },
                "label": "PERFORMS",
                "color": "#094c4b",
                "thickness_factor": 1,
                "directed": true
              },
              {
                "id": 329,
                "start": 392,
                "end": 254,
                "properties": {
                  "label": "PERFORMS"
                },
                "label": "PERFORMS",
                "color": "#094c4b",
                "thickness_factor": 1,
                "directed": true
              },
              {
                "id": 151,
                "start": 396,
                "end": 159,
                "properties": {
                  "label": "PERFORMS"
                },
                "label": "PERFORMS",
                "color": "#094c4b",
                "thickness_factor": 1,
                "directed": true
              },
              {
                "id": 479,
                "start": 397,
                "end": 331,
                "properties": {
                  "label": "PERFORMS"
                },
                "label": "PERFORMS",
                "color": "#094c4b",
                "thickness_factor": 1,
                "directed": true
              },
              {
                "id": 451,
                "start": 397,
                "end": 319,
                "properties": {
                  "label": "PERFORMS"
                },
                "label": "PERFORMS",
                "color": "#094c4b",
                "thickness_factor": 1,
                "directed": true
              },
              {
                "id": 449,
                "start": 397,
                "end": 318,
                "properties": {
                  "label": "PERFORMS"
                },
                "label": "PERFORMS",
                "color": "#094c4b",
                "thickness_factor": 1,
                "directed": true
              },
              {
                "id": 372,
                "start": 397,
                "end": 281,
                "properties": {
                  "label": "PERFORMS"
                },
                "label": "PERFORMS",
                "color": "#094c4b",
                "thickness_factor": 1,
                "directed": true
              },
              {
                "id": 201,
                "start": 397,
                "end": 172,
                "properties": {
                  "label": "PERFORMS"
                },
                "label": "PERFORMS",
                "color": "#094c4b",
                "thickness_factor": 1,
                "directed": true
              },
              {
                "id": 196,
                "start": 397,
                "end": 171,
                "properties": {
                  "label": "PERFORMS"
                },
                "label": "PERFORMS",
                "color": "#094c4b",
                "thickness_factor": 1,
                "directed": true
              },
              {
                "id": 471,
                "start": 398,
                "end": 329,
                "properties": {
                  "label": "PERFORMS"
                },
                "label": "PERFORMS",
                "color": "#094c4b",
                "thickness_factor": 1,
                "directed": true
              }
            ],
            "_graph_layout": {
              "algorithm": "organic",
              "options": {}
            },
            "_highlight": [],
            "_model_module": "yfiles-jupyter-graphs",
            "_model_module_version": "^1.4.5",
            "_model_name": "GraphModel",
            "_neighborhood": {},
            "_nodes": [
              {
                "id": 0,
                "properties": {
                  "name": "Doja Cat",
                  "feats": "1,669,029,614",
                  "lead_streams": "11,973,361,879",
                  "label": "Artist"
                },
                "label": "Doja Cat",
                "color": "#17bebb",
                "styles": {
                  "color": "#FF8C00",
                  "shape": "ellipse",
                  "label": "name"
                },
                "scale_factor": 1,
                "type": null,
                "position": [
                  0,
                  0
                ]
              },
              {
                "id": 241,
                "properties": {
                  "explicit": false,
                  "duration_ms": 236880,
                  "year": 2020,
                  "album": "NOW That's What I Call Music, Vol. 75",
                  "name": "In Your eyes (Remix)",
                  "danceability": 0.675,
                  "energy": 0.726,
                  "label": "Track"
                },
                "label": "Track",
                "color": "#17bebb",
                "styles": {
                  "color": "#40E0D0",
                  "shape": "ellipse",
                  "label": "label"
                },
                "scale_factor": 1,
                "type": null,
                "position": [
                  0,
                  0
                ]
              },
              {
                "id": 1,
                "properties": {
                  "name": "Camila Cabello",
                  "feats": "2,188,298,508",
                  "lead_streams": "11,822,254,851",
                  "label": "Artist"
                },
                "label": "Camila Cabello",
                "color": "#17bebb",
                "styles": {
                  "color": "#FF8C00",
                  "shape": "ellipse",
                  "label": "name"
                },
                "scale_factor": 1,
                "type": null,
                "position": [
                  0,
                  0
                ]
              },
              {
                "id": 239,
                "properties": {
                  "duration_ms": 173455,
                  "explicit": false,
                  "year": 2019,
                  "album": "South of the Border (feat. Camila Cabello & Cardi B) [Sam Feldt Remix]",
                  "name": "South of the Border (feat. Camila Cabello & Cardi B) - Sam Feldt Remix",
                  "danceability": 0.789,
                  "energy": 0.858,
                  "label": "Track"
                },
                "label": "Track",
                "color": "#17bebb",
                "styles": {
                  "color": "#40E0D0",
                  "shape": "ellipse",
                  "label": "label"
                },
                "scale_factor": 1,
                "type": null,
                "position": [
                  0,
                  0
                ]
              },
              {
                "id": 237,
                "properties": {
                  "duration_ms": 188230,
                  "explicit": false,
                  "year": 2019,
                  "album": "South of the Border (feat. Camila Cabello & Cardi B) [Andy Jarvis Remix]",
                  "name": "South of the Border (feat. Camila Cabello & Cardi B) - Andy Jarvis Remix",
                  "danceability": 0.805,
                  "energy": 0.835,
                  "label": "Track"
                },
                "label": "Track",
                "color": "#17bebb",
                "styles": {
                  "color": "#40E0D0",
                  "shape": "ellipse",
                  "label": "label"
                },
                "scale_factor": 1,
                "type": null,
                "position": [
                  0,
                  0
                ]
              },
              {
                "id": 234,
                "properties": {
                  "duration_ms": 195924,
                  "explicit": false,
                  "year": 2019,
                  "album": "South of the Border (feat. Camila Cabello & Cardi B) [Cheat Codes Remix]",
                  "name": "South of the Border (feat. Camila Cabello & Cardi B) - Cheat Codes Remix",
                  "danceability": 0.845,
                  "energy": 0.7659999999999999,
                  "label": "Track"
                },
                "label": "Track",
                "color": "#17bebb",
                "styles": {
                  "color": "#40E0D0",
                  "shape": "ellipse",
                  "label": "label"
                },
                "scale_factor": 1,
                "type": null,
                "position": [
                  0,
                  0
                ]
              },
              {
                "id": 232,
                "properties": {
                  "duration_ms": 194885,
                  "explicit": false,
                  "year": 2019,
                  "album": "South of the Border (feat. Camila Cabello) [Acoustic]",
                  "name": "South of the Border (feat. Camila Cabello) - Acoustic",
                  "danceability": 0.735,
                  "energy": 0.6859999999999999,
                  "label": "Track"
                },
                "label": "Track",
                "color": "#17bebb",
                "styles": {
                  "color": "#40E0D0",
                  "shape": "ellipse",
                  "label": "label"
                },
                "scale_factor": 1,
                "type": null,
                "position": [
                  0,
                  0
                ]
              },
              {
                "id": 82,
                "properties": {
                  "explicit": false,
                  "duration_ms": 204467,
                  "year": 2019,
                  "album": "No.6 Collaborations Project",
                  "name": "South of the Border (feat. Camila Cabello & Cardi B)",
                  "danceability": 0.857,
                  "energy": 0.621,
                  "label": "Track"
                },
                "label": "Track",
                "color": "#17bebb",
                "styles": {
                  "color": "#40E0D0",
                  "shape": "ellipse",
                  "label": "label"
                },
                "scale_factor": 1,
                "type": null,
                "position": [
                  0,
                  0
                ]
              },
              {
                "id": 104,
                "properties": {
                  "explicit": false,
                  "duration_ms": 204467,
                  "year": 2019,
                  "album": "No.6 Collaborations Project",
                  "name": "South of the Border (feat. Camila Cabello & Cardi B)",
                  "danceability": 0.857,
                  "energy": 0.621,
                  "label": "Track"
                },
                "label": "Track",
                "color": "#17bebb",
                "styles": {
                  "color": "#40E0D0",
                  "shape": "ellipse",
                  "label": "label"
                },
                "scale_factor": 1,
                "type": null,
                "position": [
                  0,
                  0
                ]
              },
              {
                "id": 231,
                "properties": {
                  "duration_ms": 204467,
                  "explicit": false,
                  "year": 2019,
                  "album": "South of the Border (feat. Camila Cabello & Cardi B)",
                  "name": "South of the Border (feat. Camila Cabello & Cardi B)",
                  "danceability": 0.857,
                  "energy": 0.621,
                  "label": "Track"
                },
                "label": "Track",
                "color": "#17bebb",
                "styles": {
                  "color": "#40E0D0",
                  "shape": "ellipse",
                  "label": "label"
                },
                "scale_factor": 1,
                "type": null,
                "position": [
                  0,
                  0
                ]
              },
              {
                "id": 2,
                "properties": {
                  "name": "Nicky Jam",
                  "feats": "9,052,517,716",
                  "lead_streams": "9,861,155,500",
                  "label": "Artist"
                },
                "label": "Nicky Jam",
                "color": "#17bebb",
                "styles": {
                  "color": "#FF8C00",
                  "shape": "ellipse",
                  "label": "name"
                },
                "scale_factor": 1,
                "type": null,
                "position": [
                  0,
                  0
                ]
              },
              {
                "id": 306,
                "properties": {
                  "explicit": true,
                  "duration_ms": 202240,
                  "year": 2020,
                  "album": "LAS QUE NO IBAN A SALIR",
                  "name": "BAD CON NICKY",
                  "danceability": 0.59,
                  "energy": 0.7290000000000001,
                  "label": "Track"
                },
                "label": "Track",
                "color": "#17bebb",
                "styles": {
                  "color": "#40E0D0",
                  "shape": "ellipse",
                  "label": "label"
                },
                "scale_factor": 1,
                "type": null,
                "position": [
                  0,
                  0
                ]
              },
              {
                "id": 179,
                "properties": {
                  "duration_ms": 256493,
                  "explicit": false,
                  "year": 2018,
                  "album": "Satisfacción",
                  "name": "Satisfacción",
                  "danceability": 0.622,
                  "energy": 0.503,
                  "label": "Track"
                },
                "label": "Track",
                "color": "#17bebb",
                "styles": {
                  "color": "#40E0D0",
                  "shape": "ellipse",
                  "label": "label"
                },
                "scale_factor": 1,
                "type": null,
                "position": [
                  0,
                  0
                ]
              },
              {
                "id": 169,
                "properties": {
                  "explicit": true,
                  "duration_ms": 417920,
                  "year": 2018,
                  "album": "Te Boté (Remix)",
                  "name": "Te Boté - Remix",
                  "danceability": 0.903,
                  "energy": 0.675,
                  "label": "Track"
                },
                "label": "Track",
                "color": "#17bebb",
                "styles": {
                  "color": "#40E0D0",
                  "shape": "ellipse",
                  "label": "label"
                },
                "scale_factor": 1,
                "type": null,
                "position": [
                  0,
                  0
                ]
              },
              {
                "id": 3,
                "properties": {
                  "name": "Lil Baby",
                  "feats": "8,736,714,891",
                  "lead_streams": "9,670,090,585",
                  "label": "Artist"
                },
                "label": "Lil Baby",
                "color": "#17bebb",
                "styles": {
                  "color": "#FF8C00",
                  "shape": "ellipse",
                  "label": "name"
                },
                "scale_factor": 1,
                "type": null,
                "position": [
                  0,
                  0
                ]
              },
              {
                "id": 317,
                "properties": {
                  "explicit": false,
                  "duration_ms": 314761,
                  "year": 2020,
                  "album": "High Off Life",
                  "name": "Life Is Good (feat. Drake, DaBaby & Lil Baby) - Remix",
                  "danceability": 0.684,
                  "energy": 0.552,
                  "label": "Track"
                },
                "label": "Track",
                "color": "#17bebb",
                "styles": {
                  "color": "#40E0D0",
                  "shape": "ellipse",
                  "label": "label"
                },
                "scale_factor": 1,
                "type": null,
                "position": [
                  0,
                  0
                ]
              },
              {
                "id": 315,
                "properties": {
                  "explicit": true,
                  "duration_ms": 314761,
                  "year": 2020,
                  "album": "High Off Life",
                  "name": "Life Is Good (feat. Drake, DaBaby & Lil Baby) - Remix",
                  "danceability": 0.79,
                  "energy": 0.5660000000000001,
                  "label": "Track"
                },
                "label": "Track",
                "color": "#17bebb",
                "styles": {
                  "color": "#40E0D0",
                  "shape": "ellipse",
                  "label": "label"
                },
                "scale_factor": 1,
                "type": null,
                "position": [
                  0,
                  0
                ]
              },
              {
                "id": 4,
                "properties": {
                  "name": "Myke Towers",
                  "feats": "4,145,835,762",
                  "lead_streams": "9,667,486,409",
                  "label": "Artist"
                },
                "label": "Myke Towers",
                "color": "#17bebb",
                "styles": {
                  "color": "#FF8C00",
                  "shape": "ellipse",
                  "label": "name"
                },
                "scale_factor": 1,
                "type": null,
                "position": [
                  0,
                  0
                ]
              },
              {
                "id": 282,
                "properties": {
                  "explicit": true,
                  "duration_ms": 190207,
                  "year": 2020,
                  "album": "YHLQMDLG",
                  "name": "Puesto Pa' Guerrial",
                  "danceability": 0.867,
                  "energy": 0.6859999999999999,
                  "label": "Track"
                },
                "label": "Track",
                "color": "#17bebb",
                "styles": {
                  "color": "#40E0D0",
                  "shape": "ellipse",
                  "label": "label"
                },
                "scale_factor": 1,
                "type": null,
                "position": [
                  0,
                  0
                ]
              },
              {
                "id": 5,
                "properties": {
                  "name": "DaBaby",
                  "feats": "4,757,336,377",
                  "lead_streams": "9,326,324,913",
                  "label": "Artist"
                },
                "label": "DaBaby",
                "color": "#17bebb",
                "styles": {
                  "color": "#FF8C00",
                  "shape": "ellipse",
                  "label": "name"
                },
                "scale_factor": 1,
                "type": null,
                "position": [
                  0,
                  0
                ]
              },
              {
                "id": 6,
                "properties": {
                  "name": "21 Savage",
                  "feats": "6,019,152,179",
                  "lead_streams": "9,289,820,129",
                  "label": "Artist"
                },
                "label": "21 Savage",
                "color": "#17bebb",
                "styles": {
                  "color": "#FF8C00",
                  "shape": "ellipse",
                  "label": "name"
                },
                "scale_factor": 1,
                "type": null,
                "position": [
                  0,
                  0
                ]
              },
              {
                "id": 321,
                "properties": {
                  "duration_ms": 286232,
                  "explicit": true,
                  "year": 2020,
                  "album": "SAVAGE MODE II [CHOPPED NOT SLOPPED]",
                  "name": "Mr. Right Now [ChopNotSlop Remix] (feat. Drake)",
                  "danceability": 0.69,
                  "energy": 0.6779999999999999,
                  "label": "Track"
                },
                "label": "Track",
                "color": "#17bebb",
                "styles": {
                  "color": "#40E0D0",
                  "shape": "ellipse",
                  "label": "label"
                },
                "scale_factor": 1,
                "type": null,
                "position": [
                  0,
                  0
                ]
              },
              {
                "id": 298,
                "properties": {
                  "duration_ms": 193839,
                  "explicit": false,
                  "year": 2020,
                  "album": "SAVAGE MODE II",
                  "name": "Mr. Right Now (feat. Drake)",
                  "danceability": 0.631,
                  "energy": 0.68,
                  "label": "Track"
                },
                "label": "Track",
                "color": "#17bebb",
                "styles": {
                  "color": "#40E0D0",
                  "shape": "ellipse",
                  "label": "label"
                },
                "scale_factor": 1,
                "type": null,
                "position": [
                  0,
                  0
                ]
              },
              {
                "id": 297,
                "properties": {
                  "duration_ms": 193839,
                  "explicit": true,
                  "year": 2020,
                  "album": "SAVAGE MODE II",
                  "name": "Mr. Right Now (feat. Drake)",
                  "danceability": 0.647,
                  "energy": 0.667,
                  "label": "Track"
                },
                "label": "Track",
                "color": "#17bebb",
                "styles": {
                  "color": "#40E0D0",
                  "shape": "ellipse",
                  "label": "label"
                },
                "scale_factor": 1,
                "type": null,
                "position": [
                  0,
                  0
                ]
              },
              {
                "id": 322,
                "properties": {
                  "explicit": true,
                  "duration_ms": 193839,
                  "year": 2020,
                  "album": "SAVAGE MODE II [CHOPPED NOT SLOPPED]",
                  "name": "Mr. Right Now (feat. Drake)",
                  "danceability": 0.647,
                  "energy": 0.667,
                  "label": "Track"
                },
                "label": "Track",
                "color": "#17bebb",
                "styles": {
                  "color": "#40E0D0",
                  "shape": "ellipse",
                  "label": "label"
                },
                "scale_factor": 1,
                "type": null,
                "position": [
                  0,
                  0
                ]
              },
              {
                "id": 159,
                "properties": {
                  "duration_ms": 237160,
                  "explicit": true,
                  "year": 2017,
                  "album": "Krippy Kush (feat. 21 Savage & Rvssian) [Remix]",
                  "name": "Krippy Kush (feat. 21 Savage & Rvssian) - Remix",
                  "danceability": 0.743,
                  "energy": 0.6709999999999999,
                  "label": "Track"
                },
                "label": "Track",
                "color": "#17bebb",
                "styles": {
                  "color": "#40E0D0",
                  "shape": "ellipse",
                  "label": "label"
                },
                "scale_factor": 1,
                "type": null,
                "position": [
                  0,
                  0
                ]
              },
              {
                "id": 7,
                "properties": {
                  "name": "Cardi B",
                  "feats": "6,163,998,179",
                  "lead_streams": "9,066,363,643",
                  "label": "Artist"
                },
                "label": "Cardi B",
                "color": "#17bebb",
                "styles": {
                  "color": "#FF8C00",
                  "shape": "ellipse",
                  "label": "name"
                },
                "scale_factor": 1,
                "type": null,
                "position": [
                  0,
                  0
                ]
              },
              {
                "id": 170,
                "properties": {
                  "explicit": false,
                  "duration_ms": 253390,
                  "year": 2018,
                  "album": "Invasion of Privacy",
                  "name": "I Like It",
                  "danceability": 0.8140000000000001,
                  "energy": 0.721,
                  "label": "Track"
                },
                "label": "Track",
                "color": "#17bebb",
                "styles": {
                  "color": "#40E0D0",
                  "shape": "ellipse",
                  "label": "label"
                },
                "scale_factor": 1,
                "type": null,
                "position": [
                  0,
                  0
                ]
              },
              {
                "id": 250,
                "properties": {
                  "explicit": true,
                  "duration_ms": 253390,
                  "year": 2018,
                  "album": "Invasion of Privacy",
                  "name": "I Like It",
                  "danceability": 0.816,
                  "energy": 0.726,
                  "label": "Track"
                },
                "label": "Track",
                "color": "#17bebb",
                "styles": {
                  "color": "#40E0D0",
                  "shape": "ellipse",
                  "label": "label"
                },
                "scale_factor": 1,
                "type": null,
                "position": [
                  0,
                  0
                ]
              },
              {
                "id": 8,
                "properties": {
                  "name": "Sech",
                  "feats": "2,900,320,709",
                  "lead_streams": "9,011,436,885",
                  "label": "Artist"
                },
                "label": "Sech",
                "color": "#17bebb",
                "styles": {
                  "color": "#FF8C00",
                  "shape": "ellipse",
                  "label": "name"
                },
                "scale_factor": 1,
                "type": null,
                "position": [
                  0,
                  0
                ]
              },
              {
                "id": 276,
                "properties": {
                  "duration_ms": 210607,
                  "explicit": true,
                  "year": 2020,
                  "album": "YHLQMDLG",
                  "name": "Ignorantes",
                  "danceability": 0.85,
                  "energy": 0.536,
                  "label": "Track"
                },
                "label": "Track",
                "color": "#17bebb",
                "styles": {
                  "color": "#40E0D0",
                  "shape": "ellipse",
                  "label": "label"
                },
                "scale_factor": 1,
                "type": null,
                "position": [
                  0,
                  0
                ]
              },
              {
                "id": 9,
                "properties": {
                  "name": "Lil Wayne",
                  "feats": "14,160,244,567",
                  "lead_streams": "8,970,128,688",
                  "label": "Artist"
                },
                "label": "Lil Wayne",
                "color": "#17bebb",
                "styles": {
                  "color": "#FF8C00",
                  "shape": "ellipse",
                  "label": "name"
                },
                "scale_factor": 1,
                "type": null,
                "position": [
                  0,
                  0
                ]
              },
              {
                "id": 155,
                "properties": {
                  "explicit": false,
                  "duration_ms": 288877,
                  "year": 2017,
                  "album": "Grateful",
                  "name": "I'm the One (feat. Justin Bieber, Quavo, Chance the Rapper & Lil Wayne)",
                  "danceability": 0.6609999999999999,
                  "energy": 0.6709999999999999,
                  "label": "Track"
                },
                "label": "Track",
                "color": "#17bebb",
                "styles": {
                  "color": "#40E0D0",
                  "shape": "ellipse",
                  "label": "label"
                },
                "scale_factor": 1,
                "type": null,
                "position": [
                  0,
                  0
                ]
              },
              {
                "id": 129,
                "properties": {
                  "explicit": true,
                  "duration_ms": 288877,
                  "year": 2017,
                  "album": "Grateful",
                  "name": "I'm the One (feat. Justin Bieber, Quavo, Chance the Rapper & Lil Wayne)",
                  "danceability": 0.599,
                  "energy": 0.667,
                  "label": "Track"
                },
                "label": "Track",
                "color": "#17bebb",
                "styles": {
                  "color": "#40E0D0",
                  "shape": "ellipse",
                  "label": "label"
                },
                "scale_factor": 1,
                "type": null,
                "position": [
                  0,
                  0
                ]
              },
              {
                "id": 10,
                "properties": {
                  "name": "Young Thug",
                  "feats": "9,576,540,270",
                  "lead_streams": "8,956,248,071",
                  "label": "Artist"
                },
                "label": "Young Thug",
                "color": "#17bebb",
                "styles": {
                  "color": "#FF8C00",
                  "shape": "ellipse",
                  "label": "name"
                },
                "scale_factor": 1,
                "type": null,
                "position": [
                  0,
                  0
                ]
              },
              {
                "id": 313,
                "properties": {
                  "explicit": true,
                  "duration_ms": 349933,
                  "year": 2015,
                  "album": "Rodeo (Expanded Edition)",
                  "name": "Maria I'm Drunk (feat. Justin Bieber & Young Thug)",
                  "danceability": 0.648,
                  "energy": 0.631,
                  "label": "Track"
                },
                "label": "Track",
                "color": "#17bebb",
                "styles": {
                  "color": "#40E0D0",
                  "shape": "ellipse",
                  "label": "label"
                },
                "scale_factor": 1,
                "type": null,
                "position": [
                  0,
                  0
                ]
              },
              {
                "id": 240,
                "properties": {
                  "explicit": true,
                  "duration_ms": 229160,
                  "year": 2017,
                  "album": "Funk Wav Bounces Vol.1",
                  "name": "Heatstroke (feat. Young Thug, Pharrell Williams & Ariana Grande)",
                  "danceability": 0.784,
                  "energy": 0.728,
                  "label": "Track"
                },
                "label": "Track",
                "color": "#17bebb",
                "styles": {
                  "color": "#40E0D0",
                  "shape": "ellipse",
                  "label": "label"
                },
                "scale_factor": 1,
                "type": null,
                "position": [
                  0,
                  0
                ]
              },
              {
                "id": 108,
                "properties": {
                  "explicit": false,
                  "duration_ms": 150787,
                  "year": 2019,
                  "album": "No.6 Collaborations Project",
                  "name": "Feels (feat. Young Thug & J Hus)",
                  "danceability": 0.665,
                  "energy": 0.68,
                  "label": "Track"
                },
                "label": "Track",
                "color": "#17bebb",
                "styles": {
                  "color": "#40E0D0",
                  "shape": "ellipse",
                  "label": "label"
                },
                "scale_factor": 1,
                "type": null,
                "position": [
                  0,
                  0
                ]
              },
              {
                "id": 89,
                "properties": {
                  "explicit": false,
                  "duration_ms": 150787,
                  "year": 2019,
                  "album": "No.6 Collaborations Project",
                  "name": "Feels (feat. Young Thug & J Hus)",
                  "danceability": 0.665,
                  "energy": 0.68,
                  "label": "Track"
                },
                "label": "Track",
                "color": "#17bebb",
                "styles": {
                  "color": "#40E0D0",
                  "shape": "ellipse",
                  "label": "label"
                },
                "scale_factor": 1,
                "type": null,
                "position": [
                  0,
                  0
                ]
              },
              {
                "id": 11,
                "properties": {
                  "name": "Major Lazer",
                  "feats": "614,069,138",
                  "lead_streams": "8,758,754,488",
                  "label": "Artist"
                },
                "label": "Major Lazer",
                "color": "#17bebb",
                "styles": {
                  "color": "#FF8C00",
                  "shape": "ellipse",
                  "label": "name"
                },
                "scale_factor": 1,
                "type": null,
                "position": [
                  0,
                  0
                ]
              },
              {
                "id": 202,
                "properties": {
                  "explicit": false,
                  "duration_ms": 229751,
                  "year": 2018,
                  "album": "Major Lazer Essentials",
                  "name": "All My Love - Remix",
                  "danceability": 0.435,
                  "energy": 0.8909999999999999,
                  "label": "Track"
                },
                "label": "Track",
                "color": "#17bebb",
                "styles": {
                  "color": "#40E0D0",
                  "shape": "ellipse",
                  "label": "label"
                },
                "scale_factor": 1,
                "type": null,
                "position": [
                  0,
                  0
                ]
              },
              {
                "id": 201,
                "properties": {
                  "explicit": false,
                  "duration_ms": 185352,
                  "year": 2018,
                  "album": "Major Lazer Essentials",
                  "name": "Cold Water",
                  "danceability": 0.608,
                  "energy": 0.7979999999999999,
                  "label": "Track"
                },
                "label": "Track",
                "color": "#17bebb",
                "styles": {
                  "color": "#40E0D0",
                  "shape": "ellipse",
                  "label": "label"
                },
                "scale_factor": 1,
                "type": null,
                "position": [
                  0,
                  0
                ]
              },
              {
                "id": 12,
                "properties": {
                  "name": "Diplo",
                  "feats": "1,757,002,014",
                  "lead_streams": "8,496,096,848",
                  "label": "Artist"
                },
                "label": "Diplo",
                "color": "#17bebb",
                "styles": {
                  "color": "#FF8C00",
                  "shape": "ellipse",
                  "label": "name"
                },
                "scale_factor": 1,
                "type": null,
                "position": [
                  0,
                  0
                ]
              },
              {
                "id": 208,
                "properties": {
                  "duration_ms": 170509,
                  "explicit": true,
                  "year": 2018,
                  "album": "X 100PRE",
                  "name": "200 Mph",
                  "danceability": 0.85,
                  "energy": 0.5,
                  "label": "Track"
                },
                "label": "Track",
                "color": "#17bebb",
                "styles": {
                  "color": "#40E0D0",
                  "shape": "ellipse",
                  "label": "label"
                },
                "scale_factor": 1,
                "type": null,
                "position": [
                  0,
                  0
                ]
              },
              {
                "id": 167,
                "properties": {
                  "duration_ms": 151826,
                  "explicit": false,
                  "year": 2015,
                  "album": "Where Are Ü Now (with Justin Bieber) [Remixes]",
                  "name": "Where Are Ü Now (with Justin Bieber) - Ember Island Remix",
                  "danceability": 0.267,
                  "energy": 0.248,
                  "label": "Track"
                },
                "label": "Track",
                "color": "#17bebb",
                "styles": {
                  "color": "#40E0D0",
                  "shape": "ellipse",
                  "label": "label"
                },
                "scale_factor": 1,
                "type": null,
                "position": [
                  0,
                  0
                ]
              },
              {
                "id": 265,
                "properties": {
                  "duration_ms": 206197,
                  "explicit": false,
                  "year": 2016,
                  "album": "Big Beat Remixed I",
                  "name": "Where Are Ü Now (with Justin Bieber) - Marshmello Remix",
                  "danceability": 0.5720000000000001,
                  "energy": 0.863,
                  "label": "Track"
                },
                "label": "Track",
                "color": "#17bebb",
                "styles": {
                  "color": "#40E0D0",
                  "shape": "ellipse",
                  "label": "label"
                },
                "scale_factor": 1,
                "type": null,
                "position": [
                  0,
                  0
                ]
              },
              {
                "id": 166,
                "properties": {
                  "duration_ms": 206197,
                  "explicit": false,
                  "year": 2015,
                  "album": "Where Are Ü Now (with Justin Bieber) [Remixes]",
                  "name": "Where Are Ü Now (with Justin Bieber) - Marshmello Remix",
                  "danceability": 0.5720000000000001,
                  "energy": 0.863,
                  "label": "Track"
                },
                "label": "Track",
                "color": "#17bebb",
                "styles": {
                  "color": "#40E0D0",
                  "shape": "ellipse",
                  "label": "label"
                },
                "scale_factor": 1,
                "type": null,
                "position": [
                  0,
                  0
                ]
              },
              {
                "id": 165,
                "properties": {
                  "duration_ms": 238548,
                  "explicit": false,
                  "year": 2015,
                  "album": "Where Are Ü Now (with Justin Bieber) [Remixes]",
                  "name": "Where Are Ü Now (with Justin Bieber) - Rustie Remix",
                  "danceability": 0.499,
                  "energy": 0.8059999999999999,
                  "label": "Track"
                },
                "label": "Track",
                "color": "#17bebb",
                "styles": {
                  "color": "#40E0D0",
                  "shape": "ellipse",
                  "label": "label"
                },
                "scale_factor": 1,
                "type": null,
                "position": [
                  0,
                  0
                ]
              },
              {
                "id": 164,
                "properties": {
                  "duration_ms": 306667,
                  "explicit": false,
                  "year": 2015,
                  "album": "Where Are Ü Now (with Justin Bieber) [Remixes]",
                  "name": "Where Are Ü Now (with Justin Bieber) - Kaskade Remix",
                  "danceability": 0.726,
                  "energy": 0.7929999999999999,
                  "label": "Track"
                },
                "label": "Track",
                "color": "#17bebb",
                "styles": {
                  "color": "#40E0D0",
                  "shape": "ellipse",
                  "label": "label"
                },
                "scale_factor": 1,
                "type": null,
                "position": [
                  0,
                  0
                ]
              },
              {
                "id": 156,
                "properties": {
                  "duration_ms": 250286,
                  "explicit": false,
                  "year": 2015,
                  "album": "Skrillex and Diplo present Jack Ü",
                  "name": "Where Are Ü Now (with Justin Bieber)",
                  "danceability": 0.4320000000000001,
                  "energy": 0.7809999999999999,
                  "label": "Track"
                },
                "label": "Track",
                "color": "#17bebb",
                "styles": {
                  "color": "#40E0D0",
                  "shape": "ellipse",
                  "label": "label"
                },
                "scale_factor": 1,
                "type": null,
                "position": [
                  0,
                  0
                ]
              },
              {
                "id": 13,
                "properties": {
                  "name": "P!nk",
                  "feats": "663,799,734",
                  "lead_streams": "8,243,802,966",
                  "label": "Artist"
                },
                "label": "P!nk",
                "color": "#17bebb",
                "styles": {
                  "color": "#FF8C00",
                  "shape": "ellipse",
                  "label": "name"
                },
                "scale_factor": 1,
                "type": null,
                "position": [
                  0,
                  0
                ]
              },
              {
                "id": 99,
                "properties": {
                  "duration_ms": 264173,
                  "explicit": true,
                  "year": 2012,
                  "album": "The Truth About Love",
                  "name": "Here Comes the Weekend (feat. Eminem)",
                  "danceability": 0.7090000000000001,
                  "energy": 0.794,
                  "label": "Track"
                },
                "label": "Track",
                "color": "#17bebb",
                "styles": {
                  "color": "#40E0D0",
                  "shape": "ellipse",
                  "label": "label"
                },
                "scale_factor": 1,
                "type": null,
                "position": [
                  0,
                  0
                ]
              },
              {
                "id": 14,
                "properties": {
                  "name": "A$AP Rocky",
                  "feats": "5,156,511,594",
                  "lead_streams": "7,788,610,912",
                  "label": "Artist"
                },
                "label": "A$AP Rocky",
                "color": "#17bebb",
                "styles": {
                  "color": "#FF8C00",
                  "shape": "ellipse",
                  "label": "name"
                },
                "scale_factor": 1,
                "type": null,
                "position": [
                  0,
                  0
                ]
              },
              {
                "id": 330,
                "properties": {
                  "duration_ms": 233787,
                  "explicit": true,
                  "year": 2013,
                  "album": "LONG.LIVE.A$AP (Deluxe Version)",
                  "name": "F**kin' Problems (feat. Drake, 2 Chainz & Kendrick Lamar)",
                  "danceability": 0.853,
                  "energy": 0.693,
                  "label": "Track"
                },
                "label": "Track",
                "color": "#17bebb",
                "styles": {
                  "color": "#40E0D0",
                  "shape": "ellipse",
                  "label": "label"
                },
                "scale_factor": 1,
                "type": null,
                "position": [
                  0,
                  0
                ]
              },
              {
                "id": 15,
                "properties": {
                  "name": "A Boogie Wit da Hoodie",
                  "feats": "3,249,718,029",
                  "lead_streams": "7,634,446,872",
                  "label": "Artist"
                },
                "label": "A Boogie Wit da Hoodie",
                "color": "#17bebb",
                "styles": {
                  "color": "#FF8C00",
                  "shape": "ellipse",
                  "label": "name"
                },
                "scale_factor": 1,
                "type": null,
                "position": [
                  0,
                  0
                ]
              },
              {
                "id": 112,
                "properties": {
                  "explicit": false,
                  "duration_ms": 212307,
                  "year": 2019,
                  "album": "No.6 Collaborations Project",
                  "name": "1000 Nights (feat. Meek Mill & A Boogie Wit da Hoodie)",
                  "danceability": 0.778,
                  "energy": 0.59,
                  "label": "Track"
                },
                "label": "Track",
                "color": "#17bebb",
                "styles": {
                  "color": "#40E0D0",
                  "shape": "ellipse",
                  "label": "label"
                },
                "scale_factor": 1,
                "type": null,
                "position": [
                  0,
                  0
                ]
              },
              {
                "id": 93,
                "properties": {
                  "explicit": false,
                  "duration_ms": 212307,
                  "year": 2019,
                  "album": "No.6 Collaborations Project",
                  "name": "1000 Nights (feat. Meek Mill & A Boogie Wit da Hoodie)",
                  "danceability": 0.778,
                  "energy": 0.589,
                  "label": "Track"
                },
                "label": "Track",
                "color": "#17bebb",
                "styles": {
                  "color": "#40E0D0",
                  "shape": "ellipse",
                  "label": "label"
                },
                "scale_factor": 1,
                "type": null,
                "position": [
                  0,
                  0
                ]
              },
              {
                "id": 16,
                "properties": {
                  "name": "SZA",
                  "feats": "2,147,963,882",
                  "lead_streams": "7,269,204,057",
                  "label": "Artist"
                },
                "label": "SZA",
                "color": "#17bebb",
                "styles": {
                  "color": "#FF8C00",
                  "shape": "ellipse",
                  "label": "name"
                },
                "scale_factor": 1,
                "type": null,
                "position": [
                  0,
                  0
                ]
              },
              {
                "id": 122,
                "properties": {
                  "duration_ms": 211267,
                  "explicit": false,
                  "year": 2019,
                  "album": "For The Throne (Music Inspired by the HBO Series Game of Thrones)",
                  "name": "Power is Power (feat. The Weeknd & Travis Scott)",
                  "danceability": 0.507,
                  "energy": 0.644,
                  "label": "Track"
                },
                "label": "Track",
                "color": "#17bebb",
                "styles": {
                  "color": "#40E0D0",
                  "shape": "ellipse",
                  "label": "label"
                },
                "scale_factor": 1,
                "type": null,
                "position": [
                  0,
                  0
                ]
              },
              {
                "id": 17,
                "properties": {
                  "name": "DJ Khaled",
                  "feats": "195,727,208",
                  "lead_streams": "7,262,608,327",
                  "label": "Artist"
                },
                "label": "DJ Khaled",
                "color": "#17bebb",
                "styles": {
                  "color": "#FF8C00",
                  "shape": "ellipse",
                  "label": "name"
                },
                "scale_factor": 1,
                "type": null,
                "position": [
                  0,
                  0
                ]
              },
              {
                "id": 258,
                "properties": {
                  "duration_ms": 200221,
                  "explicit": true,
                  "year": 2020,
                  "album": "POPSTAR (feat. Drake)",
                  "name": "POPSTAR (feat. Drake)",
                  "danceability": 0.8,
                  "energy": 0.56,
                  "label": "Track"
                },
                "label": "Track",
                "color": "#17bebb",
                "styles": {
                  "color": "#40E0D0",
                  "shape": "ellipse",
                  "label": "label"
                },
                "scale_factor": 1,
                "type": null,
                "position": [
                  0,
                  0
                ]
              },
              {
                "id": 257,
                "properties": {
                  "duration_ms": 218902,
                  "explicit": true,
                  "year": 2020,
                  "album": "GREECE (feat. Drake)",
                  "name": "GREECE (feat. Drake)",
                  "danceability": 0.695,
                  "energy": 0.3429999999999999,
                  "label": "Track"
                },
                "label": "Track",
                "color": "#17bebb",
                "styles": {
                  "color": "#40E0D0",
                  "shape": "ellipse",
                  "label": "label"
                },
                "scale_factor": 1,
                "type": null,
                "position": [
                  0,
                  0
                ]
              },
              {
                "id": 176,
                "properties": {
                  "duration_ms": 260000,
                  "explicit": true,
                  "year": 2018,
                  "album": "No Brainer",
                  "name": "No Brainer",
                  "danceability": 0.552,
                  "energy": 0.76,
                  "label": "Track"
                },
                "label": "Track",
                "color": "#17bebb",
                "styles": {
                  "color": "#40E0D0",
                  "shape": "ellipse",
                  "label": "label"
                },
                "scale_factor": 1,
                "type": null,
                "position": [
                  0,
                  0
                ]
              },
              {
                "id": 154,
                "properties": {
                  "duration_ms": 193353,
                  "explicit": false,
                  "year": 2017,
                  "album": "Grateful",
                  "name": "To the Max (feat. Drake)",
                  "danceability": 0.462,
                  "energy": 0.825,
                  "label": "Track"
                },
                "label": "Track",
                "color": "#17bebb",
                "styles": {
                  "color": "#40E0D0",
                  "shape": "ellipse",
                  "label": "label"
                },
                "scale_factor": 1,
                "type": null,
                "position": [
                  0,
                  0
                ]
              },
              {
                "id": 128,
                "properties": {
                  "duration_ms": 193902,
                  "explicit": true,
                  "year": 2017,
                  "album": "Grateful",
                  "name": "To the Max (feat. Drake)",
                  "danceability": 0.461,
                  "energy": 0.812,
                  "label": "Track"
                },
                "label": "Track",
                "color": "#17bebb",
                "styles": {
                  "color": "#40E0D0",
                  "shape": "ellipse",
                  "label": "label"
                },
                "scale_factor": 1,
                "type": null,
                "position": [
                  0,
                  0
                ]
              },
              {
                "id": 150,
                "properties": {
                  "duration_ms": 183695,
                  "explicit": false,
                  "year": 2016,
                  "album": "Major Key",
                  "name": "For Free (feat. Drake)",
                  "danceability": 0.916,
                  "energy": 0.5670000000000001,
                  "label": "Track"
                },
                "label": "Track",
                "color": "#17bebb",
                "styles": {
                  "color": "#40E0D0",
                  "shape": "ellipse",
                  "label": "label"
                },
                "scale_factor": 1,
                "type": null,
                "position": [
                  0,
                  0
                ]
              },
              {
                "id": 127,
                "properties": {
                  "duration_ms": 183695,
                  "explicit": true,
                  "year": 2016,
                  "album": "Major Key",
                  "name": "For Free (feat. Drake)",
                  "danceability": 0.916,
                  "energy": 0.5710000000000001,
                  "label": "Track"
                },
                "label": "Track",
                "color": "#17bebb",
                "styles": {
                  "color": "#40E0D0",
                  "shape": "ellipse",
                  "label": "label"
                },
                "scale_factor": 1,
                "type": null,
                "position": [
                  0,
                  0
                ]
              },
              {
                "id": 116,
                "properties": {
                  "explicit": true,
                  "duration_ms": 209920,
                  "year": 2010,
                  "album": "Victory",
                  "name": "Fed Up (feat. Lil Wayne, Usher, Drake, Young Jeezy, Rick Ross)",
                  "danceability": 0.349,
                  "energy": 0.795,
                  "label": "Track"
                },
                "label": "Track",
                "color": "#17bebb",
                "styles": {
                  "color": "#40E0D0",
                  "shape": "ellipse",
                  "label": "label"
                },
                "scale_factor": 1,
                "type": null,
                "position": [
                  0,
                  0
                ]
              },
              {
                "id": 149,
                "properties": {
                  "explicit": false,
                  "duration_ms": 210160,
                  "year": 2010,
                  "album": "Victory",
                  "name": "Fed Up (feat. Lil Wayne, Usher, Drake, Young Jeezy, Rick Ross)",
                  "danceability": 0.354,
                  "energy": 0.7979999999999999,
                  "label": "Track"
                },
                "label": "Track",
                "color": "#17bebb",
                "styles": {
                  "color": "#40E0D0",
                  "shape": "ellipse",
                  "label": "label"
                },
                "scale_factor": 1,
                "type": null,
                "position": [
                  0,
                  0
                ]
              },
              {
                "id": 102,
                "properties": {
                  "duration_ms": 260000,
                  "explicit": true,
                  "year": 2019,
                  "album": "Father Of Asahd",
                  "name": "No Brainer (feat. Justin Bieber, Chance the Rapper & Quavo)",
                  "danceability": 0.527,
                  "energy": 0.7609999999999999,
                  "label": "Track"
                },
                "label": "Track",
                "color": "#17bebb",
                "styles": {
                  "color": "#40E0D0",
                  "shape": "ellipse",
                  "label": "label"
                },
                "scale_factor": 1,
                "type": null,
                "position": [
                  0,
                  0
                ]
              },
              {
                "id": 126,
                "properties": {
                  "duration_ms": 260000,
                  "explicit": false,
                  "year": 2019,
                  "album": "Father Of Asahd",
                  "name": "No Brainer (feat. Justin Bieber, Chance the Rapper & Quavo)",
                  "danceability": 0.585,
                  "energy": 0.76,
                  "label": "Track"
                },
                "label": "Track",
                "color": "#17bebb",
                "styles": {
                  "color": "#40E0D0",
                  "shape": "ellipse",
                  "label": "label"
                },
                "scale_factor": 1,
                "type": null,
                "position": [
                  0,
                  0
                ]
              },
              {
                "id": 18,
                "properties": {
                  "name": "Metro Boomin",
                  "feats": "209,872,990",
                  "lead_streams": "7,262,115,562",
                  "label": "Artist"
                },
                "label": "Metro Boomin",
                "color": "#17bebb",
                "styles": {
                  "color": "#FF8C00",
                  "shape": "ellipse",
                  "label": "name"
                },
                "scale_factor": 1,
                "type": null,
                "position": [
                  0,
                  0
                ]
              },
              {
                "id": 19,
                "properties": {
                  "name": "Michael Bublé",
                  "feats": "313,876,033",
                  "lead_streams": "6,667,559,320",
                  "label": "Artist"
                },
                "label": "Michael Bublé",
                "color": "#17bebb",
                "styles": {
                  "color": "#FF8C00",
                  "shape": "ellipse",
                  "label": "name"
                },
                "scale_factor": 1,
                "type": null,
                "position": [
                  0,
                  0
                ]
              },
              {
                "id": 311,
                "properties": {
                  "explicit": false,
                  "duration_ms": 242034,
                  "year": 2020,
                  "album": "Lean on Me - ArtistsCAN",
                  "name": "Lean on Me - ArtistsCAN",
                  "danceability": 0.54,
                  "energy": 0.7390000000000001,
                  "label": "Track"
                },
                "label": "Track",
                "color": "#17bebb",
                "styles": {
                  "color": "#40E0D0",
                  "shape": "ellipse",
                  "label": "label"
                },
                "scale_factor": 1,
                "type": null,
                "position": [
                  0,
                  0
                ]
              },
              {
                "id": 20,
                "properties": {
                  "name": "Becky G",
                  "feats": "1,302,187,576",
                  "lead_streams": "6,434,404,802",
                  "label": "Artist"
                },
                "label": "Becky G",
                "color": "#17bebb",
                "styles": {
                  "color": "#FF8C00",
                  "shape": "ellipse",
                  "label": "name"
                },
                "scale_factor": 1,
                "type": null,
                "position": [
                  0,
                  0
                ]
              },
              {
                "id": 324,
                "properties": {
                  "duration_ms": 210840,
                  "explicit": false,
                  "year": 2017,
                  "album": "Mayores (Urban Tropical)",
                  "name": "Mayores - Urban Tropical",
                  "danceability": 0.716,
                  "energy": 0.853,
                  "label": "Track"
                },
                "label": "Track",
                "color": "#17bebb",
                "styles": {
                  "color": "#40E0D0",
                  "shape": "ellipse",
                  "label": "label"
                },
                "scale_factor": 1,
                "type": null,
                "position": [
                  0,
                  0
                ]
              },
              {
                "id": 323,
                "properties": {
                  "duration_ms": 203187,
                  "explicit": false,
                  "year": 2019,
                  "album": "MALA SANTA",
                  "name": "Mayores",
                  "danceability": 0.745,
                  "energy": 0.836,
                  "label": "Track"
                },
                "label": "Track",
                "color": "#17bebb",
                "styles": {
                  "color": "#40E0D0",
                  "shape": "ellipse",
                  "label": "label"
                },
                "scale_factor": 1,
                "type": null,
                "position": [
                  0,
                  0
                ]
              },
              {
                "id": 21,
                "properties": {
                  "name": "Jonas Blue",
                  "feats": "111,388,929",
                  "lead_streams": "6,422,049,491",
                  "label": "Artist"
                },
                "label": "Jonas Blue",
                "color": "#17bebb",
                "styles": {
                  "color": "#FF8C00",
                  "shape": "ellipse",
                  "label": "name"
                },
                "scale_factor": 1,
                "type": null,
                "position": [
                  0,
                  0
                ]
              },
              {
                "id": 197,
                "properties": {
                  "duration_ms": 192681,
                  "explicit": false,
                  "year": 2019,
                  "album": "I Don't Care (with Justin Bieber) [Jonas Blue Remix]",
                  "name": "I Don't Care (with Justin Bieber) - Jonas Blue Remix",
                  "danceability": 0.708,
                  "energy": 0.872,
                  "label": "Track"
                },
                "label": "Track",
                "color": "#17bebb",
                "styles": {
                  "color": "#40E0D0",
                  "shape": "ellipse",
                  "label": "label"
                },
                "scale_factor": 1,
                "type": null,
                "position": [
                  0,
                  0
                ]
              },
              {
                "id": 22,
                "properties": {
                  "name": "50 Cent",
                  "feats": "2,758,573,236",
                  "lead_streams": "6,248,846,278",
                  "label": "Artist"
                },
                "label": "50 Cent",
                "color": "#17bebb",
                "styles": {
                  "color": "#FF8C00",
                  "shape": "ellipse",
                  "label": "name"
                },
                "scale_factor": 1,
                "type": null,
                "position": [
                  0,
                  0
                ]
              },
              {
                "id": 229,
                "properties": {
                  "duration_ms": 207760,
                  "explicit": true,
                  "year": 2019,
                  "album": "Remember The Name (feat. Eminem & 50 Cent)",
                  "name": "Remember The Name (feat. Eminem & 50 Cent)",
                  "danceability": 0.852,
                  "energy": 0.6659999999999999,
                  "label": "Track"
                },
                "label": "Track",
                "color": "#17bebb",
                "styles": {
                  "color": "#40E0D0",
                  "shape": "ellipse",
                  "label": "label"
                },
                "scale_factor": 1,
                "type": null,
                "position": [
                  0,
                  0
                ]
              },
              {
                "id": 107,
                "properties": {
                  "explicit": false,
                  "duration_ms": 206443,
                  "year": 2019,
                  "album": "No.6 Collaborations Project",
                  "name": "Remember The Name (feat. Eminem & 50 Cent)",
                  "danceability": 0.863,
                  "energy": 0.649,
                  "label": "Track"
                },
                "label": "Track",
                "color": "#17bebb",
                "styles": {
                  "color": "#40E0D0",
                  "shape": "ellipse",
                  "label": "label"
                },
                "scale_factor": 1,
                "type": null,
                "position": [
                  0,
                  0
                ]
              },
              {
                "id": 88,
                "properties": {
                  "explicit": true,
                  "duration_ms": 207760,
                  "year": 2019,
                  "album": "No.6 Collaborations Project",
                  "name": "Remember The Name (feat. Eminem & 50 Cent)",
                  "danceability": 0.852,
                  "energy": 0.6659999999999999,
                  "label": "Track"
                },
                "label": "Track",
                "color": "#17bebb",
                "styles": {
                  "color": "#40E0D0",
                  "shape": "ellipse",
                  "label": "label"
                },
                "scale_factor": 1,
                "type": null,
                "position": [
                  0,
                  0
                ]
              },
              {
                "id": 23,
                "properties": {
                  "name": "Childish Gambino",
                  "feats": "604,415,192",
                  "lead_streams": "6,247,735,359",
                  "label": "Artist"
                },
                "label": "Childish Gambino",
                "color": "#17bebb",
                "styles": {
                  "color": "#FF8C00",
                  "shape": "ellipse",
                  "label": "name"
                },
                "scale_factor": 1,
                "type": null,
                "position": [
                  0,
                  0
                ]
              },
              {
                "id": 289,
                "properties": {
                  "duration_ms": 367293,
                  "explicit": false,
                  "year": 2020,
                  "album": "3.15.20",
                  "name": "Time (feat. Ariana Grande)",
                  "danceability": 0.621,
                  "energy": 0.5379999999999999,
                  "label": "Track"
                },
                "label": "Track",
                "color": "#17bebb",
                "styles": {
                  "color": "#40E0D0",
                  "shape": "ellipse",
                  "label": "label"
                },
                "scale_factor": 1,
                "type": null,
                "position": [
                  0,
                  0
                ]
              },
              {
                "id": 24,
                "properties": {
                  "name": "Jhay Cortez",
                  "feats": "1,249,018,420",
                  "lead_streams": "6,170,553,828",
                  "label": "Artist"
                },
                "label": "Jhay Cortez",
                "color": "#17bebb",
                "styles": {
                  "color": "#FF8C00",
                  "shape": "ellipse",
                  "label": "name"
                },
                "scale_factor": 1,
                "type": null,
                "position": [
                  0,
                  0
                ]
              },
              {
                "id": 344,
                "properties": {
                  "duration_ms": 205090,
                  "explicit": true,
                  "year": 2020,
                  "album": "EL ÚLTIMO TOUR DEL MUNDO",
                  "name": "DÁKITI",
                  "danceability": 0.731,
                  "energy": 0.573,
                  "label": "Track"
                },
                "label": "Track",
                "color": "#17bebb",
                "styles": {
                  "color": "#40E0D0",
                  "shape": "ellipse",
                  "label": "label"
                },
                "scale_factor": 1,
                "type": null,
                "position": [
                  0,
                  0
                ]
              },
              {
                "id": 326,
                "properties": {
                  "duration_ms": 205090,
                  "explicit": true,
                  "year": 2020,
                  "album": "Dakiti",
                  "name": "Dakiti",
                  "danceability": 0.731,
                  "energy": 0.573,
                  "label": "Track"
                },
                "label": "Track",
                "color": "#17bebb",
                "styles": {
                  "color": "#40E0D0",
                  "shape": "ellipse",
                  "label": "label"
                },
                "scale_factor": 1,
                "type": null,
                "position": [
                  0,
                  0
                ]
              },
              {
                "id": 308,
                "properties": {
                  "explicit": true,
                  "duration_ms": 227120,
                  "year": 2020,
                  "album": "LAS QUE NO IBAN A SALIR",
                  "name": "CÓMO SE SIENTE - Remix",
                  "danceability": 0.813,
                  "energy": 0.616,
                  "label": "Track"
                },
                "label": "Track",
                "color": "#17bebb",
                "styles": {
                  "color": "#40E0D0",
                  "shape": "ellipse",
                  "label": "label"
                },
                "scale_factor": 1,
                "type": null,
                "position": [
                  0,
                  0
                ]
              },
              {
                "id": 25,
                "properties": {
                  "name": "Usher",
                  "feats": "3,241,074,771",
                  "lead_streams": "5,981,518,153",
                  "label": "Artist"
                },
                "label": "Usher",
                "color": "#17bebb",
                "styles": {
                  "color": "#FF8C00",
                  "shape": "ellipse",
                  "label": "name"
                },
                "scale_factor": 1,
                "type": null,
                "position": [
                  0,
                  0
                ]
              },
              {
                "id": 26,
                "properties": {
                  "name": "Skrillex",
                  "feats": "1,640,865,351",
                  "lead_streams": "5,881,756,686",
                  "label": "Artist"
                },
                "label": "Skrillex",
                "color": "#17bebb",
                "styles": {
                  "color": "#FF8C00",
                  "shape": "ellipse",
                  "label": "name"
                },
                "scale_factor": 1,
                "type": null,
                "position": [
                  0,
                  0
                ]
              },
              {
                "id": 94,
                "properties": {
                  "explicit": false,
                  "duration_ms": 190293,
                  "year": 2019,
                  "album": "No.6 Collaborations Project",
                  "name": "Way To Break My Heart (feat. Skrillex)",
                  "danceability": 0.726,
                  "energy": 0.731,
                  "label": "Track"
                },
                "label": "Track",
                "color": "#17bebb",
                "styles": {
                  "color": "#40E0D0",
                  "shape": "ellipse",
                  "label": "label"
                },
                "scale_factor": 1,
                "type": null,
                "position": [
                  0,
                  0
                ]
              },
              {
                "id": 27,
                "properties": {
                  "name": "French Montana",
                  "feats": "3,407,044,954",
                  "lead_streams": "5,687,956,941",
                  "label": "Artist"
                },
                "label": "French Montana",
                "color": "#17bebb",
                "styles": {
                  "color": "#FF8C00",
                  "shape": "ellipse",
                  "label": "name"
                },
                "scale_factor": 1,
                "type": null,
                "position": [
                  0,
                  0
                ]
              },
              {
                "id": 223,
                "properties": {
                  "duration_ms": 227727,
                  "explicit": true,
                  "year": 2019,
                  "album": "MONTANA",
                  "name": "No Shopping (feat. Drake)",
                  "danceability": 0.895,
                  "energy": 0.491,
                  "label": "Track"
                },
                "label": "Track",
                "color": "#17bebb",
                "styles": {
                  "color": "#40E0D0",
                  "shape": "ellipse",
                  "label": "label"
                },
                "scale_factor": 1,
                "type": null,
                "position": [
                  0,
                  0
                ]
              },
              {
                "id": 185,
                "properties": {
                  "duration_ms": 192172,
                  "explicit": true,
                  "year": 2018,
                  "album": "No Stylist",
                  "name": "No Stylist (feat. Drake)",
                  "danceability": 0.765,
                  "energy": 0.7040000000000001,
                  "label": "Track"
                },
                "label": "Track",
                "color": "#17bebb",
                "styles": {
                  "color": "#40E0D0",
                  "shape": "ellipse",
                  "label": "label"
                },
                "scale_factor": 1,
                "type": null,
                "position": [
                  0,
                  0
                ]
              },
              {
                "id": 222,
                "properties": {
                  "duration_ms": 189692,
                  "explicit": true,
                  "year": 2019,
                  "album": "MONTANA",
                  "name": "No Stylist (feat. Drake)",
                  "danceability": 0.762,
                  "energy": 0.696,
                  "label": "Track"
                },
                "label": "Track",
                "color": "#17bebb",
                "styles": {
                  "color": "#40E0D0",
                  "shape": "ellipse",
                  "label": "label"
                },
                "scale_factor": 1,
                "type": null,
                "position": [
                  0,
                  0
                ]
              },
              {
                "id": 28,
                "properties": {
                  "name": "Meek Mill",
                  "feats": "1,900,550,120",
                  "lead_streams": "5,609,538,227",
                  "label": "Artist"
                },
                "label": "Meek Mill",
                "color": "#17bebb",
                "styles": {
                  "color": "#FF8C00",
                  "shape": "ellipse",
                  "label": "name"
                },
                "scale_factor": 1,
                "type": null,
                "position": [
                  0,
                  0
                ]
              },
              {
                "id": 204,
                "properties": {
                  "duration_ms": 180522,
                  "explicit": false,
                  "year": 2018,
                  "album": "Championships",
                  "name": "Going Bad (feat. Drake)",
                  "danceability": 0.821,
                  "energy": 0.509,
                  "label": "Track"
                },
                "label": "Track",
                "color": "#17bebb",
                "styles": {
                  "color": "#40E0D0",
                  "shape": "ellipse",
                  "label": "label"
                },
                "scale_factor": 1,
                "type": null,
                "position": [
                  0,
                  0
                ]
              },
              {
                "id": 203,
                "properties": {
                  "duration_ms": 180522,
                  "explicit": true,
                  "year": 2018,
                  "album": "Championships",
                  "name": "Going Bad (feat. Drake)",
                  "danceability": 0.889,
                  "energy": 0.496,
                  "label": "Track"
                },
                "label": "Track",
                "color": "#17bebb",
                "styles": {
                  "color": "#40E0D0",
                  "shape": "ellipse",
                  "label": "label"
                },
                "scale_factor": 1,
                "type": null,
                "position": [
                  0,
                  0
                ]
              },
              {
                "id": 29,
                "properties": {
                  "name": "Paulo Londra",
                  "feats": "119,832,137",
                  "lead_streams": "5,408,739,140",
                  "label": "Artist"
                },
                "label": "Paulo Londra",
                "color": "#17bebb",
                "styles": {
                  "color": "#FF8C00",
                  "shape": "ellipse",
                  "label": "name"
                },
                "scale_factor": 1,
                "type": null,
                "position": [
                  0,
                  0
                ]
              },
              {
                "id": 110,
                "properties": {
                  "explicit": false,
                  "duration_ms": 200733,
                  "year": 2019,
                  "album": "No.6 Collaborations Project",
                  "name": "Nothing On You (feat. Paulo Londra & Dave)",
                  "danceability": 0.747,
                  "energy": 0.649,
                  "label": "Track"
                },
                "label": "Track",
                "color": "#17bebb",
                "styles": {
                  "color": "#40E0D0",
                  "shape": "ellipse",
                  "label": "label"
                },
                "scale_factor": 1,
                "type": null,
                "position": [
                  0,
                  0
                ]
              },
              {
                "id": 91,
                "properties": {
                  "explicit": false,
                  "duration_ms": 200733,
                  "year": 2019,
                  "album": "No.6 Collaborations Project",
                  "name": "Nothing On You (feat. Paulo Londra & Dave)",
                  "danceability": 0.747,
                  "energy": 0.649,
                  "label": "Track"
                },
                "label": "Track",
                "color": "#17bebb",
                "styles": {
                  "color": "#40E0D0",
                  "shape": "ellipse",
                  "label": "label"
                },
                "scale_factor": 1,
                "type": null,
                "position": [
                  0,
                  0
                ]
              },
              {
                "id": 30,
                "properties": {
                  "name": "Don Omar",
                  "feats": "1,957,856,299",
                  "lead_streams": "5,374,011,725",
                  "label": "Artist"
                },
                "label": "Don Omar",
                "color": "#17bebb",
                "styles": {
                  "color": "#FF8C00",
                  "shape": "ellipse",
                  "label": "name"
                },
                "scale_factor": 1,
                "type": null,
                "position": [
                  0,
                  0
                ]
              },
              {
                "id": 305,
                "properties": {
                  "explicit": true,
                  "duration_ms": 194200,
                  "year": 2020,
                  "album": "LAS QUE NO IBAN A SALIR",
                  "name": "PA' ROMPERLA",
                  "danceability": 0.772,
                  "energy": 0.83,
                  "label": "Track"
                },
                "label": "Track",
                "color": "#17bebb",
                "styles": {
                  "color": "#40E0D0",
                  "shape": "ellipse",
                  "label": "label"
                },
                "scale_factor": 1,
                "type": null,
                "position": [
                  0,
                  0
                ]
              },
              {
                "id": 31,
                "properties": {
                  "name": "Gucci Mane",
                  "feats": "4,905,865,217",
                  "lead_streams": "5,179,422,858",
                  "label": "Artist"
                },
                "label": "Gucci Mane",
                "color": "#17bebb",
                "styles": {
                  "color": "#FF8C00",
                  "shape": "ellipse",
                  "label": "name"
                },
                "scale_factor": 1,
                "type": null,
                "position": [
                  0,
                  0
                ]
              },
              {
                "id": 184,
                "properties": {
                  "duration_ms": 173023,
                  "explicit": false,
                  "year": 2019,
                  "album": "Delusions of Grandeur",
                  "name": "Love Thru the Computer (feat. Justin Bieber)",
                  "danceability": 0.7609999999999999,
                  "energy": 0.899,
                  "label": "Track"
                },
                "label": "Track",
                "color": "#17bebb",
                "styles": {
                  "color": "#40E0D0",
                  "shape": "ellipse",
                  "label": "label"
                },
                "scale_factor": 1,
                "type": null,
                "position": [
                  0,
                  0
                ]
              },
              {
                "id": 123,
                "properties": {
                  "duration_ms": 173023,
                  "explicit": false,
                  "year": 2019,
                  "album": "Love Thru the Computer (feat. Justin Bieber)",
                  "name": "Love Thru the Computer (feat. Justin Bieber)",
                  "danceability": 0.762,
                  "energy": 0.899,
                  "label": "Track"
                },
                "label": "Track",
                "color": "#17bebb",
                "styles": {
                  "color": "#40E0D0",
                  "shape": "ellipse",
                  "label": "label"
                },
                "scale_factor": 1,
                "type": null,
                "position": [
                  0,
                  0
                ]
              },
              {
                "id": 199,
                "properties": {
                  "duration_ms": 172889,
                  "explicit": true,
                  "year": 2019,
                  "album": "Delusions of Grandeur",
                  "name": "Love Thru the Computer (feat. Justin Bieber)",
                  "danceability": 0.746,
                  "energy": 0.889,
                  "label": "Track"
                },
                "label": "Track",
                "color": "#17bebb",
                "styles": {
                  "color": "#40E0D0",
                  "shape": "ellipse",
                  "label": "label"
                },
                "scale_factor": 1,
                "type": null,
                "position": [
                  0,
                  0
                ]
              },
              {
                "id": 98,
                "properties": {
                  "explicit": true,
                  "duration_ms": 161990,
                  "year": 2020,
                  "album": "Trap God Classics: I Am My Only Competition",
                  "name": "Curve (feat. The Weeknd)",
                  "danceability": 0.76,
                  "energy": 0.476,
                  "label": "Track"
                },
                "label": "Track",
                "color": "#17bebb",
                "styles": {
                  "color": "#40E0D0",
                  "shape": "ellipse",
                  "label": "label"
                },
                "scale_factor": 1,
                "type": null,
                "position": [
                  0,
                  0
                ]
              },
              {
                "id": 97,
                "properties": {
                  "explicit": true,
                  "duration_ms": 190312,
                  "year": 2020,
                  "album": "Trap God Classics: I Am My Only Competition",
                  "name": "Both (feat. Drake)",
                  "danceability": 0.8490000000000001,
                  "energy": 0.405,
                  "label": "Track"
                },
                "label": "Track",
                "color": "#17bebb",
                "styles": {
                  "color": "#40E0D0",
                  "shape": "ellipse",
                  "label": "label"
                },
                "scale_factor": 1,
                "type": null,
                "position": [
                  0,
                  0
                ]
              },
              {
                "id": 32,
                "properties": {
                  "name": "The Notorious B.I.G.",
                  "feats": "699,574,957",
                  "lead_streams": "5,171,977,853",
                  "label": "Artist"
                },
                "label": "The Notorious B.I.G.",
                "color": "#17bebb",
                "styles": {
                  "color": "#FF8C00",
                  "shape": "ellipse",
                  "label": "name"
                },
                "scale_factor": 1,
                "type": null,
                "position": [
                  0,
                  0
                ]
              },
              {
                "id": 162,
                "properties": {
                  "explicit": false,
                  "duration_ms": 297227,
                  "year": 2007,
                  "album": "Greatest Hits",
                  "name": "Dead Wrong (feat. Eminem) - 2007 Remaster",
                  "danceability": 0.6579999999999999,
                  "energy": 0.8320000000000001,
                  "label": "Track"
                },
                "label": "Track",
                "color": "#17bebb",
                "styles": {
                  "color": "#40E0D0",
                  "shape": "ellipse",
                  "label": "label"
                },
                "scale_factor": 1,
                "type": null,
                "position": [
                  0,
                  0
                ]
              },
              {
                "id": 161,
                "properties": {
                  "explicit": true,
                  "duration_ms": 297227,
                  "year": 2007,
                  "album": "Greatest Hits",
                  "name": "Dead Wrong (feat. Eminem) - 2007 Remaster",
                  "danceability": 0.648,
                  "energy": 0.895,
                  "label": "Track"
                },
                "label": "Track",
                "color": "#17bebb",
                "styles": {
                  "color": "#40E0D0",
                  "shape": "ellipse",
                  "label": "label"
                },
                "scale_factor": 1,
                "type": null,
                "position": [
                  0,
                  0
                ]
              },
              {
                "id": 33,
                "properties": {
                  "name": "Duki",
                  "feats": "937,757,024",
                  "lead_streams": "4,869,537,547",
                  "label": "Artist"
                },
                "label": "Duki",
                "color": "#17bebb",
                "styles": {
                  "color": "#FF8C00",
                  "shape": "ellipse",
                  "label": "name"
                },
                "scale_factor": 1,
                "type": null,
                "position": [
                  0,
                  0
                ]
              },
              {
                "id": 284,
                "properties": {
                  "explicit": false,
                  "duration_ms": 240253,
                  "year": 2020,
                  "album": "YHLQMDLG",
                  "name": "Hablamos Mañana",
                  "danceability": 0.6829999999999999,
                  "energy": 0.677,
                  "label": "Track"
                },
                "label": "Track",
                "color": "#17bebb",
                "styles": {
                  "color": "#40E0D0",
                  "shape": "ellipse",
                  "label": "label"
                },
                "scale_factor": 1,
                "type": null,
                "position": [
                  0,
                  0
                ]
              },
              {
                "id": 34,
                "properties": {
                  "name": "Zion & Lennox",
                  "feats": "2,887,125,495",
                  "lead_streams": "4,710,887,632",
                  "label": "Artist"
                },
                "label": "Zion & Lennox",
                "color": "#17bebb",
                "styles": {
                  "color": "#FF8C00",
                  "shape": "ellipse",
                  "label": "name"
                },
                "scale_factor": 1,
                "type": null,
                "position": [
                  0,
                  0
                ]
              },
              {
                "id": 302,
                "properties": {
                  "explicit": true,
                  "duration_ms": 183520,
                  "year": 2020,
                  "album": "LAS QUE NO IBAN A SALIR",
                  "name": "MÁS DE UNA CITA",
                  "danceability": 0.865,
                  "energy": 0.5,
                  "label": "Track"
                },
                "label": "Track",
                "color": "#17bebb",
                "styles": {
                  "color": "#40E0D0",
                  "shape": "ellipse",
                  "label": "label"
                },
                "scale_factor": 1,
                "type": null,
                "position": [
                  0,
                  0
                ]
              },
              {
                "id": 35,
                "properties": {
                  "name": "Cheat Codes",
                  "feats": "313,902,252",
                  "lead_streams": "4,629,305,378",
                  "label": "Artist"
                },
                "label": "Cheat Codes",
                "color": "#17bebb",
                "styles": {
                  "color": "#FF8C00",
                  "shape": "ellipse",
                  "label": "name"
                },
                "scale_factor": 1,
                "type": null,
                "position": [
                  0,
                  0
                ]
              },
              {
                "id": 36,
                "properties": {
                  "name": "Chance the Rapper",
                  "feats": "3,118,921,754",
                  "lead_streams": "4,517,223,691",
                  "label": "Artist"
                },
                "label": "Chance the Rapper",
                "color": "#17bebb",
                "styles": {
                  "color": "#FF8C00",
                  "shape": "ellipse",
                  "label": "name"
                },
                "scale_factor": 1,
                "type": null,
                "position": [
                  0,
                  0
                ]
              },
              {
                "id": 188,
                "properties": {
                  "duration_ms": 207894,
                  "explicit": true,
                  "year": 2019,
                  "album": "Cross Me (feat. Chance the Rapper & PnB Rock) [M-22 Remix]",
                  "name": "Cross Me (feat. Chance the Rapper & PnB Rock) - M-22 Remix",
                  "danceability": 0.679,
                  "energy": 0.923,
                  "label": "Track"
                },
                "label": "Track",
                "color": "#17bebb",
                "styles": {
                  "color": "#40E0D0",
                  "shape": "ellipse",
                  "label": "label"
                },
                "scale_factor": 1,
                "type": null,
                "position": [
                  0,
                  0
                ]
              },
              {
                "id": 83,
                "properties": {
                  "explicit": true,
                  "duration_ms": 206187,
                  "year": 2019,
                  "album": "No.6 Collaborations Project",
                  "name": "Cross Me (feat. Chance the Rapper & PnB Rock)",
                  "danceability": 0.746,
                  "energy": 0.787,
                  "label": "Track"
                },
                "label": "Track",
                "color": "#17bebb",
                "styles": {
                  "color": "#40E0D0",
                  "shape": "ellipse",
                  "label": "label"
                },
                "scale_factor": 1,
                "type": null,
                "position": [
                  0,
                  0
                ]
              },
              {
                "id": 125,
                "properties": {
                  "duration_ms": 206187,
                  "explicit": true,
                  "year": 2019,
                  "album": "Cross Me (feat. Chance the Rapper & PnB Rock)",
                  "name": "Cross Me (feat. Chance the Rapper & PnB Rock)",
                  "danceability": 0.746,
                  "energy": 0.787,
                  "label": "Track"
                },
                "label": "Track",
                "color": "#17bebb",
                "styles": {
                  "color": "#40E0D0",
                  "shape": "ellipse",
                  "label": "label"
                },
                "scale_factor": 1,
                "type": null,
                "position": [
                  0,
                  0
                ]
              },
              {
                "id": 105,
                "properties": {
                  "explicit": false,
                  "duration_ms": 204833,
                  "year": 2019,
                  "album": "No.6 Collaborations Project",
                  "name": "Cross Me (feat. Chance the Rapper & PnB Rock)",
                  "danceability": 0.654,
                  "energy": 0.784,
                  "label": "Track"
                },
                "label": "Track",
                "color": "#17bebb",
                "styles": {
                  "color": "#40E0D0",
                  "shape": "ellipse",
                  "label": "label"
                },
                "scale_factor": 1,
                "type": null,
                "position": [
                  0,
                  0
                ]
              },
              {
                "id": 37,
                "properties": {
                  "name": "Arcangel",
                  "feats": "5,081,836,495",
                  "lead_streams": "4,475,257,907",
                  "label": "Artist"
                },
                "label": "Arcangel",
                "color": "#17bebb",
                "styles": {
                  "color": "#FF8C00",
                  "shape": "ellipse",
                  "label": "name"
                },
                "scale_factor": 1,
                "type": null,
                "position": [
                  0,
                  0
                ]
              },
              {
                "id": 283,
                "properties": {
                  "duration_ms": 258280,
                  "explicit": true,
                  "year": 2020,
                  "album": "YHLQMDLG",
                  "name": "P FKN R",
                  "danceability": 0.82,
                  "energy": 0.635,
                  "label": "Track"
                },
                "label": "Track",
                "color": "#17bebb",
                "styles": {
                  "color": "#40E0D0",
                  "shape": "ellipse",
                  "label": "label"
                },
                "scale_factor": 1,
                "type": null,
                "position": [
                  0,
                  0
                ]
              },
              {
                "id": 38,
                "properties": {
                  "name": "Galantis",
                  "feats": "102,139,066",
                  "lead_streams": "4,427,621,050",
                  "label": "Artist"
                },
                "label": "Galantis",
                "color": "#17bebb",
                "styles": {
                  "color": "#FF8C00",
                  "shape": "ellipse",
                  "label": "name"
                },
                "scale_factor": 1,
                "type": null,
                "position": [
                  0,
                  0
                ]
              },
              {
                "id": 151,
                "properties": {
                  "explicit": false,
                  "duration_ms": 195988,
                  "year": 2017,
                  "album": "Shape of You (Galantis Remix)",
                  "name": "Shape of You - Galantis Remix",
                  "danceability": 0.838,
                  "energy": 0.765,
                  "label": "Track"
                },
                "label": "Track",
                "color": "#17bebb",
                "styles": {
                  "color": "#40E0D0",
                  "shape": "ellipse",
                  "label": "label"
                },
                "scale_factor": 1,
                "type": null,
                "position": [
                  0,
                  0
                ]
              },
              {
                "id": 39,
                "properties": {
                  "name": "Avril Lavigne",
                  "feats": "25,567,335",
                  "lead_streams": "4,418,987,832",
                  "label": "Artist"
                },
                "label": "Avril Lavigne",
                "color": "#17bebb",
                "styles": {
                  "color": "#FF8C00",
                  "shape": "ellipse",
                  "label": "name"
                },
                "scale_factor": 1,
                "type": null,
                "position": [
                  0,
                  0
                ]
              },
              {
                "id": 40,
                "properties": {
                  "name": "Bryson Tiller",
                  "feats": "1,295,854,047",
                  "lead_streams": "4,330,601,767",
                  "label": "Artist"
                },
                "label": "Bryson Tiller",
                "color": "#17bebb",
                "styles": {
                  "color": "#FF8C00",
                  "shape": "ellipse",
                  "label": "name"
                },
                "scale_factor": 1,
                "type": null,
                "position": [
                  0,
                  0
                ]
              },
              {
                "id": 296,
                "properties": {
                  "explicit": true,
                  "duration_ms": 228980,
                  "year": 2020,
                  "album": "T R A P S O U L (Deluxe)",
                  "name": "Rambo (Last Blood) (feat. The Weeknd)",
                  "danceability": 0.508,
                  "energy": 0.6859999999999999,
                  "label": "Track"
                },
                "label": "Track",
                "color": "#17bebb",
                "styles": {
                  "color": "#40E0D0",
                  "shape": "ellipse",
                  "label": "label"
                },
                "scale_factor": 1,
                "type": null,
                "position": [
                  0,
                  0
                ]
              },
              {
                "id": 294,
                "properties": {
                  "explicit": false,
                  "duration_ms": 198822,
                  "year": 2020,
                  "album": "A N N I V E R S A R Y",
                  "name": "Outta Time (feat. Drake)",
                  "danceability": 0.7140000000000001,
                  "energy": 0.5820000000000001,
                  "label": "Track"
                },
                "label": "Track",
                "color": "#17bebb",
                "styles": {
                  "color": "#40E0D0",
                  "shape": "ellipse",
                  "label": "label"
                },
                "scale_factor": 1,
                "type": null,
                "position": [
                  0,
                  0
                ]
              },
              {
                "id": 41,
                "properties": {
                  "name": "Wisin & Yandel",
                  "feats": "709,421,106",
                  "lead_streams": "4,004,531,845",
                  "label": "Artist"
                },
                "label": "Wisin & Yandel",
                "color": "#17bebb",
                "styles": {
                  "color": "#FF8C00",
                  "shape": "ellipse",
                  "label": "name"
                },
                "scale_factor": 1,
                "type": null,
                "position": [
                  0,
                  0
                ]
              },
              {
                "id": 200,
                "properties": {
                  "explicit": true,
                  "duration_ms": 237907,
                  "year": 2018,
                  "album": "Los Campeones del Pueblo \"The Big Leagues\"",
                  "name": "Dame Algo",
                  "danceability": 0.8290000000000001,
                  "energy": 0.723,
                  "label": "Track"
                },
                "label": "Track",
                "color": "#17bebb",
                "styles": {
                  "color": "#40E0D0",
                  "shape": "ellipse",
                  "label": "label"
                },
                "scale_factor": 1,
                "type": null,
                "position": [
                  0,
                  0
                ]
              },
              {
                "id": 42,
                "properties": {
                  "name": "Nio Garcia",
                  "feats": "174,098,397",
                  "lead_streams": "3,960,430,779",
                  "label": "Artist"
                },
                "label": "Nio Garcia",
                "color": "#17bebb",
                "styles": {
                  "color": "#FF8C00",
                  "shape": "ellipse",
                  "label": "name"
                },
                "scale_factor": 1,
                "type": null,
                "position": [
                  0,
                  0
                ]
              },
              {
                "id": 43,
                "properties": {
                  "name": "Lizzo",
                  "feats": "0",
                  "lead_streams": "3,911,061,177",
                  "label": "Artist"
                },
                "label": "Lizzo",
                "color": "#17bebb",
                "styles": {
                  "color": "#FF8C00",
                  "shape": "ellipse",
                  "label": "name"
                },
                "scale_factor": 1,
                "type": null,
                "position": [
                  0,
                  0
                ]
              },
              {
                "id": 286,
                "properties": {
                  "duration_ms": 159011,
                  "explicit": false,
                  "year": 2019,
                  "album": "Cuz I Love You (Super Deluxe)",
                  "name": "Good as Hell (feat. Ariana Grande)",
                  "danceability": 0.6679999999999999,
                  "energy": 0.892,
                  "label": "Track"
                },
                "label": "Track",
                "color": "#17bebb",
                "styles": {
                  "color": "#40E0D0",
                  "shape": "ellipse",
                  "label": "label"
                },
                "scale_factor": 1,
                "type": null,
                "position": [
                  0,
                  0
                ]
              },
              {
                "id": 44,
                "properties": {
                  "name": "ROSALÍA",
                  "feats": "146,654",
                  "lead_streams": "3,871,106,303",
                  "label": "Artist"
                },
                "label": "ROSALÍA",
                "color": "#17bebb",
                "styles": {
                  "color": "#FF8C00",
                  "shape": "ellipse",
                  "label": "name"
                },
                "scale_factor": 1,
                "type": null,
                "position": [
                  0,
                  0
                ]
              },
              {
                "id": 338,
                "properties": {
                  "duration_ms": 203201,
                  "explicit": false,
                  "year": 2020,
                  "album": "EL ÚLTIMO TOUR DEL MUNDO",
                  "name": "LA NOCHE DE ANOCHE",
                  "danceability": 0.856,
                  "energy": 0.618,
                  "label": "Track"
                },
                "label": "Track",
                "color": "#17bebb",
                "styles": {
                  "color": "#40E0D0",
                  "shape": "ellipse",
                  "label": "label"
                },
                "scale_factor": 1,
                "type": null,
                "position": [
                  0,
                  0
                ]
              },
              {
                "id": 45,
                "properties": {
                  "name": "Yandel",
                  "feats": "194,535,961",
                  "lead_streams": "3,731,724,067",
                  "label": "Artist"
                },
                "label": "Yandel",
                "color": "#17bebb",
                "styles": {
                  "color": "#FF8C00",
                  "shape": "ellipse",
                  "label": "name"
                },
                "scale_factor": 1,
                "type": null,
                "position": [
                  0,
                  0
                ]
              },
              {
                "id": 304,
                "properties": {
                  "explicit": true,
                  "duration_ms": 209180,
                  "year": 2020,
                  "album": "LAS QUE NO IBAN A SALIR",
                  "name": "CANCIÓN CON YANDEL",
                  "danceability": 0.75,
                  "energy": 0.741,
                  "label": "Track"
                },
                "label": "Track",
                "color": "#17bebb",
                "styles": {
                  "color": "#40E0D0",
                  "shape": "ellipse",
                  "label": "label"
                },
                "scale_factor": 1,
                "type": null,
                "position": [
                  0,
                  0
                ]
              },
              {
                "id": 46,
                "properties": {
                  "name": "24kGoldn",
                  "feats": "1,036,388,958",
                  "lead_streams": "3,705,648,954",
                  "label": "Artist"
                },
                "label": "24kGoldn",
                "color": "#17bebb",
                "styles": {
                  "color": "#FF8C00",
                  "shape": "ellipse",
                  "label": "name"
                },
                "scale_factor": 1,
                "type": null,
                "position": [
                  0,
                  0
                ]
              },
              {
                "id": 327,
                "properties": {
                  "duration_ms": 192745,
                  "explicit": true,
                  "year": 2020,
                  "album": "Mood (Remix) feat. Justin Bieber, J Balvin & iann dior",
                  "name": "Mood (Remix) feat. Justin Bieber, J Balvin & iann dior",
                  "danceability": 0.721,
                  "energy": 0.745,
                  "label": "Track"
                },
                "label": "Track",
                "color": "#17bebb",
                "styles": {
                  "color": "#40E0D0",
                  "shape": "ellipse",
                  "label": "label"
                },
                "scale_factor": 1,
                "type": null,
                "position": [
                  0,
                  0
                ]
              },
              {
                "id": 47,
                "properties": {
                  "name": "Dan + Shay",
                  "feats": "231,488,539",
                  "lead_streams": "3,680,653,230",
                  "label": "Artist"
                },
                "label": "Dan + Shay",
                "color": "#17bebb",
                "styles": {
                  "color": "#FF8C00",
                  "shape": "ellipse",
                  "label": "name"
                },
                "scale_factor": 1,
                "type": null,
                "position": [
                  0,
                  0
                ]
              },
              {
                "id": 260,
                "properties": {
                  "explicit": false,
                  "duration_ms": 164773,
                  "year": 2020,
                  "album": "NOW That's What I Call Music! Vol. 73",
                  "name": "10,000 Hours",
                  "danceability": 0.654,
                  "energy": 0.649,
                  "label": "Track"
                },
                "label": "Track",
                "color": "#17bebb",
                "styles": {
                  "color": "#40E0D0",
                  "shape": "ellipse",
                  "label": "label"
                },
                "scale_factor": 1,
                "type": null,
                "position": [
                  0,
                  0
                ]
              },
              {
                "id": 253,
                "properties": {
                  "duration_ms": 172320,
                  "explicit": false,
                  "year": 2019,
                  "album": "10,000 Hours (with Justin Bieber) [Piano]",
                  "name": "10,000 Hours (with Justin Bieber) - Piano",
                  "danceability": 0.426,
                  "energy": 0.366,
                  "label": "Track"
                },
                "label": "Track",
                "color": "#17bebb",
                "styles": {
                  "color": "#40E0D0",
                  "shape": "ellipse",
                  "label": "label"
                },
                "scale_factor": 1,
                "type": null,
                "position": [
                  0,
                  0
                ]
              },
              {
                "id": 238,
                "properties": {
                  "duration_ms": 167693,
                  "explicit": false,
                  "year": 2019,
                  "album": "10,000 Hours (with Justin Bieber)",
                  "name": "10,000 Hours (with Justin Bieber)",
                  "danceability": 0.654,
                  "energy": 0.63,
                  "label": "Track"
                },
                "label": "Track",
                "color": "#17bebb",
                "styles": {
                  "color": "#40E0D0",
                  "shape": "ellipse",
                  "label": "label"
                },
                "scale_factor": 1,
                "type": null,
                "position": [
                  0,
                  0
                ]
              },
              {
                "id": 48,
                "properties": {
                  "name": "Ricky Martin",
                  "feats": "2,478,742,591",
                  "lead_streams": "3,568,196,300",
                  "label": "Artist"
                },
                "label": "Ricky Martin",
                "color": "#17bebb",
                "styles": {
                  "color": "#FF8C00",
                  "shape": "ellipse",
                  "label": "name"
                },
                "scale_factor": 1,
                "type": null,
                "position": [
                  0,
                  0
                ]
              },
              {
                "id": 132,
                "properties": {
                  "explicit": false,
                  "duration_ms": 218996,
                  "year": 2020,
                  "album": "PAUSA",
                  "name": "Cántalo",
                  "danceability": 0.708,
                  "energy": 0.795,
                  "label": "Track"
                },
                "label": "Track",
                "color": "#17bebb",
                "styles": {
                  "color": "#40E0D0",
                  "shape": "ellipse",
                  "label": "label"
                },
                "scale_factor": 1,
                "type": null,
                "position": [
                  0,
                  0
                ]
              },
              {
                "id": 49,
                "properties": {
                  "name": "H.E.R.",
                  "feats": "3,118,921,754",
                  "lead_streams": "3,476,314,834",
                  "label": "Artist"
                },
                "label": "H.E.R.",
                "color": "#17bebb",
                "styles": {
                  "color": "#FF8C00",
                  "shape": "ellipse",
                  "label": "name"
                },
                "scale_factor": 1,
                "type": null,
                "position": [
                  0,
                  0
                ]
              },
              {
                "id": 111,
                "properties": {
                  "explicit": false,
                  "duration_ms": 204507,
                  "year": 2019,
                  "album": "No.6 Collaborations Project",
                  "name": "I Don't Want Your Money (feat. H.E.R.)",
                  "danceability": 0.469,
                  "energy": 0.631,
                  "label": "Track"
                },
                "label": "Track",
                "color": "#17bebb",
                "styles": {
                  "color": "#40E0D0",
                  "shape": "ellipse",
                  "label": "label"
                },
                "scale_factor": 1,
                "type": null,
                "position": [
                  0,
                  0
                ]
              },
              {
                "id": 92,
                "properties": {
                  "explicit": false,
                  "duration_ms": 204507,
                  "year": 2019,
                  "album": "No.6 Collaborations Project",
                  "name": "I Don't Want Your Money (feat. H.E.R.)",
                  "danceability": 0.4679999999999999,
                  "energy": 0.63,
                  "label": "Track"
                },
                "label": "Track",
                "color": "#17bebb",
                "styles": {
                  "color": "#40E0D0",
                  "shape": "ellipse",
                  "label": "label"
                },
                "scale_factor": 1,
                "type": null,
                "position": [
                  0,
                  0
                ]
              },
              {
                "id": 50,
                "properties": {
                  "name": "2 Chainz",
                  "feats": "5,081,836,495",
                  "lead_streams": "3,429,709,034",
                  "label": "Artist"
                },
                "label": "2 Chainz",
                "color": "#17bebb",
                "styles": {
                  "color": "#FF8C00",
                  "shape": "ellipse",
                  "label": "name"
                },
                "scale_factor": 1,
                "type": null,
                "position": [
                  0,
                  0
                ]
              },
              {
                "id": 51,
                "properties": {
                  "name": "Bryan Adams",
                  "feats": "739,286,985",
                  "lead_streams": "3,365,887,458",
                  "label": "Artist"
                },
                "label": "Bryan Adams",
                "color": "#17bebb",
                "styles": {
                  "color": "#FF8C00",
                  "shape": "ellipse",
                  "label": "name"
                },
                "scale_factor": 1,
                "type": null,
                "position": [
                  0,
                  0
                ]
              },
              {
                "id": 52,
                "properties": {
                  "name": "Trey Songz",
                  "feats": "1,295,854,047",
                  "lead_streams": "3,357,005,694",
                  "label": "Artist"
                },
                "label": "Trey Songz",
                "color": "#17bebb",
                "styles": {
                  "color": "#FF8C00",
                  "shape": "ellipse",
                  "label": "name"
                },
                "scale_factor": 1,
                "type": null,
                "position": [
                  0,
                  0
                ]
              },
              {
                "id": 121,
                "properties": {
                  "duration_ms": 273640,
                  "explicit": true,
                  "year": 2015,
                  "album": "Trigga Reloaded",
                  "name": "Foreign Remix (feat. Justin Bieber)",
                  "danceability": 0.7090000000000001,
                  "energy": 0.583,
                  "label": "Track"
                },
                "label": "Track",
                "color": "#17bebb",
                "styles": {
                  "color": "#40E0D0",
                  "shape": "ellipse",
                  "label": "label"
                },
                "scale_factor": 1,
                "type": null,
                "position": [
                  0,
                  0
                ]
              },
              {
                "id": 53,
                "properties": {
                  "name": "Tainy",
                  "feats": "5,360,562,962",
                  "lead_streams": "3,255,357,184",
                  "label": "Artist"
                },
                "label": "Tainy",
                "color": "#17bebb",
                "styles": {
                  "color": "#FF8C00",
                  "shape": "ellipse",
                  "label": "name"
                },
                "scale_factor": 1,
                "type": null,
                "position": [
                  0,
                  0
                ]
              },
              {
                "id": 206,
                "properties": {
                  "duration_ms": 250534,
                  "explicit": true,
                  "year": 2019,
                  "album": "Callaita",
                  "name": "Callaita",
                  "danceability": 0.61,
                  "energy": 0.624,
                  "label": "Track"
                },
                "label": "Track",
                "color": "#17bebb",
                "styles": {
                  "color": "#40E0D0",
                  "shape": "ellipse",
                  "label": "label"
                },
                "scale_factor": 1,
                "type": null,
                "position": [
                  0,
                  0
                ]
              },
              {
                "id": 54,
                "properties": {
                  "name": "PARTYNEXTDOOR",
                  "feats": "0",
                  "lead_streams": "3,243,038,851",
                  "label": "Artist"
                },
                "label": "PARTYNEXTDOOR",
                "color": "#17bebb",
                "styles": {
                  "color": "#FF8C00",
                  "shape": "ellipse",
                  "label": "name"
                },
                "scale_factor": 1,
                "type": null,
                "position": [
                  0,
                  0
                ]
              },
              {
                "id": 292,
                "properties": {
                  "explicit": true,
                  "duration_ms": 281120,
                  "year": 2020,
                  "album": "PARTYMOBILE",
                  "name": "LOYAL (feat. Drake and Bad Bunny) - Remix",
                  "danceability": 0.877,
                  "energy": 0.529,
                  "label": "Track"
                },
                "label": "Track",
                "color": "#17bebb",
                "styles": {
                  "color": "#40E0D0",
                  "shape": "ellipse",
                  "label": "label"
                },
                "scale_factor": 1,
                "type": null,
                "position": [
                  0,
                  0
                ]
              },
              {
                "id": 291,
                "properties": {
                  "explicit": false,
                  "duration_ms": 197973,
                  "year": 2020,
                  "album": "PARTYMOBILE",
                  "name": "LOYAL (feat. Drake)",
                  "danceability": 0.866,
                  "energy": 0.53,
                  "label": "Track"
                },
                "label": "Track",
                "color": "#17bebb",
                "styles": {
                  "color": "#40E0D0",
                  "shape": "ellipse",
                  "label": "label"
                },
                "scale_factor": 1,
                "type": null,
                "position": [
                  0,
                  0
                ]
              },
              {
                "id": 287,
                "properties": {
                  "explicit": false,
                  "duration_ms": 259651,
                  "year": 2020,
                  "album": "FIXTAPE",
                  "name": "TWIST & TURN (feat. Drake & PARTYNEXTDOOR)",
                  "danceability": 0.5710000000000001,
                  "energy": 0.747,
                  "label": "Track"
                },
                "label": "Track",
                "color": "#17bebb",
                "styles": {
                  "color": "#40E0D0",
                  "shape": "ellipse",
                  "label": "label"
                },
                "scale_factor": 1,
                "type": null,
                "position": [
                  0,
                  0
                ]
              },
              {
                "id": 55,
                "properties": {
                  "name": "Sam Feldt",
                  "feats": "174,098,397",
                  "lead_streams": "3,107,699,941",
                  "label": "Artist"
                },
                "label": "Sam Feldt",
                "color": "#17bebb",
                "styles": {
                  "color": "#FF8C00",
                  "shape": "ellipse",
                  "label": "name"
                },
                "scale_factor": 1,
                "type": null,
                "position": [
                  0,
                  0
                ]
              },
              {
                "id": 56,
                "properties": {
                  "name": "Chris Stapleton",
                  "feats": "1,117,326,282",
                  "lead_streams": "3,024,791,697",
                  "label": "Artist"
                },
                "label": "Chris Stapleton",
                "color": "#17bebb",
                "styles": {
                  "color": "#FF8C00",
                  "shape": "ellipse",
                  "label": "name"
                },
                "scale_factor": 1,
                "type": null,
                "position": [
                  0,
                  0
                ]
              },
              {
                "id": 95,
                "properties": {
                  "explicit": false,
                  "duration_ms": 209120,
                  "year": 2019,
                  "album": "No.6 Collaborations Project",
                  "name": "BLOW (with Chris Stapleton & Bruno Mars)",
                  "danceability": 0.631,
                  "energy": 0.7959999999999999,
                  "label": "Track"
                },
                "label": "Track",
                "color": "#17bebb",
                "styles": {
                  "color": "#40E0D0",
                  "shape": "ellipse",
                  "label": "label"
                },
                "scale_factor": 1,
                "type": null,
                "position": [
                  0,
                  0
                ]
              },
              {
                "id": 181,
                "properties": {
                  "duration_ms": 209120,
                  "explicit": false,
                  "year": 2019,
                  "album": "BLOW (with Chris Stapleton & Bruno Mars)",
                  "name": "BLOW (with Chris Stapleton & Bruno Mars)",
                  "danceability": 0.631,
                  "energy": 0.7959999999999999,
                  "label": "Track"
                },
                "label": "Track",
                "color": "#17bebb",
                "styles": {
                  "color": "#40E0D0",
                  "shape": "ellipse",
                  "label": "label"
                },
                "scale_factor": 1,
                "type": null,
                "position": [
                  0,
                  0
                ]
              },
              {
                "id": 57,
                "properties": {
                  "name": "Quavo",
                  "feats": "62,540,256",
                  "lead_streams": "3,022,133,428",
                  "label": "Artist"
                },
                "label": "Quavo",
                "color": "#17bebb",
                "styles": {
                  "color": "#FF8C00",
                  "shape": "ellipse",
                  "label": "name"
                },
                "scale_factor": 1,
                "type": null,
                "position": [
                  0,
                  0
                ]
              },
              {
                "id": 242,
                "properties": {
                  "explicit": false,
                  "duration_ms": 212853,
                  "year": 2020,
                  "album": "NOW That's What I Call Music, Vol. 75",
                  "name": "Intentions",
                  "danceability": 0.8140000000000001,
                  "energy": 0.551,
                  "label": "Track"
                },
                "label": "Track",
                "color": "#17bebb",
                "styles": {
                  "color": "#40E0D0",
                  "shape": "ellipse",
                  "label": "label"
                },
                "scale_factor": 1,
                "type": null,
                "position": [
                  0,
                  0
                ]
              },
              {
                "id": 58,
                "properties": {
                  "name": "El Alfa",
                  "feats": "3,762,124",
                  "lead_streams": "2,966,087,446",
                  "label": "Artist"
                },
                "label": "El Alfa",
                "color": "#17bebb",
                "styles": {
                  "color": "#FF8C00",
                  "shape": "ellipse",
                  "label": "name"
                },
                "scale_factor": 1,
                "type": null,
                "position": [
                  0,
                  0
                ]
              },
              {
                "id": 217,
                "properties": {
                  "duration_ms": 300579,
                  "explicit": true,
                  "year": 2018,
                  "album": "X 100PRE",
                  "name": "La Romana",
                  "danceability": 0.655,
                  "energy": 0.725,
                  "label": "Track"
                },
                "label": "Track",
                "color": "#17bebb",
                "styles": {
                  "color": "#40E0D0",
                  "shape": "ellipse",
                  "label": "label"
                },
                "scale_factor": 1,
                "type": null,
                "position": [
                  0,
                  0
                ]
              },
              {
                "id": 59,
                "properties": {
                  "name": "Lunay",
                  "feats": "313,902,252",
                  "lead_streams": "2,925,162,457",
                  "label": "Artist"
                },
                "label": "Lunay",
                "color": "#17bebb",
                "styles": {
                  "color": "#FF8C00",
                  "shape": "ellipse",
                  "label": "name"
                },
                "scale_factor": 1,
                "type": null,
                "position": [
                  0,
                  0
                ]
              },
              {
                "id": 249,
                "properties": {
                  "explicit": false,
                  "duration_ms": 266087,
                  "year": 2019,
                  "album": "Épico",
                  "name": "Soltera - Remix",
                  "danceability": 0.795,
                  "energy": 0.7829999999999999,
                  "label": "Track"
                },
                "label": "Track",
                "color": "#17bebb",
                "styles": {
                  "color": "#40E0D0",
                  "shape": "ellipse",
                  "label": "label"
                },
                "scale_factor": 1,
                "type": null,
                "position": [
                  0,
                  0
                ]
              },
              {
                "id": 178,
                "properties": {
                  "explicit": false,
                  "duration_ms": 266087,
                  "year": 2019,
                  "album": "Soltera (Remix)",
                  "name": "Soltera - Remix",
                  "danceability": 0.795,
                  "energy": 0.7829999999999999,
                  "label": "Track"
                },
                "label": "Track",
                "color": "#17bebb",
                "styles": {
                  "color": "#40E0D0",
                  "shape": "ellipse",
                  "label": "label"
                },
                "scale_factor": 1,
                "type": null,
                "position": [
                  0,
                  0
                ]
              },
              {
                "id": 60,
                "properties": {
                  "name": "Dave",
                  "feats": "2,028,969,469",
                  "lead_streams": "2,749,490,108",
                  "label": "Artist"
                },
                "label": "Dave",
                "color": "#17bebb",
                "styles": {
                  "color": "#FF8C00",
                  "shape": "ellipse",
                  "label": "name"
                },
                "scale_factor": 1,
                "type": null,
                "position": [
                  0,
                  0
                ]
              },
              {
                "id": 61,
                "properties": {
                  "name": "The Game",
                  "feats": "0",
                  "lead_streams": "2,686,873,055",
                  "label": "Artist"
                },
                "label": "The Game",
                "color": "#17bebb",
                "styles": {
                  "color": "#FF8C00",
                  "shape": "ellipse",
                  "label": "name"
                },
                "scale_factor": 1,
                "type": null,
                "position": [
                  0,
                  0
                ]
              },
              {
                "id": 173,
                "properties": {
                  "explicit": true,
                  "duration_ms": 334360,
                  "year": 2016,
                  "album": "The Documentary 2 + 2.5 (Collector's Edition)",
                  "name": "100 (feat. Drake)",
                  "danceability": 0.8009999999999999,
                  "energy": 0.521,
                  "label": "Track"
                },
                "label": "Track",
                "color": "#17bebb",
                "styles": {
                  "color": "#40E0D0",
                  "shape": "ellipse",
                  "label": "label"
                },
                "scale_factor": 1,
                "type": null,
                "position": [
                  0,
                  0
                ]
              },
              {
                "id": 62,
                "properties": {
                  "name": "Stormzy",
                  "feats": "997,592,500",
                  "lead_streams": "2,500,482,085",
                  "label": "Artist"
                },
                "label": "Stormzy",
                "color": "#17bebb",
                "styles": {
                  "color": "#FF8C00",
                  "shape": "ellipse",
                  "label": "name"
                },
                "scale_factor": 1,
                "type": null,
                "position": [
                  0,
                  0
                ]
              },
              {
                "id": 299,
                "properties": {
                  "duration_ms": 176266,
                  "explicit": false,
                  "year": 2019,
                  "album": "Own It (feat. Ed Sheeran & Burna Boy) [Joel Corry Remix]",
                  "name": "Own It (feat. Ed Sheeran & Burna Boy) - Joel Corry Remix",
                  "danceability": 0.747,
                  "energy": 0.863,
                  "label": "Track"
                },
                "label": "Track",
                "color": "#17bebb",
                "styles": {
                  "color": "#40E0D0",
                  "shape": "ellipse",
                  "label": "label"
                },
                "scale_factor": 1,
                "type": null,
                "position": [
                  0,
                  0
                ]
              },
              {
                "id": 84,
                "properties": {
                  "explicit": false,
                  "duration_ms": 189733,
                  "year": 2019,
                  "album": "No.6 Collaborations Project",
                  "name": "Take Me Back to London (feat. Stormzy)",
                  "danceability": 0.885,
                  "energy": 0.762,
                  "label": "Track"
                },
                "label": "Track",
                "color": "#17bebb",
                "styles": {
                  "color": "#40E0D0",
                  "shape": "ellipse",
                  "label": "label"
                },
                "scale_factor": 1,
                "type": null,
                "position": [
                  0,
                  0
                ]
              },
              {
                "id": 63,
                "properties": {
                  "name": "Rick Ross",
                  "feats": "4,970,243,020",
                  "lead_streams": "2,491,175,711",
                  "label": "Artist"
                },
                "label": "Rick Ross",
                "color": "#17bebb",
                "styles": {
                  "color": "#FF8C00",
                  "shape": "ellipse",
                  "label": "name"
                },
                "scale_factor": 1,
                "type": null,
                "position": [
                  0,
                  0
                ]
              },
              {
                "id": 247,
                "properties": {
                  "duration_ms": 345160,
                  "explicit": true,
                  "year": 2019,
                  "album": "Gold Roses (feat. Drake)",
                  "name": "Gold Roses (feat. Drake)",
                  "danceability": 0.581,
                  "energy": 0.642,
                  "label": "Track"
                },
                "label": "Track",
                "color": "#17bebb",
                "styles": {
                  "color": "#40E0D0",
                  "shape": "ellipse",
                  "label": "label"
                },
                "scale_factor": 1,
                "type": null,
                "position": [
                  0,
                  0
                ]
              },
              {
                "id": 233,
                "properties": {
                  "explicit": true,
                  "duration_ms": 349600,
                  "year": 2019,
                  "album": "Port of Miami 2",
                  "name": "Gold Roses (feat. Drake)",
                  "danceability": 0.502,
                  "energy": 0.633,
                  "label": "Track"
                },
                "label": "Track",
                "color": "#17bebb",
                "styles": {
                  "color": "#40E0D0",
                  "shape": "ellipse",
                  "label": "label"
                },
                "scale_factor": 1,
                "type": null,
                "position": [
                  0,
                  0
                ]
              },
              {
                "id": 64,
                "properties": {
                  "name": "Joel Corry",
                  "feats": "63,258,648",
                  "lead_streams": "2,415,759,211",
                  "label": "Artist"
                },
                "label": "Joel Corry",
                "color": "#17bebb",
                "styles": {
                  "color": "#FF8C00",
                  "shape": "ellipse",
                  "label": "name"
                },
                "scale_factor": 1,
                "type": null,
                "position": [
                  0,
                  0
                ]
              },
              {
                "id": 65,
                "properties": {
                  "name": "Casper Magico",
                  "feats": "194,400,208",
                  "lead_streams": "2,324,673,947",
                  "label": "Artist"
                },
                "label": "Casper Magico",
                "color": "#17bebb",
                "styles": {
                  "color": "#FF8C00",
                  "shape": "ellipse",
                  "label": "name"
                },
                "scale_factor": 1,
                "type": null,
                "position": [
                  0,
                  0
                ]
              },
              {
                "id": 171,
                "properties": {
                  "duration_ms": 517810,
                  "explicit": true,
                  "year": 2017,
                  "album": "47 (Remix)",
                  "name": "47 - Remix",
                  "danceability": 0.711,
                  "energy": 0.6990000000000001,
                  "label": "Track"
                },
                "label": "Track",
                "color": "#17bebb",
                "styles": {
                  "color": "#40E0D0",
                  "shape": "ellipse",
                  "label": "label"
                },
                "scale_factor": 1,
                "type": null,
                "position": [
                  0,
                  0
                ]
              },
              {
                "id": 66,
                "properties": {
                  "name": "Bryant Myers",
                  "feats": "2,211,793,211",
                  "lead_streams": "2,296,987,693",
                  "label": "Artist"
                },
                "label": "Bryant Myers",
                "color": "#17bebb",
                "styles": {
                  "color": "#FF8C00",
                  "shape": "ellipse",
                  "label": "name"
                },
                "scale_factor": 1,
                "type": null,
                "position": [
                  0,
                  0
                ]
              },
              {
                "id": 177,
                "properties": {
                  "duration_ms": 264906,
                  "explicit": true,
                  "year": 2018,
                  "album": "La Oscuridad",
                  "name": "Triste",
                  "danceability": 0.6920000000000001,
                  "energy": 0.7190000000000001,
                  "label": "Track"
                },
                "label": "Track",
                "color": "#17bebb",
                "styles": {
                  "color": "#40E0D0",
                  "shape": "ellipse",
                  "label": "label"
                },
                "scale_factor": 1,
                "type": null,
                "position": [
                  0,
                  0
                ]
              },
              {
                "id": 67,
                "properties": {
                  "name": "PnB Rock",
                  "feats": "1,859,997,166",
                  "lead_streams": "2,228,993,718",
                  "label": "Artist"
                },
                "label": "PnB Rock",
                "color": "#17bebb",
                "styles": {
                  "color": "#FF8C00",
                  "shape": "ellipse",
                  "label": "name"
                },
                "scale_factor": 1,
                "type": null,
                "position": [
                  0,
                  0
                ]
              },
              {
                "id": 68,
                "properties": {
                  "name": "Ella Mai",
                  "feats": "334,957,558",
                  "lead_streams": "2,161,392,693",
                  "label": "Artist"
                },
                "label": "Ella Mai",
                "color": "#17bebb",
                "styles": {
                  "color": "#FF8C00",
                  "shape": "ellipse",
                  "label": "name"
                },
                "scale_factor": 1,
                "type": null,
                "position": [
                  0,
                  0
                ]
              },
              {
                "id": 248,
                "properties": {
                  "duration_ms": 197093,
                  "explicit": false,
                  "year": 2019,
                  "album": "Put It All on Me (feat. Ella Mai)",
                  "name": "Put It All on Me (feat. Ella Mai)",
                  "danceability": 0.627,
                  "energy": 0.594,
                  "label": "Track"
                },
                "label": "Track",
                "color": "#17bebb",
                "styles": {
                  "color": "#40E0D0",
                  "shape": "ellipse",
                  "label": "label"
                },
                "scale_factor": 1,
                "type": null,
                "position": [
                  0,
                  0
                ]
              },
              {
                "id": 109,
                "properties": {
                  "explicit": false,
                  "duration_ms": 197093,
                  "year": 2019,
                  "album": "No.6 Collaborations Project",
                  "name": "Put It All on Me (feat. Ella Mai)",
                  "danceability": 0.627,
                  "energy": 0.594,
                  "label": "Track"
                },
                "label": "Track",
                "color": "#17bebb",
                "styles": {
                  "color": "#40E0D0",
                  "shape": "ellipse",
                  "label": "label"
                },
                "scale_factor": 1,
                "type": null,
                "position": [
                  0,
                  0
                ]
              },
              {
                "id": 90,
                "properties": {
                  "explicit": false,
                  "duration_ms": 197093,
                  "year": 2019,
                  "album": "No.6 Collaborations Project",
                  "name": "Put It All on Me (feat. Ella Mai)",
                  "danceability": 0.627,
                  "energy": 0.594,
                  "label": "Track"
                },
                "label": "Track",
                "color": "#17bebb",
                "styles": {
                  "color": "#40E0D0",
                  "shape": "ellipse",
                  "label": "label"
                },
                "scale_factor": 1,
                "type": null,
                "position": [
                  0,
                  0
                ]
              },
              {
                "id": 69,
                "properties": {
                  "name": "iann dior",
                  "feats": "2,291,368,890",
                  "lead_streams": "2,102,922,842",
                  "label": "Artist"
                },
                "label": "iann dior",
                "color": "#17bebb",
                "styles": {
                  "color": "#FF8C00",
                  "shape": "ellipse",
                  "label": "name"
                },
                "scale_factor": 1,
                "type": null,
                "position": [
                  0,
                  0
                ]
              },
              {
                "id": 70,
                "properties": {
                  "name": "Pharrell Williams",
                  "feats": "6,537,561,403",
                  "lead_streams": "2,077,074,226",
                  "label": "Artist"
                },
                "label": "Pharrell Williams",
                "color": "#17bebb",
                "styles": {
                  "color": "#FF8C00",
                  "shape": "ellipse",
                  "label": "name"
                },
                "scale_factor": 1,
                "type": null,
                "position": [
                  0,
                  0
                ]
              },
              {
                "id": 71,
                "properties": {
                  "name": "Cosculluela",
                  "feats": "1,068,089,499",
                  "lead_streams": "1,973,500,286",
                  "label": "Artist"
                },
                "label": "Cosculluela",
                "color": "#17bebb",
                "styles": {
                  "color": "#FF8C00",
                  "shape": "ellipse",
                  "label": "name"
                },
                "scale_factor": 1,
                "type": null,
                "position": [
                  0,
                  0
                ]
              },
              {
                "id": 331,
                "properties": {
                  "explicit": true,
                  "duration_ms": 331440,
                  "year": 2017,
                  "album": "Tu No Metes Cabra Remix",
                  "name": "Tu No Metes Cabra - Remix",
                  "danceability": 0.848,
                  "energy": 0.574,
                  "label": "Track"
                },
                "label": "Track",
                "color": "#17bebb",
                "styles": {
                  "color": "#40E0D0",
                  "shape": "ellipse",
                  "label": "label"
                },
                "scale_factor": 1,
                "type": null,
                "position": [
                  0,
                  0
                ]
              },
              {
                "id": 72,
                "properties": {
                  "name": "Loud Luxury",
                  "feats": "89,734,246",
                  "lead_streams": "1,898,927,877",
                  "label": "Artist"
                },
                "label": "Loud Luxury",
                "color": "#17bebb",
                "styles": {
                  "color": "#FF8C00",
                  "shape": "ellipse",
                  "label": "name"
                },
                "scale_factor": 1,
                "type": null,
                "position": [
                  0,
                  0
                ]
              },
              {
                "id": 196,
                "properties": {
                  "duration_ms": 194754,
                  "explicit": false,
                  "year": 2019,
                  "album": "I Don't Care (with Justin Bieber) [Loud Luxury Remix]",
                  "name": "I Don't Care (with Justin Bieber) - Loud Luxury Remix",
                  "danceability": 0.748,
                  "energy": 0.916,
                  "label": "Track"
                },
                "label": "Track",
                "color": "#17bebb",
                "styles": {
                  "color": "#40E0D0",
                  "shape": "ellipse",
                  "label": "label"
                },
                "scale_factor": 1,
                "type": null,
                "position": [
                  0,
                  0
                ]
              },
              {
                "id": 73,
                "properties": {
                  "name": "MØ",
                  "feats": "3,388,886,631",
                  "lead_streams": "1,867,886,470",
                  "label": "Artist"
                },
                "label": "MØ",
                "color": "#17bebb",
                "styles": {
                  "color": "#FF8C00",
                  "shape": "ellipse",
                  "label": "name"
                },
                "scale_factor": 1,
                "type": null,
                "position": [
                  0,
                  0
                ]
              },
              {
                "id": 74,
                "properties": {
                  "name": "Burna Boy",
                  "feats": "1,671,152,465",
                  "lead_streams": "1,821,371,663",
                  "label": "Artist"
                },
                "label": "Burna Boy",
                "color": "#17bebb",
                "styles": {
                  "color": "#FF8C00",
                  "shape": "ellipse",
                  "label": "name"
                },
                "scale_factor": 1,
                "type": null,
                "position": [
                  0,
                  0
                ]
              },
              {
                "id": 75,
                "properties": {
                  "name": "Mora",
                  "feats": "348,503,971",
                  "lead_streams": "1,805,158,864",
                  "label": "Artist"
                },
                "label": "Mora",
                "color": "#17bebb",
                "styles": {
                  "color": "#FF8C00",
                  "shape": "ellipse",
                  "label": "name"
                },
                "scale_factor": 1,
                "type": null,
                "position": [
                  0,
                  0
                ]
              },
              {
                "id": 278,
                "properties": {
                  "duration_ms": 232496,
                  "explicit": true,
                  "year": 2020,
                  "album": "YHLQMDLG",
                  "name": "Una Vez",
                  "danceability": 0.55,
                  "energy": 0.598,
                  "label": "Track"
                },
                "label": "Track",
                "color": "#17bebb",
                "styles": {
                  "color": "#40E0D0",
                  "shape": "ellipse",
                  "label": "label"
                },
                "scale_factor": 1,
                "type": null,
                "position": [
                  0,
                  0
                ]
              },
              {
                "id": 76,
                "properties": {
                  "name": "Darell",
                  "feats": "4,780,307,242",
                  "lead_streams": "1,768,464,822",
                  "label": "Artist"
                },
                "label": "Darell",
                "color": "#17bebb",
                "styles": {
                  "color": "#FF8C00",
                  "shape": "ellipse",
                  "label": "name"
                },
                "scale_factor": 1,
                "type": null,
                "position": [
                  0,
                  0
                ]
              },
              {
                "id": 77,
                "properties": {
                  "name": "Jack Ü",
                  "feats": "956,750",
                  "lead_streams": "1,685,398,303",
                  "label": "Artist"
                },
                "label": "Jack Ü",
                "color": "#17bebb",
                "styles": {
                  "color": "#FF8C00",
                  "shape": "ellipse",
                  "label": "name"
                },
                "scale_factor": 1,
                "type": null,
                "position": [
                  0,
                  0
                ]
              },
              {
                "id": 78,
                "properties": {
                  "name": "Jowell & Randy",
                  "feats": "882,987,056",
                  "lead_streams": "1,598,782,161",
                  "label": "Artist"
                },
                "label": "Jowell & Randy",
                "color": "#17bebb",
                "styles": {
                  "color": "#FF8C00",
                  "shape": "ellipse",
                  "label": "name"
                },
                "scale_factor": 1,
                "type": null,
                "position": [
                  0,
                  0
                ]
              },
              {
                "id": 279,
                "properties": {
                  "duration_ms": 295177,
                  "explicit": true,
                  "year": 2020,
                  "album": "YHLQMDLG",
                  "name": "Safaera",
                  "danceability": 0.607,
                  "energy": 0.8290000000000001,
                  "label": "Track"
                },
                "label": "Track",
                "color": "#17bebb",
                "styles": {
                  "color": "#40E0D0",
                  "shape": "ellipse",
                  "label": "label"
                },
                "scale_factor": 1,
                "type": null,
                "position": [
                  0,
                  0
                ]
              },
              {
                "id": 79,
                "properties": {
                  "name": "Jeezy",
                  "feats": "1,437,063,010",
                  "lead_streams": "1,485,078,408",
                  "label": "Artist"
                },
                "label": "Jeezy",
                "color": "#17bebb",
                "styles": {
                  "color": "#FF8C00",
                  "shape": "ellipse",
                  "label": "name"
                },
                "scale_factor": 1,
                "type": null,
                "position": [
                  0,
                  0
                ]
              },
              {
                "id": 370,
                "properties": {
                  "name": "Marshmello",
                  "feats": "641,714,533",
                  "lead_streams": "13,049,327,287",
                  "label": "Artist"
                },
                "label": "Marshmello",
                "color": "#17bebb",
                "styles": {
                  "color": "#FF8C00",
                  "shape": "ellipse",
                  "label": "name"
                },
                "scale_factor": 1,
                "type": null,
                "position": [
                  0,
                  0
                ]
              },
              {
                "id": 371,
                "properties": {
                  "name": "Farruko",
                  "feats": "6,531,990,862",
                  "lead_streams": "11,983,825,654",
                  "label": "Artist"
                },
                "label": "Farruko",
                "color": "#17bebb",
                "styles": {
                  "color": "#FF8C00",
                  "shape": "ellipse",
                  "label": "name"
                },
                "scale_factor": 1,
                "type": null,
                "position": [
                  0,
                  0
                ]
              },
              {
                "id": 180,
                "properties": {
                  "duration_ms": 289907,
                  "explicit": false,
                  "year": 2019,
                  "album": "Gangalee",
                  "name": "La Cartera",
                  "danceability": 0.7709999999999999,
                  "energy": 0.7959999999999999,
                  "label": "Track"
                },
                "label": "Track",
                "color": "#17bebb",
                "styles": {
                  "color": "#40E0D0",
                  "shape": "ellipse",
                  "label": "label"
                },
                "scale_factor": 1,
                "type": null,
                "position": [
                  0,
                  0
                ]
              },
              {
                "id": 372,
                "properties": {
                  "name": "Drake",
                  "feats": "19,246,513,666",
                  "lead_streams": "50,162,292,808",
                  "label": "Artist"
                },
                "label": "Drake",
                "color": "#17bebb",
                "styles": {
                  "color": "#FF8C00",
                  "shape": "ellipse",
                  "label": "name"
                },
                "scale_factor": 1,
                "type": null,
                "position": [
                  0,
                  0
                ]
              },
              {
                "id": 328,
                "properties": {
                  "explicit": true,
                  "duration_ms": 226220,
                  "year": 2020,
                  "album": "Love Scars: The 5 Stages Of Emotions (Deluxe)",
                  "name": "You're Mines Still",
                  "danceability": 0.613,
                  "energy": 0.615,
                  "label": "Track"
                },
                "label": "Track",
                "color": "#17bebb",
                "styles": {
                  "color": "#40E0D0",
                  "shape": "ellipse",
                  "label": "label"
                },
                "scale_factor": 1,
                "type": null,
                "position": [
                  0,
                  0
                ]
              },
              {
                "id": 320,
                "properties": {
                  "duration_ms": 378600,
                  "explicit": true,
                  "year": 2014,
                  "album": "BEYONCÉ [Platinum Edition]",
                  "name": "Mine (feat. Drake)",
                  "danceability": 0.557,
                  "energy": 0.428,
                  "label": "Track"
                },
                "label": "Track",
                "color": "#17bebb",
                "styles": {
                  "color": "#40E0D0",
                  "shape": "ellipse",
                  "label": "label"
                },
                "scale_factor": 1,
                "type": null,
                "position": [
                  0,
                  0
                ]
              },
              {
                "id": 314,
                "properties": {
                  "duration_ms": 237918,
                  "explicit": true,
                  "year": 2020,
                  "album": "High Off Life",
                  "name": "Life Is Good (feat. Drake)",
                  "danceability": 0.795,
                  "energy": 0.574,
                  "label": "Track"
                },
                "label": "Track",
                "color": "#17bebb",
                "styles": {
                  "color": "#40E0D0",
                  "shape": "ellipse",
                  "label": "label"
                },
                "scale_factor": 1,
                "type": null,
                "position": [
                  0,
                  0
                ]
              },
              {
                "id": 316,
                "properties": {
                  "duration_ms": 237918,
                  "explicit": false,
                  "year": 2020,
                  "album": "High Off Life",
                  "name": "Life Is Good (feat. Drake)",
                  "danceability": 0.69,
                  "energy": 0.568,
                  "label": "Track"
                },
                "label": "Track",
                "color": "#17bebb",
                "styles": {
                  "color": "#40E0D0",
                  "shape": "ellipse",
                  "label": "label"
                },
                "scale_factor": 1,
                "type": null,
                "position": [
                  0,
                  0
                ]
              },
              {
                "id": 293,
                "properties": {
                  "explicit": true,
                  "duration_ms": 248937,
                  "year": 2020,
                  "album": "Only You Freestyle",
                  "name": "Only You Freestyle",
                  "danceability": 0.68,
                  "energy": 0.826,
                  "label": "Track"
                },
                "label": "Track",
                "color": "#17bebb",
                "styles": {
                  "color": "#40E0D0",
                  "shape": "ellipse",
                  "label": "label"
                },
                "scale_factor": 1,
                "type": null,
                "position": [
                  0,
                  0
                ]
              },
              {
                "id": 288,
                "properties": {
                  "duration_ms": 177899,
                  "explicit": true,
                  "year": 2020,
                  "album": "FIXTAPE",
                  "name": "ALL I NEED (feat. Drake)",
                  "danceability": 0.573,
                  "energy": 0.4270000000000001,
                  "label": "Track"
                },
                "label": "Track",
                "color": "#17bebb",
                "styles": {
                  "color": "#40E0D0",
                  "shape": "ellipse",
                  "label": "label"
                },
                "scale_factor": 1,
                "type": null,
                "position": [
                  0,
                  0
                ]
              },
              {
                "id": 251,
                "properties": {
                  "duration_ms": 260640,
                  "explicit": true,
                  "year": 2019,
                  "album": "Indigo",
                  "name": "No Guidance (feat. Drake)",
                  "danceability": 0.696,
                  "energy": 0.4539999999999999,
                  "label": "Track"
                },
                "label": "Track",
                "color": "#17bebb",
                "styles": {
                  "color": "#40E0D0",
                  "shape": "ellipse",
                  "label": "label"
                },
                "scale_factor": 1,
                "type": null,
                "position": [
                  0,
                  0
                ]
              },
              {
                "id": 295,
                "properties": {
                  "duration_ms": 260640,
                  "explicit": false,
                  "year": 2019,
                  "album": "Indigo",
                  "name": "No Guidance (feat. Drake)",
                  "danceability": 0.698,
                  "energy": 0.449,
                  "label": "Track"
                },
                "label": "Track",
                "color": "#17bebb",
                "styles": {
                  "color": "#40E0D0",
                  "shape": "ellipse",
                  "label": "label"
                },
                "scale_factor": 1,
                "type": null,
                "position": [
                  0,
                  0
                ]
              },
              {
                "id": 256,
                "properties": {
                  "explicit": false,
                  "duration_ms": 260640,
                  "year": 2019,
                  "album": "Indigo (Extended)",
                  "name": "No Guidance (feat. Drake)",
                  "danceability": 0.698,
                  "energy": 0.449,
                  "label": "Track"
                },
                "label": "Track",
                "color": "#17bebb",
                "styles": {
                  "color": "#40E0D0",
                  "shape": "ellipse",
                  "label": "label"
                },
                "scale_factor": 1,
                "type": null,
                "position": [
                  0,
                  0
                ]
              },
              {
                "id": 254,
                "properties": {
                  "explicit": true,
                  "duration_ms": 260640,
                  "year": 2019,
                  "album": "Indigo (Extended)",
                  "name": "No Guidance (feat. Drake)",
                  "danceability": 0.696,
                  "energy": 0.4539999999999999,
                  "label": "Track"
                },
                "label": "Track",
                "color": "#17bebb",
                "styles": {
                  "color": "#40E0D0",
                  "shape": "ellipse",
                  "label": "label"
                },
                "scale_factor": 1,
                "type": null,
                "position": [
                  0,
                  0
                ]
              },
              {
                "id": 244,
                "properties": {
                  "explicit": true,
                  "duration_ms": 163121,
                  "year": 2019,
                  "album": "Top Boy (A Selection of Music Inspired by the Series)",
                  "name": "Behind Barz - Bonus",
                  "danceability": 0.8540000000000001,
                  "energy": 0.5539999999999999,
                  "label": "Track"
                },
                "label": "Track",
                "color": "#17bebb",
                "styles": {
                  "color": "#40E0D0",
                  "shape": "ellipse",
                  "label": "label"
                },
                "scale_factor": 1,
                "type": null,
                "position": [
                  0,
                  0
                ]
              },
              {
                "id": 261,
                "properties": {
                  "explicit": false,
                  "duration_ms": 163121,
                  "year": 2019,
                  "album": "Top Boy (A Selection of Music Inspired by the Series)",
                  "name": "Behind Barz - Bonus",
                  "danceability": 0.856,
                  "energy": 0.5539999999999999,
                  "label": "Track"
                },
                "label": "Track",
                "color": "#17bebb",
                "styles": {
                  "color": "#40E0D0",
                  "shape": "ellipse",
                  "label": "label"
                },
                "scale_factor": 1,
                "type": null,
                "position": [
                  0,
                  0
                ]
              },
              {
                "id": 262,
                "properties": {
                  "explicit": true,
                  "duration_ms": 163121,
                  "year": 2019,
                  "album": "Behind Barz (Bonus)",
                  "name": "Behind Barz - Bonus",
                  "danceability": 0.8540000000000001,
                  "energy": 0.5539999999999999,
                  "label": "Track"
                },
                "label": "Track",
                "color": "#17bebb",
                "styles": {
                  "color": "#40E0D0",
                  "shape": "ellipse",
                  "label": "label"
                },
                "scale_factor": 1,
                "type": null,
                "position": [
                  0,
                  0
                ]
              },
              {
                "id": 235,
                "properties": {
                  "duration_ms": 212433,
                  "explicit": true,
                  "year": 2019,
                  "album": "Ela É do Tipo (feat. Drake) [Remix]",
                  "name": "Ela É do Tipo (feat. Drake) - Remix",
                  "danceability": 0.5760000000000001,
                  "energy": 0.524,
                  "label": "Track"
                },
                "label": "Track",
                "color": "#17bebb",
                "styles": {
                  "color": "#40E0D0",
                  "shape": "ellipse",
                  "label": "label"
                },
                "scale_factor": 1,
                "type": null,
                "position": [
                  0,
                  0
                ]
              },
              {
                "id": 221,
                "properties": {
                  "explicit": false,
                  "duration_ms": 210368,
                  "year": 2018,
                  "album": "X 100PRE",
                  "name": "MIA",
                  "danceability": 0.816,
                  "energy": 0.5379999999999999,
                  "label": "Track"
                },
                "label": "Track",
                "color": "#17bebb",
                "styles": {
                  "color": "#40E0D0",
                  "shape": "ellipse",
                  "label": "label"
                },
                "scale_factor": 1,
                "type": null,
                "position": [
                  0,
                  0
                ]
              },
              {
                "id": 198,
                "properties": {
                  "duration_ms": 271520,
                  "explicit": false,
                  "year": 2009,
                  "album": "The Future of the Future (featuring Cassettes Won't Listen)",
                  "name": "The Future of the Future (feat. Cassettes Won't Listen)",
                  "danceability": 0.621,
                  "energy": 0.687,
                  "label": "Track"
                },
                "label": "Track",
                "color": "#17bebb",
                "styles": {
                  "color": "#40E0D0",
                  "shape": "ellipse",
                  "label": "label"
                },
                "scale_factor": 1,
                "type": null,
                "position": [
                  0,
                  0
                ]
              },
              {
                "id": 168,
                "properties": {
                  "explicit": false,
                  "duration_ms": 210368,
                  "year": 2018,
                  "album": "MIA (feat. Drake)",
                  "name": "MIA (feat. Drake)",
                  "danceability": 0.8170000000000001,
                  "energy": 0.539,
                  "label": "Track"
                },
                "label": "Track",
                "color": "#17bebb",
                "styles": {
                  "color": "#40E0D0",
                  "shape": "ellipse",
                  "label": "label"
                },
                "scale_factor": 1,
                "type": null,
                "position": [
                  0,
                  0
                ]
              },
              {
                "id": 158,
                "properties": {
                  "explicit": false,
                  "duration_ms": 207590,
                  "year": 2015,
                  "album": "DS2 (Deluxe)",
                  "name": "Where Ya At",
                  "danceability": 0.81,
                  "energy": 0.434,
                  "label": "Track"
                },
                "label": "Track",
                "color": "#17bebb",
                "styles": {
                  "color": "#40E0D0",
                  "shape": "ellipse",
                  "label": "label"
                },
                "scale_factor": 1,
                "type": null,
                "position": [
                  0,
                  0
                ]
              },
              {
                "id": 118,
                "properties": {
                  "duration_ms": 245960,
                  "explicit": true,
                  "year": 2012,
                  "album": "Pluto 3D",
                  "name": "Tony Montana (feat. Drake)",
                  "danceability": 0.674,
                  "energy": 0.732,
                  "label": "Track"
                },
                "label": "Track",
                "color": "#17bebb",
                "styles": {
                  "color": "#40E0D0",
                  "shape": "ellipse",
                  "label": "label"
                },
                "scale_factor": 1,
                "type": null,
                "position": [
                  0,
                  0
                ]
              },
              {
                "id": 117,
                "properties": {
                  "duration_ms": 201973,
                  "explicit": true,
                  "year": 2012,
                  "album": "Quality Street Music",
                  "name": "We In This 1.5 (feat. Drake and Future)",
                  "danceability": 0.402,
                  "energy": 0.8390000000000001,
                  "label": "Track"
                },
                "label": "Track",
                "color": "#17bebb",
                "styles": {
                  "color": "#40E0D0",
                  "shape": "ellipse",
                  "label": "label"
                },
                "scale_factor": 1,
                "type": null,
                "position": [
                  0,
                  0
                ]
              },
              {
                "id": 373,
                "properties": {
                  "name": "Bad Bunny",
                  "feats": "5,391,990,975",
                  "lead_streams": "44,369,032,140",
                  "label": "Artist"
                },
                "label": "Bad Bunny",
                "color": "#17bebb",
                "styles": {
                  "color": "#FF8C00",
                  "shape": "ellipse",
                  "label": "name"
                },
                "scale_factor": 1,
                "type": null,
                "position": [
                  0,
                  0
                ]
              },
              {
                "id": 348,
                "properties": {
                  "duration_ms": 221187,
                  "explicit": false,
                  "year": 2020,
                  "album": "EL ÚLTIMO TOUR DEL MUNDO",
                  "name": "ANTES QUE SE ACABE",
                  "danceability": 0.693,
                  "energy": 0.5489999999999999,
                  "label": "Track"
                },
                "label": "Track",
                "color": "#17bebb",
                "styles": {
                  "color": "#40E0D0",
                  "shape": "ellipse",
                  "label": "label"
                },
                "scale_factor": 1,
                "type": null,
                "position": [
                  0,
                  0
                ]
              },
              {
                "id": 347,
                "properties": {
                  "explicit": true,
                  "duration_ms": 151506,
                  "year": 2020,
                  "album": "EL ÚLTIMO TOUR DEL MUNDO",
                  "name": "120",
                  "danceability": 0.636,
                  "energy": 0.6559999999999999,
                  "label": "Track"
                },
                "label": "Track",
                "color": "#17bebb",
                "styles": {
                  "color": "#40E0D0",
                  "shape": "ellipse",
                  "label": "label"
                },
                "scale_factor": 1,
                "type": null,
                "position": [
                  0,
                  0
                ]
              },
              {
                "id": 346,
                "properties": {
                  "duration_ms": 163053,
                  "explicit": true,
                  "year": 2020,
                  "album": "EL ÚLTIMO TOUR DEL MUNDO",
                  "name": "SORRY PAPI",
                  "danceability": 0.612,
                  "energy": 0.561,
                  "label": "Track"
                },
                "label": "Track",
                "color": "#17bebb",
                "styles": {
                  "color": "#40E0D0",
                  "shape": "ellipse",
                  "label": "label"
                },
                "scale_factor": 1,
                "type": null,
                "position": [
                  0,
                  0
                ]
              },
              {
                "id": 345,
                "properties": {
                  "duration_ms": 157673,
                  "explicit": false,
                  "year": 2020,
                  "album": "EL ÚLTIMO TOUR DEL MUNDO",
                  "name": "TRELLAS",
                  "danceability": 0.43,
                  "energy": 0.412,
                  "label": "Track"
                },
                "label": "Track",
                "color": "#17bebb",
                "styles": {
                  "color": "#40E0D0",
                  "shape": "ellipse",
                  "label": "label"
                },
                "scale_factor": 1,
                "type": null,
                "position": [
                  0,
                  0
                ]
              },
              {
                "id": 343,
                "properties": {
                  "duration_ms": 162299,
                  "explicit": true,
                  "year": 2020,
                  "album": "EL ÚLTIMO TOUR DEL MUNDO",
                  "name": "LA DROGA",
                  "danceability": 0.643,
                  "energy": 0.727,
                  "label": "Track"
                },
                "label": "Track",
                "color": "#17bebb",
                "styles": {
                  "color": "#40E0D0",
                  "shape": "ellipse",
                  "label": "label"
                },
                "scale_factor": 1,
                "type": null,
                "position": [
                  0,
                  0
                ]
              },
              {
                "id": 342,
                "properties": {
                  "duration_ms": 156430,
                  "explicit": true,
                  "year": 2020,
                  "album": "EL ÚLTIMO TOUR DEL MUNDO",
                  "name": "BOOKER T",
                  "danceability": 0.883,
                  "energy": 0.6,
                  "label": "Track"
                },
                "label": "Track",
                "color": "#17bebb",
                "styles": {
                  "color": "#40E0D0",
                  "shape": "ellipse",
                  "label": "label"
                },
                "scale_factor": 1,
                "type": null,
                "position": [
                  0,
                  0
                ]
              },
              {
                "id": 341,
                "properties": {
                  "duration_ms": 217769,
                  "explicit": true,
                  "year": 2020,
                  "album": "EL ÚLTIMO TOUR DEL MUNDO",
                  "name": "HACIENDO QUE ME AMAS",
                  "danceability": 0.584,
                  "energy": 0.411,
                  "label": "Track"
                },
                "label": "Track",
                "color": "#17bebb",
                "styles": {
                  "color": "#40E0D0",
                  "shape": "ellipse",
                  "label": "label"
                },
                "scale_factor": 1,
                "type": null,
                "position": [
                  0,
                  0
                ]
              },
              {
                "id": 340,
                "properties": {
                  "duration_ms": 191526,
                  "explicit": false,
                  "year": 2020,
                  "album": "EL ÚLTIMO TOUR DEL MUNDO",
                  "name": "YO VISTO ASÍ",
                  "danceability": 0.688,
                  "energy": 0.8809999999999999,
                  "label": "Track"
                },
                "label": "Track",
                "color": "#17bebb",
                "styles": {
                  "color": "#40E0D0",
                  "shape": "ellipse",
                  "label": "label"
                },
                "scale_factor": 1,
                "type": null,
                "position": [
                  0,
                  0
                ]
              },
              {
                "id": 339,
                "properties": {
                  "duration_ms": 139576,
                  "explicit": true,
                  "year": 2020,
                  "album": "EL ÚLTIMO TOUR DEL MUNDO",
                  "name": "TE DESEO LO MEJOR",
                  "danceability": 0.763,
                  "energy": 0.597,
                  "label": "Track"
                },
                "label": "Track",
                "color": "#17bebb",
                "styles": {
                  "color": "#40E0D0",
                  "shape": "ellipse",
                  "label": "label"
                },
                "scale_factor": 1,
                "type": null,
                "position": [
                  0,
                  0
                ]
              },
              {
                "id": 337,
                "properties": {
                  "duration_ms": 213609,
                  "explicit": true,
                  "year": 2020,
                  "album": "EL ÚLTIMO TOUR DEL MUNDO",
                  "name": "MALDITA POBREZA",
                  "danceability": 0.762,
                  "energy": 0.861,
                  "label": "Track"
                },
                "label": "Track",
                "color": "#17bebb",
                "styles": {
                  "color": "#40E0D0",
                  "shape": "ellipse",
                  "label": "label"
                },
                "scale_factor": 1,
                "type": null,
                "position": [
                  0,
                  0
                ]
              },
              {
                "id": 336,
                "properties": {
                  "duration_ms": 162151,
                  "explicit": true,
                  "year": 2020,
                  "album": "EL ÚLTIMO TOUR DEL MUNDO",
                  "name": "HOY COBRÉ",
                  "danceability": 0.86,
                  "energy": 0.725,
                  "label": "Track"
                },
                "label": "Track",
                "color": "#17bebb",
                "styles": {
                  "color": "#40E0D0",
                  "shape": "ellipse",
                  "label": "label"
                },
                "scale_factor": 1,
                "type": null,
                "position": [
                  0,
                  0
                ]
              },
              {
                "id": 335,
                "properties": {
                  "duration_ms": 130014,
                  "explicit": true,
                  "year": 2020,
                  "album": "EL ÚLTIMO TOUR DEL MUNDO",
                  "name": "TE MUDASTE",
                  "danceability": 0.8109999999999999,
                  "energy": 0.637,
                  "label": "Track"
                },
                "label": "Track",
                "color": "#17bebb",
                "styles": {
                  "color": "#40E0D0",
                  "shape": "ellipse",
                  "label": "label"
                },
                "scale_factor": 1,
                "type": null,
                "position": [
                  0,
                  0
                ]
              },
              {
                "id": 334,
                "properties": {
                  "duration_ms": 165199,
                  "explicit": false,
                  "year": 2020,
                  "album": "EL ÚLTIMO TOUR DEL MUNDO",
                  "name": "EL MUNDO ES MÍO",
                  "danceability": 0.716,
                  "energy": 0.522,
                  "label": "Track"
                },
                "label": "Track",
                "color": "#17bebb",
                "styles": {
                  "color": "#40E0D0",
                  "shape": "ellipse",
                  "label": "label"
                },
                "scale_factor": 1,
                "type": null,
                "position": [
                  0,
                  0
                ]
              },
              {
                "id": 319,
                "properties": {
                  "duration_ms": 226379,
                  "explicit": true,
                  "year": 2020,
                  "album": "Emmanuel",
                  "name": "Así Soy Yo",
                  "danceability": 0.732,
                  "energy": 0.807,
                  "label": "Track"
                },
                "label": "Track",
                "color": "#17bebb",
                "styles": {
                  "color": "#40E0D0",
                  "shape": "ellipse",
                  "label": "label"
                },
                "scale_factor": 1,
                "type": null,
                "position": [
                  0,
                  0
                ]
              },
              {
                "id": 318,
                "properties": {
                  "explicit": true,
                  "duration_ms": 246000,
                  "year": 2020,
                  "album": "Emmanuel",
                  "name": "Hasta Que Dios Diga",
                  "danceability": 0.691,
                  "energy": 0.765,
                  "label": "Track"
                },
                "label": "Track",
                "color": "#17bebb",
                "styles": {
                  "color": "#40E0D0",
                  "shape": "ellipse",
                  "label": "label"
                },
                "scale_factor": 1,
                "type": null,
                "position": [
                  0,
                  0
                ]
              },
              {
                "id": 310,
                "properties": {
                  "explicit": false,
                  "duration_ms": 176440,
                  "year": 2020,
                  "album": "LAS QUE NO IBAN A SALIR",
                  "name": "EN CASITA",
                  "danceability": 0.779,
                  "energy": 0.764,
                  "label": "Track"
                },
                "label": "Track",
                "color": "#17bebb",
                "styles": {
                  "color": "#40E0D0",
                  "shape": "ellipse",
                  "label": "label"
                },
                "scale_factor": 1,
                "type": null,
                "position": [
                  0,
                  0
                ]
              },
              {
                "id": 309,
                "properties": {
                  "explicit": true,
                  "duration_ms": 150060,
                  "year": 2020,
                  "album": "LAS QUE NO IBAN A SALIR",
                  "name": "RONCA FREESTYLE",
                  "danceability": 0.856,
                  "energy": 0.6559999999999999,
                  "label": "Track"
                },
                "label": "Track",
                "color": "#17bebb",
                "styles": {
                  "color": "#40E0D0",
                  "shape": "ellipse",
                  "label": "label"
                },
                "scale_factor": 1,
                "type": null,
                "position": [
                  0,
                  0
                ]
              },
              {
                "id": 307,
                "properties": {
                  "explicit": false,
                  "duration_ms": 155060,
                  "year": 2020,
                  "album": "LAS QUE NO IBAN A SALIR",
                  "name": "BENDICIONES",
                  "danceability": 0.828,
                  "energy": 0.581,
                  "label": "Track"
                },
                "label": "Track",
                "color": "#17bebb",
                "styles": {
                  "color": "#40E0D0",
                  "shape": "ellipse",
                  "label": "label"
                },
                "scale_factor": 1,
                "type": null,
                "position": [
                  0,
                  0
                ]
              },
              {
                "id": 303,
                "properties": {
                  "explicit": true,
                  "duration_ms": 178000,
                  "year": 2020,
                  "album": "LAS QUE NO IBAN A SALIR",
                  "name": "BYE ME FUI",
                  "danceability": 0.7120000000000001,
                  "energy": 0.599,
                  "label": "Track"
                },
                "label": "Track",
                "color": "#17bebb",
                "styles": {
                  "color": "#40E0D0",
                  "shape": "ellipse",
                  "label": "label"
                },
                "scale_factor": 1,
                "type": null,
                "position": [
                  0,
                  0
                ]
              },
              {
                "id": 301,
                "properties": {
                  "explicit": false,
                  "duration_ms": 143240,
                  "year": 2020,
                  "album": "LAS QUE NO IBAN A SALIR",
                  "name": "SI ELLA SALE",
                  "danceability": 0.8690000000000001,
                  "energy": 0.727,
                  "label": "Track"
                },
                "label": "Track",
                "color": "#17bebb",
                "styles": {
                  "color": "#40E0D0",
                  "shape": "ellipse",
                  "label": "label"
                },
                "scale_factor": 1,
                "type": null,
                "position": [
                  0,
                  0
                ]
              },
              {
                "id": 285,
                "properties": {
                  "explicit": false,
                  "duration_ms": 157967,
                  "year": 2020,
                  "album": "YHLQMDLG",
                  "name": "<3",
                  "danceability": 0.631,
                  "energy": 0.665,
                  "label": "Track"
                },
                "label": "Track",
                "color": "#17bebb",
                "styles": {
                  "color": "#40E0D0",
                  "shape": "ellipse",
                  "label": "label"
                },
                "scale_factor": 1,
                "type": null,
                "position": [
                  0,
                  0
                ]
              },
              {
                "id": 113,
                "properties": {
                  "duration_ms": 197968,
                  "explicit": true,
                  "year": 2018,
                  "album": "Solo de Mi",
                  "name": "Solo de Mi",
                  "danceability": 0.743,
                  "energy": 0.73,
                  "label": "Track"
                },
                "label": "Track",
                "color": "#17bebb",
                "styles": {
                  "color": "#40E0D0",
                  "shape": "ellipse",
                  "label": "label"
                },
                "scale_factor": 1,
                "type": null,
                "position": [
                  0,
                  0
                ]
              },
              {
                "id": 215,
                "properties": {
                  "duration_ms": 197968,
                  "explicit": true,
                  "year": 2018,
                  "album": "X 100PRE",
                  "name": "Solo de Mi",
                  "danceability": 0.743,
                  "energy": 0.73,
                  "label": "Track"
                },
                "label": "Track",
                "color": "#17bebb",
                "styles": {
                  "color": "#40E0D0",
                  "shape": "ellipse",
                  "label": "label"
                },
                "scale_factor": 1,
                "type": null,
                "position": [
                  0,
                  0
                ]
              },
              {
                "id": 172,
                "properties": {
                  "duration_ms": 247982,
                  "explicit": false,
                  "year": 2018,
                  "album": "Thinkin (feat. Anuel AA, Bad Bunny & Future)",
                  "name": "Thinkin (feat. Anuel AA, Bad Bunny & Future)",
                  "danceability": 0.871,
                  "energy": 0.599,
                  "label": "Track"
                },
                "label": "Track",
                "color": "#17bebb",
                "styles": {
                  "color": "#40E0D0",
                  "shape": "ellipse",
                  "label": "label"
                },
                "scale_factor": 1,
                "type": null,
                "position": [
                  0,
                  0
                ]
              },
              {
                "id": 174,
                "properties": {
                  "explicit": false,
                  "duration_ms": 328849,
                  "year": 2018,
                  "album": "La Fama Que Camina",
                  "name": "Haters - Remix",
                  "danceability": 0.813,
                  "energy": 0.722,
                  "label": "Track"
                },
                "label": "Track",
                "color": "#17bebb",
                "styles": {
                  "color": "#40E0D0",
                  "shape": "ellipse",
                  "label": "label"
                },
                "scale_factor": 1,
                "type": null,
                "position": [
                  0,
                  0
                ]
              },
              {
                "id": 182,
                "properties": {
                  "duration_ms": 264200,
                  "explicit": false,
                  "year": 2018,
                  "album": "25/7",
                  "name": "Mala y Peligrosa (feat. Bad Bunny)",
                  "danceability": 0.731,
                  "energy": 0.779,
                  "label": "Track"
                },
                "label": "Track",
                "color": "#17bebb",
                "styles": {
                  "color": "#40E0D0",
                  "shape": "ellipse",
                  "label": "label"
                },
                "scale_factor": 1,
                "type": null,
                "position": [
                  0,
                  0
                ]
              },
              {
                "id": 207,
                "properties": {
                  "duration_ms": 236216,
                  "explicit": true,
                  "year": 2018,
                  "album": "X 100PRE",
                  "name": "NI BIEN NI MAL",
                  "danceability": 0.826,
                  "energy": 0.449,
                  "label": "Track"
                },
                "label": "Track",
                "color": "#17bebb",
                "styles": {
                  "color": "#40E0D0",
                  "shape": "ellipse",
                  "label": "label"
                },
                "scale_factor": 1,
                "type": null,
                "position": [
                  0,
                  0
                ]
              },
              {
                "id": 209,
                "properties": {
                  "explicit": true,
                  "duration_ms": 159229,
                  "year": 2018,
                  "album": "X 100PRE",
                  "name": "¿Quien Tu Eres?",
                  "danceability": 0.727,
                  "energy": 0.58,
                  "label": "Track"
                },
                "label": "Track",
                "color": "#17bebb",
                "styles": {
                  "color": "#40E0D0",
                  "shape": "ellipse",
                  "label": "label"
                },
                "scale_factor": 1,
                "type": null,
                "position": [
                  0,
                  0
                ]
              },
              {
                "id": 210,
                "properties": {
                  "explicit": true,
                  "duration_ms": 229456,
                  "year": 2018,
                  "album": "X 100PRE",
                  "name": "Caro",
                  "danceability": 0.6509999999999999,
                  "energy": 0.575,
                  "label": "Track"
                },
                "label": "Track",
                "color": "#17bebb",
                "styles": {
                  "color": "#40E0D0",
                  "shape": "ellipse",
                  "label": "label"
                },
                "scale_factor": 1,
                "type": null,
                "position": [
                  0,
                  0
                ]
              },
              {
                "id": 211,
                "properties": {
                  "explicit": true,
                  "duration_ms": 224512,
                  "year": 2018,
                  "album": "X 100PRE",
                  "name": "Tenemos Que Hablar",
                  "danceability": 0.855,
                  "energy": 0.512,
                  "label": "Track"
                },
                "label": "Track",
                "color": "#17bebb",
                "styles": {
                  "color": "#40E0D0",
                  "shape": "ellipse",
                  "label": "label"
                },
                "scale_factor": 1,
                "type": null,
                "position": [
                  0,
                  0
                ]
              },
              {
                "id": 212,
                "properties": {
                  "explicit": true,
                  "duration_ms": 233128,
                  "year": 2018,
                  "album": "X 100PRE",
                  "name": "Otra Noche en Miami",
                  "danceability": 0.514,
                  "energy": 0.6459999999999999,
                  "label": "Track"
                },
                "label": "Track",
                "color": "#17bebb",
                "styles": {
                  "color": "#40E0D0",
                  "shape": "ellipse",
                  "label": "label"
                },
                "scale_factor": 1,
                "type": null,
                "position": [
                  0,
                  0
                ]
              },
              {
                "id": 213,
                "properties": {
                  "duration_ms": 193211,
                  "explicit": true,
                  "year": 2018,
                  "album": "X 100PRE",
                  "name": "Ser Bichote",
                  "danceability": 0.785,
                  "energy": 0.626,
                  "label": "Track"
                },
                "label": "Track",
                "color": "#17bebb",
                "styles": {
                  "color": "#40E0D0",
                  "shape": "ellipse",
                  "label": "label"
                },
                "scale_factor": 1,
                "type": null,
                "position": [
                  0,
                  0
                ]
              },
              {
                "id": 214,
                "properties": {
                  "duration_ms": 169248,
                  "explicit": true,
                  "year": 2018,
                  "album": "X 100PRE",
                  "name": "Si Estuviésemos Juntos",
                  "danceability": 0.672,
                  "energy": 0.594,
                  "label": "Track"
                },
                "label": "Track",
                "color": "#17bebb",
                "styles": {
                  "color": "#40E0D0",
                  "shape": "ellipse",
                  "label": "label"
                },
                "scale_factor": 1,
                "type": null,
                "position": [
                  0,
                  0
                ]
              },
              {
                "id": 216,
                "properties": {
                  "explicit": true,
                  "duration_ms": 188654,
                  "year": 2018,
                  "album": "X 100PRE",
                  "name": "Cuando Perriabas",
                  "danceability": 0.787,
                  "energy": 0.705,
                  "label": "Track"
                },
                "label": "Track",
                "color": "#17bebb",
                "styles": {
                  "color": "#40E0D0",
                  "shape": "ellipse",
                  "label": "label"
                },
                "scale_factor": 1,
                "type": null,
                "position": [
                  0,
                  0
                ]
              },
              {
                "id": 218,
                "properties": {
                  "duration_ms": 230578,
                  "explicit": false,
                  "year": 2018,
                  "album": "X 100PRE",
                  "name": "Como Antes",
                  "danceability": 0.767,
                  "energy": 0.379,
                  "label": "Track"
                },
                "label": "Track",
                "color": "#17bebb",
                "styles": {
                  "color": "#40E0D0",
                  "shape": "ellipse",
                  "label": "label"
                },
                "scale_factor": 1,
                "type": null,
                "position": [
                  0,
                  0
                ]
              },
              {
                "id": 219,
                "properties": {
                  "explicit": true,
                  "duration_ms": 284853,
                  "year": 2018,
                  "album": "X 100PRE",
                  "name": "RLNDT",
                  "danceability": 0.6,
                  "energy": 0.528,
                  "label": "Track"
                },
                "label": "Track",
                "color": "#17bebb",
                "styles": {
                  "color": "#40E0D0",
                  "shape": "ellipse",
                  "label": "label"
                },
                "scale_factor": 1,
                "type": null,
                "position": [
                  0,
                  0
                ]
              },
              {
                "id": 220,
                "properties": {
                  "duration_ms": 208080,
                  "explicit": false,
                  "year": 2018,
                  "album": "X 100PRE",
                  "name": "Estamos Bien",
                  "danceability": 0.759,
                  "energy": 0.536,
                  "label": "Track"
                },
                "label": "Track",
                "color": "#17bebb",
                "styles": {
                  "color": "#40E0D0",
                  "shape": "ellipse",
                  "label": "label"
                },
                "scale_factor": 1,
                "type": null,
                "position": [
                  0,
                  0
                ]
              },
              {
                "id": 224,
                "properties": {
                  "explicit": false,
                  "duration_ms": 127040,
                  "year": 2018,
                  "album": "Más de un Siglo",
                  "name": "Desde el Corazón",
                  "danceability": 0.7390000000000001,
                  "energy": 0.6629999999999999,
                  "label": "Track"
                },
                "label": "Track",
                "color": "#17bebb",
                "styles": {
                  "color": "#40E0D0",
                  "shape": "ellipse",
                  "label": "label"
                },
                "scale_factor": 1,
                "type": null,
                "position": [
                  0,
                  0
                ]
              },
              {
                "id": 266,
                "properties": {
                  "explicit": false,
                  "duration_ms": 170972,
                  "year": 2020,
                  "album": "YHLQMDLG",
                  "name": "Si Veo a Tu Mamá",
                  "danceability": 0.9,
                  "energy": 0.603,
                  "label": "Track"
                },
                "label": "Track",
                "color": "#17bebb",
                "styles": {
                  "color": "#40E0D0",
                  "shape": "ellipse",
                  "label": "label"
                },
                "scale_factor": 1,
                "type": null,
                "position": [
                  0,
                  0
                ]
              },
              {
                "id": 267,
                "properties": {
                  "duration_ms": 163084,
                  "explicit": true,
                  "year": 2020,
                  "album": "YHLQMDLG",
                  "name": "La Difícil",
                  "danceability": 0.685,
                  "energy": 0.848,
                  "label": "Track"
                },
                "label": "Track",
                "color": "#17bebb",
                "styles": {
                  "color": "#40E0D0",
                  "shape": "ellipse",
                  "label": "label"
                },
                "scale_factor": 1,
                "type": null,
                "position": [
                  0,
                  0
                ]
              },
              {
                "id": 268,
                "properties": {
                  "duration_ms": 160638,
                  "explicit": false,
                  "year": 2020,
                  "album": "YHLQMDLG",
                  "name": "Pero Ya No",
                  "danceability": 0.882,
                  "energy": 0.612,
                  "label": "Track"
                },
                "label": "Track",
                "color": "#17bebb",
                "styles": {
                  "color": "#40E0D0",
                  "shape": "ellipse",
                  "label": "label"
                },
                "scale_factor": 1,
                "type": null,
                "position": [
                  0,
                  0
                ]
              },
              {
                "id": 269,
                "properties": {
                  "duration_ms": 206420,
                  "explicit": true,
                  "year": 2020,
                  "album": "YHLQMDLG",
                  "name": "La Santa",
                  "danceability": 0.7440000000000001,
                  "energy": 0.868,
                  "label": "Track"
                },
                "label": "Track",
                "color": "#17bebb",
                "styles": {
                  "color": "#40E0D0",
                  "shape": "ellipse",
                  "label": "label"
                },
                "scale_factor": 1,
                "type": null,
                "position": [
                  0,
                  0
                ]
              },
              {
                "id": 270,
                "properties": {
                  "duration_ms": 172127,
                  "explicit": false,
                  "year": 2020,
                  "album": "YHLQMDLG",
                  "name": "Yo Perreo Sola",
                  "danceability": 0.86,
                  "energy": 0.758,
                  "label": "Track"
                },
                "label": "Track",
                "color": "#17bebb",
                "styles": {
                  "color": "#40E0D0",
                  "shape": "ellipse",
                  "label": "label"
                },
                "scale_factor": 1,
                "type": null,
                "position": [
                  0,
                  0
                ]
              },
              {
                "id": 271,
                "properties": {
                  "duration_ms": 196500,
                  "explicit": true,
                  "year": 2020,
                  "album": "YHLQMDLG",
                  "name": "Bichiyal",
                  "danceability": 0.737,
                  "energy": 0.7659999999999999,
                  "label": "Track"
                },
                "label": "Track",
                "color": "#17bebb",
                "styles": {
                  "color": "#40E0D0",
                  "shape": "ellipse",
                  "label": "label"
                },
                "scale_factor": 1,
                "type": null,
                "position": [
                  0,
                  0
                ]
              },
              {
                "id": 272,
                "properties": {
                  "duration_ms": 159282,
                  "explicit": true,
                  "year": 2020,
                  "album": "YHLQMDLG",
                  "name": "Soliá",
                  "danceability": 0.71,
                  "energy": 0.81,
                  "label": "Track"
                },
                "label": "Track",
                "color": "#17bebb",
                "styles": {
                  "color": "#40E0D0",
                  "shape": "ellipse",
                  "label": "label"
                },
                "scale_factor": 1,
                "type": null,
                "position": [
                  0,
                  0
                ]
              },
              {
                "id": 273,
                "properties": {
                  "duration_ms": 136893,
                  "explicit": true,
                  "year": 2020,
                  "album": "YHLQMDLG",
                  "name": "La Zona",
                  "danceability": 0.762,
                  "energy": 0.8009999999999999,
                  "label": "Track"
                },
                "label": "Track",
                "color": "#17bebb",
                "styles": {
                  "color": "#40E0D0",
                  "shape": "ellipse",
                  "label": "label"
                },
                "scale_factor": 1,
                "type": null,
                "position": [
                  0,
                  0
                ]
              },
              {
                "id": 274,
                "properties": {
                  "duration_ms": 167975,
                  "explicit": true,
                  "year": 2020,
                  "album": "YHLQMDLG",
                  "name": "Que Malo",
                  "danceability": 0.802,
                  "energy": 0.787,
                  "label": "Track"
                },
                "label": "Track",
                "color": "#17bebb",
                "styles": {
                  "color": "#40E0D0",
                  "shape": "ellipse",
                  "label": "label"
                },
                "scale_factor": 1,
                "type": null,
                "position": [
                  0,
                  0
                ]
              },
              {
                "id": 275,
                "properties": {
                  "explicit": true,
                  "duration_ms": 192024,
                  "year": 2020,
                  "album": "YHLQMDLG",
                  "name": "Vete",
                  "danceability": 0.8859999999999999,
                  "energy": 0.672,
                  "label": "Track"
                },
                "label": "Track",
                "color": "#17bebb",
                "styles": {
                  "color": "#40E0D0",
                  "shape": "ellipse",
                  "label": "label"
                },
                "scale_factor": 1,
                "type": null,
                "position": [
                  0,
                  0
                ]
              },
              {
                "id": 277,
                "properties": {
                  "duration_ms": 175918,
                  "explicit": false,
                  "year": 2020,
                  "album": "YHLQMDLG",
                  "name": "A Tu Merced",
                  "danceability": 0.86,
                  "energy": 0.7909999999999999,
                  "label": "Track"
                },
                "label": "Track",
                "color": "#17bebb",
                "styles": {
                  "color": "#40E0D0",
                  "shape": "ellipse",
                  "label": "label"
                },
                "scale_factor": 1,
                "type": null,
                "position": [
                  0,
                  0
                ]
              },
              {
                "id": 280,
                "properties": {
                  "explicit": false,
                  "duration_ms": 243276,
                  "year": 2020,
                  "album": "YHLQMDLG",
                  "name": "25/8",
                  "danceability": 0.7609999999999999,
                  "energy": 0.732,
                  "label": "Track"
                },
                "label": "Track",
                "color": "#17bebb",
                "styles": {
                  "color": "#40E0D0",
                  "shape": "ellipse",
                  "label": "label"
                },
                "scale_factor": 1,
                "type": null,
                "position": [
                  0,
                  0
                ]
              },
              {
                "id": 281,
                "properties": {
                  "explicit": true,
                  "duration_ms": 227939,
                  "year": 2020,
                  "album": "YHLQMDLG",
                  "name": "Está Cabrón Ser Yo",
                  "danceability": 0.81,
                  "energy": 0.8540000000000001,
                  "label": "Track"
                },
                "label": "Track",
                "color": "#17bebb",
                "styles": {
                  "color": "#40E0D0",
                  "shape": "ellipse",
                  "label": "label"
                },
                "scale_factor": 1,
                "type": null,
                "position": [
                  0,
                  0
                ]
              },
              {
                "id": 374,
                "properties": {
                  "name": "Ed Sheeran",
                  "feats": "2,791,278,201",
                  "lead_streams": "38,153,682,361",
                  "label": "Artist"
                },
                "label": "Ed Sheeran",
                "color": "#17bebb",
                "styles": {
                  "color": "#FF8C00",
                  "shape": "ellipse",
                  "label": "name"
                },
                "scale_factor": 1,
                "type": null,
                "position": [
                  0,
                  0
                ]
              },
              {
                "id": 144,
                "properties": {
                  "explicit": false,
                  "duration_ms": 526387,
                  "year": 2011,
                  "album": "+",
                  "name": "Give Me Love",
                  "danceability": 0.526,
                  "energy": 0.3279999999999999,
                  "label": "Track"
                },
                "label": "Track",
                "color": "#17bebb",
                "styles": {
                  "color": "#40E0D0",
                  "shape": "ellipse",
                  "label": "label"
                },
                "scale_factor": 1,
                "type": null,
                "position": [
                  0,
                  0
                ]
              },
              {
                "id": 228,
                "properties": {
                  "duration_ms": 186853,
                  "explicit": false,
                  "year": 2019,
                  "album": "Beautiful People (Acoustic)",
                  "name": "Beautiful People - Acoustic",
                  "danceability": 0.679,
                  "energy": 0.369,
                  "label": "Track"
                },
                "label": "Track",
                "color": "#17bebb",
                "styles": {
                  "color": "#40E0D0",
                  "shape": "ellipse",
                  "label": "label"
                },
                "scale_factor": 1,
                "type": null,
                "position": [
                  0,
                  0
                ]
              },
              {
                "id": 227,
                "properties": {
                  "duration_ms": 225367,
                  "explicit": false,
                  "year": 2019,
                  "album": "Beautiful People (feat. Khalid) [Danny L Harle Harlecore Remix]",
                  "name": "Beautiful People (feat. Khalid) - Danny L Harle Harlecore Remix",
                  "danceability": 0.4579999999999999,
                  "energy": 0.93,
                  "label": "Track"
                },
                "label": "Track",
                "color": "#17bebb",
                "styles": {
                  "color": "#40E0D0",
                  "shape": "ellipse",
                  "label": "label"
                },
                "scale_factor": 1,
                "type": null,
                "position": [
                  0,
                  0
                ]
              },
              {
                "id": 226,
                "properties": {
                  "duration_ms": 163049,
                  "explicit": false,
                  "year": 2019,
                  "album": "Beautiful People (feat. Khalid) [Jack Wins Remix]",
                  "name": "Beautiful People (feat. Khalid) - Jack Wins Remix",
                  "danceability": 0.675,
                  "energy": 0.919,
                  "label": "Track"
                },
                "label": "Track",
                "color": "#17bebb",
                "styles": {
                  "color": "#40E0D0",
                  "shape": "ellipse",
                  "label": "label"
                },
                "scale_factor": 1,
                "type": null,
                "position": [
                  0,
                  0
                ]
              },
              {
                "id": 189,
                "properties": {
                  "duration_ms": 218373,
                  "explicit": false,
                  "year": 2019,
                  "album": "I Don't Care (with Justin Bieber) [Chronixx & Koffee Remix]",
                  "name": "I Don't Care (with Justin Bieber) - Chronixx & Koffee Remix",
                  "danceability": 0.759,
                  "energy": 0.688,
                  "label": "Track"
                },
                "label": "Track",
                "color": "#17bebb",
                "styles": {
                  "color": "#40E0D0",
                  "shape": "ellipse",
                  "label": "label"
                },
                "scale_factor": 1,
                "type": null,
                "position": [
                  0,
                  0
                ]
              },
              {
                "id": 175,
                "properties": {
                  "duration_ms": 238220,
                  "explicit": false,
                  "year": 2019,
                  "album": "I Don't Care (Acoustic)",
                  "name": "I Don't Care - Acoustic",
                  "danceability": 0.706,
                  "energy": 0.349,
                  "label": "Track"
                },
                "label": "Track",
                "color": "#17bebb",
                "styles": {
                  "color": "#40E0D0",
                  "shape": "ellipse",
                  "label": "label"
                },
                "scale_factor": 1,
                "type": null,
                "position": [
                  0,
                  0
                ]
              },
              {
                "id": 163,
                "properties": {
                  "duration_ms": 259550,
                  "explicit": false,
                  "year": 2017,
                  "album": "Perfect Duet (Ed Sheeran & Beyoncé)",
                  "name": "Perfect Duet (Ed Sheeran & Beyoncé)",
                  "danceability": 0.5870000000000001,
                  "energy": 0.299,
                  "label": "Track"
                },
                "label": "Track",
                "color": "#17bebb",
                "styles": {
                  "color": "#40E0D0",
                  "shape": "ellipse",
                  "label": "label"
                },
                "scale_factor": 1,
                "type": null,
                "position": [
                  0,
                  0
                ]
              },
              {
                "id": 153,
                "properties": {
                  "duration_ms": 280533,
                  "explicit": false,
                  "year": 2017,
                  "album": "How Would You Feel (Paean)",
                  "name": "How Would You Feel (Paean)",
                  "danceability": 0.617,
                  "energy": 0.439,
                  "label": "Track"
                },
                "label": "Track",
                "color": "#17bebb",
                "styles": {
                  "color": "#40E0D0",
                  "shape": "ellipse",
                  "label": "label"
                },
                "scale_factor": 1,
                "type": null,
                "position": [
                  0,
                  0
                ]
              },
              {
                "id": 152,
                "properties": {
                  "explicit": false,
                  "duration_ms": 226227,
                  "year": 2017,
                  "album": "Castle on the Hill (Acoustic)",
                  "name": "Castle on the Hill - Acoustic",
                  "danceability": 0.563,
                  "energy": 0.26,
                  "label": "Track"
                },
                "label": "Track",
                "color": "#17bebb",
                "styles": {
                  "color": "#40E0D0",
                  "shape": "ellipse",
                  "label": "label"
                },
                "scale_factor": 1,
                "type": null,
                "position": [
                  0,
                  0
                ]
              },
              {
                "id": 148,
                "properties": {
                  "explicit": false,
                  "duration_ms": 275882,
                  "year": 2011,
                  "album": "+",
                  "name": "Sunburn - Deluxe Edition",
                  "danceability": 0.4639999999999999,
                  "energy": 0.098,
                  "label": "Track"
                },
                "label": "Track",
                "color": "#17bebb",
                "styles": {
                  "color": "#40E0D0",
                  "shape": "ellipse",
                  "label": "label"
                },
                "scale_factor": 1,
                "type": null,
                "position": [
                  0,
                  0
                ]
              },
              {
                "id": 147,
                "properties": {
                  "explicit": false,
                  "duration_ms": 243163,
                  "year": 2011,
                  "album": "+",
                  "name": "Gold Rush - Deluxe Edition",
                  "danceability": 0.74,
                  "energy": 0.248,
                  "label": "Track"
                },
                "label": "Track",
                "color": "#17bebb",
                "styles": {
                  "color": "#40E0D0",
                  "shape": "ellipse",
                  "label": "label"
                },
                "scale_factor": 1,
                "type": null,
                "position": [
                  0,
                  0
                ]
              },
              {
                "id": 146,
                "properties": {
                  "explicit": false,
                  "duration_ms": 224529,
                  "year": 2011,
                  "album": "+",
                  "name": "Little Bird - Deluxe Edition",
                  "danceability": 0.843,
                  "energy": 0.425,
                  "label": "Track"
                },
                "label": "Track",
                "color": "#17bebb",
                "styles": {
                  "color": "#40E0D0",
                  "shape": "ellipse",
                  "label": "label"
                },
                "scale_factor": 1,
                "type": null,
                "position": [
                  0,
                  0
                ]
              },
              {
                "id": 145,
                "properties": {
                  "explicit": false,
                  "duration_ms": 200756,
                  "year": 2011,
                  "album": "+",
                  "name": "Autumn Leaves - Deluxe Edition",
                  "danceability": 0.555,
                  "energy": 0.257,
                  "label": "Track"
                },
                "label": "Track",
                "color": "#17bebb",
                "styles": {
                  "color": "#40E0D0",
                  "shape": "ellipse",
                  "label": "label"
                },
                "scale_factor": 1,
                "type": null,
                "position": [
                  0,
                  0
                ]
              },
              {
                "id": 81,
                "properties": {
                  "explicit": false,
                  "duration_ms": 197867,
                  "year": 2019,
                  "album": "No.6 Collaborations Project",
                  "name": "Beautiful People (feat. Khalid)",
                  "danceability": 0.64,
                  "energy": 0.647,
                  "label": "Track"
                },
                "label": "Track",
                "color": "#17bebb",
                "styles": {
                  "color": "#40E0D0",
                  "shape": "ellipse",
                  "label": "label"
                },
                "scale_factor": 1,
                "type": null,
                "position": [
                  0,
                  0
                ]
              },
              {
                "id": 195,
                "properties": {
                  "duration_ms": 197867,
                  "explicit": false,
                  "year": 2019,
                  "album": "Beautiful People (feat. Khalid)",
                  "name": "Beautiful People (feat. Khalid)",
                  "danceability": 0.64,
                  "energy": 0.648,
                  "label": "Track"
                },
                "label": "Track",
                "color": "#17bebb",
                "styles": {
                  "color": "#40E0D0",
                  "shape": "ellipse",
                  "label": "label"
                },
                "scale_factor": 1,
                "type": null,
                "position": [
                  0,
                  0
                ]
              },
              {
                "id": 103,
                "properties": {
                  "explicit": false,
                  "duration_ms": 197867,
                  "year": 2019,
                  "album": "No.6 Collaborations Project",
                  "name": "Beautiful People (feat. Khalid)",
                  "danceability": 0.64,
                  "energy": 0.648,
                  "label": "Track"
                },
                "label": "Track",
                "color": "#17bebb",
                "styles": {
                  "color": "#40E0D0",
                  "shape": "ellipse",
                  "label": "label"
                },
                "scale_factor": 1,
                "type": null,
                "position": [
                  0,
                  0
                ]
              },
              {
                "id": 106,
                "properties": {
                  "explicit": false,
                  "duration_ms": 243267,
                  "year": 2019,
                  "album": "No.6 Collaborations Project",
                  "name": "Best Part of Me (feat. YEBBA)",
                  "danceability": 0.565,
                  "energy": 0.242,
                  "label": "Track"
                },
                "label": "Track",
                "color": "#17bebb",
                "styles": {
                  "color": "#40E0D0",
                  "shape": "ellipse",
                  "label": "label"
                },
                "scale_factor": 1,
                "type": null,
                "position": [
                  0,
                  0
                ]
              },
              {
                "id": 246,
                "properties": {
                  "duration_ms": 243267,
                  "explicit": false,
                  "year": 2019,
                  "album": "Best Part of Me (feat. YEBBA)",
                  "name": "Best Part of Me (feat. YEBBA)",
                  "danceability": 0.565,
                  "energy": 0.242,
                  "label": "Track"
                },
                "label": "Track",
                "color": "#17bebb",
                "styles": {
                  "color": "#40E0D0",
                  "shape": "ellipse",
                  "label": "label"
                },
                "scale_factor": 1,
                "type": null,
                "position": [
                  0,
                  0
                ]
              },
              {
                "id": 85,
                "properties": {
                  "explicit": false,
                  "duration_ms": 243267,
                  "year": 2019,
                  "album": "No.6 Collaborations Project",
                  "name": "Best Part of Me (feat. YEBBA)",
                  "danceability": 0.565,
                  "energy": 0.243,
                  "label": "Track"
                },
                "label": "Track",
                "color": "#17bebb",
                "styles": {
                  "color": "#40E0D0",
                  "shape": "ellipse",
                  "label": "label"
                },
                "scale_factor": 1,
                "type": null,
                "position": [
                  0,
                  0
                ]
              },
              {
                "id": 86,
                "properties": {
                  "explicit": false,
                  "duration_ms": 219947,
                  "year": 2019,
                  "album": "No.6 Collaborations Project",
                  "name": "I Don't Care (with Justin Bieber)",
                  "danceability": 0.7979999999999999,
                  "energy": 0.6759999999999999,
                  "label": "Track"
                },
                "label": "Track",
                "color": "#17bebb",
                "styles": {
                  "color": "#40E0D0",
                  "shape": "ellipse",
                  "label": "label"
                },
                "scale_factor": 1,
                "type": null,
                "position": [
                  0,
                  0
                ]
              },
              {
                "id": 87,
                "properties": {
                  "explicit": false,
                  "duration_ms": 161747,
                  "year": 2019,
                  "album": "No.6 Collaborations Project",
                  "name": "Antisocial (with Travis Scott)",
                  "danceability": 0.716,
                  "energy": 0.823,
                  "label": "Track"
                },
                "label": "Track",
                "color": "#17bebb",
                "styles": {
                  "color": "#40E0D0",
                  "shape": "ellipse",
                  "label": "label"
                },
                "scale_factor": 1,
                "type": null,
                "position": [
                  0,
                  0
                ]
              },
              {
                "id": 230,
                "properties": {
                  "duration_ms": 161747,
                  "explicit": false,
                  "year": 2019,
                  "album": "Antisocial (with Travis Scott)",
                  "name": "Antisocial (with Travis Scott)",
                  "danceability": 0.715,
                  "energy": 0.823,
                  "label": "Track"
                },
                "label": "Track",
                "color": "#17bebb",
                "styles": {
                  "color": "#40E0D0",
                  "shape": "ellipse",
                  "label": "label"
                },
                "scale_factor": 1,
                "type": null,
                "position": [
                  0,
                  0
                ]
              },
              {
                "id": 96,
                "properties": {
                  "duration_ms": 162081,
                  "explicit": false,
                  "year": 2019,
                  "album": "Beautiful People (feat. Khalid) [NOTD Remix]",
                  "name": "Beautiful People (feat. Khalid) - NOTD Remix",
                  "danceability": 0.7020000000000001,
                  "energy": 0.794,
                  "label": "Track"
                },
                "label": "Track",
                "color": "#17bebb",
                "styles": {
                  "color": "#40E0D0",
                  "shape": "ellipse",
                  "label": "label"
                },
                "scale_factor": 1,
                "type": null,
                "position": [
                  0,
                  0
                ]
              },
              {
                "id": 115,
                "properties": {
                  "explicit": false,
                  "duration_ms": 234987,
                  "year": 2014,
                  "album": "The Fault In Our Stars: Music From The Motion Picture",
                  "name": "All of the Stars",
                  "danceability": 0.436,
                  "energy": 0.562,
                  "label": "Track"
                },
                "label": "Track",
                "color": "#17bebb",
                "styles": {
                  "color": "#40E0D0",
                  "shape": "ellipse",
                  "label": "label"
                },
                "scale_factor": 1,
                "type": null,
                "position": [
                  0,
                  0
                ]
              },
              {
                "id": 119,
                "properties": {
                  "explicit": false,
                  "duration_ms": 300840,
                  "year": 2013,
                  "album": "The Hobbit: The Desolation of Smaug (Original Motion Picture Soundtrack) [Special Edition]",
                  "name": "I See Fire",
                  "danceability": 0.5660000000000001,
                  "energy": 0.0514,
                  "label": "Track"
                },
                "label": "Track",
                "color": "#17bebb",
                "styles": {
                  "color": "#40E0D0",
                  "shape": "ellipse",
                  "label": "label"
                },
                "scale_factor": 1,
                "type": null,
                "position": [
                  0,
                  0
                ]
              },
              {
                "id": 124,
                "properties": {
                  "duration_ms": 237031,
                  "explicit": false,
                  "year": 2015,
                  "album": "PSY 7TH ALBUM",
                  "name": "SING - PSYmix",
                  "danceability": 0.706,
                  "energy": 0.715,
                  "label": "Track"
                },
                "label": "Track",
                "color": "#17bebb",
                "styles": {
                  "color": "#40E0D0",
                  "shape": "ellipse",
                  "label": "label"
                },
                "scale_factor": 1,
                "type": null,
                "position": [
                  0,
                  0
                ]
              },
              {
                "id": 130,
                "properties": {
                  "explicit": false,
                  "duration_ms": 261154,
                  "year": 2017,
                  "album": "Castle on the Hill",
                  "name": "Castle on the Hill",
                  "danceability": 0.461,
                  "energy": 0.8340000000000001,
                  "label": "Track"
                },
                "label": "Track",
                "color": "#17bebb",
                "styles": {
                  "color": "#40E0D0",
                  "shape": "ellipse",
                  "label": "label"
                },
                "scale_factor": 1,
                "type": null,
                "position": [
                  0,
                  0
                ]
              },
              {
                "id": 131,
                "properties": {
                  "duration_ms": 233713,
                  "explicit": false,
                  "year": 2017,
                  "album": "Shape of You",
                  "name": "Shape of You",
                  "danceability": 0.825,
                  "energy": 0.652,
                  "label": "Track"
                },
                "label": "Track",
                "color": "#17bebb",
                "styles": {
                  "color": "#40E0D0",
                  "shape": "ellipse",
                  "label": "label"
                },
                "scale_factor": 1,
                "type": null,
                "position": [
                  0,
                  0
                ]
              },
              {
                "id": 133,
                "properties": {
                  "explicit": false,
                  "duration_ms": 258373,
                  "year": 2011,
                  "album": "+",
                  "name": "The A Team",
                  "danceability": 0.642,
                  "energy": 0.289,
                  "label": "Track"
                },
                "label": "Track",
                "color": "#17bebb",
                "styles": {
                  "color": "#40E0D0",
                  "shape": "ellipse",
                  "label": "label"
                },
                "scale_factor": 1,
                "type": null,
                "position": [
                  0,
                  0
                ]
              },
              {
                "id": 134,
                "properties": {
                  "explicit": false,
                  "duration_ms": 200093,
                  "year": 2011,
                  "album": "+",
                  "name": "Drunk",
                  "danceability": 0.733,
                  "energy": 0.652,
                  "label": "Track"
                },
                "label": "Track",
                "color": "#17bebb",
                "styles": {
                  "color": "#40E0D0",
                  "shape": "ellipse",
                  "label": "label"
                },
                "scale_factor": 1,
                "type": null,
                "position": [
                  0,
                  0
                ]
              },
              {
                "id": 135,
                "properties": {
                  "explicit": false,
                  "duration_ms": 228600,
                  "year": 2011,
                  "album": "+",
                  "name": "U.N.I.",
                  "danceability": 0.422,
                  "energy": 0.405,
                  "label": "Track"
                },
                "label": "Track",
                "color": "#17bebb",
                "styles": {
                  "color": "#40E0D0",
                  "shape": "ellipse",
                  "label": "label"
                },
                "scale_factor": 1,
                "type": null,
                "position": [
                  0,
                  0
                ]
              },
              {
                "id": 136,
                "properties": {
                  "explicit": false,
                  "duration_ms": 179880,
                  "year": 2011,
                  "album": "+",
                  "name": "Grade 8",
                  "danceability": 0.74,
                  "energy": 0.807,
                  "label": "Track"
                },
                "label": "Track",
                "color": "#17bebb",
                "styles": {
                  "color": "#40E0D0",
                  "shape": "ellipse",
                  "label": "label"
                },
                "scale_factor": 1,
                "type": null,
                "position": [
                  0,
                  0
                ]
              },
              {
                "id": 137,
                "properties": {
                  "explicit": false,
                  "duration_ms": 229613,
                  "year": 2011,
                  "album": "+",
                  "name": "Wake Me Up",
                  "danceability": 0.616,
                  "energy": 0.209,
                  "label": "Track"
                },
                "label": "Track",
                "color": "#17bebb",
                "styles": {
                  "color": "#40E0D0",
                  "shape": "ellipse",
                  "label": "label"
                },
                "scale_factor": 1,
                "type": null,
                "position": [
                  0,
                  0
                ]
              },
              {
                "id": 138,
                "properties": {
                  "explicit": false,
                  "duration_ms": 259413,
                  "year": 2011,
                  "album": "+",
                  "name": "Small Bump",
                  "danceability": 0.81,
                  "energy": 0.436,
                  "label": "Track"
                },
                "label": "Track",
                "color": "#17bebb",
                "styles": {
                  "color": "#40E0D0",
                  "shape": "ellipse",
                  "label": "label"
                },
                "scale_factor": 1,
                "type": null,
                "position": [
                  0,
                  0
                ]
              },
              {
                "id": 139,
                "properties": {
                  "duration_ms": 195840,
                  "explicit": false,
                  "year": 2011,
                  "album": "+",
                  "name": "This",
                  "danceability": 0.588,
                  "energy": 0.0929,
                  "label": "Track"
                },
                "label": "Track",
                "color": "#17bebb",
                "styles": {
                  "color": "#40E0D0",
                  "shape": "ellipse",
                  "label": "label"
                },
                "scale_factor": 1,
                "type": null,
                "position": [
                  0,
                  0
                ]
              },
              {
                "id": 140,
                "properties": {
                  "explicit": false,
                  "duration_ms": 234333,
                  "year": 2011,
                  "album": "+",
                  "name": "The City",
                  "danceability": 0.74,
                  "energy": 0.505,
                  "label": "Track"
                },
                "label": "Track",
                "color": "#17bebb",
                "styles": {
                  "color": "#40E0D0",
                  "shape": "ellipse",
                  "label": "label"
                },
                "scale_factor": 1,
                "type": null,
                "position": [
                  0,
                  0
                ]
              },
              {
                "id": 141,
                "properties": {
                  "explicit": false,
                  "duration_ms": 185093,
                  "year": 2011,
                  "album": "+",
                  "name": "Lego House",
                  "danceability": 0.5920000000000001,
                  "energy": 0.637,
                  "label": "Track"
                },
                "label": "Track",
                "color": "#17bebb",
                "styles": {
                  "color": "#40E0D0",
                  "shape": "ellipse",
                  "label": "label"
                },
                "scale_factor": 1,
                "type": null,
                "position": [
                  0,
                  0
                ]
              },
              {
                "id": 142,
                "properties": {
                  "explicit": true,
                  "duration_ms": 220413,
                  "year": 2011,
                  "album": "+",
                  "name": "You Need Me, I Don't Need You",
                  "danceability": 0.7490000000000001,
                  "energy": 0.8370000000000001,
                  "label": "Track"
                },
                "label": "Track",
                "color": "#17bebb",
                "styles": {
                  "color": "#40E0D0",
                  "shape": "ellipse",
                  "label": "label"
                },
                "scale_factor": 1,
                "type": null,
                "position": [
                  0,
                  0
                ]
              },
              {
                "id": 143,
                "properties": {
                  "explicit": false,
                  "duration_ms": 280853,
                  "year": 2011,
                  "album": "+",
                  "name": "Kiss Me",
                  "danceability": 0.589,
                  "energy": 0.2269999999999999,
                  "label": "Track"
                },
                "label": "Track",
                "color": "#17bebb",
                "styles": {
                  "color": "#40E0D0",
                  "shape": "ellipse",
                  "label": "label"
                },
                "scale_factor": 1,
                "type": null,
                "position": [
                  0,
                  0
                ]
              },
              {
                "id": 375,
                "properties": {
                  "name": "The Weeknd",
                  "feats": "4,288,903,657",
                  "lead_streams": "34,767,779,741",
                  "label": "Artist"
                },
                "label": "The Weeknd",
                "color": "#17bebb",
                "styles": {
                  "color": "#FF8C00",
                  "shape": "ellipse",
                  "label": "name"
                },
                "scale_factor": 1,
                "type": null,
                "position": [
                  0,
                  0
                ]
              },
              {
                "id": 333,
                "properties": {
                  "explicit": false,
                  "duration_ms": 205159,
                  "year": 2020,
                  "album": "Christmas Blues",
                  "name": "Christmas Blues",
                  "danceability": 0.6509999999999999,
                  "energy": 0.415,
                  "label": "Track"
                },
                "label": "Track",
                "color": "#17bebb",
                "styles": {
                  "color": "#40E0D0",
                  "shape": "ellipse",
                  "label": "label"
                },
                "scale_factor": 1,
                "type": null,
                "position": [
                  0,
                  0
                ]
              },
              {
                "id": 329,
                "properties": {
                  "explicit": false,
                  "duration_ms": 200482,
                  "year": 2020,
                  "album": "Hawái (Remix)",
                  "name": "Hawái - Remix",
                  "danceability": 0.7659999999999999,
                  "energy": 0.7879999999999999,
                  "label": "Track"
                },
                "label": "Track",
                "color": "#17bebb",
                "styles": {
                  "color": "#40E0D0",
                  "shape": "ellipse",
                  "label": "label"
                },
                "scale_factor": 1,
                "type": null,
                "position": [
                  0,
                  0
                ]
              },
              {
                "id": 312,
                "properties": {
                  "explicit": true,
                  "duration_ms": 307000,
                  "year": 2015,
                  "album": "Rodeo (Expanded Edition)",
                  "name": "Pray 4 Love (feat. The Weeknd)",
                  "danceability": 0.629,
                  "energy": 0.578,
                  "label": "Track"
                },
                "label": "Track",
                "color": "#17bebb",
                "styles": {
                  "color": "#40E0D0",
                  "shape": "ellipse",
                  "label": "label"
                },
                "scale_factor": 1,
                "type": null,
                "position": [
                  0,
                  0
                ]
              },
              {
                "id": 290,
                "properties": {
                  "duration_ms": 210795,
                  "explicit": true,
                  "year": 2020,
                  "album": "Over Now (with The Weeknd)",
                  "name": "Over Now (with The Weeknd)",
                  "danceability": 0.612,
                  "energy": 0.884,
                  "label": "Track"
                },
                "label": "Track",
                "color": "#17bebb",
                "styles": {
                  "color": "#40E0D0",
                  "shape": "ellipse",
                  "label": "label"
                },
                "scale_factor": 1,
                "type": null,
                "position": [
                  0,
                  0
                ]
              },
              {
                "id": 236,
                "properties": {
                  "explicit": false,
                  "duration_ms": 241427,
                  "year": 2014,
                  "album": "SYLDD",
                  "name": "Nomads",
                  "danceability": 0.696,
                  "energy": 0.698,
                  "label": "Track"
                },
                "label": "Track",
                "color": "#17bebb",
                "styles": {
                  "color": "#40E0D0",
                  "shape": "ellipse",
                  "label": "label"
                },
                "scale_factor": 1,
                "type": null,
                "position": [
                  0,
                  0
                ]
              },
              {
                "id": 186,
                "properties": {
                  "duration_ms": 260440,
                  "explicit": true,
                  "year": 2016,
                  "album": "Lemonade",
                  "name": "6 Inch (feat. The Weeknd)",
                  "danceability": 0.516,
                  "energy": 0.637,
                  "label": "Track"
                },
                "label": "Track",
                "color": "#17bebb",
                "styles": {
                  "color": "#40E0D0",
                  "shape": "ellipse",
                  "label": "label"
                },
                "scale_factor": 1,
                "type": null,
                "position": [
                  0,
                  0
                ]
              },
              {
                "id": 187,
                "properties": {
                  "duration_ms": 260587,
                  "explicit": false,
                  "year": 2016,
                  "album": "Lemonade",
                  "name": "6 Inch (feat. The Weeknd)",
                  "danceability": 0.53,
                  "energy": 0.611,
                  "label": "Track"
                },
                "label": "Track",
                "color": "#17bebb",
                "styles": {
                  "color": "#40E0D0",
                  "shape": "ellipse",
                  "label": "label"
                },
                "scale_factor": 1,
                "type": null,
                "position": [
                  0,
                  0
                ]
              },
              {
                "id": 80,
                "properties": {
                  "explicit": true,
                  "duration_ms": 254370,
                  "year": 2017,
                  "album": "HNDRXX",
                  "name": "Comin Out Strong (feat. The Weeknd)",
                  "danceability": 0.628,
                  "energy": 0.481,
                  "label": "Track"
                },
                "label": "Track",
                "color": "#17bebb",
                "styles": {
                  "color": "#40E0D0",
                  "shape": "ellipse",
                  "label": "label"
                },
                "scale_factor": 1,
                "type": null,
                "position": [
                  0,
                  0
                ]
              },
              {
                "id": 160,
                "properties": {
                  "explicit": false,
                  "duration_ms": 254596,
                  "year": 2017,
                  "album": "HNDRXX",
                  "name": "Comin Out Strong (feat. The Weeknd)",
                  "danceability": 0.7929999999999999,
                  "energy": 0.466,
                  "label": "Track"
                },
                "label": "Track",
                "color": "#17bebb",
                "styles": {
                  "color": "#40E0D0",
                  "shape": "ellipse",
                  "label": "label"
                },
                "scale_factor": 1,
                "type": null,
                "position": [
                  0,
                  0
                ]
              },
              {
                "id": 376,
                "properties": {
                  "name": "Taylor Swift",
                  "feats": "424,053,296",
                  "lead_streams": "32,596,728,109",
                  "label": "Artist"
                },
                "label": "Taylor Swift",
                "color": "#17bebb",
                "styles": {
                  "color": "#FF8C00",
                  "shape": "ellipse",
                  "label": "name"
                },
                "scale_factor": 1,
                "type": null,
                "position": [
                  0,
                  0
                ]
              },
              {
                "id": 263,
                "properties": {
                  "explicit": false,
                  "duration_ms": 227373,
                  "year": 2018,
                  "album": "Now That's What I Call Music Vol. 67",
                  "name": "Delicate",
                  "danceability": 0.75,
                  "energy": 0.413,
                  "label": "Track"
                },
                "label": "Track",
                "color": "#17bebb",
                "styles": {
                  "color": "#40E0D0",
                  "shape": "ellipse",
                  "label": "label"
                },
                "scale_factor": 1,
                "type": null,
                "position": [
                  0,
                  0
                ]
              },
              {
                "id": 259,
                "properties": {
                  "duration_ms": 218693,
                  "explicit": false,
                  "year": 2020,
                  "album": "NOW That's What I Call Music! Vol. 73",
                  "name": "Lover (feat. Shawn Mendes) - Remix",
                  "danceability": 0.445,
                  "energy": 0.612,
                  "label": "Track"
                },
                "label": "Track",
                "color": "#17bebb",
                "styles": {
                  "color": "#40E0D0",
                  "shape": "ellipse",
                  "label": "label"
                },
                "scale_factor": 1,
                "type": null,
                "position": [
                  0,
                  0
                ]
              },
              {
                "id": 225,
                "properties": {
                  "explicit": false,
                  "duration_ms": 206000,
                  "year": 2018,
                  "album": "NOW That's What I Call Music, Vol. 65",
                  "name": "...Ready for It?",
                  "danceability": 0.618,
                  "energy": 0.774,
                  "label": "Track"
                },
                "label": "Track",
                "color": "#17bebb",
                "styles": {
                  "color": "#40E0D0",
                  "shape": "ellipse",
                  "label": "label"
                },
                "scale_factor": 1,
                "type": null,
                "position": [
                  0,
                  0
                ]
              },
              {
                "id": 377,
                "properties": {
                  "name": "Justin Bieber",
                  "feats": "10,816,202,075",
                  "lead_streams": "32,465,998,885",
                  "label": "Artist"
                },
                "label": "Justin Bieber",
                "color": "#17bebb",
                "styles": {
                  "color": "#FF8C00",
                  "shape": "ellipse",
                  "label": "name"
                },
                "scale_factor": 1,
                "type": null,
                "position": [
                  0,
                  0
                ]
              },
              {
                "id": 252,
                "properties": {
                  "explicit": false,
                  "duration_ms": 204880,
                  "year": 2019,
                  "album": "Indigo",
                  "name": "Don't Check On Me (feat. Justin Bieber & Ink)",
                  "danceability": 0.6609999999999999,
                  "energy": 0.395,
                  "label": "Track"
                },
                "label": "Track",
                "color": "#17bebb",
                "styles": {
                  "color": "#40E0D0",
                  "shape": "ellipse",
                  "label": "label"
                },
                "scale_factor": 1,
                "type": null,
                "position": [
                  0,
                  0
                ]
              },
              {
                "id": 255,
                "properties": {
                  "duration_ms": 204880,
                  "explicit": false,
                  "year": 2019,
                  "album": "Indigo (Extended)",
                  "name": "Don't Check On Me (feat. Justin Bieber & Ink)",
                  "danceability": 0.6609999999999999,
                  "energy": 0.395,
                  "label": "Track"
                },
                "label": "Track",
                "color": "#17bebb",
                "styles": {
                  "color": "#40E0D0",
                  "shape": "ellipse",
                  "label": "label"
                },
                "scale_factor": 1,
                "type": null,
                "position": [
                  0,
                  0
                ]
              },
              {
                "id": 243,
                "properties": {
                  "explicit": false,
                  "duration_ms": 225413,
                  "year": 2020,
                  "album": "NOW That's What I Call Music, Vol. 75",
                  "name": "Stuck With U",
                  "danceability": 0.597,
                  "energy": 0.449,
                  "label": "Track"
                },
                "label": "Track",
                "color": "#17bebb",
                "styles": {
                  "color": "#40E0D0",
                  "shape": "ellipse",
                  "label": "label"
                },
                "scale_factor": 1,
                "type": null,
                "position": [
                  0,
                  0
                ]
              },
              {
                "id": 190,
                "properties": {
                  "explicit": false,
                  "duration_ms": 194893,
                  "year": 2018,
                  "album": "7",
                  "name": "2U (feat. Justin Bieber)",
                  "danceability": 0.534,
                  "energy": 0.613,
                  "label": "Track"
                },
                "label": "Track",
                "color": "#17bebb",
                "styles": {
                  "color": "#40E0D0",
                  "shape": "ellipse",
                  "label": "label"
                },
                "scale_factor": 1,
                "type": null,
                "position": [
                  0,
                  0
                ]
              },
              {
                "id": 378,
                "properties": {
                  "name": "Ariana Grande",
                  "feats": "2,052,297,828",
                  "lead_streams": "32,287,682,040",
                  "label": "Artist"
                },
                "label": "Ariana Grande",
                "color": "#17bebb",
                "styles": {
                  "color": "#FF8C00",
                  "shape": "ellipse",
                  "label": "name"
                },
                "scale_factor": 1,
                "type": null,
                "position": [
                  0,
                  0
                ]
              },
              {
                "id": 205,
                "properties": {
                  "duration_ms": 188013,
                  "explicit": false,
                  "year": 2019,
                  "album": "NOW That's What I Call Music, Vol. 71",
                  "name": "break up with your girlfriend, i'm bored",
                  "danceability": 0.72,
                  "energy": 0.5920000000000001,
                  "label": "Track"
                },
                "label": "Track",
                "color": "#17bebb",
                "styles": {
                  "color": "#40E0D0",
                  "shape": "ellipse",
                  "label": "label"
                },
                "scale_factor": 1,
                "type": null,
                "position": [
                  0,
                  0
                ]
              },
              {
                "id": 194,
                "properties": {
                  "duration_ms": 251627,
                  "explicit": false,
                  "year": 2016,
                  "album": "Hairspray LIVE! Original Soundtrack of the NBC Television Event",
                  "name": "Come So Far (Got So Far to Go)",
                  "danceability": 0.542,
                  "energy": 0.937,
                  "label": "Track"
                },
                "label": "Track",
                "color": "#17bebb",
                "styles": {
                  "color": "#40E0D0",
                  "shape": "ellipse",
                  "label": "label"
                },
                "scale_factor": 1,
                "type": null,
                "position": [
                  0,
                  0
                ]
              },
              {
                "id": 193,
                "properties": {
                  "explicit": false,
                  "duration_ms": 312333,
                  "year": 2016,
                  "album": "Hairspray LIVE! Original Soundtrack of the NBC Television Event",
                  "name": "You Can't Stop the Beat",
                  "danceability": 0.627,
                  "energy": 0.947,
                  "label": "Track"
                },
                "label": "Track",
                "color": "#17bebb",
                "styles": {
                  "color": "#40E0D0",
                  "shape": "ellipse",
                  "label": "label"
                },
                "scale_factor": 1,
                "type": null,
                "position": [
                  0,
                  0
                ]
              },
              {
                "id": 192,
                "properties": {
                  "explicit": false,
                  "duration_ms": 267813,
                  "year": 2016,
                  "album": "Hairspray LIVE! Original Soundtrack of the NBC Television Event",
                  "name": "Without Love",
                  "danceability": 0.619,
                  "energy": 0.7859999999999999,
                  "label": "Track"
                },
                "label": "Track",
                "color": "#17bebb",
                "styles": {
                  "color": "#40E0D0",
                  "shape": "ellipse",
                  "label": "label"
                },
                "scale_factor": 1,
                "type": null,
                "position": [
                  0,
                  0
                ]
              },
              {
                "id": 191,
                "properties": {
                  "explicit": false,
                  "duration_ms": 191093,
                  "year": 2016,
                  "album": "Hairspray LIVE! Original Soundtrack of the NBC Television Event",
                  "name": "Mama, I'm a Big Girl Now",
                  "danceability": 0.75,
                  "energy": 0.76,
                  "label": "Track"
                },
                "label": "Track",
                "color": "#17bebb",
                "styles": {
                  "color": "#40E0D0",
                  "shape": "ellipse",
                  "label": "label"
                },
                "scale_factor": 1,
                "type": null,
                "position": [
                  0,
                  0
                ]
              },
              {
                "id": 114,
                "properties": {
                  "explicit": false,
                  "duration_ms": 193387,
                  "year": 2019,
                  "album": "NOW That's What I Call Music, Vol. 69",
                  "name": "Breathin",
                  "danceability": 0.377,
                  "energy": 0.612,
                  "label": "Track"
                },
                "label": "Track",
                "color": "#17bebb",
                "styles": {
                  "color": "#40E0D0",
                  "shape": "ellipse",
                  "label": "label"
                },
                "scale_factor": 1,
                "type": null,
                "position": [
                  0,
                  0
                ]
              },
              {
                "id": 379,
                "properties": {
                  "name": "Eminem",
                  "feats": "4,165,031,640",
                  "lead_streams": "30,431,861,291",
                  "label": "Artist"
                },
                "label": "Eminem",
                "color": "#17bebb",
                "styles": {
                  "color": "#FF8C00",
                  "shape": "ellipse",
                  "label": "name"
                },
                "scale_factor": 1,
                "type": null,
                "position": [
                  0,
                  0
                ]
              },
              {
                "id": 325,
                "properties": {
                  "explicit": true,
                  "duration_ms": 355667,
                  "year": 2020,
                  "album": "Extinction Level Event 2: The Wrath of God (Reloaded)",
                  "name": "Calm Down (feat. Eminem)",
                  "danceability": 0.451,
                  "energy": 0.8270000000000001,
                  "label": "Track"
                },
                "label": "Track",
                "color": "#17bebb",
                "styles": {
                  "color": "#40E0D0",
                  "shape": "ellipse",
                  "label": "label"
                },
                "scale_factor": 1,
                "type": null,
                "position": [
                  0,
                  0
                ]
              },
              {
                "id": 332,
                "properties": {
                  "explicit": true,
                  "duration_ms": 355667,
                  "year": 2020,
                  "album": "Extinction Level Event 2: The Wrath of God (The Deluxe Edition)",
                  "name": "Calm Down (feat. Eminem)",
                  "danceability": 0.451,
                  "energy": 0.8270000000000001,
                  "label": "Track"
                },
                "label": "Track",
                "color": "#17bebb",
                "styles": {
                  "color": "#40E0D0",
                  "shape": "ellipse",
                  "label": "label"
                },
                "scale_factor": 1,
                "type": null,
                "position": [
                  0,
                  0
                ]
              },
              {
                "id": 300,
                "properties": {
                  "duration_ms": 300800,
                  "explicit": true,
                  "year": 1998,
                  "album": "Da Real World",
                  "name": "Busa Rhyme (feat. Eminem)",
                  "danceability": 0.8170000000000001,
                  "energy": 0.693,
                  "label": "Track"
                },
                "label": "Track",
                "color": "#17bebb",
                "styles": {
                  "color": "#40E0D0",
                  "shape": "ellipse",
                  "label": "label"
                },
                "scale_factor": 1,
                "type": null,
                "position": [
                  0,
                  0
                ]
              },
              {
                "id": 264,
                "properties": {
                  "duration_ms": 283077,
                  "explicit": true,
                  "year": 2018,
                  "album": "Book of Ryan (Bonus Track Edition)",
                  "name": "Caterpillar (feat. Eminem & King Green)",
                  "danceability": 0.706,
                  "energy": 0.745,
                  "label": "Track"
                },
                "label": "Track",
                "color": "#17bebb",
                "styles": {
                  "color": "#40E0D0",
                  "shape": "ellipse",
                  "label": "label"
                },
                "scale_factor": 1,
                "type": null,
                "position": [
                  0,
                  0
                ]
              },
              {
                "id": 245,
                "properties": {
                  "duration_ms": 106533,
                  "explicit": false,
                  "year": 2003,
                  "album": "The Streetsweeper Vol. 1 (Clean Version)",
                  "name": "Freestyle (feat. Eminem) - Clean Album Version",
                  "danceability": 0.773,
                  "energy": 0.416,
                  "label": "Track"
                },
                "label": "Track",
                "color": "#17bebb",
                "styles": {
                  "color": "#40E0D0",
                  "shape": "ellipse",
                  "label": "label"
                },
                "scale_factor": 1,
                "type": null,
                "position": [
                  0,
                  0
                ]
              },
              {
                "id": 183,
                "properties": {
                  "explicit": true,
                  "duration_ms": 276507,
                  "year": 2000,
                  "album": "Restless",
                  "name": "Don't Aproach Me (feat. Eminem)",
                  "danceability": 0.908,
                  "energy": 0.687,
                  "label": "Track"
                },
                "label": "Track",
                "color": "#17bebb",
                "styles": {
                  "color": "#40E0D0",
                  "shape": "ellipse",
                  "label": "label"
                },
                "scale_factor": 1,
                "type": null,
                "position": [
                  0,
                  0
                ]
              },
              {
                "id": 157,
                "properties": {
                  "explicit": true,
                  "duration_ms": 254978,
                  "year": 2016,
                  "album": "Good vs Evil",
                  "name": "Welcome To Planet X (We're Coming For You) (with Eminem & The Observer)",
                  "danceability": 0.602,
                  "energy": 0.457,
                  "label": "Track"
                },
                "label": "Track",
                "color": "#17bebb",
                "styles": {
                  "color": "#40E0D0",
                  "shape": "ellipse",
                  "label": "label"
                },
                "scale_factor": 1,
                "type": null,
                "position": [
                  0,
                  0
                ]
              },
              {
                "id": 120,
                "properties": {
                  "explicit": true,
                  "duration_ms": 259267,
                  "year": 1999,
                  "album": "Home Field Advantage",
                  "name": "The Last Hit",
                  "danceability": 0.787,
                  "energy": 0.8540000000000001,
                  "label": "Track"
                },
                "label": "Track",
                "color": "#17bebb",
                "styles": {
                  "color": "#40E0D0",
                  "shape": "ellipse",
                  "label": "label"
                },
                "scale_factor": 1,
                "type": null,
                "position": [
                  0,
                  0
                ]
              },
              {
                "id": 101,
                "properties": {
                  "explicit": false,
                  "duration_ms": 272507,
                  "year": 2002,
                  "album": "Man VS Machine",
                  "name": "My Name (feat. Eminem & Nate Dogg)",
                  "danceability": 0.841,
                  "energy": 0.7390000000000001,
                  "label": "Track"
                },
                "label": "Track",
                "color": "#17bebb",
                "styles": {
                  "color": "#40E0D0",
                  "shape": "ellipse",
                  "label": "label"
                },
                "scale_factor": 1,
                "type": null,
                "position": [
                  0,
                  0
                ]
              },
              {
                "id": 100,
                "properties": {
                  "duration_ms": 189040,
                  "explicit": true,
                  "year": 2004,
                  "album": "The Streetsweeper Vol. 2 - The Pain From The Game",
                  "name": "I'm Gone (feat. Eminem & Obie Trice)",
                  "danceability": 0.7240000000000001,
                  "energy": 0.8340000000000001,
                  "label": "Track"
                },
                "label": "Track",
                "color": "#17bebb",
                "styles": {
                  "color": "#40E0D0",
                  "shape": "ellipse",
                  "label": "label"
                },
                "scale_factor": 1,
                "type": null,
                "position": [
                  0,
                  0
                ]
              },
              {
                "id": 380,
                "properties": {
                  "name": "J Balvin",
                  "feats": "9,950,347,777",
                  "lead_streams": "25,892,190,469",
                  "label": "Artist"
                },
                "label": "J Balvin",
                "color": "#17bebb",
                "styles": {
                  "color": "#FF8C00",
                  "shape": "ellipse",
                  "label": "name"
                },
                "scale_factor": 1,
                "type": null,
                "position": [
                  0,
                  0
                ]
              },
              {
                "id": 381,
                "properties": {
                  "name": "Ozuna",
                  "feats": "7,514,655,612",
                  "lead_streams": "21,119,272,574",
                  "label": "Artist"
                },
                "label": "Ozuna",
                "color": "#17bebb",
                "styles": {
                  "color": "#FF8C00",
                  "shape": "ellipse",
                  "label": "name"
                },
                "scale_factor": 1,
                "type": null,
                "position": [
                  0,
                  0
                ]
              },
              {
                "id": 382,
                "properties": {
                  "name": "Khalid",
                  "feats": "2,923,419,376",
                  "lead_streams": "20,973,735,166",
                  "label": "Artist"
                },
                "label": "Khalid",
                "color": "#17bebb",
                "styles": {
                  "color": "#FF8C00",
                  "shape": "ellipse",
                  "label": "name"
                },
                "scale_factor": 1,
                "type": null,
                "position": [
                  0,
                  0
                ]
              },
              {
                "id": 383,
                "properties": {
                  "name": "Travis Scott",
                  "feats": "9,662,107,113",
                  "lead_streams": "20,566,427,073",
                  "label": "Artist"
                },
                "label": "Travis Scott",
                "color": "#17bebb",
                "styles": {
                  "color": "#FF8C00",
                  "shape": "ellipse",
                  "label": "name"
                },
                "scale_factor": 1,
                "type": null,
                "position": [
                  0,
                  0
                ]
              },
              {
                "id": 384,
                "properties": {
                  "name": "David Guetta",
                  "feats": "1,131,603,410",
                  "lead_streams": "19,104,897,589",
                  "label": "Artist"
                },
                "label": "David Guetta",
                "color": "#17bebb",
                "styles": {
                  "color": "#FF8C00",
                  "shape": "ellipse",
                  "label": "name"
                },
                "scale_factor": 1,
                "type": null,
                "position": [
                  0,
                  0
                ]
              },
              {
                "id": 385,
                "properties": {
                  "name": "Shawn Mendes",
                  "feats": "46,809,153",
                  "lead_streams": "18,964,777,185",
                  "label": "Artist"
                },
                "label": "Shawn Mendes",
                "color": "#17bebb",
                "styles": {
                  "color": "#FF8C00",
                  "shape": "ellipse",
                  "label": "name"
                },
                "scale_factor": 1,
                "type": null,
                "position": [
                  0,
                  0
                ]
              },
              {
                "id": 386,
                "properties": {
                  "name": "Bruno Mars",
                  "feats": "3,874,562,483",
                  "lead_streams": "18,201,285,113",
                  "label": "Artist"
                },
                "label": "Bruno Mars",
                "color": "#17bebb",
                "styles": {
                  "color": "#FF8C00",
                  "shape": "ellipse",
                  "label": "name"
                },
                "scale_factor": 1,
                "type": null,
                "position": [
                  0,
                  0
                ]
              },
              {
                "id": 387,
                "properties": {
                  "name": "Daddy Yankee",
                  "feats": "5,656,394,885",
                  "lead_streams": "18,075,604,863",
                  "label": "Artist"
                },
                "label": "Daddy Yankee",
                "color": "#17bebb",
                "styles": {
                  "color": "#FF8C00",
                  "shape": "ellipse",
                  "label": "name"
                },
                "scale_factor": 1,
                "type": null,
                "position": [
                  0,
                  0
                ]
              },
              {
                "id": 388,
                "properties": {
                  "name": "Calvin Harris",
                  "feats": "419,338,360",
                  "lead_streams": "17,820,311,936",
                  "label": "Artist"
                },
                "label": "Calvin Harris",
                "color": "#17bebb",
                "styles": {
                  "color": "#FF8C00",
                  "shape": "ellipse",
                  "label": "name"
                },
                "scale_factor": 1,
                "type": null,
                "position": [
                  0,
                  0
                ]
              },
              {
                "id": 389,
                "properties": {
                  "name": "Kendrick Lamar",
                  "feats": "8,647,763,108",
                  "lead_streams": "17,650,726,013",
                  "label": "Artist"
                },
                "label": "Kendrick Lamar",
                "color": "#17bebb",
                "styles": {
                  "color": "#FF8C00",
                  "shape": "ellipse",
                  "label": "name"
                },
                "scale_factor": 1,
                "type": null,
                "position": [
                  0,
                  0
                ]
              },
              {
                "id": 390,
                "properties": {
                  "name": "Beyoncé",
                  "feats": "1,949,901,038",
                  "lead_streams": "15,593,114,022",
                  "label": "Artist"
                },
                "label": "Beyoncé",
                "color": "#17bebb",
                "styles": {
                  "color": "#FF8C00",
                  "shape": "ellipse",
                  "label": "name"
                },
                "scale_factor": 1,
                "type": null,
                "position": [
                  0,
                  0
                ]
              },
              {
                "id": 391,
                "properties": {
                  "name": "Future",
                  "feats": "9,255,946,718",
                  "lead_streams": "15,552,849,123",
                  "label": "Artist"
                },
                "label": "Future",
                "color": "#17bebb",
                "styles": {
                  "color": "#FF8C00",
                  "shape": "ellipse",
                  "label": "name"
                },
                "scale_factor": 1,
                "type": null,
                "position": [
                  0,
                  0
                ]
              },
              {
                "id": 392,
                "properties": {
                  "name": "Chris Brown",
                  "feats": "7,787,759,348",
                  "lead_streams": "15,440,015,429",
                  "label": "Artist"
                },
                "label": "Chris Brown",
                "color": "#17bebb",
                "styles": {
                  "color": "#FF8C00",
                  "shape": "ellipse",
                  "label": "name"
                },
                "scale_factor": 1,
                "type": null,
                "position": [
                  0,
                  0
                ]
              },
              {
                "id": 396,
                "properties": {
                  "name": "Nicki Minaj",
                  "feats": "10,558,501,637",
                  "lead_streams": "14,744,100,678",
                  "label": "Artist"
                },
                "label": "Nicki Minaj",
                "color": "#17bebb",
                "styles": {
                  "color": "#FF8C00",
                  "shape": "ellipse",
                  "label": "name"
                },
                "scale_factor": 1,
                "type": null,
                "position": [
                  0,
                  0
                ]
              },
              {
                "id": 397,
                "properties": {
                  "name": "Anuel AA",
                  "feats": "4,592,555,695",
                  "lead_streams": "14,364,736,608",
                  "label": "Artist"
                },
                "label": "Anuel AA",
                "color": "#17bebb",
                "styles": {
                  "color": "#FF8C00",
                  "shape": "ellipse",
                  "label": "name"
                },
                "scale_factor": 1,
                "type": null,
                "position": [
                  0,
                  0
                ]
              },
              {
                "id": 398,
                "properties": {
                  "name": "Maluma",
                  "feats": "7,414,576,492",
                  "lead_streams": "13,551,469,480",
                  "label": "Artist"
                },
                "label": "Maluma",
                "color": "#17bebb",
                "styles": {
                  "color": "#FF8C00",
                  "shape": "ellipse",
                  "label": "name"
                },
                "scale_factor": 1,
                "type": null,
                "position": [
                  0,
                  0
                ]
              }
            ],
            "_overview": {
              "enabled": null,
              "overview_set": false
            },
            "_sidebar": {
              "enabled": true,
              "start_with": ""
            },
            "_svg": "",
            "_view_count": null,
            "_view_module": "yfiles-jupyter-graphs",
            "_view_module_version": "^1.4.5",
            "_view_name": "GraphView",
            "layout": "IPY_MODEL_b83de25926b940d2937740b966d11fd6"
          }
        },
        "b83de25926b940d2937740b966d11fd6": {
          "model_module": "@jupyter-widgets/base",
          "model_name": "LayoutModel",
          "model_module_version": "1.2.0",
          "state": {
            "_model_module": "@jupyter-widgets/base",
            "_model_module_version": "1.2.0",
            "_model_name": "LayoutModel",
            "_view_count": null,
            "_view_module": "@jupyter-widgets/base",
            "_view_module_version": "1.2.0",
            "_view_name": "LayoutView",
            "align_content": null,
            "align_items": null,
            "align_self": null,
            "border": null,
            "bottom": null,
            "display": null,
            "flex": null,
            "flex_flow": null,
            "grid_area": null,
            "grid_auto_columns": null,
            "grid_auto_flow": null,
            "grid_auto_rows": null,
            "grid_column": null,
            "grid_gap": null,
            "grid_row": null,
            "grid_template_areas": null,
            "grid_template_columns": null,
            "grid_template_rows": null,
            "height": "500px",
            "justify_content": null,
            "justify_items": null,
            "left": null,
            "margin": null,
            "max_height": null,
            "max_width": null,
            "min_height": null,
            "min_width": null,
            "object_fit": null,
            "object_position": null,
            "order": null,
            "overflow": null,
            "overflow_x": null,
            "overflow_y": null,
            "padding": null,
            "right": null,
            "top": null,
            "visibility": null,
            "width": "100%"
          }
        },
        "2cedc40de0fd4d478cb22715684fdfd9": {
          "model_module": "yfiles-jupyter-graphs",
          "model_name": "GraphModel",
          "model_module_version": "^1.4.5",
          "state": {
            "_context_pane_mapping": [
              {
                "id": "Neighborhood",
                "title": "Neighborhood"
              },
              {
                "id": "Data",
                "title": "Data"
              },
              {
                "id": "Search",
                "title": "Search"
              },
              {
                "id": "About",
                "title": "About"
              }
            ],
            "_data_importer": "neo4j",
            "_directed": true,
            "_dom_classes": [],
            "_edges": [
              {
                "id": 411,
                "start": 64,
                "end": 299,
                "properties": {
                  "label": "PERFORMS"
                },
                "label": "PERFORMS",
                "color": "#094c4b",
                "thickness_factor": 1,
                "directed": true
              },
              {
                "id": 409,
                "start": 374,
                "end": 299,
                "properties": {
                  "label": "PERFORMS"
                },
                "label": "PERFORMS",
                "color": "#094c4b",
                "thickness_factor": 1,
                "directed": true
              },
              {
                "id": 410,
                "start": 74,
                "end": 299,
                "properties": {
                  "label": "PERFORMS"
                },
                "label": "PERFORMS",
                "color": "#094c4b",
                "thickness_factor": 1,
                "directed": true
              },
              {
                "id": 408,
                "start": 62,
                "end": 299,
                "properties": {
                  "label": "PERFORMS"
                },
                "label": "PERFORMS",
                "color": "#094c4b",
                "thickness_factor": 1,
                "directed": true
              },
              {
                "id": 313,
                "start": 55,
                "end": 239,
                "properties": {
                  "label": "PERFORMS"
                },
                "label": "PERFORMS",
                "color": "#094c4b",
                "thickness_factor": 1,
                "directed": true
              },
              {
                "id": 310,
                "start": 374,
                "end": 239,
                "properties": {
                  "label": "PERFORMS"
                },
                "label": "PERFORMS",
                "color": "#094c4b",
                "thickness_factor": 1,
                "directed": true
              },
              {
                "id": 312,
                "start": 1,
                "end": 239,
                "properties": {
                  "label": "PERFORMS"
                },
                "label": "PERFORMS",
                "color": "#094c4b",
                "thickness_factor": 1,
                "directed": true
              },
              {
                "id": 311,
                "start": 7,
                "end": 239,
                "properties": {
                  "label": "PERFORMS"
                },
                "label": "PERFORMS",
                "color": "#094c4b",
                "thickness_factor": 1,
                "directed": true
              },
              {
                "id": 307,
                "start": 1,
                "end": 237,
                "properties": {
                  "label": "PERFORMS"
                },
                "label": "PERFORMS",
                "color": "#094c4b",
                "thickness_factor": 1,
                "directed": true
              },
              {
                "id": 305,
                "start": 374,
                "end": 237,
                "properties": {
                  "label": "PERFORMS"
                },
                "label": "PERFORMS",
                "color": "#094c4b",
                "thickness_factor": 1,
                "directed": true
              },
              {
                "id": 306,
                "start": 7,
                "end": 237,
                "properties": {
                  "label": "PERFORMS"
                },
                "label": "PERFORMS",
                "color": "#094c4b",
                "thickness_factor": 1,
                "directed": true
              },
              {
                "id": 302,
                "start": 35,
                "end": 234,
                "properties": {
                  "label": "PERFORMS"
                },
                "label": "PERFORMS",
                "color": "#094c4b",
                "thickness_factor": 1,
                "directed": true
              },
              {
                "id": 299,
                "start": 374,
                "end": 234,
                "properties": {
                  "label": "PERFORMS"
                },
                "label": "PERFORMS",
                "color": "#094c4b",
                "thickness_factor": 1,
                "directed": true
              },
              {
                "id": 301,
                "start": 1,
                "end": 234,
                "properties": {
                  "label": "PERFORMS"
                },
                "label": "PERFORMS",
                "color": "#094c4b",
                "thickness_factor": 1,
                "directed": true
              },
              {
                "id": 300,
                "start": 7,
                "end": 234,
                "properties": {
                  "label": "PERFORMS"
                },
                "label": "PERFORMS",
                "color": "#094c4b",
                "thickness_factor": 1,
                "directed": true
              },
              {
                "id": 294,
                "start": 1,
                "end": 232,
                "properties": {
                  "label": "PERFORMS"
                },
                "label": "PERFORMS",
                "color": "#094c4b",
                "thickness_factor": 1,
                "directed": true
              },
              {
                "id": 293,
                "start": 374,
                "end": 232,
                "properties": {
                  "label": "PERFORMS"
                },
                "label": "PERFORMS",
                "color": "#094c4b",
                "thickness_factor": 1,
                "directed": true
              },
              {
                "id": 291,
                "start": 382,
                "end": 227,
                "properties": {
                  "label": "PERFORMS"
                },
                "label": "PERFORMS",
                "color": "#094c4b",
                "thickness_factor": 1,
                "directed": true
              },
              {
                "id": 290,
                "start": 374,
                "end": 227,
                "properties": {
                  "label": "PERFORMS"
                },
                "label": "PERFORMS",
                "color": "#094c4b",
                "thickness_factor": 1,
                "directed": true
              },
              {
                "id": 289,
                "start": 382,
                "end": 226,
                "properties": {
                  "label": "PERFORMS"
                },
                "label": "PERFORMS",
                "color": "#094c4b",
                "thickness_factor": 1,
                "directed": true
              },
              {
                "id": 288,
                "start": 374,
                "end": 226,
                "properties": {
                  "label": "PERFORMS"
                },
                "label": "PERFORMS",
                "color": "#094c4b",
                "thickness_factor": 1,
                "directed": true
              },
              {
                "id": 251,
                "start": 21,
                "end": 197,
                "properties": {
                  "label": "PERFORMS"
                },
                "label": "PERFORMS",
                "color": "#094c4b",
                "thickness_factor": 1,
                "directed": true
              },
              {
                "id": 249,
                "start": 374,
                "end": 197,
                "properties": {
                  "label": "PERFORMS"
                },
                "label": "PERFORMS",
                "color": "#094c4b",
                "thickness_factor": 1,
                "directed": true
              },
              {
                "id": 250,
                "start": 377,
                "end": 197,
                "properties": {
                  "label": "PERFORMS"
                },
                "label": "PERFORMS",
                "color": "#094c4b",
                "thickness_factor": 1,
                "directed": true
              },
              {
                "id": 248,
                "start": 72,
                "end": 196,
                "properties": {
                  "label": "PERFORMS"
                },
                "label": "PERFORMS",
                "color": "#094c4b",
                "thickness_factor": 1,
                "directed": true
              },
              {
                "id": 246,
                "start": 374,
                "end": 196,
                "properties": {
                  "label": "PERFORMS"
                },
                "label": "PERFORMS",
                "color": "#094c4b",
                "thickness_factor": 1,
                "directed": true
              },
              {
                "id": 247,
                "start": 377,
                "end": 196,
                "properties": {
                  "label": "PERFORMS"
                },
                "label": "PERFORMS",
                "color": "#094c4b",
                "thickness_factor": 1,
                "directed": true
              },
              {
                "id": 239,
                "start": 377,
                "end": 189,
                "properties": {
                  "label": "PERFORMS"
                },
                "label": "PERFORMS",
                "color": "#094c4b",
                "thickness_factor": 1,
                "directed": true
              },
              {
                "id": 238,
                "start": 374,
                "end": 189,
                "properties": {
                  "label": "PERFORMS"
                },
                "label": "PERFORMS",
                "color": "#094c4b",
                "thickness_factor": 1,
                "directed": true
              },
              {
                "id": 237,
                "start": 67,
                "end": 188,
                "properties": {
                  "label": "PERFORMS"
                },
                "label": "PERFORMS",
                "color": "#094c4b",
                "thickness_factor": 1,
                "directed": true
              },
              {
                "id": 235,
                "start": 374,
                "end": 188,
                "properties": {
                  "label": "PERFORMS"
                },
                "label": "PERFORMS",
                "color": "#094c4b",
                "thickness_factor": 1,
                "directed": true
              },
              {
                "id": 236,
                "start": 36,
                "end": 188,
                "properties": {
                  "label": "PERFORMS"
                },
                "label": "PERFORMS",
                "color": "#094c4b",
                "thickness_factor": 1,
                "directed": true
              },
              {
                "id": 159,
                "start": 390,
                "end": 163,
                "properties": {
                  "label": "PERFORMS"
                },
                "label": "PERFORMS",
                "color": "#094c4b",
                "thickness_factor": 1,
                "directed": true
              },
              {
                "id": 158,
                "start": 374,
                "end": 163,
                "properties": {
                  "label": "PERFORMS"
                },
                "label": "PERFORMS",
                "color": "#094c4b",
                "thickness_factor": 1,
                "directed": true
              },
              {
                "id": 140,
                "start": 38,
                "end": 151,
                "properties": {
                  "label": "PERFORMS"
                },
                "label": "PERFORMS",
                "color": "#094c4b",
                "thickness_factor": 1,
                "directed": true
              },
              {
                "id": 139,
                "start": 374,
                "end": 151,
                "properties": {
                  "label": "PERFORMS"
                },
                "label": "PERFORMS",
                "color": "#094c4b",
                "thickness_factor": 1,
                "directed": true
              },
              {
                "id": 537,
                "start": 382,
                "end": 81,
                "properties": {
                  "label": "PERFORMS"
                },
                "label": "PERFORMS",
                "color": "#094c4b",
                "thickness_factor": 1,
                "directed": true
              },
              {
                "id": 534,
                "start": 374,
                "end": 81,
                "properties": {
                  "label": "PERFORMS"
                },
                "label": "PERFORMS",
                "color": "#094c4b",
                "thickness_factor": 1,
                "directed": true
              },
              {
                "id": 539,
                "start": 382,
                "end": 195,
                "properties": {
                  "label": "PERFORMS"
                },
                "label": "PERFORMS",
                "color": "#094c4b",
                "thickness_factor": 1,
                "directed": true
              },
              {
                "id": 536,
                "start": 374,
                "end": 195,
                "properties": {
                  "label": "PERFORMS"
                },
                "label": "PERFORMS",
                "color": "#094c4b",
                "thickness_factor": 1,
                "directed": true
              },
              {
                "id": 538,
                "start": 382,
                "end": 103,
                "properties": {
                  "label": "PERFORMS"
                },
                "label": "PERFORMS",
                "color": "#094c4b",
                "thickness_factor": 1,
                "directed": true
              },
              {
                "id": 535,
                "start": 374,
                "end": 103,
                "properties": {
                  "label": "PERFORMS"
                },
                "label": "PERFORMS",
                "color": "#094c4b",
                "thickness_factor": 1,
                "directed": true
              },
              {
                "id": 548,
                "start": 7,
                "end": 231,
                "properties": {
                  "label": "PERFORMS"
                },
                "label": "PERFORMS",
                "color": "#094c4b",
                "thickness_factor": 1,
                "directed": true
              },
              {
                "id": 542,
                "start": 374,
                "end": 231,
                "properties": {
                  "label": "PERFORMS"
                },
                "label": "PERFORMS",
                "color": "#094c4b",
                "thickness_factor": 1,
                "directed": true
              },
              {
                "id": 545,
                "start": 1,
                "end": 231,
                "properties": {
                  "label": "PERFORMS"
                },
                "label": "PERFORMS",
                "color": "#094c4b",
                "thickness_factor": 1,
                "directed": true
              },
              {
                "id": 546,
                "start": 7,
                "end": 82,
                "properties": {
                  "label": "PERFORMS"
                },
                "label": "PERFORMS",
                "color": "#094c4b",
                "thickness_factor": 1,
                "directed": true
              },
              {
                "id": 540,
                "start": 374,
                "end": 82,
                "properties": {
                  "label": "PERFORMS"
                },
                "label": "PERFORMS",
                "color": "#094c4b",
                "thickness_factor": 1,
                "directed": true
              },
              {
                "id": 543,
                "start": 1,
                "end": 82,
                "properties": {
                  "label": "PERFORMS"
                },
                "label": "PERFORMS",
                "color": "#094c4b",
                "thickness_factor": 1,
                "directed": true
              },
              {
                "id": 547,
                "start": 7,
                "end": 104,
                "properties": {
                  "label": "PERFORMS"
                },
                "label": "PERFORMS",
                "color": "#094c4b",
                "thickness_factor": 1,
                "directed": true
              },
              {
                "id": 541,
                "start": 374,
                "end": 104,
                "properties": {
                  "label": "PERFORMS"
                },
                "label": "PERFORMS",
                "color": "#094c4b",
                "thickness_factor": 1,
                "directed": true
              },
              {
                "id": 544,
                "start": 1,
                "end": 104,
                "properties": {
                  "label": "PERFORMS"
                },
                "label": "PERFORMS",
                "color": "#094c4b",
                "thickness_factor": 1,
                "directed": true
              },
              {
                "id": 555,
                "start": 67,
                "end": 83,
                "properties": {
                  "label": "PERFORMS"
                },
                "label": "PERFORMS",
                "color": "#094c4b",
                "thickness_factor": 1,
                "directed": true
              },
              {
                "id": 549,
                "start": 374,
                "end": 83,
                "properties": {
                  "label": "PERFORMS"
                },
                "label": "PERFORMS",
                "color": "#094c4b",
                "thickness_factor": 1,
                "directed": true
              },
              {
                "id": 552,
                "start": 36,
                "end": 83,
                "properties": {
                  "label": "PERFORMS"
                },
                "label": "PERFORMS",
                "color": "#094c4b",
                "thickness_factor": 1,
                "directed": true
              },
              {
                "id": 557,
                "start": 67,
                "end": 125,
                "properties": {
                  "label": "PERFORMS"
                },
                "label": "PERFORMS",
                "color": "#094c4b",
                "thickness_factor": 1,
                "directed": true
              },
              {
                "id": 551,
                "start": 374,
                "end": 125,
                "properties": {
                  "label": "PERFORMS"
                },
                "label": "PERFORMS",
                "color": "#094c4b",
                "thickness_factor": 1,
                "directed": true
              },
              {
                "id": 554,
                "start": 36,
                "end": 125,
                "properties": {
                  "label": "PERFORMS"
                },
                "label": "PERFORMS",
                "color": "#094c4b",
                "thickness_factor": 1,
                "directed": true
              },
              {
                "id": 556,
                "start": 67,
                "end": 105,
                "properties": {
                  "label": "PERFORMS"
                },
                "label": "PERFORMS",
                "color": "#094c4b",
                "thickness_factor": 1,
                "directed": true
              },
              {
                "id": 550,
                "start": 374,
                "end": 105,
                "properties": {
                  "label": "PERFORMS"
                },
                "label": "PERFORMS",
                "color": "#094c4b",
                "thickness_factor": 1,
                "directed": true
              },
              {
                "id": 553,
                "start": 36,
                "end": 105,
                "properties": {
                  "label": "PERFORMS"
                },
                "label": "PERFORMS",
                "color": "#094c4b",
                "thickness_factor": 1,
                "directed": true
              },
              {
                "id": 559,
                "start": 62,
                "end": 84,
                "properties": {
                  "label": "PERFORMS"
                },
                "label": "PERFORMS",
                "color": "#094c4b",
                "thickness_factor": 1,
                "directed": true
              },
              {
                "id": 558,
                "start": 374,
                "end": 84,
                "properties": {
                  "label": "PERFORMS"
                },
                "label": "PERFORMS",
                "color": "#094c4b",
                "thickness_factor": 1,
                "directed": true
              },
              {
                "id": 3,
                "start": 377,
                "end": 86,
                "properties": {
                  "label": "PERFORMS"
                },
                "label": "PERFORMS",
                "color": "#094c4b",
                "thickness_factor": 1,
                "directed": true
              },
              {
                "id": 2,
                "start": 374,
                "end": 86,
                "properties": {
                  "label": "PERFORMS"
                },
                "label": "PERFORMS",
                "color": "#094c4b",
                "thickness_factor": 1,
                "directed": true
              },
              {
                "id": 6,
                "start": 383,
                "end": 87,
                "properties": {
                  "label": "PERFORMS"
                },
                "label": "PERFORMS",
                "color": "#094c4b",
                "thickness_factor": 1,
                "directed": true
              },
              {
                "id": 4,
                "start": 374,
                "end": 87,
                "properties": {
                  "label": "PERFORMS"
                },
                "label": "PERFORMS",
                "color": "#094c4b",
                "thickness_factor": 1,
                "directed": true
              },
              {
                "id": 7,
                "start": 383,
                "end": 230,
                "properties": {
                  "label": "PERFORMS"
                },
                "label": "PERFORMS",
                "color": "#094c4b",
                "thickness_factor": 1,
                "directed": true
              },
              {
                "id": 5,
                "start": 374,
                "end": 230,
                "properties": {
                  "label": "PERFORMS"
                },
                "label": "PERFORMS",
                "color": "#094c4b",
                "thickness_factor": 1,
                "directed": true
              },
              {
                "id": 14,
                "start": 22,
                "end": 88,
                "properties": {
                  "label": "PERFORMS"
                },
                "label": "PERFORMS",
                "color": "#094c4b",
                "thickness_factor": 1,
                "directed": true
              },
              {
                "id": 8,
                "start": 374,
                "end": 88,
                "properties": {
                  "label": "PERFORMS"
                },
                "label": "PERFORMS",
                "color": "#094c4b",
                "thickness_factor": 1,
                "directed": true
              },
              {
                "id": 11,
                "start": 379,
                "end": 88,
                "properties": {
                  "label": "PERFORMS"
                },
                "label": "PERFORMS",
                "color": "#094c4b",
                "thickness_factor": 1,
                "directed": true
              },
              {
                "id": 15,
                "start": 22,
                "end": 107,
                "properties": {
                  "label": "PERFORMS"
                },
                "label": "PERFORMS",
                "color": "#094c4b",
                "thickness_factor": 1,
                "directed": true
              },
              {
                "id": 9,
                "start": 374,
                "end": 107,
                "properties": {
                  "label": "PERFORMS"
                },
                "label": "PERFORMS",
                "color": "#094c4b",
                "thickness_factor": 1,
                "directed": true
              },
              {
                "id": 12,
                "start": 379,
                "end": 107,
                "properties": {
                  "label": "PERFORMS"
                },
                "label": "PERFORMS",
                "color": "#094c4b",
                "thickness_factor": 1,
                "directed": true
              },
              {
                "id": 16,
                "start": 22,
                "end": 229,
                "properties": {
                  "label": "PERFORMS"
                },
                "label": "PERFORMS",
                "color": "#094c4b",
                "thickness_factor": 1,
                "directed": true
              },
              {
                "id": 10,
                "start": 374,
                "end": 229,
                "properties": {
                  "label": "PERFORMS"
                },
                "label": "PERFORMS",
                "color": "#094c4b",
                "thickness_factor": 1,
                "directed": true
              },
              {
                "id": 13,
                "start": 379,
                "end": 229,
                "properties": {
                  "label": "PERFORMS"
                },
                "label": "PERFORMS",
                "color": "#094c4b",
                "thickness_factor": 1,
                "directed": true
              },
              {
                "id": 19,
                "start": 10,
                "end": 89,
                "properties": {
                  "label": "PERFORMS"
                },
                "label": "PERFORMS",
                "color": "#094c4b",
                "thickness_factor": 1,
                "directed": true
              },
              {
                "id": 17,
                "start": 374,
                "end": 89,
                "properties": {
                  "label": "PERFORMS"
                },
                "label": "PERFORMS",
                "color": "#094c4b",
                "thickness_factor": 1,
                "directed": true
              },
              {
                "id": 20,
                "start": 10,
                "end": 108,
                "properties": {
                  "label": "PERFORMS"
                },
                "label": "PERFORMS",
                "color": "#094c4b",
                "thickness_factor": 1,
                "directed": true
              },
              {
                "id": 18,
                "start": 374,
                "end": 108,
                "properties": {
                  "label": "PERFORMS"
                },
                "label": "PERFORMS",
                "color": "#094c4b",
                "thickness_factor": 1,
                "directed": true
              },
              {
                "id": 24,
                "start": 68,
                "end": 90,
                "properties": {
                  "label": "PERFORMS"
                },
                "label": "PERFORMS",
                "color": "#094c4b",
                "thickness_factor": 1,
                "directed": true
              },
              {
                "id": 21,
                "start": 374,
                "end": 90,
                "properties": {
                  "label": "PERFORMS"
                },
                "label": "PERFORMS",
                "color": "#094c4b",
                "thickness_factor": 1,
                "directed": true
              },
              {
                "id": 25,
                "start": 68,
                "end": 109,
                "properties": {
                  "label": "PERFORMS"
                },
                "label": "PERFORMS",
                "color": "#094c4b",
                "thickness_factor": 1,
                "directed": true
              },
              {
                "id": 22,
                "start": 374,
                "end": 109,
                "properties": {
                  "label": "PERFORMS"
                },
                "label": "PERFORMS",
                "color": "#094c4b",
                "thickness_factor": 1,
                "directed": true
              },
              {
                "id": 26,
                "start": 68,
                "end": 248,
                "properties": {
                  "label": "PERFORMS"
                },
                "label": "PERFORMS",
                "color": "#094c4b",
                "thickness_factor": 1,
                "directed": true
              },
              {
                "id": 23,
                "start": 374,
                "end": 248,
                "properties": {
                  "label": "PERFORMS"
                },
                "label": "PERFORMS",
                "color": "#094c4b",
                "thickness_factor": 1,
                "directed": true
              },
              {
                "id": 31,
                "start": 60,
                "end": 91,
                "properties": {
                  "label": "PERFORMS"
                },
                "label": "PERFORMS",
                "color": "#094c4b",
                "thickness_factor": 1,
                "directed": true
              },
              {
                "id": 27,
                "start": 374,
                "end": 91,
                "properties": {
                  "label": "PERFORMS"
                },
                "label": "PERFORMS",
                "color": "#094c4b",
                "thickness_factor": 1,
                "directed": true
              },
              {
                "id": 29,
                "start": 29,
                "end": 91,
                "properties": {
                  "label": "PERFORMS"
                },
                "label": "PERFORMS",
                "color": "#094c4b",
                "thickness_factor": 1,
                "directed": true
              },
              {
                "id": 32,
                "start": 60,
                "end": 110,
                "properties": {
                  "label": "PERFORMS"
                },
                "label": "PERFORMS",
                "color": "#094c4b",
                "thickness_factor": 1,
                "directed": true
              },
              {
                "id": 28,
                "start": 374,
                "end": 110,
                "properties": {
                  "label": "PERFORMS"
                },
                "label": "PERFORMS",
                "color": "#094c4b",
                "thickness_factor": 1,
                "directed": true
              },
              {
                "id": 30,
                "start": 29,
                "end": 110,
                "properties": {
                  "label": "PERFORMS"
                },
                "label": "PERFORMS",
                "color": "#094c4b",
                "thickness_factor": 1,
                "directed": true
              },
              {
                "id": 35,
                "start": 49,
                "end": 92,
                "properties": {
                  "label": "PERFORMS"
                },
                "label": "PERFORMS",
                "color": "#094c4b",
                "thickness_factor": 1,
                "directed": true
              },
              {
                "id": 33,
                "start": 374,
                "end": 92,
                "properties": {
                  "label": "PERFORMS"
                },
                "label": "PERFORMS",
                "color": "#094c4b",
                "thickness_factor": 1,
                "directed": true
              },
              {
                "id": 36,
                "start": 49,
                "end": 111,
                "properties": {
                  "label": "PERFORMS"
                },
                "label": "PERFORMS",
                "color": "#094c4b",
                "thickness_factor": 1,
                "directed": true
              },
              {
                "id": 34,
                "start": 374,
                "end": 111,
                "properties": {
                  "label": "PERFORMS"
                },
                "label": "PERFORMS",
                "color": "#094c4b",
                "thickness_factor": 1,
                "directed": true
              },
              {
                "id": 41,
                "start": 15,
                "end": 93,
                "properties": {
                  "label": "PERFORMS"
                },
                "label": "PERFORMS",
                "color": "#094c4b",
                "thickness_factor": 1,
                "directed": true
              },
              {
                "id": 37,
                "start": 374,
                "end": 93,
                "properties": {
                  "label": "PERFORMS"
                },
                "label": "PERFORMS",
                "color": "#094c4b",
                "thickness_factor": 1,
                "directed": true
              },
              {
                "id": 39,
                "start": 28,
                "end": 93,
                "properties": {
                  "label": "PERFORMS"
                },
                "label": "PERFORMS",
                "color": "#094c4b",
                "thickness_factor": 1,
                "directed": true
              },
              {
                "id": 42,
                "start": 15,
                "end": 112,
                "properties": {
                  "label": "PERFORMS"
                },
                "label": "PERFORMS",
                "color": "#094c4b",
                "thickness_factor": 1,
                "directed": true
              },
              {
                "id": 38,
                "start": 374,
                "end": 112,
                "properties": {
                  "label": "PERFORMS"
                },
                "label": "PERFORMS",
                "color": "#094c4b",
                "thickness_factor": 1,
                "directed": true
              },
              {
                "id": 40,
                "start": 28,
                "end": 112,
                "properties": {
                  "label": "PERFORMS"
                },
                "label": "PERFORMS",
                "color": "#094c4b",
                "thickness_factor": 1,
                "directed": true
              },
              {
                "id": 44,
                "start": 26,
                "end": 94,
                "properties": {
                  "label": "PERFORMS"
                },
                "label": "PERFORMS",
                "color": "#094c4b",
                "thickness_factor": 1,
                "directed": true
              },
              {
                "id": 43,
                "start": 374,
                "end": 94,
                "properties": {
                  "label": "PERFORMS"
                },
                "label": "PERFORMS",
                "color": "#094c4b",
                "thickness_factor": 1,
                "directed": true
              },
              {
                "id": 49,
                "start": 386,
                "end": 95,
                "properties": {
                  "label": "PERFORMS"
                },
                "label": "PERFORMS",
                "color": "#094c4b",
                "thickness_factor": 1,
                "directed": true
              },
              {
                "id": 45,
                "start": 374,
                "end": 95,
                "properties": {
                  "label": "PERFORMS"
                },
                "label": "PERFORMS",
                "color": "#094c4b",
                "thickness_factor": 1,
                "directed": true
              },
              {
                "id": 47,
                "start": 56,
                "end": 95,
                "properties": {
                  "label": "PERFORMS"
                },
                "label": "PERFORMS",
                "color": "#094c4b",
                "thickness_factor": 1,
                "directed": true
              },
              {
                "id": 50,
                "start": 386,
                "end": 181,
                "properties": {
                  "label": "PERFORMS"
                },
                "label": "PERFORMS",
                "color": "#094c4b",
                "thickness_factor": 1,
                "directed": true
              },
              {
                "id": 46,
                "start": 374,
                "end": 181,
                "properties": {
                  "label": "PERFORMS"
                },
                "label": "PERFORMS",
                "color": "#094c4b",
                "thickness_factor": 1,
                "directed": true
              },
              {
                "id": 48,
                "start": 56,
                "end": 181,
                "properties": {
                  "label": "PERFORMS"
                },
                "label": "PERFORMS",
                "color": "#094c4b",
                "thickness_factor": 1,
                "directed": true
              },
              {
                "id": 52,
                "start": 382,
                "end": 96,
                "properties": {
                  "label": "PERFORMS"
                },
                "label": "PERFORMS",
                "color": "#094c4b",
                "thickness_factor": 1,
                "directed": true
              },
              {
                "id": 51,
                "start": 374,
                "end": 96,
                "properties": {
                  "label": "PERFORMS"
                },
                "label": "PERFORMS",
                "color": "#094c4b",
                "thickness_factor": 1,
                "directed": true
              }
            ],
            "_graph_layout": {
              "algorithm": "radial",
              "options": {}
            },
            "_highlight": [],
            "_model_module": "yfiles-jupyter-graphs",
            "_model_module_version": "^1.4.5",
            "_model_name": "GraphModel",
            "_neighborhood": {},
            "_nodes": [
              {
                "id": 64,
                "properties": {
                  "name": "Joel Corry",
                  "feats": "63,258,648",
                  "lead_streams": "2,415,759,211",
                  "label": "Artist"
                },
                "label": "Joel Corry",
                "color": "#17bebb",
                "styles": {
                  "color": "#FF8C00",
                  "shape": "ellipse",
                  "label": "name"
                },
                "scale_factor": 1,
                "type": null,
                "position": [
                  0,
                  0
                ]
              },
              {
                "id": 299,
                "properties": {
                  "duration_ms": 176266,
                  "explicit": false,
                  "year": 2019,
                  "album": "Own It (feat. Ed Sheeran & Burna Boy) [Joel Corry Remix]",
                  "name": "Own It (feat. Ed Sheeran & Burna Boy) - Joel Corry Remix",
                  "danceability": 0.747,
                  "energy": 0.863,
                  "label": "Track"
                },
                "label": "Track",
                "color": "#17bebb",
                "styles": {
                  "color": "#40E0D0",
                  "shape": "ellipse",
                  "label": "label"
                },
                "scale_factor": 1,
                "type": null,
                "position": [
                  0,
                  0
                ]
              },
              {
                "id": 374,
                "properties": {
                  "name": "Ed Sheeran",
                  "feats": "2,791,278,201",
                  "lead_streams": "38,153,682,361",
                  "label": "Artist"
                },
                "label": "Ed Sheeran",
                "color": "#17bebb",
                "styles": {
                  "color": "#FF8C00",
                  "shape": "ellipse",
                  "label": "name"
                },
                "scale_factor": 1,
                "type": null,
                "position": [
                  0,
                  0
                ]
              },
              {
                "id": 74,
                "properties": {
                  "name": "Burna Boy",
                  "feats": "1,671,152,465",
                  "lead_streams": "1,821,371,663",
                  "label": "Artist"
                },
                "label": "Burna Boy",
                "color": "#17bebb",
                "styles": {
                  "color": "#FF8C00",
                  "shape": "ellipse",
                  "label": "name"
                },
                "scale_factor": 1,
                "type": null,
                "position": [
                  0,
                  0
                ]
              },
              {
                "id": 62,
                "properties": {
                  "name": "Stormzy",
                  "feats": "997,592,500",
                  "lead_streams": "2,500,482,085",
                  "label": "Artist"
                },
                "label": "Stormzy",
                "color": "#17bebb",
                "styles": {
                  "color": "#FF8C00",
                  "shape": "ellipse",
                  "label": "name"
                },
                "scale_factor": 1,
                "type": null,
                "position": [
                  0,
                  0
                ]
              },
              {
                "id": 55,
                "properties": {
                  "name": "Sam Feldt",
                  "feats": "174,098,397",
                  "lead_streams": "3,107,699,941",
                  "label": "Artist"
                },
                "label": "Sam Feldt",
                "color": "#17bebb",
                "styles": {
                  "color": "#FF8C00",
                  "shape": "ellipse",
                  "label": "name"
                },
                "scale_factor": 1,
                "type": null,
                "position": [
                  0,
                  0
                ]
              },
              {
                "id": 239,
                "properties": {
                  "duration_ms": 173455,
                  "explicit": false,
                  "year": 2019,
                  "album": "South of the Border (feat. Camila Cabello & Cardi B) [Sam Feldt Remix]",
                  "name": "South of the Border (feat. Camila Cabello & Cardi B) - Sam Feldt Remix",
                  "danceability": 0.789,
                  "energy": 0.858,
                  "label": "Track"
                },
                "label": "Track",
                "color": "#17bebb",
                "styles": {
                  "color": "#40E0D0",
                  "shape": "ellipse",
                  "label": "label"
                },
                "scale_factor": 1,
                "type": null,
                "position": [
                  0,
                  0
                ]
              },
              {
                "id": 1,
                "properties": {
                  "name": "Camila Cabello",
                  "feats": "2,188,298,508",
                  "lead_streams": "11,822,254,851",
                  "label": "Artist"
                },
                "label": "Camila Cabello",
                "color": "#17bebb",
                "styles": {
                  "color": "#FF8C00",
                  "shape": "ellipse",
                  "label": "name"
                },
                "scale_factor": 1,
                "type": null,
                "position": [
                  0,
                  0
                ]
              },
              {
                "id": 7,
                "properties": {
                  "name": "Cardi B",
                  "feats": "6,163,998,179",
                  "lead_streams": "9,066,363,643",
                  "label": "Artist"
                },
                "label": "Cardi B",
                "color": "#17bebb",
                "styles": {
                  "color": "#FF8C00",
                  "shape": "ellipse",
                  "label": "name"
                },
                "scale_factor": 1,
                "type": null,
                "position": [
                  0,
                  0
                ]
              },
              {
                "id": 237,
                "properties": {
                  "duration_ms": 188230,
                  "explicit": false,
                  "year": 2019,
                  "album": "South of the Border (feat. Camila Cabello & Cardi B) [Andy Jarvis Remix]",
                  "name": "South of the Border (feat. Camila Cabello & Cardi B) - Andy Jarvis Remix",
                  "danceability": 0.805,
                  "energy": 0.835,
                  "label": "Track"
                },
                "label": "Track",
                "color": "#17bebb",
                "styles": {
                  "color": "#40E0D0",
                  "shape": "ellipse",
                  "label": "label"
                },
                "scale_factor": 1,
                "type": null,
                "position": [
                  0,
                  0
                ]
              },
              {
                "id": 35,
                "properties": {
                  "name": "Cheat Codes",
                  "feats": "313,902,252",
                  "lead_streams": "4,629,305,378",
                  "label": "Artist"
                },
                "label": "Cheat Codes",
                "color": "#17bebb",
                "styles": {
                  "color": "#FF8C00",
                  "shape": "ellipse",
                  "label": "name"
                },
                "scale_factor": 1,
                "type": null,
                "position": [
                  0,
                  0
                ]
              },
              {
                "id": 234,
                "properties": {
                  "duration_ms": 195924,
                  "explicit": false,
                  "year": 2019,
                  "album": "South of the Border (feat. Camila Cabello & Cardi B) [Cheat Codes Remix]",
                  "name": "South of the Border (feat. Camila Cabello & Cardi B) - Cheat Codes Remix",
                  "danceability": 0.845,
                  "energy": 0.7659999999999999,
                  "label": "Track"
                },
                "label": "Track",
                "color": "#17bebb",
                "styles": {
                  "color": "#40E0D0",
                  "shape": "ellipse",
                  "label": "label"
                },
                "scale_factor": 1,
                "type": null,
                "position": [
                  0,
                  0
                ]
              },
              {
                "id": 232,
                "properties": {
                  "duration_ms": 194885,
                  "explicit": false,
                  "year": 2019,
                  "album": "South of the Border (feat. Camila Cabello) [Acoustic]",
                  "name": "South of the Border (feat. Camila Cabello) - Acoustic",
                  "danceability": 0.735,
                  "energy": 0.6859999999999999,
                  "label": "Track"
                },
                "label": "Track",
                "color": "#17bebb",
                "styles": {
                  "color": "#40E0D0",
                  "shape": "ellipse",
                  "label": "label"
                },
                "scale_factor": 1,
                "type": null,
                "position": [
                  0,
                  0
                ]
              },
              {
                "id": 382,
                "properties": {
                  "name": "Khalid",
                  "feats": "2,923,419,376",
                  "lead_streams": "20,973,735,166",
                  "label": "Artist"
                },
                "label": "Khalid",
                "color": "#17bebb",
                "styles": {
                  "color": "#FF8C00",
                  "shape": "ellipse",
                  "label": "name"
                },
                "scale_factor": 1,
                "type": null,
                "position": [
                  0,
                  0
                ]
              },
              {
                "id": 227,
                "properties": {
                  "duration_ms": 225367,
                  "explicit": false,
                  "year": 2019,
                  "album": "Beautiful People (feat. Khalid) [Danny L Harle Harlecore Remix]",
                  "name": "Beautiful People (feat. Khalid) - Danny L Harle Harlecore Remix",
                  "danceability": 0.4579999999999999,
                  "energy": 0.93,
                  "label": "Track"
                },
                "label": "Track",
                "color": "#17bebb",
                "styles": {
                  "color": "#40E0D0",
                  "shape": "ellipse",
                  "label": "label"
                },
                "scale_factor": 1,
                "type": null,
                "position": [
                  0,
                  0
                ]
              },
              {
                "id": 226,
                "properties": {
                  "duration_ms": 163049,
                  "explicit": false,
                  "year": 2019,
                  "album": "Beautiful People (feat. Khalid) [Jack Wins Remix]",
                  "name": "Beautiful People (feat. Khalid) - Jack Wins Remix",
                  "danceability": 0.675,
                  "energy": 0.919,
                  "label": "Track"
                },
                "label": "Track",
                "color": "#17bebb",
                "styles": {
                  "color": "#40E0D0",
                  "shape": "ellipse",
                  "label": "label"
                },
                "scale_factor": 1,
                "type": null,
                "position": [
                  0,
                  0
                ]
              },
              {
                "id": 21,
                "properties": {
                  "name": "Jonas Blue",
                  "feats": "111,388,929",
                  "lead_streams": "6,422,049,491",
                  "label": "Artist"
                },
                "label": "Jonas Blue",
                "color": "#17bebb",
                "styles": {
                  "color": "#FF8C00",
                  "shape": "ellipse",
                  "label": "name"
                },
                "scale_factor": 1,
                "type": null,
                "position": [
                  0,
                  0
                ]
              },
              {
                "id": 197,
                "properties": {
                  "duration_ms": 192681,
                  "explicit": false,
                  "year": 2019,
                  "album": "I Don't Care (with Justin Bieber) [Jonas Blue Remix]",
                  "name": "I Don't Care (with Justin Bieber) - Jonas Blue Remix",
                  "danceability": 0.708,
                  "energy": 0.872,
                  "label": "Track"
                },
                "label": "Track",
                "color": "#17bebb",
                "styles": {
                  "color": "#40E0D0",
                  "shape": "ellipse",
                  "label": "label"
                },
                "scale_factor": 1,
                "type": null,
                "position": [
                  0,
                  0
                ]
              },
              {
                "id": 377,
                "properties": {
                  "name": "Justin Bieber",
                  "feats": "10,816,202,075",
                  "lead_streams": "32,465,998,885",
                  "label": "Artist"
                },
                "label": "Justin Bieber",
                "color": "#17bebb",
                "styles": {
                  "color": "#FF8C00",
                  "shape": "ellipse",
                  "label": "name"
                },
                "scale_factor": 1,
                "type": null,
                "position": [
                  0,
                  0
                ]
              },
              {
                "id": 72,
                "properties": {
                  "name": "Loud Luxury",
                  "feats": "89,734,246",
                  "lead_streams": "1,898,927,877",
                  "label": "Artist"
                },
                "label": "Loud Luxury",
                "color": "#17bebb",
                "styles": {
                  "color": "#FF8C00",
                  "shape": "ellipse",
                  "label": "name"
                },
                "scale_factor": 1,
                "type": null,
                "position": [
                  0,
                  0
                ]
              },
              {
                "id": 196,
                "properties": {
                  "duration_ms": 194754,
                  "explicit": false,
                  "year": 2019,
                  "album": "I Don't Care (with Justin Bieber) [Loud Luxury Remix]",
                  "name": "I Don't Care (with Justin Bieber) - Loud Luxury Remix",
                  "danceability": 0.748,
                  "energy": 0.916,
                  "label": "Track"
                },
                "label": "Track",
                "color": "#17bebb",
                "styles": {
                  "color": "#40E0D0",
                  "shape": "ellipse",
                  "label": "label"
                },
                "scale_factor": 1,
                "type": null,
                "position": [
                  0,
                  0
                ]
              },
              {
                "id": 189,
                "properties": {
                  "duration_ms": 218373,
                  "explicit": false,
                  "year": 2019,
                  "album": "I Don't Care (with Justin Bieber) [Chronixx & Koffee Remix]",
                  "name": "I Don't Care (with Justin Bieber) - Chronixx & Koffee Remix",
                  "danceability": 0.759,
                  "energy": 0.688,
                  "label": "Track"
                },
                "label": "Track",
                "color": "#17bebb",
                "styles": {
                  "color": "#40E0D0",
                  "shape": "ellipse",
                  "label": "label"
                },
                "scale_factor": 1,
                "type": null,
                "position": [
                  0,
                  0
                ]
              },
              {
                "id": 67,
                "properties": {
                  "name": "PnB Rock",
                  "feats": "1,859,997,166",
                  "lead_streams": "2,228,993,718",
                  "label": "Artist"
                },
                "label": "PnB Rock",
                "color": "#17bebb",
                "styles": {
                  "color": "#FF8C00",
                  "shape": "ellipse",
                  "label": "name"
                },
                "scale_factor": 1,
                "type": null,
                "position": [
                  0,
                  0
                ]
              },
              {
                "id": 188,
                "properties": {
                  "duration_ms": 207894,
                  "explicit": true,
                  "year": 2019,
                  "album": "Cross Me (feat. Chance the Rapper & PnB Rock) [M-22 Remix]",
                  "name": "Cross Me (feat. Chance the Rapper & PnB Rock) - M-22 Remix",
                  "danceability": 0.679,
                  "energy": 0.923,
                  "label": "Track"
                },
                "label": "Track",
                "color": "#17bebb",
                "styles": {
                  "color": "#40E0D0",
                  "shape": "ellipse",
                  "label": "label"
                },
                "scale_factor": 1,
                "type": null,
                "position": [
                  0,
                  0
                ]
              },
              {
                "id": 36,
                "properties": {
                  "name": "Chance the Rapper",
                  "feats": "3,118,921,754",
                  "lead_streams": "4,517,223,691",
                  "label": "Artist"
                },
                "label": "Chance the Rapper",
                "color": "#17bebb",
                "styles": {
                  "color": "#FF8C00",
                  "shape": "ellipse",
                  "label": "name"
                },
                "scale_factor": 1,
                "type": null,
                "position": [
                  0,
                  0
                ]
              },
              {
                "id": 390,
                "properties": {
                  "name": "Beyoncé",
                  "feats": "1,949,901,038",
                  "lead_streams": "15,593,114,022",
                  "label": "Artist"
                },
                "label": "Beyoncé",
                "color": "#17bebb",
                "styles": {
                  "color": "#FF8C00",
                  "shape": "ellipse",
                  "label": "name"
                },
                "scale_factor": 1,
                "type": null,
                "position": [
                  0,
                  0
                ]
              },
              {
                "id": 163,
                "properties": {
                  "duration_ms": 259550,
                  "explicit": false,
                  "year": 2017,
                  "album": "Perfect Duet (Ed Sheeran & Beyoncé)",
                  "name": "Perfect Duet (Ed Sheeran & Beyoncé)",
                  "danceability": 0.5870000000000001,
                  "energy": 0.299,
                  "label": "Track"
                },
                "label": "Track",
                "color": "#17bebb",
                "styles": {
                  "color": "#40E0D0",
                  "shape": "ellipse",
                  "label": "label"
                },
                "scale_factor": 1,
                "type": null,
                "position": [
                  0,
                  0
                ]
              },
              {
                "id": 38,
                "properties": {
                  "name": "Galantis",
                  "feats": "102,139,066",
                  "lead_streams": "4,427,621,050",
                  "label": "Artist"
                },
                "label": "Galantis",
                "color": "#17bebb",
                "styles": {
                  "color": "#FF8C00",
                  "shape": "ellipse",
                  "label": "name"
                },
                "scale_factor": 1,
                "type": null,
                "position": [
                  0,
                  0
                ]
              },
              {
                "id": 151,
                "properties": {
                  "explicit": false,
                  "duration_ms": 195988,
                  "year": 2017,
                  "album": "Shape of You (Galantis Remix)",
                  "name": "Shape of You - Galantis Remix",
                  "danceability": 0.838,
                  "energy": 0.765,
                  "label": "Track"
                },
                "label": "Track",
                "color": "#17bebb",
                "styles": {
                  "color": "#40E0D0",
                  "shape": "ellipse",
                  "label": "label"
                },
                "scale_factor": 1,
                "type": null,
                "position": [
                  0,
                  0
                ]
              },
              {
                "id": 81,
                "properties": {
                  "explicit": false,
                  "duration_ms": 197867,
                  "year": 2019,
                  "album": "No.6 Collaborations Project",
                  "name": "Beautiful People (feat. Khalid)",
                  "danceability": 0.64,
                  "energy": 0.647,
                  "label": "Track"
                },
                "label": "Track",
                "color": "#17bebb",
                "styles": {
                  "color": "#40E0D0",
                  "shape": "ellipse",
                  "label": "label"
                },
                "scale_factor": 1,
                "type": null,
                "position": [
                  0,
                  0
                ]
              },
              {
                "id": 195,
                "properties": {
                  "duration_ms": 197867,
                  "explicit": false,
                  "year": 2019,
                  "album": "Beautiful People (feat. Khalid)",
                  "name": "Beautiful People (feat. Khalid)",
                  "danceability": 0.64,
                  "energy": 0.648,
                  "label": "Track"
                },
                "label": "Track",
                "color": "#17bebb",
                "styles": {
                  "color": "#40E0D0",
                  "shape": "ellipse",
                  "label": "label"
                },
                "scale_factor": 1,
                "type": null,
                "position": [
                  0,
                  0
                ]
              },
              {
                "id": 103,
                "properties": {
                  "explicit": false,
                  "duration_ms": 197867,
                  "year": 2019,
                  "album": "No.6 Collaborations Project",
                  "name": "Beautiful People (feat. Khalid)",
                  "danceability": 0.64,
                  "energy": 0.648,
                  "label": "Track"
                },
                "label": "Track",
                "color": "#17bebb",
                "styles": {
                  "color": "#40E0D0",
                  "shape": "ellipse",
                  "label": "label"
                },
                "scale_factor": 1,
                "type": null,
                "position": [
                  0,
                  0
                ]
              },
              {
                "id": 231,
                "properties": {
                  "duration_ms": 204467,
                  "explicit": false,
                  "year": 2019,
                  "album": "South of the Border (feat. Camila Cabello & Cardi B)",
                  "name": "South of the Border (feat. Camila Cabello & Cardi B)",
                  "danceability": 0.857,
                  "energy": 0.621,
                  "label": "Track"
                },
                "label": "Track",
                "color": "#17bebb",
                "styles": {
                  "color": "#40E0D0",
                  "shape": "ellipse",
                  "label": "label"
                },
                "scale_factor": 1,
                "type": null,
                "position": [
                  0,
                  0
                ]
              },
              {
                "id": 82,
                "properties": {
                  "explicit": false,
                  "duration_ms": 204467,
                  "year": 2019,
                  "album": "No.6 Collaborations Project",
                  "name": "South of the Border (feat. Camila Cabello & Cardi B)",
                  "danceability": 0.857,
                  "energy": 0.621,
                  "label": "Track"
                },
                "label": "Track",
                "color": "#17bebb",
                "styles": {
                  "color": "#40E0D0",
                  "shape": "ellipse",
                  "label": "label"
                },
                "scale_factor": 1,
                "type": null,
                "position": [
                  0,
                  0
                ]
              },
              {
                "id": 104,
                "properties": {
                  "explicit": false,
                  "duration_ms": 204467,
                  "year": 2019,
                  "album": "No.6 Collaborations Project",
                  "name": "South of the Border (feat. Camila Cabello & Cardi B)",
                  "danceability": 0.857,
                  "energy": 0.621,
                  "label": "Track"
                },
                "label": "Track",
                "color": "#17bebb",
                "styles": {
                  "color": "#40E0D0",
                  "shape": "ellipse",
                  "label": "label"
                },
                "scale_factor": 1,
                "type": null,
                "position": [
                  0,
                  0
                ]
              },
              {
                "id": 83,
                "properties": {
                  "explicit": true,
                  "duration_ms": 206187,
                  "year": 2019,
                  "album": "No.6 Collaborations Project",
                  "name": "Cross Me (feat. Chance the Rapper & PnB Rock)",
                  "danceability": 0.746,
                  "energy": 0.787,
                  "label": "Track"
                },
                "label": "Track",
                "color": "#17bebb",
                "styles": {
                  "color": "#40E0D0",
                  "shape": "ellipse",
                  "label": "label"
                },
                "scale_factor": 1,
                "type": null,
                "position": [
                  0,
                  0
                ]
              },
              {
                "id": 125,
                "properties": {
                  "duration_ms": 206187,
                  "explicit": true,
                  "year": 2019,
                  "album": "Cross Me (feat. Chance the Rapper & PnB Rock)",
                  "name": "Cross Me (feat. Chance the Rapper & PnB Rock)",
                  "danceability": 0.746,
                  "energy": 0.787,
                  "label": "Track"
                },
                "label": "Track",
                "color": "#17bebb",
                "styles": {
                  "color": "#40E0D0",
                  "shape": "ellipse",
                  "label": "label"
                },
                "scale_factor": 1,
                "type": null,
                "position": [
                  0,
                  0
                ]
              },
              {
                "id": 105,
                "properties": {
                  "explicit": false,
                  "duration_ms": 204833,
                  "year": 2019,
                  "album": "No.6 Collaborations Project",
                  "name": "Cross Me (feat. Chance the Rapper & PnB Rock)",
                  "danceability": 0.654,
                  "energy": 0.784,
                  "label": "Track"
                },
                "label": "Track",
                "color": "#17bebb",
                "styles": {
                  "color": "#40E0D0",
                  "shape": "ellipse",
                  "label": "label"
                },
                "scale_factor": 1,
                "type": null,
                "position": [
                  0,
                  0
                ]
              },
              {
                "id": 84,
                "properties": {
                  "explicit": false,
                  "duration_ms": 189733,
                  "year": 2019,
                  "album": "No.6 Collaborations Project",
                  "name": "Take Me Back to London (feat. Stormzy)",
                  "danceability": 0.885,
                  "energy": 0.762,
                  "label": "Track"
                },
                "label": "Track",
                "color": "#17bebb",
                "styles": {
                  "color": "#40E0D0",
                  "shape": "ellipse",
                  "label": "label"
                },
                "scale_factor": 1,
                "type": null,
                "position": [
                  0,
                  0
                ]
              },
              {
                "id": 86,
                "properties": {
                  "explicit": false,
                  "duration_ms": 219947,
                  "year": 2019,
                  "album": "No.6 Collaborations Project",
                  "name": "I Don't Care (with Justin Bieber)",
                  "danceability": 0.7979999999999999,
                  "energy": 0.6759999999999999,
                  "label": "Track"
                },
                "label": "Track",
                "color": "#17bebb",
                "styles": {
                  "color": "#40E0D0",
                  "shape": "ellipse",
                  "label": "label"
                },
                "scale_factor": 1,
                "type": null,
                "position": [
                  0,
                  0
                ]
              },
              {
                "id": 383,
                "properties": {
                  "name": "Travis Scott",
                  "feats": "9,662,107,113",
                  "lead_streams": "20,566,427,073",
                  "label": "Artist"
                },
                "label": "Travis Scott",
                "color": "#17bebb",
                "styles": {
                  "color": "#FF8C00",
                  "shape": "ellipse",
                  "label": "name"
                },
                "scale_factor": 1,
                "type": null,
                "position": [
                  0,
                  0
                ]
              },
              {
                "id": 87,
                "properties": {
                  "explicit": false,
                  "duration_ms": 161747,
                  "year": 2019,
                  "album": "No.6 Collaborations Project",
                  "name": "Antisocial (with Travis Scott)",
                  "danceability": 0.716,
                  "energy": 0.823,
                  "label": "Track"
                },
                "label": "Track",
                "color": "#17bebb",
                "styles": {
                  "color": "#40E0D0",
                  "shape": "ellipse",
                  "label": "label"
                },
                "scale_factor": 1,
                "type": null,
                "position": [
                  0,
                  0
                ]
              },
              {
                "id": 230,
                "properties": {
                  "duration_ms": 161747,
                  "explicit": false,
                  "year": 2019,
                  "album": "Antisocial (with Travis Scott)",
                  "name": "Antisocial (with Travis Scott)",
                  "danceability": 0.715,
                  "energy": 0.823,
                  "label": "Track"
                },
                "label": "Track",
                "color": "#17bebb",
                "styles": {
                  "color": "#40E0D0",
                  "shape": "ellipse",
                  "label": "label"
                },
                "scale_factor": 1,
                "type": null,
                "position": [
                  0,
                  0
                ]
              },
              {
                "id": 22,
                "properties": {
                  "name": "50 Cent",
                  "feats": "2,758,573,236",
                  "lead_streams": "6,248,846,278",
                  "label": "Artist"
                },
                "label": "50 Cent",
                "color": "#17bebb",
                "styles": {
                  "color": "#FF8C00",
                  "shape": "ellipse",
                  "label": "name"
                },
                "scale_factor": 1,
                "type": null,
                "position": [
                  0,
                  0
                ]
              },
              {
                "id": 88,
                "properties": {
                  "explicit": true,
                  "duration_ms": 207760,
                  "year": 2019,
                  "album": "No.6 Collaborations Project",
                  "name": "Remember The Name (feat. Eminem & 50 Cent)",
                  "danceability": 0.852,
                  "energy": 0.6659999999999999,
                  "label": "Track"
                },
                "label": "Track",
                "color": "#17bebb",
                "styles": {
                  "color": "#40E0D0",
                  "shape": "ellipse",
                  "label": "label"
                },
                "scale_factor": 1,
                "type": null,
                "position": [
                  0,
                  0
                ]
              },
              {
                "id": 379,
                "properties": {
                  "name": "Eminem",
                  "feats": "4,165,031,640",
                  "lead_streams": "30,431,861,291",
                  "label": "Artist"
                },
                "label": "Eminem",
                "color": "#17bebb",
                "styles": {
                  "color": "#FF8C00",
                  "shape": "ellipse",
                  "label": "name"
                },
                "scale_factor": 1,
                "type": null,
                "position": [
                  0,
                  0
                ]
              },
              {
                "id": 107,
                "properties": {
                  "explicit": false,
                  "duration_ms": 206443,
                  "year": 2019,
                  "album": "No.6 Collaborations Project",
                  "name": "Remember The Name (feat. Eminem & 50 Cent)",
                  "danceability": 0.863,
                  "energy": 0.649,
                  "label": "Track"
                },
                "label": "Track",
                "color": "#17bebb",
                "styles": {
                  "color": "#40E0D0",
                  "shape": "ellipse",
                  "label": "label"
                },
                "scale_factor": 1,
                "type": null,
                "position": [
                  0,
                  0
                ]
              },
              {
                "id": 229,
                "properties": {
                  "duration_ms": 207760,
                  "explicit": true,
                  "year": 2019,
                  "album": "Remember The Name (feat. Eminem & 50 Cent)",
                  "name": "Remember The Name (feat. Eminem & 50 Cent)",
                  "danceability": 0.852,
                  "energy": 0.6659999999999999,
                  "label": "Track"
                },
                "label": "Track",
                "color": "#17bebb",
                "styles": {
                  "color": "#40E0D0",
                  "shape": "ellipse",
                  "label": "label"
                },
                "scale_factor": 1,
                "type": null,
                "position": [
                  0,
                  0
                ]
              },
              {
                "id": 10,
                "properties": {
                  "name": "Young Thug",
                  "feats": "9,576,540,270",
                  "lead_streams": "8,956,248,071",
                  "label": "Artist"
                },
                "label": "Young Thug",
                "color": "#17bebb",
                "styles": {
                  "color": "#FF8C00",
                  "shape": "ellipse",
                  "label": "name"
                },
                "scale_factor": 1,
                "type": null,
                "position": [
                  0,
                  0
                ]
              },
              {
                "id": 89,
                "properties": {
                  "explicit": false,
                  "duration_ms": 150787,
                  "year": 2019,
                  "album": "No.6 Collaborations Project",
                  "name": "Feels (feat. Young Thug & J Hus)",
                  "danceability": 0.665,
                  "energy": 0.68,
                  "label": "Track"
                },
                "label": "Track",
                "color": "#17bebb",
                "styles": {
                  "color": "#40E0D0",
                  "shape": "ellipse",
                  "label": "label"
                },
                "scale_factor": 1,
                "type": null,
                "position": [
                  0,
                  0
                ]
              },
              {
                "id": 108,
                "properties": {
                  "explicit": false,
                  "duration_ms": 150787,
                  "year": 2019,
                  "album": "No.6 Collaborations Project",
                  "name": "Feels (feat. Young Thug & J Hus)",
                  "danceability": 0.665,
                  "energy": 0.68,
                  "label": "Track"
                },
                "label": "Track",
                "color": "#17bebb",
                "styles": {
                  "color": "#40E0D0",
                  "shape": "ellipse",
                  "label": "label"
                },
                "scale_factor": 1,
                "type": null,
                "position": [
                  0,
                  0
                ]
              },
              {
                "id": 68,
                "properties": {
                  "name": "Ella Mai",
                  "feats": "334,957,558",
                  "lead_streams": "2,161,392,693",
                  "label": "Artist"
                },
                "label": "Ella Mai",
                "color": "#17bebb",
                "styles": {
                  "color": "#FF8C00",
                  "shape": "ellipse",
                  "label": "name"
                },
                "scale_factor": 1,
                "type": null,
                "position": [
                  0,
                  0
                ]
              },
              {
                "id": 90,
                "properties": {
                  "explicit": false,
                  "duration_ms": 197093,
                  "year": 2019,
                  "album": "No.6 Collaborations Project",
                  "name": "Put It All on Me (feat. Ella Mai)",
                  "danceability": 0.627,
                  "energy": 0.594,
                  "label": "Track"
                },
                "label": "Track",
                "color": "#17bebb",
                "styles": {
                  "color": "#40E0D0",
                  "shape": "ellipse",
                  "label": "label"
                },
                "scale_factor": 1,
                "type": null,
                "position": [
                  0,
                  0
                ]
              },
              {
                "id": 109,
                "properties": {
                  "explicit": false,
                  "duration_ms": 197093,
                  "year": 2019,
                  "album": "No.6 Collaborations Project",
                  "name": "Put It All on Me (feat. Ella Mai)",
                  "danceability": 0.627,
                  "energy": 0.594,
                  "label": "Track"
                },
                "label": "Track",
                "color": "#17bebb",
                "styles": {
                  "color": "#40E0D0",
                  "shape": "ellipse",
                  "label": "label"
                },
                "scale_factor": 1,
                "type": null,
                "position": [
                  0,
                  0
                ]
              },
              {
                "id": 248,
                "properties": {
                  "duration_ms": 197093,
                  "explicit": false,
                  "year": 2019,
                  "album": "Put It All on Me (feat. Ella Mai)",
                  "name": "Put It All on Me (feat. Ella Mai)",
                  "danceability": 0.627,
                  "energy": 0.594,
                  "label": "Track"
                },
                "label": "Track",
                "color": "#17bebb",
                "styles": {
                  "color": "#40E0D0",
                  "shape": "ellipse",
                  "label": "label"
                },
                "scale_factor": 1,
                "type": null,
                "position": [
                  0,
                  0
                ]
              },
              {
                "id": 60,
                "properties": {
                  "name": "Dave",
                  "feats": "2,028,969,469",
                  "lead_streams": "2,749,490,108",
                  "label": "Artist"
                },
                "label": "Dave",
                "color": "#17bebb",
                "styles": {
                  "color": "#FF8C00",
                  "shape": "ellipse",
                  "label": "name"
                },
                "scale_factor": 1,
                "type": null,
                "position": [
                  0,
                  0
                ]
              },
              {
                "id": 91,
                "properties": {
                  "explicit": false,
                  "duration_ms": 200733,
                  "year": 2019,
                  "album": "No.6 Collaborations Project",
                  "name": "Nothing On You (feat. Paulo Londra & Dave)",
                  "danceability": 0.747,
                  "energy": 0.649,
                  "label": "Track"
                },
                "label": "Track",
                "color": "#17bebb",
                "styles": {
                  "color": "#40E0D0",
                  "shape": "ellipse",
                  "label": "label"
                },
                "scale_factor": 1,
                "type": null,
                "position": [
                  0,
                  0
                ]
              },
              {
                "id": 29,
                "properties": {
                  "name": "Paulo Londra",
                  "feats": "119,832,137",
                  "lead_streams": "5,408,739,140",
                  "label": "Artist"
                },
                "label": "Paulo Londra",
                "color": "#17bebb",
                "styles": {
                  "color": "#FF8C00",
                  "shape": "ellipse",
                  "label": "name"
                },
                "scale_factor": 1,
                "type": null,
                "position": [
                  0,
                  0
                ]
              },
              {
                "id": 110,
                "properties": {
                  "explicit": false,
                  "duration_ms": 200733,
                  "year": 2019,
                  "album": "No.6 Collaborations Project",
                  "name": "Nothing On You (feat. Paulo Londra & Dave)",
                  "danceability": 0.747,
                  "energy": 0.649,
                  "label": "Track"
                },
                "label": "Track",
                "color": "#17bebb",
                "styles": {
                  "color": "#40E0D0",
                  "shape": "ellipse",
                  "label": "label"
                },
                "scale_factor": 1,
                "type": null,
                "position": [
                  0,
                  0
                ]
              },
              {
                "id": 49,
                "properties": {
                  "name": "H.E.R.",
                  "feats": "3,118,921,754",
                  "lead_streams": "3,476,314,834",
                  "label": "Artist"
                },
                "label": "H.E.R.",
                "color": "#17bebb",
                "styles": {
                  "color": "#FF8C00",
                  "shape": "ellipse",
                  "label": "name"
                },
                "scale_factor": 1,
                "type": null,
                "position": [
                  0,
                  0
                ]
              },
              {
                "id": 92,
                "properties": {
                  "explicit": false,
                  "duration_ms": 204507,
                  "year": 2019,
                  "album": "No.6 Collaborations Project",
                  "name": "I Don't Want Your Money (feat. H.E.R.)",
                  "danceability": 0.4679999999999999,
                  "energy": 0.63,
                  "label": "Track"
                },
                "label": "Track",
                "color": "#17bebb",
                "styles": {
                  "color": "#40E0D0",
                  "shape": "ellipse",
                  "label": "label"
                },
                "scale_factor": 1,
                "type": null,
                "position": [
                  0,
                  0
                ]
              },
              {
                "id": 111,
                "properties": {
                  "explicit": false,
                  "duration_ms": 204507,
                  "year": 2019,
                  "album": "No.6 Collaborations Project",
                  "name": "I Don't Want Your Money (feat. H.E.R.)",
                  "danceability": 0.469,
                  "energy": 0.631,
                  "label": "Track"
                },
                "label": "Track",
                "color": "#17bebb",
                "styles": {
                  "color": "#40E0D0",
                  "shape": "ellipse",
                  "label": "label"
                },
                "scale_factor": 1,
                "type": null,
                "position": [
                  0,
                  0
                ]
              },
              {
                "id": 15,
                "properties": {
                  "name": "A Boogie Wit da Hoodie",
                  "feats": "3,249,718,029",
                  "lead_streams": "7,634,446,872",
                  "label": "Artist"
                },
                "label": "A Boogie Wit da Hoodie",
                "color": "#17bebb",
                "styles": {
                  "color": "#FF8C00",
                  "shape": "ellipse",
                  "label": "name"
                },
                "scale_factor": 1,
                "type": null,
                "position": [
                  0,
                  0
                ]
              },
              {
                "id": 93,
                "properties": {
                  "explicit": false,
                  "duration_ms": 212307,
                  "year": 2019,
                  "album": "No.6 Collaborations Project",
                  "name": "1000 Nights (feat. Meek Mill & A Boogie Wit da Hoodie)",
                  "danceability": 0.778,
                  "energy": 0.589,
                  "label": "Track"
                },
                "label": "Track",
                "color": "#17bebb",
                "styles": {
                  "color": "#40E0D0",
                  "shape": "ellipse",
                  "label": "label"
                },
                "scale_factor": 1,
                "type": null,
                "position": [
                  0,
                  0
                ]
              },
              {
                "id": 28,
                "properties": {
                  "name": "Meek Mill",
                  "feats": "1,900,550,120",
                  "lead_streams": "5,609,538,227",
                  "label": "Artist"
                },
                "label": "Meek Mill",
                "color": "#17bebb",
                "styles": {
                  "color": "#FF8C00",
                  "shape": "ellipse",
                  "label": "name"
                },
                "scale_factor": 1,
                "type": null,
                "position": [
                  0,
                  0
                ]
              },
              {
                "id": 112,
                "properties": {
                  "explicit": false,
                  "duration_ms": 212307,
                  "year": 2019,
                  "album": "No.6 Collaborations Project",
                  "name": "1000 Nights (feat. Meek Mill & A Boogie Wit da Hoodie)",
                  "danceability": 0.778,
                  "energy": 0.59,
                  "label": "Track"
                },
                "label": "Track",
                "color": "#17bebb",
                "styles": {
                  "color": "#40E0D0",
                  "shape": "ellipse",
                  "label": "label"
                },
                "scale_factor": 1,
                "type": null,
                "position": [
                  0,
                  0
                ]
              },
              {
                "id": 26,
                "properties": {
                  "name": "Skrillex",
                  "feats": "1,640,865,351",
                  "lead_streams": "5,881,756,686",
                  "label": "Artist"
                },
                "label": "Skrillex",
                "color": "#17bebb",
                "styles": {
                  "color": "#FF8C00",
                  "shape": "ellipse",
                  "label": "name"
                },
                "scale_factor": 1,
                "type": null,
                "position": [
                  0,
                  0
                ]
              },
              {
                "id": 94,
                "properties": {
                  "explicit": false,
                  "duration_ms": 190293,
                  "year": 2019,
                  "album": "No.6 Collaborations Project",
                  "name": "Way To Break My Heart (feat. Skrillex)",
                  "danceability": 0.726,
                  "energy": 0.731,
                  "label": "Track"
                },
                "label": "Track",
                "color": "#17bebb",
                "styles": {
                  "color": "#40E0D0",
                  "shape": "ellipse",
                  "label": "label"
                },
                "scale_factor": 1,
                "type": null,
                "position": [
                  0,
                  0
                ]
              },
              {
                "id": 386,
                "properties": {
                  "name": "Bruno Mars",
                  "feats": "3,874,562,483",
                  "lead_streams": "18,201,285,113",
                  "label": "Artist"
                },
                "label": "Bruno Mars",
                "color": "#17bebb",
                "styles": {
                  "color": "#FF8C00",
                  "shape": "ellipse",
                  "label": "name"
                },
                "scale_factor": 1,
                "type": null,
                "position": [
                  0,
                  0
                ]
              },
              {
                "id": 95,
                "properties": {
                  "explicit": false,
                  "duration_ms": 209120,
                  "year": 2019,
                  "album": "No.6 Collaborations Project",
                  "name": "BLOW (with Chris Stapleton & Bruno Mars)",
                  "danceability": 0.631,
                  "energy": 0.7959999999999999,
                  "label": "Track"
                },
                "label": "Track",
                "color": "#17bebb",
                "styles": {
                  "color": "#40E0D0",
                  "shape": "ellipse",
                  "label": "label"
                },
                "scale_factor": 1,
                "type": null,
                "position": [
                  0,
                  0
                ]
              },
              {
                "id": 56,
                "properties": {
                  "name": "Chris Stapleton",
                  "feats": "1,117,326,282",
                  "lead_streams": "3,024,791,697",
                  "label": "Artist"
                },
                "label": "Chris Stapleton",
                "color": "#17bebb",
                "styles": {
                  "color": "#FF8C00",
                  "shape": "ellipse",
                  "label": "name"
                },
                "scale_factor": 1,
                "type": null,
                "position": [
                  0,
                  0
                ]
              },
              {
                "id": 181,
                "properties": {
                  "duration_ms": 209120,
                  "explicit": false,
                  "year": 2019,
                  "album": "BLOW (with Chris Stapleton & Bruno Mars)",
                  "name": "BLOW (with Chris Stapleton & Bruno Mars)",
                  "danceability": 0.631,
                  "energy": 0.7959999999999999,
                  "label": "Track"
                },
                "label": "Track",
                "color": "#17bebb",
                "styles": {
                  "color": "#40E0D0",
                  "shape": "ellipse",
                  "label": "label"
                },
                "scale_factor": 1,
                "type": null,
                "position": [
                  0,
                  0
                ]
              },
              {
                "id": 96,
                "properties": {
                  "duration_ms": 162081,
                  "explicit": false,
                  "year": 2019,
                  "album": "Beautiful People (feat. Khalid) [NOTD Remix]",
                  "name": "Beautiful People (feat. Khalid) - NOTD Remix",
                  "danceability": 0.7020000000000001,
                  "energy": 0.794,
                  "label": "Track"
                },
                "label": "Track",
                "color": "#17bebb",
                "styles": {
                  "color": "#40E0D0",
                  "shape": "ellipse",
                  "label": "label"
                },
                "scale_factor": 1,
                "type": null,
                "position": [
                  0,
                  0
                ]
              }
            ],
            "_overview": {
              "enabled": null,
              "overview_set": false
            },
            "_sidebar": {
              "enabled": true,
              "start_with": ""
            },
            "_svg": "",
            "_view_count": null,
            "_view_module": "yfiles-jupyter-graphs",
            "_view_module_version": "^1.4.5",
            "_view_name": "GraphView",
            "layout": "IPY_MODEL_9f83929e5b684c4ea24f40b00a1fe407"
          }
        },
        "9f83929e5b684c4ea24f40b00a1fe407": {
          "model_module": "@jupyter-widgets/base",
          "model_name": "LayoutModel",
          "model_module_version": "1.2.0",
          "state": {
            "_model_module": "@jupyter-widgets/base",
            "_model_module_version": "1.2.0",
            "_model_name": "LayoutModel",
            "_view_count": null,
            "_view_module": "@jupyter-widgets/base",
            "_view_module_version": "1.2.0",
            "_view_name": "LayoutView",
            "align_content": null,
            "align_items": null,
            "align_self": null,
            "border": null,
            "bottom": null,
            "display": null,
            "flex": null,
            "flex_flow": null,
            "grid_area": null,
            "grid_auto_columns": null,
            "grid_auto_flow": null,
            "grid_auto_rows": null,
            "grid_column": null,
            "grid_gap": null,
            "grid_row": null,
            "grid_template_areas": null,
            "grid_template_columns": null,
            "grid_template_rows": null,
            "height": "500px",
            "justify_content": null,
            "justify_items": null,
            "left": null,
            "margin": null,
            "max_height": null,
            "max_width": null,
            "min_height": null,
            "min_width": null,
            "object_fit": null,
            "object_position": null,
            "order": null,
            "overflow": null,
            "overflow_x": null,
            "overflow_y": null,
            "padding": null,
            "right": null,
            "top": null,
            "visibility": null,
            "width": "100%"
          }
        },
        "dfb4450aed474541ac51d211b4a08368": {
          "model_module": "yfiles-jupyter-graphs",
          "model_name": "GraphModel",
          "model_module_version": "^1.4.5",
          "state": {
            "_context_pane_mapping": [
              {
                "id": "Neighborhood",
                "title": "Neighborhood"
              },
              {
                "id": "Data",
                "title": "Data"
              },
              {
                "id": "Search",
                "title": "Search"
              },
              {
                "id": "About",
                "title": "About"
              }
            ],
            "_data_importer": "neo4j",
            "_directed": true,
            "_dom_classes": [],
            "_edges": [
              {
                "id": 310,
                "start": 374,
                "end": 239,
                "properties": {
                  "label": "PERFORMS"
                },
                "label": "PERFORMS",
                "color": "#094c4b",
                "thickness_factor": 1,
                "directed": true
              },
              {
                "id": 311,
                "start": 7,
                "end": 239,
                "properties": {
                  "label": "PERFORMS"
                },
                "label": "PERFORMS",
                "color": "#094c4b",
                "thickness_factor": 1,
                "directed": true
              },
              {
                "id": 190,
                "start": 7,
                "end": 170,
                "properties": {
                  "label": "PERFORMS"
                },
                "label": "PERFORMS",
                "color": "#094c4b",
                "thickness_factor": 1,
                "directed": true
              },
              {
                "id": 194,
                "start": 380,
                "end": 170,
                "properties": {
                  "label": "PERFORMS"
                },
                "label": "PERFORMS",
                "color": "#094c4b",
                "thickness_factor": 1,
                "directed": true
              },
              {
                "id": 192,
                "start": 373,
                "end": 170,
                "properties": {
                  "label": "PERFORMS"
                },
                "label": "PERFORMS",
                "color": "#094c4b",
                "thickness_factor": 1,
                "directed": true
              },
              {
                "id": 191,
                "start": 7,
                "end": 250,
                "properties": {
                  "label": "PERFORMS"
                },
                "label": "PERFORMS",
                "color": "#094c4b",
                "thickness_factor": 1,
                "directed": true
              },
              {
                "id": 195,
                "start": 380,
                "end": 250,
                "properties": {
                  "label": "PERFORMS"
                },
                "label": "PERFORMS",
                "color": "#094c4b",
                "thickness_factor": 1,
                "directed": true
              },
              {
                "id": 193,
                "start": 373,
                "end": 250,
                "properties": {
                  "label": "PERFORMS"
                },
                "label": "PERFORMS",
                "color": "#094c4b",
                "thickness_factor": 1,
                "directed": true
              },
              {
                "id": 305,
                "start": 374,
                "end": 237,
                "properties": {
                  "label": "PERFORMS"
                },
                "label": "PERFORMS",
                "color": "#094c4b",
                "thickness_factor": 1,
                "directed": true
              },
              {
                "id": 306,
                "start": 7,
                "end": 237,
                "properties": {
                  "label": "PERFORMS"
                },
                "label": "PERFORMS",
                "color": "#094c4b",
                "thickness_factor": 1,
                "directed": true
              },
              {
                "id": 299,
                "start": 374,
                "end": 234,
                "properties": {
                  "label": "PERFORMS"
                },
                "label": "PERFORMS",
                "color": "#094c4b",
                "thickness_factor": 1,
                "directed": true
              },
              {
                "id": 300,
                "start": 7,
                "end": 234,
                "properties": {
                  "label": "PERFORMS"
                },
                "label": "PERFORMS",
                "color": "#094c4b",
                "thickness_factor": 1,
                "directed": true
              },
              {
                "id": 249,
                "start": 374,
                "end": 197,
                "properties": {
                  "label": "PERFORMS"
                },
                "label": "PERFORMS",
                "color": "#094c4b",
                "thickness_factor": 1,
                "directed": true
              },
              {
                "id": 250,
                "start": 377,
                "end": 197,
                "properties": {
                  "label": "PERFORMS"
                },
                "label": "PERFORMS",
                "color": "#094c4b",
                "thickness_factor": 1,
                "directed": true
              },
              {
                "id": 467,
                "start": 377,
                "end": 327,
                "properties": {
                  "label": "PERFORMS"
                },
                "label": "PERFORMS",
                "color": "#094c4b",
                "thickness_factor": 1,
                "directed": true
              },
              {
                "id": 469,
                "start": 69,
                "end": 327,
                "properties": {
                  "label": "PERFORMS"
                },
                "label": "PERFORMS",
                "color": "#094c4b",
                "thickness_factor": 1,
                "directed": true
              },
              {
                "id": 468,
                "start": 380,
                "end": 327,
                "properties": {
                  "label": "PERFORMS"
                },
                "label": "PERFORMS",
                "color": "#094c4b",
                "thickness_factor": 1,
                "directed": true
              },
              {
                "id": 466,
                "start": 46,
                "end": 327,
                "properties": {
                  "label": "PERFORMS"
                },
                "label": "PERFORMS",
                "color": "#094c4b",
                "thickness_factor": 1,
                "directed": true
              },
              {
                "id": 430,
                "start": 377,
                "end": 311,
                "properties": {
                  "label": "PERFORMS"
                },
                "label": "PERFORMS",
                "color": "#094c4b",
                "thickness_factor": 1,
                "directed": true
              },
              {
                "id": 431,
                "start": 19,
                "end": 311,
                "properties": {
                  "label": "PERFORMS"
                },
                "label": "PERFORMS",
                "color": "#094c4b",
                "thickness_factor": 1,
                "directed": true
              },
              {
                "id": 429,
                "start": 51,
                "end": 311,
                "properties": {
                  "label": "PERFORMS"
                },
                "label": "PERFORMS",
                "color": "#094c4b",
                "thickness_factor": 1,
                "directed": true
              },
              {
                "id": 428,
                "start": 39,
                "end": 311,
                "properties": {
                  "label": "PERFORMS"
                },
                "label": "PERFORMS",
                "color": "#094c4b",
                "thickness_factor": 1,
                "directed": true
              },
              {
                "id": 349,
                "start": 377,
                "end": 260,
                "properties": {
                  "label": "PERFORMS"
                },
                "label": "PERFORMS",
                "color": "#094c4b",
                "thickness_factor": 1,
                "directed": true
              },
              {
                "id": 348,
                "start": 47,
                "end": 260,
                "properties": {
                  "label": "PERFORMS"
                },
                "label": "PERFORMS",
                "color": "#094c4b",
                "thickness_factor": 1,
                "directed": true
              },
              {
                "id": 341,
                "start": 377,
                "end": 253,
                "properties": {
                  "label": "PERFORMS"
                },
                "label": "PERFORMS",
                "color": "#094c4b",
                "thickness_factor": 1,
                "directed": true
              },
              {
                "id": 340,
                "start": 47,
                "end": 253,
                "properties": {
                  "label": "PERFORMS"
                },
                "label": "PERFORMS",
                "color": "#094c4b",
                "thickness_factor": 1,
                "directed": true
              },
              {
                "id": 338,
                "start": 377,
                "end": 252,
                "properties": {
                  "label": "PERFORMS"
                },
                "label": "PERFORMS",
                "color": "#094c4b",
                "thickness_factor": 1,
                "directed": true
              },
              {
                "id": 336,
                "start": 392,
                "end": 252,
                "properties": {
                  "label": "PERFORMS"
                },
                "label": "PERFORMS",
                "color": "#094c4b",
                "thickness_factor": 1,
                "directed": true
              },
              {
                "id": 339,
                "start": 377,
                "end": 255,
                "properties": {
                  "label": "PERFORMS"
                },
                "label": "PERFORMS",
                "color": "#094c4b",
                "thickness_factor": 1,
                "directed": true
              },
              {
                "id": 337,
                "start": 392,
                "end": 255,
                "properties": {
                  "label": "PERFORMS"
                },
                "label": "PERFORMS",
                "color": "#094c4b",
                "thickness_factor": 1,
                "directed": true
              },
              {
                "id": 323,
                "start": 377,
                "end": 243,
                "properties": {
                  "label": "PERFORMS"
                },
                "label": "PERFORMS",
                "color": "#094c4b",
                "thickness_factor": 1,
                "directed": true
              },
              {
                "id": 322,
                "start": 378,
                "end": 243,
                "properties": {
                  "label": "PERFORMS"
                },
                "label": "PERFORMS",
                "color": "#094c4b",
                "thickness_factor": 1,
                "directed": true
              },
              {
                "id": 320,
                "start": 377,
                "end": 242,
                "properties": {
                  "label": "PERFORMS"
                },
                "label": "PERFORMS",
                "color": "#094c4b",
                "thickness_factor": 1,
                "directed": true
              },
              {
                "id": 321,
                "start": 57,
                "end": 242,
                "properties": {
                  "label": "PERFORMS"
                },
                "label": "PERFORMS",
                "color": "#094c4b",
                "thickness_factor": 1,
                "directed": true
              },
              {
                "id": 309,
                "start": 377,
                "end": 238,
                "properties": {
                  "label": "PERFORMS"
                },
                "label": "PERFORMS",
                "color": "#094c4b",
                "thickness_factor": 1,
                "directed": true
              },
              {
                "id": 308,
                "start": 47,
                "end": 238,
                "properties": {
                  "label": "PERFORMS"
                },
                "label": "PERFORMS",
                "color": "#094c4b",
                "thickness_factor": 1,
                "directed": true
              },
              {
                "id": 256,
                "start": 377,
                "end": 201,
                "properties": {
                  "label": "PERFORMS"
                },
                "label": "PERFORMS",
                "color": "#094c4b",
                "thickness_factor": 1,
                "directed": true
              },
              {
                "id": 257,
                "start": 73,
                "end": 201,
                "properties": {
                  "label": "PERFORMS"
                },
                "label": "PERFORMS",
                "color": "#094c4b",
                "thickness_factor": 1,
                "directed": true
              },
              {
                "id": 255,
                "start": 11,
                "end": 201,
                "properties": {
                  "label": "PERFORMS"
                },
                "label": "PERFORMS",
                "color": "#094c4b",
                "thickness_factor": 1,
                "directed": true
              },
              {
                "id": 241,
                "start": 377,
                "end": 190,
                "properties": {
                  "label": "PERFORMS"
                },
                "label": "PERFORMS",
                "color": "#094c4b",
                "thickness_factor": 1,
                "directed": true
              },
              {
                "id": 240,
                "start": 384,
                "end": 190,
                "properties": {
                  "label": "PERFORMS"
                },
                "label": "PERFORMS",
                "color": "#094c4b",
                "thickness_factor": 1,
                "directed": true
              },
              {
                "id": 209,
                "start": 377,
                "end": 176,
                "properties": {
                  "label": "PERFORMS"
                },
                "label": "PERFORMS",
                "color": "#094c4b",
                "thickness_factor": 1,
                "directed": true
              },
              {
                "id": 210,
                "start": 57,
                "end": 176,
                "properties": {
                  "label": "PERFORMS"
                },
                "label": "PERFORMS",
                "color": "#094c4b",
                "thickness_factor": 1,
                "directed": true
              },
              {
                "id": 208,
                "start": 17,
                "end": 176,
                "properties": {
                  "label": "PERFORMS"
                },
                "label": "PERFORMS",
                "color": "#094c4b",
                "thickness_factor": 1,
                "directed": true
              },
              {
                "id": 181,
                "start": 377,
                "end": 167,
                "properties": {
                  "label": "PERFORMS"
                },
                "label": "PERFORMS",
                "color": "#094c4b",
                "thickness_factor": 1,
                "directed": true
              },
              {
                "id": 180,
                "start": 12,
                "end": 167,
                "properties": {
                  "label": "PERFORMS"
                },
                "label": "PERFORMS",
                "color": "#094c4b",
                "thickness_factor": 1,
                "directed": true
              },
              {
                "id": 178,
                "start": 77,
                "end": 167,
                "properties": {
                  "label": "PERFORMS"
                },
                "label": "PERFORMS",
                "color": "#094c4b",
                "thickness_factor": 1,
                "directed": true
              },
              {
                "id": 174,
                "start": 377,
                "end": 166,
                "properties": {
                  "label": "PERFORMS"
                },
                "label": "PERFORMS",
                "color": "#094c4b",
                "thickness_factor": 1,
                "directed": true
              },
              {
                "id": 176,
                "start": 370,
                "end": 166,
                "properties": {
                  "label": "PERFORMS"
                },
                "label": "PERFORMS",
                "color": "#094c4b",
                "thickness_factor": 1,
                "directed": true
              },
              {
                "id": 172,
                "start": 12,
                "end": 166,
                "properties": {
                  "label": "PERFORMS"
                },
                "label": "PERFORMS",
                "color": "#094c4b",
                "thickness_factor": 1,
                "directed": true
              },
              {
                "id": 168,
                "start": 77,
                "end": 166,
                "properties": {
                  "label": "PERFORMS"
                },
                "label": "PERFORMS",
                "color": "#094c4b",
                "thickness_factor": 1,
                "directed": true
              },
              {
                "id": 175,
                "start": 377,
                "end": 265,
                "properties": {
                  "label": "PERFORMS"
                },
                "label": "PERFORMS",
                "color": "#094c4b",
                "thickness_factor": 1,
                "directed": true
              },
              {
                "id": 177,
                "start": 370,
                "end": 265,
                "properties": {
                  "label": "PERFORMS"
                },
                "label": "PERFORMS",
                "color": "#094c4b",
                "thickness_factor": 1,
                "directed": true
              },
              {
                "id": 173,
                "start": 12,
                "end": 265,
                "properties": {
                  "label": "PERFORMS"
                },
                "label": "PERFORMS",
                "color": "#094c4b",
                "thickness_factor": 1,
                "directed": true
              },
              {
                "id": 169,
                "start": 77,
                "end": 265,
                "properties": {
                  "label": "PERFORMS"
                },
                "label": "PERFORMS",
                "color": "#094c4b",
                "thickness_factor": 1,
                "directed": true
              },
              {
                "id": 167,
                "start": 377,
                "end": 165,
                "properties": {
                  "label": "PERFORMS"
                },
                "label": "PERFORMS",
                "color": "#094c4b",
                "thickness_factor": 1,
                "directed": true
              },
              {
                "id": 166,
                "start": 12,
                "end": 165,
                "properties": {
                  "label": "PERFORMS"
                },
                "label": "PERFORMS",
                "color": "#094c4b",
                "thickness_factor": 1,
                "directed": true
              },
              {
                "id": 164,
                "start": 77,
                "end": 165,
                "properties": {
                  "label": "PERFORMS"
                },
                "label": "PERFORMS",
                "color": "#094c4b",
                "thickness_factor": 1,
                "directed": true
              },
              {
                "id": 163,
                "start": 377,
                "end": 164,
                "properties": {
                  "label": "PERFORMS"
                },
                "label": "PERFORMS",
                "color": "#094c4b",
                "thickness_factor": 1,
                "directed": true
              },
              {
                "id": 162,
                "start": 12,
                "end": 164,
                "properties": {
                  "label": "PERFORMS"
                },
                "label": "PERFORMS",
                "color": "#094c4b",
                "thickness_factor": 1,
                "directed": true
              },
              {
                "id": 160,
                "start": 77,
                "end": 164,
                "properties": {
                  "label": "PERFORMS"
                },
                "label": "PERFORMS",
                "color": "#094c4b",
                "thickness_factor": 1,
                "directed": true
              },
              {
                "id": 146,
                "start": 377,
                "end": 156,
                "properties": {
                  "label": "PERFORMS"
                },
                "label": "PERFORMS",
                "color": "#094c4b",
                "thickness_factor": 1,
                "directed": true
              },
              {
                "id": 145,
                "start": 12,
                "end": 156,
                "properties": {
                  "label": "PERFORMS"
                },
                "label": "PERFORMS",
                "color": "#094c4b",
                "thickness_factor": 1,
                "directed": true
              },
              {
                "id": 143,
                "start": 77,
                "end": 156,
                "properties": {
                  "label": "PERFORMS"
                },
                "label": "PERFORMS",
                "color": "#094c4b",
                "thickness_factor": 1,
                "directed": true
              },
              {
                "id": 112,
                "start": 377,
                "end": 155,
                "properties": {
                  "label": "PERFORMS"
                },
                "label": "PERFORMS",
                "color": "#094c4b",
                "thickness_factor": 1,
                "directed": true
              },
              {
                "id": 118,
                "start": 9,
                "end": 155,
                "properties": {
                  "label": "PERFORMS"
                },
                "label": "PERFORMS",
                "color": "#094c4b",
                "thickness_factor": 1,
                "directed": true
              },
              {
                "id": 114,
                "start": 57,
                "end": 155,
                "properties": {
                  "label": "PERFORMS"
                },
                "label": "PERFORMS",
                "color": "#094c4b",
                "thickness_factor": 1,
                "directed": true
              },
              {
                "id": 110,
                "start": 17,
                "end": 155,
                "properties": {
                  "label": "PERFORMS"
                },
                "label": "PERFORMS",
                "color": "#094c4b",
                "thickness_factor": 1,
                "directed": true
              },
              {
                "id": 111,
                "start": 377,
                "end": 129,
                "properties": {
                  "label": "PERFORMS"
                },
                "label": "PERFORMS",
                "color": "#094c4b",
                "thickness_factor": 1,
                "directed": true
              },
              {
                "id": 117,
                "start": 9,
                "end": 129,
                "properties": {
                  "label": "PERFORMS"
                },
                "label": "PERFORMS",
                "color": "#094c4b",
                "thickness_factor": 1,
                "directed": true
              },
              {
                "id": 113,
                "start": 57,
                "end": 129,
                "properties": {
                  "label": "PERFORMS"
                },
                "label": "PERFORMS",
                "color": "#094c4b",
                "thickness_factor": 1,
                "directed": true
              },
              {
                "id": 109,
                "start": 17,
                "end": 129,
                "properties": {
                  "label": "PERFORMS"
                },
                "label": "PERFORMS",
                "color": "#094c4b",
                "thickness_factor": 1,
                "directed": true
              },
              {
                "id": 99,
                "start": 377,
                "end": 199,
                "properties": {
                  "label": "PERFORMS"
                },
                "label": "PERFORMS",
                "color": "#094c4b",
                "thickness_factor": 1,
                "directed": true
              },
              {
                "id": 96,
                "start": 31,
                "end": 199,
                "properties": {
                  "label": "PERFORMS"
                },
                "label": "PERFORMS",
                "color": "#094c4b",
                "thickness_factor": 1,
                "directed": true
              },
              {
                "id": 98,
                "start": 377,
                "end": 184,
                "properties": {
                  "label": "PERFORMS"
                },
                "label": "PERFORMS",
                "color": "#094c4b",
                "thickness_factor": 1,
                "directed": true
              },
              {
                "id": 95,
                "start": 31,
                "end": 184,
                "properties": {
                  "label": "PERFORMS"
                },
                "label": "PERFORMS",
                "color": "#094c4b",
                "thickness_factor": 1,
                "directed": true
              },
              {
                "id": 97,
                "start": 377,
                "end": 123,
                "properties": {
                  "label": "PERFORMS"
                },
                "label": "PERFORMS",
                "color": "#094c4b",
                "thickness_factor": 1,
                "directed": true
              },
              {
                "id": 94,
                "start": 31,
                "end": 123,
                "properties": {
                  "label": "PERFORMS"
                },
                "label": "PERFORMS",
                "color": "#094c4b",
                "thickness_factor": 1,
                "directed": true
              },
              {
                "id": 90,
                "start": 377,
                "end": 121,
                "properties": {
                  "label": "PERFORMS"
                },
                "label": "PERFORMS",
                "color": "#094c4b",
                "thickness_factor": 1,
                "directed": true
              },
              {
                "id": 89,
                "start": 52,
                "end": 121,
                "properties": {
                  "label": "PERFORMS"
                },
                "label": "PERFORMS",
                "color": "#094c4b",
                "thickness_factor": 1,
                "directed": true
              },
              {
                "id": 63,
                "start": 377,
                "end": 102,
                "properties": {
                  "label": "PERFORMS"
                },
                "label": "PERFORMS",
                "color": "#094c4b",
                "thickness_factor": 1,
                "directed": true
              },
              {
                "id": 67,
                "start": 57,
                "end": 102,
                "properties": {
                  "label": "PERFORMS"
                },
                "label": "PERFORMS",
                "color": "#094c4b",
                "thickness_factor": 1,
                "directed": true
              },
              {
                "id": 61,
                "start": 17,
                "end": 102,
                "properties": {
                  "label": "PERFORMS"
                },
                "label": "PERFORMS",
                "color": "#094c4b",
                "thickness_factor": 1,
                "directed": true
              },
              {
                "id": 64,
                "start": 377,
                "end": 126,
                "properties": {
                  "label": "PERFORMS"
                },
                "label": "PERFORMS",
                "color": "#094c4b",
                "thickness_factor": 1,
                "directed": true
              },
              {
                "id": 68,
                "start": 57,
                "end": 126,
                "properties": {
                  "label": "PERFORMS"
                },
                "label": "PERFORMS",
                "color": "#094c4b",
                "thickness_factor": 1,
                "directed": true
              },
              {
                "id": 62,
                "start": 17,
                "end": 126,
                "properties": {
                  "label": "PERFORMS"
                },
                "label": "PERFORMS",
                "color": "#094c4b",
                "thickness_factor": 1,
                "directed": true
              },
              {
                "id": 246,
                "start": 374,
                "end": 196,
                "properties": {
                  "label": "PERFORMS"
                },
                "label": "PERFORMS",
                "color": "#094c4b",
                "thickness_factor": 1,
                "directed": true
              },
              {
                "id": 247,
                "start": 377,
                "end": 196,
                "properties": {
                  "label": "PERFORMS"
                },
                "label": "PERFORMS",
                "color": "#094c4b",
                "thickness_factor": 1,
                "directed": true
              },
              {
                "id": 238,
                "start": 374,
                "end": 189,
                "properties": {
                  "label": "PERFORMS"
                },
                "label": "PERFORMS",
                "color": "#094c4b",
                "thickness_factor": 1,
                "directed": true
              },
              {
                "id": 239,
                "start": 377,
                "end": 189,
                "properties": {
                  "label": "PERFORMS"
                },
                "label": "PERFORMS",
                "color": "#094c4b",
                "thickness_factor": 1,
                "directed": true
              },
              {
                "id": 235,
                "start": 374,
                "end": 188,
                "properties": {
                  "label": "PERFORMS"
                },
                "label": "PERFORMS",
                "color": "#094c4b",
                "thickness_factor": 1,
                "directed": true
              },
              {
                "id": 236,
                "start": 36,
                "end": 188,
                "properties": {
                  "label": "PERFORMS"
                },
                "label": "PERFORMS",
                "color": "#094c4b",
                "thickness_factor": 1,
                "directed": true
              },
              {
                "id": 211,
                "start": 36,
                "end": 176,
                "properties": {
                  "label": "PERFORMS"
                },
                "label": "PERFORMS",
                "color": "#094c4b",
                "thickness_factor": 1,
                "directed": true
              },
              {
                "id": 115,
                "start": 36,
                "end": 129,
                "properties": {
                  "label": "PERFORMS"
                },
                "label": "PERFORMS",
                "color": "#094c4b",
                "thickness_factor": 1,
                "directed": true
              },
              {
                "id": 116,
                "start": 36,
                "end": 155,
                "properties": {
                  "label": "PERFORMS"
                },
                "label": "PERFORMS",
                "color": "#094c4b",
                "thickness_factor": 1,
                "directed": true
              },
              {
                "id": 65,
                "start": 36,
                "end": 102,
                "properties": {
                  "label": "PERFORMS"
                },
                "label": "PERFORMS",
                "color": "#094c4b",
                "thickness_factor": 1,
                "directed": true
              },
              {
                "id": 66,
                "start": 36,
                "end": 126,
                "properties": {
                  "label": "PERFORMS"
                },
                "label": "PERFORMS",
                "color": "#094c4b",
                "thickness_factor": 1,
                "directed": true
              },
              {
                "id": 158,
                "start": 374,
                "end": 163,
                "properties": {
                  "label": "PERFORMS"
                },
                "label": "PERFORMS",
                "color": "#094c4b",
                "thickness_factor": 1,
                "directed": true
              },
              {
                "id": 159,
                "start": 390,
                "end": 163,
                "properties": {
                  "label": "PERFORMS"
                },
                "label": "PERFORMS",
                "color": "#094c4b",
                "thickness_factor": 1,
                "directed": true
              },
              {
                "id": 453,
                "start": 390,
                "end": 320,
                "properties": {
                  "label": "PERFORMS"
                },
                "label": "PERFORMS",
                "color": "#094c4b",
                "thickness_factor": 1,
                "directed": true
              },
              {
                "id": 454,
                "start": 372,
                "end": 320,
                "properties": {
                  "label": "PERFORMS"
                },
                "label": "PERFORMS",
                "color": "#094c4b",
                "thickness_factor": 1,
                "directed": true
              },
              {
                "id": 232,
                "start": 390,
                "end": 187,
                "properties": {
                  "label": "PERFORMS"
                },
                "label": "PERFORMS",
                "color": "#094c4b",
                "thickness_factor": 1,
                "directed": true
              },
              {
                "id": 234,
                "start": 375,
                "end": 187,
                "properties": {
                  "label": "PERFORMS"
                },
                "label": "PERFORMS",
                "color": "#094c4b",
                "thickness_factor": 1,
                "directed": true
              },
              {
                "id": 231,
                "start": 390,
                "end": 186,
                "properties": {
                  "label": "PERFORMS"
                },
                "label": "PERFORMS",
                "color": "#094c4b",
                "thickness_factor": 1,
                "directed": true
              },
              {
                "id": 233,
                "start": 375,
                "end": 186,
                "properties": {
                  "label": "PERFORMS"
                },
                "label": "PERFORMS",
                "color": "#094c4b",
                "thickness_factor": 1,
                "directed": true
              },
              {
                "id": 542,
                "start": 374,
                "end": 231,
                "properties": {
                  "label": "PERFORMS"
                },
                "label": "PERFORMS",
                "color": "#094c4b",
                "thickness_factor": 1,
                "directed": true
              },
              {
                "id": 548,
                "start": 7,
                "end": 231,
                "properties": {
                  "label": "PERFORMS"
                },
                "label": "PERFORMS",
                "color": "#094c4b",
                "thickness_factor": 1,
                "directed": true
              },
              {
                "id": 540,
                "start": 374,
                "end": 82,
                "properties": {
                  "label": "PERFORMS"
                },
                "label": "PERFORMS",
                "color": "#094c4b",
                "thickness_factor": 1,
                "directed": true
              },
              {
                "id": 546,
                "start": 7,
                "end": 82,
                "properties": {
                  "label": "PERFORMS"
                },
                "label": "PERFORMS",
                "color": "#094c4b",
                "thickness_factor": 1,
                "directed": true
              },
              {
                "id": 541,
                "start": 374,
                "end": 104,
                "properties": {
                  "label": "PERFORMS"
                },
                "label": "PERFORMS",
                "color": "#094c4b",
                "thickness_factor": 1,
                "directed": true
              },
              {
                "id": 547,
                "start": 7,
                "end": 104,
                "properties": {
                  "label": "PERFORMS"
                },
                "label": "PERFORMS",
                "color": "#094c4b",
                "thickness_factor": 1,
                "directed": true
              },
              {
                "id": 549,
                "start": 374,
                "end": 83,
                "properties": {
                  "label": "PERFORMS"
                },
                "label": "PERFORMS",
                "color": "#094c4b",
                "thickness_factor": 1,
                "directed": true
              },
              {
                "id": 552,
                "start": 36,
                "end": 83,
                "properties": {
                  "label": "PERFORMS"
                },
                "label": "PERFORMS",
                "color": "#094c4b",
                "thickness_factor": 1,
                "directed": true
              },
              {
                "id": 551,
                "start": 374,
                "end": 125,
                "properties": {
                  "label": "PERFORMS"
                },
                "label": "PERFORMS",
                "color": "#094c4b",
                "thickness_factor": 1,
                "directed": true
              },
              {
                "id": 554,
                "start": 36,
                "end": 125,
                "properties": {
                  "label": "PERFORMS"
                },
                "label": "PERFORMS",
                "color": "#094c4b",
                "thickness_factor": 1,
                "directed": true
              },
              {
                "id": 550,
                "start": 374,
                "end": 105,
                "properties": {
                  "label": "PERFORMS"
                },
                "label": "PERFORMS",
                "color": "#094c4b",
                "thickness_factor": 1,
                "directed": true
              },
              {
                "id": 553,
                "start": 36,
                "end": 105,
                "properties": {
                  "label": "PERFORMS"
                },
                "label": "PERFORMS",
                "color": "#094c4b",
                "thickness_factor": 1,
                "directed": true
              },
              {
                "id": 2,
                "start": 374,
                "end": 86,
                "properties": {
                  "label": "PERFORMS"
                },
                "label": "PERFORMS",
                "color": "#094c4b",
                "thickness_factor": 1,
                "directed": true
              },
              {
                "id": 3,
                "start": 377,
                "end": 86,
                "properties": {
                  "label": "PERFORMS"
                },
                "label": "PERFORMS",
                "color": "#094c4b",
                "thickness_factor": 1,
                "directed": true
              },
              {
                "id": 4,
                "start": 374,
                "end": 87,
                "properties": {
                  "label": "PERFORMS"
                },
                "label": "PERFORMS",
                "color": "#094c4b",
                "thickness_factor": 1,
                "directed": true
              },
              {
                "id": 6,
                "start": 383,
                "end": 87,
                "properties": {
                  "label": "PERFORMS"
                },
                "label": "PERFORMS",
                "color": "#094c4b",
                "thickness_factor": 1,
                "directed": true
              },
              {
                "id": 432,
                "start": 383,
                "end": 312,
                "properties": {
                  "label": "PERFORMS"
                },
                "label": "PERFORMS",
                "color": "#094c4b",
                "thickness_factor": 1,
                "directed": true
              },
              {
                "id": 433,
                "start": 375,
                "end": 312,
                "properties": {
                  "label": "PERFORMS"
                },
                "label": "PERFORMS",
                "color": "#094c4b",
                "thickness_factor": 1,
                "directed": true
              },
              {
                "id": 93,
                "start": 383,
                "end": 122,
                "properties": {
                  "label": "PERFORMS"
                },
                "label": "PERFORMS",
                "color": "#094c4b",
                "thickness_factor": 1,
                "directed": true
              },
              {
                "id": 92,
                "start": 375,
                "end": 122,
                "properties": {
                  "label": "PERFORMS"
                },
                "label": "PERFORMS",
                "color": "#094c4b",
                "thickness_factor": 1,
                "directed": true
              },
              {
                "id": 91,
                "start": 16,
                "end": 122,
                "properties": {
                  "label": "PERFORMS"
                },
                "label": "PERFORMS",
                "color": "#094c4b",
                "thickness_factor": 1,
                "directed": true
              },
              {
                "id": 5,
                "start": 374,
                "end": 230,
                "properties": {
                  "label": "PERFORMS"
                },
                "label": "PERFORMS",
                "color": "#094c4b",
                "thickness_factor": 1,
                "directed": true
              },
              {
                "id": 7,
                "start": 383,
                "end": 230,
                "properties": {
                  "label": "PERFORMS"
                },
                "label": "PERFORMS",
                "color": "#094c4b",
                "thickness_factor": 1,
                "directed": true
              },
              {
                "id": 8,
                "start": 374,
                "end": 88,
                "properties": {
                  "label": "PERFORMS"
                },
                "label": "PERFORMS",
                "color": "#094c4b",
                "thickness_factor": 1,
                "directed": true
              },
              {
                "id": 11,
                "start": 379,
                "end": 88,
                "properties": {
                  "label": "PERFORMS"
                },
                "label": "PERFORMS",
                "color": "#094c4b",
                "thickness_factor": 1,
                "directed": true
              },
              {
                "id": 156,
                "start": 379,
                "end": 161,
                "properties": {
                  "label": "PERFORMS"
                },
                "label": "PERFORMS",
                "color": "#094c4b",
                "thickness_factor": 1,
                "directed": true
              },
              {
                "id": 154,
                "start": 32,
                "end": 161,
                "properties": {
                  "label": "PERFORMS"
                },
                "label": "PERFORMS",
                "color": "#094c4b",
                "thickness_factor": 1,
                "directed": true
              },
              {
                "id": 157,
                "start": 379,
                "end": 162,
                "properties": {
                  "label": "PERFORMS"
                },
                "label": "PERFORMS",
                "color": "#094c4b",
                "thickness_factor": 1,
                "directed": true
              },
              {
                "id": 155,
                "start": 32,
                "end": 162,
                "properties": {
                  "label": "PERFORMS"
                },
                "label": "PERFORMS",
                "color": "#094c4b",
                "thickness_factor": 1,
                "directed": true
              },
              {
                "id": 58,
                "start": 379,
                "end": 99,
                "properties": {
                  "label": "PERFORMS"
                },
                "label": "PERFORMS",
                "color": "#094c4b",
                "thickness_factor": 1,
                "directed": true
              },
              {
                "id": 57,
                "start": 13,
                "end": 99,
                "properties": {
                  "label": "PERFORMS"
                },
                "label": "PERFORMS",
                "color": "#094c4b",
                "thickness_factor": 1,
                "directed": true
              },
              {
                "id": 9,
                "start": 374,
                "end": 107,
                "properties": {
                  "label": "PERFORMS"
                },
                "label": "PERFORMS",
                "color": "#094c4b",
                "thickness_factor": 1,
                "directed": true
              },
              {
                "id": 12,
                "start": 379,
                "end": 107,
                "properties": {
                  "label": "PERFORMS"
                },
                "label": "PERFORMS",
                "color": "#094c4b",
                "thickness_factor": 1,
                "directed": true
              },
              {
                "id": 10,
                "start": 374,
                "end": 229,
                "properties": {
                  "label": "PERFORMS"
                },
                "label": "PERFORMS",
                "color": "#094c4b",
                "thickness_factor": 1,
                "directed": true
              },
              {
                "id": 13,
                "start": 379,
                "end": 229,
                "properties": {
                  "label": "PERFORMS"
                },
                "label": "PERFORMS",
                "color": "#094c4b",
                "thickness_factor": 1,
                "directed": true
              },
              {
                "id": 17,
                "start": 374,
                "end": 89,
                "properties": {
                  "label": "PERFORMS"
                },
                "label": "PERFORMS",
                "color": "#094c4b",
                "thickness_factor": 1,
                "directed": true
              },
              {
                "id": 19,
                "start": 10,
                "end": 89,
                "properties": {
                  "label": "PERFORMS"
                },
                "label": "PERFORMS",
                "color": "#094c4b",
                "thickness_factor": 1,
                "directed": true
              },
              {
                "id": 315,
                "start": 10,
                "end": 240,
                "properties": {
                  "label": "PERFORMS"
                },
                "label": "PERFORMS",
                "color": "#094c4b",
                "thickness_factor": 1,
                "directed": true
              },
              {
                "id": 317,
                "start": 378,
                "end": 240,
                "properties": {
                  "label": "PERFORMS"
                },
                "label": "PERFORMS",
                "color": "#094c4b",
                "thickness_factor": 1,
                "directed": true
              },
              {
                "id": 316,
                "start": 70,
                "end": 240,
                "properties": {
                  "label": "PERFORMS"
                },
                "label": "PERFORMS",
                "color": "#094c4b",
                "thickness_factor": 1,
                "directed": true
              },
              {
                "id": 314,
                "start": 388,
                "end": 240,
                "properties": {
                  "label": "PERFORMS"
                },
                "label": "PERFORMS",
                "color": "#094c4b",
                "thickness_factor": 1,
                "directed": true
              },
              {
                "id": 18,
                "start": 374,
                "end": 108,
                "properties": {
                  "label": "PERFORMS"
                },
                "label": "PERFORMS",
                "color": "#094c4b",
                "thickness_factor": 1,
                "directed": true
              },
              {
                "id": 20,
                "start": 10,
                "end": 108,
                "properties": {
                  "label": "PERFORMS"
                },
                "label": "PERFORMS",
                "color": "#094c4b",
                "thickness_factor": 1,
                "directed": true
              },
              {
                "id": 37,
                "start": 374,
                "end": 93,
                "properties": {
                  "label": "PERFORMS"
                },
                "label": "PERFORMS",
                "color": "#094c4b",
                "thickness_factor": 1,
                "directed": true
              },
              {
                "id": 39,
                "start": 28,
                "end": 93,
                "properties": {
                  "label": "PERFORMS"
                },
                "label": "PERFORMS",
                "color": "#094c4b",
                "thickness_factor": 1,
                "directed": true
              },
              {
                "id": 261,
                "start": 28,
                "end": 204,
                "properties": {
                  "label": "PERFORMS"
                },
                "label": "PERFORMS",
                "color": "#094c4b",
                "thickness_factor": 1,
                "directed": true
              },
              {
                "id": 263,
                "start": 372,
                "end": 204,
                "properties": {
                  "label": "PERFORMS"
                },
                "label": "PERFORMS",
                "color": "#094c4b",
                "thickness_factor": 1,
                "directed": true
              },
              {
                "id": 260,
                "start": 28,
                "end": 203,
                "properties": {
                  "label": "PERFORMS"
                },
                "label": "PERFORMS",
                "color": "#094c4b",
                "thickness_factor": 1,
                "directed": true
              },
              {
                "id": 262,
                "start": 372,
                "end": 203,
                "properties": {
                  "label": "PERFORMS"
                },
                "label": "PERFORMS",
                "color": "#094c4b",
                "thickness_factor": 1,
                "directed": true
              },
              {
                "id": 38,
                "start": 374,
                "end": 112,
                "properties": {
                  "label": "PERFORMS"
                },
                "label": "PERFORMS",
                "color": "#094c4b",
                "thickness_factor": 1,
                "directed": true
              },
              {
                "id": 40,
                "start": 28,
                "end": 112,
                "properties": {
                  "label": "PERFORMS"
                },
                "label": "PERFORMS",
                "color": "#094c4b",
                "thickness_factor": 1,
                "directed": true
              },
              {
                "id": 43,
                "start": 374,
                "end": 94,
                "properties": {
                  "label": "PERFORMS"
                },
                "label": "PERFORMS",
                "color": "#094c4b",
                "thickness_factor": 1,
                "directed": true
              },
              {
                "id": 44,
                "start": 26,
                "end": 94,
                "properties": {
                  "label": "PERFORMS"
                },
                "label": "PERFORMS",
                "color": "#094c4b",
                "thickness_factor": 1,
                "directed": true
              },
              {
                "id": 179,
                "start": 26,
                "end": 167,
                "properties": {
                  "label": "PERFORMS"
                },
                "label": "PERFORMS",
                "color": "#094c4b",
                "thickness_factor": 1,
                "directed": true
              },
              {
                "id": 170,
                "start": 26,
                "end": 166,
                "properties": {
                  "label": "PERFORMS"
                },
                "label": "PERFORMS",
                "color": "#094c4b",
                "thickness_factor": 1,
                "directed": true
              },
              {
                "id": 171,
                "start": 26,
                "end": 265,
                "properties": {
                  "label": "PERFORMS"
                },
                "label": "PERFORMS",
                "color": "#094c4b",
                "thickness_factor": 1,
                "directed": true
              },
              {
                "id": 165,
                "start": 26,
                "end": 165,
                "properties": {
                  "label": "PERFORMS"
                },
                "label": "PERFORMS",
                "color": "#094c4b",
                "thickness_factor": 1,
                "directed": true
              },
              {
                "id": 161,
                "start": 26,
                "end": 164,
                "properties": {
                  "label": "PERFORMS"
                },
                "label": "PERFORMS",
                "color": "#094c4b",
                "thickness_factor": 1,
                "directed": true
              },
              {
                "id": 144,
                "start": 26,
                "end": 156,
                "properties": {
                  "label": "PERFORMS"
                },
                "label": "PERFORMS",
                "color": "#094c4b",
                "thickness_factor": 1,
                "directed": true
              }
            ],
            "_graph_layout": {
              "algorithm": "radial",
              "options": {}
            },
            "_highlight": [],
            "_model_module": "yfiles-jupyter-graphs",
            "_model_module_version": "^1.4.5",
            "_model_name": "GraphModel",
            "_neighborhood": {},
            "_nodes": [
              {
                "id": 374,
                "properties": {
                  "name": "Ed Sheeran",
                  "feats": "2,791,278,201",
                  "lead_streams": "38,153,682,361",
                  "label": "Artist"
                },
                "label": "Ed Sheeran",
                "color": "#17bebb",
                "styles": {
                  "color": "#FF8C00",
                  "shape": "ellipse",
                  "label": "name"
                },
                "scale_factor": 1,
                "type": null,
                "position": [
                  0,
                  0
                ]
              },
              {
                "id": 7,
                "properties": {
                  "name": "Cardi B",
                  "feats": "6,163,998,179",
                  "lead_streams": "9,066,363,643",
                  "label": "Artist"
                },
                "label": "Cardi B",
                "color": "#17bebb",
                "styles": {
                  "color": "#FF8C00",
                  "shape": "ellipse",
                  "label": "name"
                },
                "scale_factor": 1,
                "type": null,
                "position": [
                  0,
                  0
                ]
              },
              {
                "id": 380,
                "properties": {
                  "name": "J Balvin",
                  "feats": "9,950,347,777",
                  "lead_streams": "25,892,190,469",
                  "label": "Artist"
                },
                "label": "J Balvin",
                "color": "#17bebb",
                "styles": {
                  "color": "#FF8C00",
                  "shape": "ellipse",
                  "label": "name"
                },
                "scale_factor": 1,
                "type": null,
                "position": [
                  0,
                  0
                ]
              },
              {
                "id": 239,
                "properties": {
                  "duration_ms": 173455,
                  "explicit": false,
                  "year": 2019,
                  "album": "South of the Border (feat. Camila Cabello & Cardi B) [Sam Feldt Remix]",
                  "name": "South of the Border (feat. Camila Cabello & Cardi B) - Sam Feldt Remix",
                  "danceability": 0.789,
                  "energy": 0.858,
                  "label": "Track"
                },
                "label": "Track",
                "color": "#17bebb",
                "styles": {
                  "color": "#40E0D0",
                  "shape": "ellipse",
                  "label": "label"
                },
                "scale_factor": 1,
                "type": null,
                "position": [
                  0,
                  0
                ]
              },
              {
                "id": 170,
                "properties": {
                  "explicit": false,
                  "duration_ms": 253390,
                  "year": 2018,
                  "album": "Invasion of Privacy",
                  "name": "I Like It",
                  "danceability": 0.8140000000000001,
                  "energy": 0.721,
                  "label": "Track"
                },
                "label": "Track",
                "color": "#17bebb",
                "styles": {
                  "color": "#40E0D0",
                  "shape": "ellipse",
                  "label": "label"
                },
                "scale_factor": 1,
                "type": null,
                "position": [
                  0,
                  0
                ]
              },
              {
                "id": 373,
                "properties": {
                  "name": "Bad Bunny",
                  "feats": "5,391,990,975",
                  "lead_streams": "44,369,032,140",
                  "label": "Artist"
                },
                "label": "Bad Bunny",
                "color": "#17bebb",
                "styles": {
                  "color": "#FF8C00",
                  "shape": "ellipse",
                  "label": "name"
                },
                "scale_factor": 1,
                "type": null,
                "position": [
                  0,
                  0
                ]
              },
              {
                "id": 250,
                "properties": {
                  "explicit": true,
                  "duration_ms": 253390,
                  "year": 2018,
                  "album": "Invasion of Privacy",
                  "name": "I Like It",
                  "danceability": 0.816,
                  "energy": 0.726,
                  "label": "Track"
                },
                "label": "Track",
                "color": "#17bebb",
                "styles": {
                  "color": "#40E0D0",
                  "shape": "ellipse",
                  "label": "label"
                },
                "scale_factor": 1,
                "type": null,
                "position": [
                  0,
                  0
                ]
              },
              {
                "id": 237,
                "properties": {
                  "duration_ms": 188230,
                  "explicit": false,
                  "year": 2019,
                  "album": "South of the Border (feat. Camila Cabello & Cardi B) [Andy Jarvis Remix]",
                  "name": "South of the Border (feat. Camila Cabello & Cardi B) - Andy Jarvis Remix",
                  "danceability": 0.805,
                  "energy": 0.835,
                  "label": "Track"
                },
                "label": "Track",
                "color": "#17bebb",
                "styles": {
                  "color": "#40E0D0",
                  "shape": "ellipse",
                  "label": "label"
                },
                "scale_factor": 1,
                "type": null,
                "position": [
                  0,
                  0
                ]
              },
              {
                "id": 234,
                "properties": {
                  "duration_ms": 195924,
                  "explicit": false,
                  "year": 2019,
                  "album": "South of the Border (feat. Camila Cabello & Cardi B) [Cheat Codes Remix]",
                  "name": "South of the Border (feat. Camila Cabello & Cardi B) - Cheat Codes Remix",
                  "danceability": 0.845,
                  "energy": 0.7659999999999999,
                  "label": "Track"
                },
                "label": "Track",
                "color": "#17bebb",
                "styles": {
                  "color": "#40E0D0",
                  "shape": "ellipse",
                  "label": "label"
                },
                "scale_factor": 1,
                "type": null,
                "position": [
                  0,
                  0
                ]
              },
              {
                "id": 377,
                "properties": {
                  "name": "Justin Bieber",
                  "feats": "10,816,202,075",
                  "lead_streams": "32,465,998,885",
                  "label": "Artist"
                },
                "label": "Justin Bieber",
                "color": "#17bebb",
                "styles": {
                  "color": "#FF8C00",
                  "shape": "ellipse",
                  "label": "name"
                },
                "scale_factor": 1,
                "type": null,
                "position": [
                  0,
                  0
                ]
              },
              {
                "id": 69,
                "properties": {
                  "name": "iann dior",
                  "feats": "2,291,368,890",
                  "lead_streams": "2,102,922,842",
                  "label": "Artist"
                },
                "label": "iann dior",
                "color": "#17bebb",
                "styles": {
                  "color": "#FF8C00",
                  "shape": "ellipse",
                  "label": "name"
                },
                "scale_factor": 1,
                "type": null,
                "position": [
                  0,
                  0
                ]
              },
              {
                "id": 197,
                "properties": {
                  "duration_ms": 192681,
                  "explicit": false,
                  "year": 2019,
                  "album": "I Don't Care (with Justin Bieber) [Jonas Blue Remix]",
                  "name": "I Don't Care (with Justin Bieber) - Jonas Blue Remix",
                  "danceability": 0.708,
                  "energy": 0.872,
                  "label": "Track"
                },
                "label": "Track",
                "color": "#17bebb",
                "styles": {
                  "color": "#40E0D0",
                  "shape": "ellipse",
                  "label": "label"
                },
                "scale_factor": 1,
                "type": null,
                "position": [
                  0,
                  0
                ]
              },
              {
                "id": 327,
                "properties": {
                  "duration_ms": 192745,
                  "explicit": true,
                  "year": 2020,
                  "album": "Mood (Remix) feat. Justin Bieber, J Balvin & iann dior",
                  "name": "Mood (Remix) feat. Justin Bieber, J Balvin & iann dior",
                  "danceability": 0.721,
                  "energy": 0.745,
                  "label": "Track"
                },
                "label": "Track",
                "color": "#17bebb",
                "styles": {
                  "color": "#40E0D0",
                  "shape": "ellipse",
                  "label": "label"
                },
                "scale_factor": 1,
                "type": null,
                "position": [
                  0,
                  0
                ]
              },
              {
                "id": 46,
                "properties": {
                  "name": "24kGoldn",
                  "feats": "1,036,388,958",
                  "lead_streams": "3,705,648,954",
                  "label": "Artist"
                },
                "label": "24kGoldn",
                "color": "#17bebb",
                "styles": {
                  "color": "#FF8C00",
                  "shape": "ellipse",
                  "label": "name"
                },
                "scale_factor": 1,
                "type": null,
                "position": [
                  0,
                  0
                ]
              },
              {
                "id": 19,
                "properties": {
                  "name": "Michael Bublé",
                  "feats": "313,876,033",
                  "lead_streams": "6,667,559,320",
                  "label": "Artist"
                },
                "label": "Michael Bublé",
                "color": "#17bebb",
                "styles": {
                  "color": "#FF8C00",
                  "shape": "ellipse",
                  "label": "name"
                },
                "scale_factor": 1,
                "type": null,
                "position": [
                  0,
                  0
                ]
              },
              {
                "id": 311,
                "properties": {
                  "explicit": false,
                  "duration_ms": 242034,
                  "year": 2020,
                  "album": "Lean on Me - ArtistsCAN",
                  "name": "Lean on Me - ArtistsCAN",
                  "danceability": 0.54,
                  "energy": 0.7390000000000001,
                  "label": "Track"
                },
                "label": "Track",
                "color": "#17bebb",
                "styles": {
                  "color": "#40E0D0",
                  "shape": "ellipse",
                  "label": "label"
                },
                "scale_factor": 1,
                "type": null,
                "position": [
                  0,
                  0
                ]
              },
              {
                "id": 51,
                "properties": {
                  "name": "Bryan Adams",
                  "feats": "739,286,985",
                  "lead_streams": "3,365,887,458",
                  "label": "Artist"
                },
                "label": "Bryan Adams",
                "color": "#17bebb",
                "styles": {
                  "color": "#FF8C00",
                  "shape": "ellipse",
                  "label": "name"
                },
                "scale_factor": 1,
                "type": null,
                "position": [
                  0,
                  0
                ]
              },
              {
                "id": 39,
                "properties": {
                  "name": "Avril Lavigne",
                  "feats": "25,567,335",
                  "lead_streams": "4,418,987,832",
                  "label": "Artist"
                },
                "label": "Avril Lavigne",
                "color": "#17bebb",
                "styles": {
                  "color": "#FF8C00",
                  "shape": "ellipse",
                  "label": "name"
                },
                "scale_factor": 1,
                "type": null,
                "position": [
                  0,
                  0
                ]
              },
              {
                "id": 47,
                "properties": {
                  "name": "Dan + Shay",
                  "feats": "231,488,539",
                  "lead_streams": "3,680,653,230",
                  "label": "Artist"
                },
                "label": "Dan + Shay",
                "color": "#17bebb",
                "styles": {
                  "color": "#FF8C00",
                  "shape": "ellipse",
                  "label": "name"
                },
                "scale_factor": 1,
                "type": null,
                "position": [
                  0,
                  0
                ]
              },
              {
                "id": 260,
                "properties": {
                  "explicit": false,
                  "duration_ms": 164773,
                  "year": 2020,
                  "album": "NOW That's What I Call Music! Vol. 73",
                  "name": "10,000 Hours",
                  "danceability": 0.654,
                  "energy": 0.649,
                  "label": "Track"
                },
                "label": "Track",
                "color": "#17bebb",
                "styles": {
                  "color": "#40E0D0",
                  "shape": "ellipse",
                  "label": "label"
                },
                "scale_factor": 1,
                "type": null,
                "position": [
                  0,
                  0
                ]
              },
              {
                "id": 253,
                "properties": {
                  "duration_ms": 172320,
                  "explicit": false,
                  "year": 2019,
                  "album": "10,000 Hours (with Justin Bieber) [Piano]",
                  "name": "10,000 Hours (with Justin Bieber) - Piano",
                  "danceability": 0.426,
                  "energy": 0.366,
                  "label": "Track"
                },
                "label": "Track",
                "color": "#17bebb",
                "styles": {
                  "color": "#40E0D0",
                  "shape": "ellipse",
                  "label": "label"
                },
                "scale_factor": 1,
                "type": null,
                "position": [
                  0,
                  0
                ]
              },
              {
                "id": 392,
                "properties": {
                  "name": "Chris Brown",
                  "feats": "7,787,759,348",
                  "lead_streams": "15,440,015,429",
                  "label": "Artist"
                },
                "label": "Chris Brown",
                "color": "#17bebb",
                "styles": {
                  "color": "#FF8C00",
                  "shape": "ellipse",
                  "label": "name"
                },
                "scale_factor": 1,
                "type": null,
                "position": [
                  0,
                  0
                ]
              },
              {
                "id": 252,
                "properties": {
                  "explicit": false,
                  "duration_ms": 204880,
                  "year": 2019,
                  "album": "Indigo",
                  "name": "Don't Check On Me (feat. Justin Bieber & Ink)",
                  "danceability": 0.6609999999999999,
                  "energy": 0.395,
                  "label": "Track"
                },
                "label": "Track",
                "color": "#17bebb",
                "styles": {
                  "color": "#40E0D0",
                  "shape": "ellipse",
                  "label": "label"
                },
                "scale_factor": 1,
                "type": null,
                "position": [
                  0,
                  0
                ]
              },
              {
                "id": 255,
                "properties": {
                  "duration_ms": 204880,
                  "explicit": false,
                  "year": 2019,
                  "album": "Indigo (Extended)",
                  "name": "Don't Check On Me (feat. Justin Bieber & Ink)",
                  "danceability": 0.6609999999999999,
                  "energy": 0.395,
                  "label": "Track"
                },
                "label": "Track",
                "color": "#17bebb",
                "styles": {
                  "color": "#40E0D0",
                  "shape": "ellipse",
                  "label": "label"
                },
                "scale_factor": 1,
                "type": null,
                "position": [
                  0,
                  0
                ]
              },
              {
                "id": 378,
                "properties": {
                  "name": "Ariana Grande",
                  "feats": "2,052,297,828",
                  "lead_streams": "32,287,682,040",
                  "label": "Artist"
                },
                "label": "Ariana Grande",
                "color": "#17bebb",
                "styles": {
                  "color": "#FF8C00",
                  "shape": "ellipse",
                  "label": "name"
                },
                "scale_factor": 1,
                "type": null,
                "position": [
                  0,
                  0
                ]
              },
              {
                "id": 243,
                "properties": {
                  "explicit": false,
                  "duration_ms": 225413,
                  "year": 2020,
                  "album": "NOW That's What I Call Music, Vol. 75",
                  "name": "Stuck With U",
                  "danceability": 0.597,
                  "energy": 0.449,
                  "label": "Track"
                },
                "label": "Track",
                "color": "#17bebb",
                "styles": {
                  "color": "#40E0D0",
                  "shape": "ellipse",
                  "label": "label"
                },
                "scale_factor": 1,
                "type": null,
                "position": [
                  0,
                  0
                ]
              },
              {
                "id": 57,
                "properties": {
                  "name": "Quavo",
                  "feats": "62,540,256",
                  "lead_streams": "3,022,133,428",
                  "label": "Artist"
                },
                "label": "Quavo",
                "color": "#17bebb",
                "styles": {
                  "color": "#FF8C00",
                  "shape": "ellipse",
                  "label": "name"
                },
                "scale_factor": 1,
                "type": null,
                "position": [
                  0,
                  0
                ]
              },
              {
                "id": 242,
                "properties": {
                  "explicit": false,
                  "duration_ms": 212853,
                  "year": 2020,
                  "album": "NOW That's What I Call Music, Vol. 75",
                  "name": "Intentions",
                  "danceability": 0.8140000000000001,
                  "energy": 0.551,
                  "label": "Track"
                },
                "label": "Track",
                "color": "#17bebb",
                "styles": {
                  "color": "#40E0D0",
                  "shape": "ellipse",
                  "label": "label"
                },
                "scale_factor": 1,
                "type": null,
                "position": [
                  0,
                  0
                ]
              },
              {
                "id": 238,
                "properties": {
                  "duration_ms": 167693,
                  "explicit": false,
                  "year": 2019,
                  "album": "10,000 Hours (with Justin Bieber)",
                  "name": "10,000 Hours (with Justin Bieber)",
                  "danceability": 0.654,
                  "energy": 0.63,
                  "label": "Track"
                },
                "label": "Track",
                "color": "#17bebb",
                "styles": {
                  "color": "#40E0D0",
                  "shape": "ellipse",
                  "label": "label"
                },
                "scale_factor": 1,
                "type": null,
                "position": [
                  0,
                  0
                ]
              },
              {
                "id": 73,
                "properties": {
                  "name": "MØ",
                  "feats": "3,388,886,631",
                  "lead_streams": "1,867,886,470",
                  "label": "Artist"
                },
                "label": "MØ",
                "color": "#17bebb",
                "styles": {
                  "color": "#FF8C00",
                  "shape": "ellipse",
                  "label": "name"
                },
                "scale_factor": 1,
                "type": null,
                "position": [
                  0,
                  0
                ]
              },
              {
                "id": 201,
                "properties": {
                  "explicit": false,
                  "duration_ms": 185352,
                  "year": 2018,
                  "album": "Major Lazer Essentials",
                  "name": "Cold Water",
                  "danceability": 0.608,
                  "energy": 0.7979999999999999,
                  "label": "Track"
                },
                "label": "Track",
                "color": "#17bebb",
                "styles": {
                  "color": "#40E0D0",
                  "shape": "ellipse",
                  "label": "label"
                },
                "scale_factor": 1,
                "type": null,
                "position": [
                  0,
                  0
                ]
              },
              {
                "id": 11,
                "properties": {
                  "name": "Major Lazer",
                  "feats": "614,069,138",
                  "lead_streams": "8,758,754,488",
                  "label": "Artist"
                },
                "label": "Major Lazer",
                "color": "#17bebb",
                "styles": {
                  "color": "#FF8C00",
                  "shape": "ellipse",
                  "label": "name"
                },
                "scale_factor": 1,
                "type": null,
                "position": [
                  0,
                  0
                ]
              },
              {
                "id": 384,
                "properties": {
                  "name": "David Guetta",
                  "feats": "1,131,603,410",
                  "lead_streams": "19,104,897,589",
                  "label": "Artist"
                },
                "label": "David Guetta",
                "color": "#17bebb",
                "styles": {
                  "color": "#FF8C00",
                  "shape": "ellipse",
                  "label": "name"
                },
                "scale_factor": 1,
                "type": null,
                "position": [
                  0,
                  0
                ]
              },
              {
                "id": 190,
                "properties": {
                  "explicit": false,
                  "duration_ms": 194893,
                  "year": 2018,
                  "album": "7",
                  "name": "2U (feat. Justin Bieber)",
                  "danceability": 0.534,
                  "energy": 0.613,
                  "label": "Track"
                },
                "label": "Track",
                "color": "#17bebb",
                "styles": {
                  "color": "#40E0D0",
                  "shape": "ellipse",
                  "label": "label"
                },
                "scale_factor": 1,
                "type": null,
                "position": [
                  0,
                  0
                ]
              },
              {
                "id": 176,
                "properties": {
                  "duration_ms": 260000,
                  "explicit": true,
                  "year": 2018,
                  "album": "No Brainer",
                  "name": "No Brainer",
                  "danceability": 0.552,
                  "energy": 0.76,
                  "label": "Track"
                },
                "label": "Track",
                "color": "#17bebb",
                "styles": {
                  "color": "#40E0D0",
                  "shape": "ellipse",
                  "label": "label"
                },
                "scale_factor": 1,
                "type": null,
                "position": [
                  0,
                  0
                ]
              },
              {
                "id": 17,
                "properties": {
                  "name": "DJ Khaled",
                  "feats": "195,727,208",
                  "lead_streams": "7,262,608,327",
                  "label": "Artist"
                },
                "label": "DJ Khaled",
                "color": "#17bebb",
                "styles": {
                  "color": "#FF8C00",
                  "shape": "ellipse",
                  "label": "name"
                },
                "scale_factor": 1,
                "type": null,
                "position": [
                  0,
                  0
                ]
              },
              {
                "id": 12,
                "properties": {
                  "name": "Diplo",
                  "feats": "1,757,002,014",
                  "lead_streams": "8,496,096,848",
                  "label": "Artist"
                },
                "label": "Diplo",
                "color": "#17bebb",
                "styles": {
                  "color": "#FF8C00",
                  "shape": "ellipse",
                  "label": "name"
                },
                "scale_factor": 1,
                "type": null,
                "position": [
                  0,
                  0
                ]
              },
              {
                "id": 167,
                "properties": {
                  "duration_ms": 151826,
                  "explicit": false,
                  "year": 2015,
                  "album": "Where Are Ü Now (with Justin Bieber) [Remixes]",
                  "name": "Where Are Ü Now (with Justin Bieber) - Ember Island Remix",
                  "danceability": 0.267,
                  "energy": 0.248,
                  "label": "Track"
                },
                "label": "Track",
                "color": "#17bebb",
                "styles": {
                  "color": "#40E0D0",
                  "shape": "ellipse",
                  "label": "label"
                },
                "scale_factor": 1,
                "type": null,
                "position": [
                  0,
                  0
                ]
              },
              {
                "id": 77,
                "properties": {
                  "name": "Jack Ü",
                  "feats": "956,750",
                  "lead_streams": "1,685,398,303",
                  "label": "Artist"
                },
                "label": "Jack Ü",
                "color": "#17bebb",
                "styles": {
                  "color": "#FF8C00",
                  "shape": "ellipse",
                  "label": "name"
                },
                "scale_factor": 1,
                "type": null,
                "position": [
                  0,
                  0
                ]
              },
              {
                "id": 370,
                "properties": {
                  "name": "Marshmello",
                  "feats": "641,714,533",
                  "lead_streams": "13,049,327,287",
                  "label": "Artist"
                },
                "label": "Marshmello",
                "color": "#17bebb",
                "styles": {
                  "color": "#FF8C00",
                  "shape": "ellipse",
                  "label": "name"
                },
                "scale_factor": 1,
                "type": null,
                "position": [
                  0,
                  0
                ]
              },
              {
                "id": 166,
                "properties": {
                  "duration_ms": 206197,
                  "explicit": false,
                  "year": 2015,
                  "album": "Where Are Ü Now (with Justin Bieber) [Remixes]",
                  "name": "Where Are Ü Now (with Justin Bieber) - Marshmello Remix",
                  "danceability": 0.5720000000000001,
                  "energy": 0.863,
                  "label": "Track"
                },
                "label": "Track",
                "color": "#17bebb",
                "styles": {
                  "color": "#40E0D0",
                  "shape": "ellipse",
                  "label": "label"
                },
                "scale_factor": 1,
                "type": null,
                "position": [
                  0,
                  0
                ]
              },
              {
                "id": 265,
                "properties": {
                  "duration_ms": 206197,
                  "explicit": false,
                  "year": 2016,
                  "album": "Big Beat Remixed I",
                  "name": "Where Are Ü Now (with Justin Bieber) - Marshmello Remix",
                  "danceability": 0.5720000000000001,
                  "energy": 0.863,
                  "label": "Track"
                },
                "label": "Track",
                "color": "#17bebb",
                "styles": {
                  "color": "#40E0D0",
                  "shape": "ellipse",
                  "label": "label"
                },
                "scale_factor": 1,
                "type": null,
                "position": [
                  0,
                  0
                ]
              },
              {
                "id": 165,
                "properties": {
                  "duration_ms": 238548,
                  "explicit": false,
                  "year": 2015,
                  "album": "Where Are Ü Now (with Justin Bieber) [Remixes]",
                  "name": "Where Are Ü Now (with Justin Bieber) - Rustie Remix",
                  "danceability": 0.499,
                  "energy": 0.8059999999999999,
                  "label": "Track"
                },
                "label": "Track",
                "color": "#17bebb",
                "styles": {
                  "color": "#40E0D0",
                  "shape": "ellipse",
                  "label": "label"
                },
                "scale_factor": 1,
                "type": null,
                "position": [
                  0,
                  0
                ]
              },
              {
                "id": 164,
                "properties": {
                  "duration_ms": 306667,
                  "explicit": false,
                  "year": 2015,
                  "album": "Where Are Ü Now (with Justin Bieber) [Remixes]",
                  "name": "Where Are Ü Now (with Justin Bieber) - Kaskade Remix",
                  "danceability": 0.726,
                  "energy": 0.7929999999999999,
                  "label": "Track"
                },
                "label": "Track",
                "color": "#17bebb",
                "styles": {
                  "color": "#40E0D0",
                  "shape": "ellipse",
                  "label": "label"
                },
                "scale_factor": 1,
                "type": null,
                "position": [
                  0,
                  0
                ]
              },
              {
                "id": 156,
                "properties": {
                  "duration_ms": 250286,
                  "explicit": false,
                  "year": 2015,
                  "album": "Skrillex and Diplo present Jack Ü",
                  "name": "Where Are Ü Now (with Justin Bieber)",
                  "danceability": 0.4320000000000001,
                  "energy": 0.7809999999999999,
                  "label": "Track"
                },
                "label": "Track",
                "color": "#17bebb",
                "styles": {
                  "color": "#40E0D0",
                  "shape": "ellipse",
                  "label": "label"
                },
                "scale_factor": 1,
                "type": null,
                "position": [
                  0,
                  0
                ]
              },
              {
                "id": 9,
                "properties": {
                  "name": "Lil Wayne",
                  "feats": "14,160,244,567",
                  "lead_streams": "8,970,128,688",
                  "label": "Artist"
                },
                "label": "Lil Wayne",
                "color": "#17bebb",
                "styles": {
                  "color": "#FF8C00",
                  "shape": "ellipse",
                  "label": "name"
                },
                "scale_factor": 1,
                "type": null,
                "position": [
                  0,
                  0
                ]
              },
              {
                "id": 155,
                "properties": {
                  "explicit": false,
                  "duration_ms": 288877,
                  "year": 2017,
                  "album": "Grateful",
                  "name": "I'm the One (feat. Justin Bieber, Quavo, Chance the Rapper & Lil Wayne)",
                  "danceability": 0.6609999999999999,
                  "energy": 0.6709999999999999,
                  "label": "Track"
                },
                "label": "Track",
                "color": "#17bebb",
                "styles": {
                  "color": "#40E0D0",
                  "shape": "ellipse",
                  "label": "label"
                },
                "scale_factor": 1,
                "type": null,
                "position": [
                  0,
                  0
                ]
              },
              {
                "id": 129,
                "properties": {
                  "explicit": true,
                  "duration_ms": 288877,
                  "year": 2017,
                  "album": "Grateful",
                  "name": "I'm the One (feat. Justin Bieber, Quavo, Chance the Rapper & Lil Wayne)",
                  "danceability": 0.599,
                  "energy": 0.667,
                  "label": "Track"
                },
                "label": "Track",
                "color": "#17bebb",
                "styles": {
                  "color": "#40E0D0",
                  "shape": "ellipse",
                  "label": "label"
                },
                "scale_factor": 1,
                "type": null,
                "position": [
                  0,
                  0
                ]
              },
              {
                "id": 31,
                "properties": {
                  "name": "Gucci Mane",
                  "feats": "4,905,865,217",
                  "lead_streams": "5,179,422,858",
                  "label": "Artist"
                },
                "label": "Gucci Mane",
                "color": "#17bebb",
                "styles": {
                  "color": "#FF8C00",
                  "shape": "ellipse",
                  "label": "name"
                },
                "scale_factor": 1,
                "type": null,
                "position": [
                  0,
                  0
                ]
              },
              {
                "id": 199,
                "properties": {
                  "duration_ms": 172889,
                  "explicit": true,
                  "year": 2019,
                  "album": "Delusions of Grandeur",
                  "name": "Love Thru the Computer (feat. Justin Bieber)",
                  "danceability": 0.746,
                  "energy": 0.889,
                  "label": "Track"
                },
                "label": "Track",
                "color": "#17bebb",
                "styles": {
                  "color": "#40E0D0",
                  "shape": "ellipse",
                  "label": "label"
                },
                "scale_factor": 1,
                "type": null,
                "position": [
                  0,
                  0
                ]
              },
              {
                "id": 184,
                "properties": {
                  "duration_ms": 173023,
                  "explicit": false,
                  "year": 2019,
                  "album": "Delusions of Grandeur",
                  "name": "Love Thru the Computer (feat. Justin Bieber)",
                  "danceability": 0.7609999999999999,
                  "energy": 0.899,
                  "label": "Track"
                },
                "label": "Track",
                "color": "#17bebb",
                "styles": {
                  "color": "#40E0D0",
                  "shape": "ellipse",
                  "label": "label"
                },
                "scale_factor": 1,
                "type": null,
                "position": [
                  0,
                  0
                ]
              },
              {
                "id": 123,
                "properties": {
                  "duration_ms": 173023,
                  "explicit": false,
                  "year": 2019,
                  "album": "Love Thru the Computer (feat. Justin Bieber)",
                  "name": "Love Thru the Computer (feat. Justin Bieber)",
                  "danceability": 0.762,
                  "energy": 0.899,
                  "label": "Track"
                },
                "label": "Track",
                "color": "#17bebb",
                "styles": {
                  "color": "#40E0D0",
                  "shape": "ellipse",
                  "label": "label"
                },
                "scale_factor": 1,
                "type": null,
                "position": [
                  0,
                  0
                ]
              },
              {
                "id": 52,
                "properties": {
                  "name": "Trey Songz",
                  "feats": "1,295,854,047",
                  "lead_streams": "3,357,005,694",
                  "label": "Artist"
                },
                "label": "Trey Songz",
                "color": "#17bebb",
                "styles": {
                  "color": "#FF8C00",
                  "shape": "ellipse",
                  "label": "name"
                },
                "scale_factor": 1,
                "type": null,
                "position": [
                  0,
                  0
                ]
              },
              {
                "id": 121,
                "properties": {
                  "duration_ms": 273640,
                  "explicit": true,
                  "year": 2015,
                  "album": "Trigga Reloaded",
                  "name": "Foreign Remix (feat. Justin Bieber)",
                  "danceability": 0.7090000000000001,
                  "energy": 0.583,
                  "label": "Track"
                },
                "label": "Track",
                "color": "#17bebb",
                "styles": {
                  "color": "#40E0D0",
                  "shape": "ellipse",
                  "label": "label"
                },
                "scale_factor": 1,
                "type": null,
                "position": [
                  0,
                  0
                ]
              },
              {
                "id": 102,
                "properties": {
                  "duration_ms": 260000,
                  "explicit": true,
                  "year": 2019,
                  "album": "Father Of Asahd",
                  "name": "No Brainer (feat. Justin Bieber, Chance the Rapper & Quavo)",
                  "danceability": 0.527,
                  "energy": 0.7609999999999999,
                  "label": "Track"
                },
                "label": "Track",
                "color": "#17bebb",
                "styles": {
                  "color": "#40E0D0",
                  "shape": "ellipse",
                  "label": "label"
                },
                "scale_factor": 1,
                "type": null,
                "position": [
                  0,
                  0
                ]
              },
              {
                "id": 126,
                "properties": {
                  "duration_ms": 260000,
                  "explicit": false,
                  "year": 2019,
                  "album": "Father Of Asahd",
                  "name": "No Brainer (feat. Justin Bieber, Chance the Rapper & Quavo)",
                  "danceability": 0.585,
                  "energy": 0.76,
                  "label": "Track"
                },
                "label": "Track",
                "color": "#17bebb",
                "styles": {
                  "color": "#40E0D0",
                  "shape": "ellipse",
                  "label": "label"
                },
                "scale_factor": 1,
                "type": null,
                "position": [
                  0,
                  0
                ]
              },
              {
                "id": 196,
                "properties": {
                  "duration_ms": 194754,
                  "explicit": false,
                  "year": 2019,
                  "album": "I Don't Care (with Justin Bieber) [Loud Luxury Remix]",
                  "name": "I Don't Care (with Justin Bieber) - Loud Luxury Remix",
                  "danceability": 0.748,
                  "energy": 0.916,
                  "label": "Track"
                },
                "label": "Track",
                "color": "#17bebb",
                "styles": {
                  "color": "#40E0D0",
                  "shape": "ellipse",
                  "label": "label"
                },
                "scale_factor": 1,
                "type": null,
                "position": [
                  0,
                  0
                ]
              },
              {
                "id": 189,
                "properties": {
                  "duration_ms": 218373,
                  "explicit": false,
                  "year": 2019,
                  "album": "I Don't Care (with Justin Bieber) [Chronixx & Koffee Remix]",
                  "name": "I Don't Care (with Justin Bieber) - Chronixx & Koffee Remix",
                  "danceability": 0.759,
                  "energy": 0.688,
                  "label": "Track"
                },
                "label": "Track",
                "color": "#17bebb",
                "styles": {
                  "color": "#40E0D0",
                  "shape": "ellipse",
                  "label": "label"
                },
                "scale_factor": 1,
                "type": null,
                "position": [
                  0,
                  0
                ]
              },
              {
                "id": 36,
                "properties": {
                  "name": "Chance the Rapper",
                  "feats": "3,118,921,754",
                  "lead_streams": "4,517,223,691",
                  "label": "Artist"
                },
                "label": "Chance the Rapper",
                "color": "#17bebb",
                "styles": {
                  "color": "#FF8C00",
                  "shape": "ellipse",
                  "label": "name"
                },
                "scale_factor": 1,
                "type": null,
                "position": [
                  0,
                  0
                ]
              },
              {
                "id": 188,
                "properties": {
                  "duration_ms": 207894,
                  "explicit": true,
                  "year": 2019,
                  "album": "Cross Me (feat. Chance the Rapper & PnB Rock) [M-22 Remix]",
                  "name": "Cross Me (feat. Chance the Rapper & PnB Rock) - M-22 Remix",
                  "danceability": 0.679,
                  "energy": 0.923,
                  "label": "Track"
                },
                "label": "Track",
                "color": "#17bebb",
                "styles": {
                  "color": "#40E0D0",
                  "shape": "ellipse",
                  "label": "label"
                },
                "scale_factor": 1,
                "type": null,
                "position": [
                  0,
                  0
                ]
              },
              {
                "id": 390,
                "properties": {
                  "name": "Beyoncé",
                  "feats": "1,949,901,038",
                  "lead_streams": "15,593,114,022",
                  "label": "Artist"
                },
                "label": "Beyoncé",
                "color": "#17bebb",
                "styles": {
                  "color": "#FF8C00",
                  "shape": "ellipse",
                  "label": "name"
                },
                "scale_factor": 1,
                "type": null,
                "position": [
                  0,
                  0
                ]
              },
              {
                "id": 372,
                "properties": {
                  "name": "Drake",
                  "feats": "19,246,513,666",
                  "lead_streams": "50,162,292,808",
                  "label": "Artist"
                },
                "label": "Drake",
                "color": "#17bebb",
                "styles": {
                  "color": "#FF8C00",
                  "shape": "ellipse",
                  "label": "name"
                },
                "scale_factor": 1,
                "type": null,
                "position": [
                  0,
                  0
                ]
              },
              {
                "id": 163,
                "properties": {
                  "duration_ms": 259550,
                  "explicit": false,
                  "year": 2017,
                  "album": "Perfect Duet (Ed Sheeran & Beyoncé)",
                  "name": "Perfect Duet (Ed Sheeran & Beyoncé)",
                  "danceability": 0.5870000000000001,
                  "energy": 0.299,
                  "label": "Track"
                },
                "label": "Track",
                "color": "#17bebb",
                "styles": {
                  "color": "#40E0D0",
                  "shape": "ellipse",
                  "label": "label"
                },
                "scale_factor": 1,
                "type": null,
                "position": [
                  0,
                  0
                ]
              },
              {
                "id": 320,
                "properties": {
                  "duration_ms": 378600,
                  "explicit": true,
                  "year": 2014,
                  "album": "BEYONCÉ [Platinum Edition]",
                  "name": "Mine (feat. Drake)",
                  "danceability": 0.557,
                  "energy": 0.428,
                  "label": "Track"
                },
                "label": "Track",
                "color": "#17bebb",
                "styles": {
                  "color": "#40E0D0",
                  "shape": "ellipse",
                  "label": "label"
                },
                "scale_factor": 1,
                "type": null,
                "position": [
                  0,
                  0
                ]
              },
              {
                "id": 375,
                "properties": {
                  "name": "The Weeknd",
                  "feats": "4,288,903,657",
                  "lead_streams": "34,767,779,741",
                  "label": "Artist"
                },
                "label": "The Weeknd",
                "color": "#17bebb",
                "styles": {
                  "color": "#FF8C00",
                  "shape": "ellipse",
                  "label": "name"
                },
                "scale_factor": 1,
                "type": null,
                "position": [
                  0,
                  0
                ]
              },
              {
                "id": 187,
                "properties": {
                  "duration_ms": 260587,
                  "explicit": false,
                  "year": 2016,
                  "album": "Lemonade",
                  "name": "6 Inch (feat. The Weeknd)",
                  "danceability": 0.53,
                  "energy": 0.611,
                  "label": "Track"
                },
                "label": "Track",
                "color": "#17bebb",
                "styles": {
                  "color": "#40E0D0",
                  "shape": "ellipse",
                  "label": "label"
                },
                "scale_factor": 1,
                "type": null,
                "position": [
                  0,
                  0
                ]
              },
              {
                "id": 186,
                "properties": {
                  "duration_ms": 260440,
                  "explicit": true,
                  "year": 2016,
                  "album": "Lemonade",
                  "name": "6 Inch (feat. The Weeknd)",
                  "danceability": 0.516,
                  "energy": 0.637,
                  "label": "Track"
                },
                "label": "Track",
                "color": "#17bebb",
                "styles": {
                  "color": "#40E0D0",
                  "shape": "ellipse",
                  "label": "label"
                },
                "scale_factor": 1,
                "type": null,
                "position": [
                  0,
                  0
                ]
              },
              {
                "id": 231,
                "properties": {
                  "duration_ms": 204467,
                  "explicit": false,
                  "year": 2019,
                  "album": "South of the Border (feat. Camila Cabello & Cardi B)",
                  "name": "South of the Border (feat. Camila Cabello & Cardi B)",
                  "danceability": 0.857,
                  "energy": 0.621,
                  "label": "Track"
                },
                "label": "Track",
                "color": "#17bebb",
                "styles": {
                  "color": "#40E0D0",
                  "shape": "ellipse",
                  "label": "label"
                },
                "scale_factor": 1,
                "type": null,
                "position": [
                  0,
                  0
                ]
              },
              {
                "id": 82,
                "properties": {
                  "explicit": false,
                  "duration_ms": 204467,
                  "year": 2019,
                  "album": "No.6 Collaborations Project",
                  "name": "South of the Border (feat. Camila Cabello & Cardi B)",
                  "danceability": 0.857,
                  "energy": 0.621,
                  "label": "Track"
                },
                "label": "Track",
                "color": "#17bebb",
                "styles": {
                  "color": "#40E0D0",
                  "shape": "ellipse",
                  "label": "label"
                },
                "scale_factor": 1,
                "type": null,
                "position": [
                  0,
                  0
                ]
              },
              {
                "id": 104,
                "properties": {
                  "explicit": false,
                  "duration_ms": 204467,
                  "year": 2019,
                  "album": "No.6 Collaborations Project",
                  "name": "South of the Border (feat. Camila Cabello & Cardi B)",
                  "danceability": 0.857,
                  "energy": 0.621,
                  "label": "Track"
                },
                "label": "Track",
                "color": "#17bebb",
                "styles": {
                  "color": "#40E0D0",
                  "shape": "ellipse",
                  "label": "label"
                },
                "scale_factor": 1,
                "type": null,
                "position": [
                  0,
                  0
                ]
              },
              {
                "id": 83,
                "properties": {
                  "explicit": true,
                  "duration_ms": 206187,
                  "year": 2019,
                  "album": "No.6 Collaborations Project",
                  "name": "Cross Me (feat. Chance the Rapper & PnB Rock)",
                  "danceability": 0.746,
                  "energy": 0.787,
                  "label": "Track"
                },
                "label": "Track",
                "color": "#17bebb",
                "styles": {
                  "color": "#40E0D0",
                  "shape": "ellipse",
                  "label": "label"
                },
                "scale_factor": 1,
                "type": null,
                "position": [
                  0,
                  0
                ]
              },
              {
                "id": 125,
                "properties": {
                  "duration_ms": 206187,
                  "explicit": true,
                  "year": 2019,
                  "album": "Cross Me (feat. Chance the Rapper & PnB Rock)",
                  "name": "Cross Me (feat. Chance the Rapper & PnB Rock)",
                  "danceability": 0.746,
                  "energy": 0.787,
                  "label": "Track"
                },
                "label": "Track",
                "color": "#17bebb",
                "styles": {
                  "color": "#40E0D0",
                  "shape": "ellipse",
                  "label": "label"
                },
                "scale_factor": 1,
                "type": null,
                "position": [
                  0,
                  0
                ]
              },
              {
                "id": 105,
                "properties": {
                  "explicit": false,
                  "duration_ms": 204833,
                  "year": 2019,
                  "album": "No.6 Collaborations Project",
                  "name": "Cross Me (feat. Chance the Rapper & PnB Rock)",
                  "danceability": 0.654,
                  "energy": 0.784,
                  "label": "Track"
                },
                "label": "Track",
                "color": "#17bebb",
                "styles": {
                  "color": "#40E0D0",
                  "shape": "ellipse",
                  "label": "label"
                },
                "scale_factor": 1,
                "type": null,
                "position": [
                  0,
                  0
                ]
              },
              {
                "id": 86,
                "properties": {
                  "explicit": false,
                  "duration_ms": 219947,
                  "year": 2019,
                  "album": "No.6 Collaborations Project",
                  "name": "I Don't Care (with Justin Bieber)",
                  "danceability": 0.7979999999999999,
                  "energy": 0.6759999999999999,
                  "label": "Track"
                },
                "label": "Track",
                "color": "#17bebb",
                "styles": {
                  "color": "#40E0D0",
                  "shape": "ellipse",
                  "label": "label"
                },
                "scale_factor": 1,
                "type": null,
                "position": [
                  0,
                  0
                ]
              },
              {
                "id": 383,
                "properties": {
                  "name": "Travis Scott",
                  "feats": "9,662,107,113",
                  "lead_streams": "20,566,427,073",
                  "label": "Artist"
                },
                "label": "Travis Scott",
                "color": "#17bebb",
                "styles": {
                  "color": "#FF8C00",
                  "shape": "ellipse",
                  "label": "name"
                },
                "scale_factor": 1,
                "type": null,
                "position": [
                  0,
                  0
                ]
              },
              {
                "id": 87,
                "properties": {
                  "explicit": false,
                  "duration_ms": 161747,
                  "year": 2019,
                  "album": "No.6 Collaborations Project",
                  "name": "Antisocial (with Travis Scott)",
                  "danceability": 0.716,
                  "energy": 0.823,
                  "label": "Track"
                },
                "label": "Track",
                "color": "#17bebb",
                "styles": {
                  "color": "#40E0D0",
                  "shape": "ellipse",
                  "label": "label"
                },
                "scale_factor": 1,
                "type": null,
                "position": [
                  0,
                  0
                ]
              },
              {
                "id": 312,
                "properties": {
                  "explicit": true,
                  "duration_ms": 307000,
                  "year": 2015,
                  "album": "Rodeo (Expanded Edition)",
                  "name": "Pray 4 Love (feat. The Weeknd)",
                  "danceability": 0.629,
                  "energy": 0.578,
                  "label": "Track"
                },
                "label": "Track",
                "color": "#17bebb",
                "styles": {
                  "color": "#40E0D0",
                  "shape": "ellipse",
                  "label": "label"
                },
                "scale_factor": 1,
                "type": null,
                "position": [
                  0,
                  0
                ]
              },
              {
                "id": 122,
                "properties": {
                  "duration_ms": 211267,
                  "explicit": false,
                  "year": 2019,
                  "album": "For The Throne (Music Inspired by the HBO Series Game of Thrones)",
                  "name": "Power is Power (feat. The Weeknd & Travis Scott)",
                  "danceability": 0.507,
                  "energy": 0.644,
                  "label": "Track"
                },
                "label": "Track",
                "color": "#17bebb",
                "styles": {
                  "color": "#40E0D0",
                  "shape": "ellipse",
                  "label": "label"
                },
                "scale_factor": 1,
                "type": null,
                "position": [
                  0,
                  0
                ]
              },
              {
                "id": 16,
                "properties": {
                  "name": "SZA",
                  "feats": "2,147,963,882",
                  "lead_streams": "7,269,204,057",
                  "label": "Artist"
                },
                "label": "SZA",
                "color": "#17bebb",
                "styles": {
                  "color": "#FF8C00",
                  "shape": "ellipse",
                  "label": "name"
                },
                "scale_factor": 1,
                "type": null,
                "position": [
                  0,
                  0
                ]
              },
              {
                "id": 230,
                "properties": {
                  "duration_ms": 161747,
                  "explicit": false,
                  "year": 2019,
                  "album": "Antisocial (with Travis Scott)",
                  "name": "Antisocial (with Travis Scott)",
                  "danceability": 0.715,
                  "energy": 0.823,
                  "label": "Track"
                },
                "label": "Track",
                "color": "#17bebb",
                "styles": {
                  "color": "#40E0D0",
                  "shape": "ellipse",
                  "label": "label"
                },
                "scale_factor": 1,
                "type": null,
                "position": [
                  0,
                  0
                ]
              },
              {
                "id": 379,
                "properties": {
                  "name": "Eminem",
                  "feats": "4,165,031,640",
                  "lead_streams": "30,431,861,291",
                  "label": "Artist"
                },
                "label": "Eminem",
                "color": "#17bebb",
                "styles": {
                  "color": "#FF8C00",
                  "shape": "ellipse",
                  "label": "name"
                },
                "scale_factor": 1,
                "type": null,
                "position": [
                  0,
                  0
                ]
              },
              {
                "id": 32,
                "properties": {
                  "name": "The Notorious B.I.G.",
                  "feats": "699,574,957",
                  "lead_streams": "5,171,977,853",
                  "label": "Artist"
                },
                "label": "The Notorious B.I.G.",
                "color": "#17bebb",
                "styles": {
                  "color": "#FF8C00",
                  "shape": "ellipse",
                  "label": "name"
                },
                "scale_factor": 1,
                "type": null,
                "position": [
                  0,
                  0
                ]
              },
              {
                "id": 88,
                "properties": {
                  "explicit": true,
                  "duration_ms": 207760,
                  "year": 2019,
                  "album": "No.6 Collaborations Project",
                  "name": "Remember The Name (feat. Eminem & 50 Cent)",
                  "danceability": 0.852,
                  "energy": 0.6659999999999999,
                  "label": "Track"
                },
                "label": "Track",
                "color": "#17bebb",
                "styles": {
                  "color": "#40E0D0",
                  "shape": "ellipse",
                  "label": "label"
                },
                "scale_factor": 1,
                "type": null,
                "position": [
                  0,
                  0
                ]
              },
              {
                "id": 161,
                "properties": {
                  "explicit": true,
                  "duration_ms": 297227,
                  "year": 2007,
                  "album": "Greatest Hits",
                  "name": "Dead Wrong (feat. Eminem) - 2007 Remaster",
                  "danceability": 0.648,
                  "energy": 0.895,
                  "label": "Track"
                },
                "label": "Track",
                "color": "#17bebb",
                "styles": {
                  "color": "#40E0D0",
                  "shape": "ellipse",
                  "label": "label"
                },
                "scale_factor": 1,
                "type": null,
                "position": [
                  0,
                  0
                ]
              },
              {
                "id": 162,
                "properties": {
                  "explicit": false,
                  "duration_ms": 297227,
                  "year": 2007,
                  "album": "Greatest Hits",
                  "name": "Dead Wrong (feat. Eminem) - 2007 Remaster",
                  "danceability": 0.6579999999999999,
                  "energy": 0.8320000000000001,
                  "label": "Track"
                },
                "label": "Track",
                "color": "#17bebb",
                "styles": {
                  "color": "#40E0D0",
                  "shape": "ellipse",
                  "label": "label"
                },
                "scale_factor": 1,
                "type": null,
                "position": [
                  0,
                  0
                ]
              },
              {
                "id": 13,
                "properties": {
                  "name": "P!nk",
                  "feats": "663,799,734",
                  "lead_streams": "8,243,802,966",
                  "label": "Artist"
                },
                "label": "P!nk",
                "color": "#17bebb",
                "styles": {
                  "color": "#FF8C00",
                  "shape": "ellipse",
                  "label": "name"
                },
                "scale_factor": 1,
                "type": null,
                "position": [
                  0,
                  0
                ]
              },
              {
                "id": 99,
                "properties": {
                  "duration_ms": 264173,
                  "explicit": true,
                  "year": 2012,
                  "album": "The Truth About Love",
                  "name": "Here Comes the Weekend (feat. Eminem)",
                  "danceability": 0.7090000000000001,
                  "energy": 0.794,
                  "label": "Track"
                },
                "label": "Track",
                "color": "#17bebb",
                "styles": {
                  "color": "#40E0D0",
                  "shape": "ellipse",
                  "label": "label"
                },
                "scale_factor": 1,
                "type": null,
                "position": [
                  0,
                  0
                ]
              },
              {
                "id": 107,
                "properties": {
                  "explicit": false,
                  "duration_ms": 206443,
                  "year": 2019,
                  "album": "No.6 Collaborations Project",
                  "name": "Remember The Name (feat. Eminem & 50 Cent)",
                  "danceability": 0.863,
                  "energy": 0.649,
                  "label": "Track"
                },
                "label": "Track",
                "color": "#17bebb",
                "styles": {
                  "color": "#40E0D0",
                  "shape": "ellipse",
                  "label": "label"
                },
                "scale_factor": 1,
                "type": null,
                "position": [
                  0,
                  0
                ]
              },
              {
                "id": 229,
                "properties": {
                  "duration_ms": 207760,
                  "explicit": true,
                  "year": 2019,
                  "album": "Remember The Name (feat. Eminem & 50 Cent)",
                  "name": "Remember The Name (feat. Eminem & 50 Cent)",
                  "danceability": 0.852,
                  "energy": 0.6659999999999999,
                  "label": "Track"
                },
                "label": "Track",
                "color": "#17bebb",
                "styles": {
                  "color": "#40E0D0",
                  "shape": "ellipse",
                  "label": "label"
                },
                "scale_factor": 1,
                "type": null,
                "position": [
                  0,
                  0
                ]
              },
              {
                "id": 10,
                "properties": {
                  "name": "Young Thug",
                  "feats": "9,576,540,270",
                  "lead_streams": "8,956,248,071",
                  "label": "Artist"
                },
                "label": "Young Thug",
                "color": "#17bebb",
                "styles": {
                  "color": "#FF8C00",
                  "shape": "ellipse",
                  "label": "name"
                },
                "scale_factor": 1,
                "type": null,
                "position": [
                  0,
                  0
                ]
              },
              {
                "id": 89,
                "properties": {
                  "explicit": false,
                  "duration_ms": 150787,
                  "year": 2019,
                  "album": "No.6 Collaborations Project",
                  "name": "Feels (feat. Young Thug & J Hus)",
                  "danceability": 0.665,
                  "energy": 0.68,
                  "label": "Track"
                },
                "label": "Track",
                "color": "#17bebb",
                "styles": {
                  "color": "#40E0D0",
                  "shape": "ellipse",
                  "label": "label"
                },
                "scale_factor": 1,
                "type": null,
                "position": [
                  0,
                  0
                ]
              },
              {
                "id": 240,
                "properties": {
                  "explicit": true,
                  "duration_ms": 229160,
                  "year": 2017,
                  "album": "Funk Wav Bounces Vol.1",
                  "name": "Heatstroke (feat. Young Thug, Pharrell Williams & Ariana Grande)",
                  "danceability": 0.784,
                  "energy": 0.728,
                  "label": "Track"
                },
                "label": "Track",
                "color": "#17bebb",
                "styles": {
                  "color": "#40E0D0",
                  "shape": "ellipse",
                  "label": "label"
                },
                "scale_factor": 1,
                "type": null,
                "position": [
                  0,
                  0
                ]
              },
              {
                "id": 70,
                "properties": {
                  "name": "Pharrell Williams",
                  "feats": "6,537,561,403",
                  "lead_streams": "2,077,074,226",
                  "label": "Artist"
                },
                "label": "Pharrell Williams",
                "color": "#17bebb",
                "styles": {
                  "color": "#FF8C00",
                  "shape": "ellipse",
                  "label": "name"
                },
                "scale_factor": 1,
                "type": null,
                "position": [
                  0,
                  0
                ]
              },
              {
                "id": 388,
                "properties": {
                  "name": "Calvin Harris",
                  "feats": "419,338,360",
                  "lead_streams": "17,820,311,936",
                  "label": "Artist"
                },
                "label": "Calvin Harris",
                "color": "#17bebb",
                "styles": {
                  "color": "#FF8C00",
                  "shape": "ellipse",
                  "label": "name"
                },
                "scale_factor": 1,
                "type": null,
                "position": [
                  0,
                  0
                ]
              },
              {
                "id": 108,
                "properties": {
                  "explicit": false,
                  "duration_ms": 150787,
                  "year": 2019,
                  "album": "No.6 Collaborations Project",
                  "name": "Feels (feat. Young Thug & J Hus)",
                  "danceability": 0.665,
                  "energy": 0.68,
                  "label": "Track"
                },
                "label": "Track",
                "color": "#17bebb",
                "styles": {
                  "color": "#40E0D0",
                  "shape": "ellipse",
                  "label": "label"
                },
                "scale_factor": 1,
                "type": null,
                "position": [
                  0,
                  0
                ]
              },
              {
                "id": 28,
                "properties": {
                  "name": "Meek Mill",
                  "feats": "1,900,550,120",
                  "lead_streams": "5,609,538,227",
                  "label": "Artist"
                },
                "label": "Meek Mill",
                "color": "#17bebb",
                "styles": {
                  "color": "#FF8C00",
                  "shape": "ellipse",
                  "label": "name"
                },
                "scale_factor": 1,
                "type": null,
                "position": [
                  0,
                  0
                ]
              },
              {
                "id": 93,
                "properties": {
                  "explicit": false,
                  "duration_ms": 212307,
                  "year": 2019,
                  "album": "No.6 Collaborations Project",
                  "name": "1000 Nights (feat. Meek Mill & A Boogie Wit da Hoodie)",
                  "danceability": 0.778,
                  "energy": 0.589,
                  "label": "Track"
                },
                "label": "Track",
                "color": "#17bebb",
                "styles": {
                  "color": "#40E0D0",
                  "shape": "ellipse",
                  "label": "label"
                },
                "scale_factor": 1,
                "type": null,
                "position": [
                  0,
                  0
                ]
              },
              {
                "id": 204,
                "properties": {
                  "duration_ms": 180522,
                  "explicit": false,
                  "year": 2018,
                  "album": "Championships",
                  "name": "Going Bad (feat. Drake)",
                  "danceability": 0.821,
                  "energy": 0.509,
                  "label": "Track"
                },
                "label": "Track",
                "color": "#17bebb",
                "styles": {
                  "color": "#40E0D0",
                  "shape": "ellipse",
                  "label": "label"
                },
                "scale_factor": 1,
                "type": null,
                "position": [
                  0,
                  0
                ]
              },
              {
                "id": 203,
                "properties": {
                  "duration_ms": 180522,
                  "explicit": true,
                  "year": 2018,
                  "album": "Championships",
                  "name": "Going Bad (feat. Drake)",
                  "danceability": 0.889,
                  "energy": 0.496,
                  "label": "Track"
                },
                "label": "Track",
                "color": "#17bebb",
                "styles": {
                  "color": "#40E0D0",
                  "shape": "ellipse",
                  "label": "label"
                },
                "scale_factor": 1,
                "type": null,
                "position": [
                  0,
                  0
                ]
              },
              {
                "id": 112,
                "properties": {
                  "explicit": false,
                  "duration_ms": 212307,
                  "year": 2019,
                  "album": "No.6 Collaborations Project",
                  "name": "1000 Nights (feat. Meek Mill & A Boogie Wit da Hoodie)",
                  "danceability": 0.778,
                  "energy": 0.59,
                  "label": "Track"
                },
                "label": "Track",
                "color": "#17bebb",
                "styles": {
                  "color": "#40E0D0",
                  "shape": "ellipse",
                  "label": "label"
                },
                "scale_factor": 1,
                "type": null,
                "position": [
                  0,
                  0
                ]
              },
              {
                "id": 26,
                "properties": {
                  "name": "Skrillex",
                  "feats": "1,640,865,351",
                  "lead_streams": "5,881,756,686",
                  "label": "Artist"
                },
                "label": "Skrillex",
                "color": "#17bebb",
                "styles": {
                  "color": "#FF8C00",
                  "shape": "ellipse",
                  "label": "name"
                },
                "scale_factor": 1,
                "type": null,
                "position": [
                  0,
                  0
                ]
              },
              {
                "id": 94,
                "properties": {
                  "explicit": false,
                  "duration_ms": 190293,
                  "year": 2019,
                  "album": "No.6 Collaborations Project",
                  "name": "Way To Break My Heart (feat. Skrillex)",
                  "danceability": 0.726,
                  "energy": 0.731,
                  "label": "Track"
                },
                "label": "Track",
                "color": "#17bebb",
                "styles": {
                  "color": "#40E0D0",
                  "shape": "ellipse",
                  "label": "label"
                },
                "scale_factor": 1,
                "type": null,
                "position": [
                  0,
                  0
                ]
              }
            ],
            "_overview": {
              "enabled": null,
              "overview_set": false
            },
            "_sidebar": {
              "enabled": true,
              "start_with": ""
            },
            "_svg": "",
            "_view_count": null,
            "_view_module": "yfiles-jupyter-graphs",
            "_view_module_version": "^1.4.5",
            "_view_name": "GraphView",
            "layout": "IPY_MODEL_bbece808c1b342298a950117a5063df0"
          }
        },
        "bbece808c1b342298a950117a5063df0": {
          "model_module": "@jupyter-widgets/base",
          "model_name": "LayoutModel",
          "model_module_version": "1.2.0",
          "state": {
            "_model_module": "@jupyter-widgets/base",
            "_model_module_version": "1.2.0",
            "_model_name": "LayoutModel",
            "_view_count": null,
            "_view_module": "@jupyter-widgets/base",
            "_view_module_version": "1.2.0",
            "_view_name": "LayoutView",
            "align_content": null,
            "align_items": null,
            "align_self": null,
            "border": null,
            "bottom": null,
            "display": null,
            "flex": null,
            "flex_flow": null,
            "grid_area": null,
            "grid_auto_columns": null,
            "grid_auto_flow": null,
            "grid_auto_rows": null,
            "grid_column": null,
            "grid_gap": null,
            "grid_row": null,
            "grid_template_areas": null,
            "grid_template_columns": null,
            "grid_template_rows": null,
            "height": "500px",
            "justify_content": null,
            "justify_items": null,
            "left": null,
            "margin": null,
            "max_height": null,
            "max_width": null,
            "min_height": null,
            "min_width": null,
            "object_fit": null,
            "object_position": null,
            "order": null,
            "overflow": null,
            "overflow_x": null,
            "overflow_y": null,
            "padding": null,
            "right": null,
            "top": null,
            "visibility": null,
            "width": "100%"
          }
        },
        "72d8fc00239b4690b0d8a3c129ca09fd": {
          "model_module": "yfiles-jupyter-graphs",
          "model_name": "GraphModel",
          "model_module_version": "^1.4.5",
          "state": {
            "_context_pane_mapping": [
              {
                "id": "Neighborhood",
                "title": "Neighborhood"
              },
              {
                "id": "Data",
                "title": "Data"
              },
              {
                "id": "Search",
                "title": "Search"
              },
              {
                "id": "About",
                "title": "About"
              }
            ],
            "_data_importer": "neo4j",
            "_directed": true,
            "_dom_classes": [],
            "_edges": [
              {
                "id": 18,
                "start": 374,
                "end": 108,
                "properties": {
                  "label": "PERFORMS"
                },
                "label": "PERFORMS",
                "color": "#094c4b",
                "thickness_factor": 1,
                "directed": true
              },
              {
                "id": 20,
                "start": 10,
                "end": 108,
                "properties": {
                  "label": "PERFORMS"
                },
                "label": "PERFORMS",
                "color": "#094c4b",
                "thickness_factor": 1,
                "directed": true
              },
              {
                "id": 315,
                "start": 10,
                "end": 240,
                "properties": {
                  "label": "PERFORMS"
                },
                "label": "PERFORMS",
                "color": "#094c4b",
                "thickness_factor": 1,
                "directed": true
              },
              {
                "id": 317,
                "start": 378,
                "end": 240,
                "properties": {
                  "label": "PERFORMS"
                },
                "label": "PERFORMS",
                "color": "#094c4b",
                "thickness_factor": 1,
                "directed": true
              },
              {
                "id": 386,
                "start": 378,
                "end": 289,
                "properties": {
                  "label": "PERFORMS"
                },
                "label": "PERFORMS",
                "color": "#094c4b",
                "thickness_factor": 1,
                "directed": true
              },
              {
                "id": 385,
                "start": 23,
                "end": 289,
                "properties": {
                  "label": "PERFORMS"
                },
                "label": "PERFORMS",
                "color": "#094c4b",
                "thickness_factor": 1,
                "directed": true
              }
            ],
            "_graph_layout": {
              "algorithm": "radial",
              "options": {}
            },
            "_highlight": [],
            "_model_module": "yfiles-jupyter-graphs",
            "_model_module_version": "^1.4.5",
            "_model_name": "GraphModel",
            "_neighborhood": {},
            "_nodes": [
              {
                "id": 374,
                "properties": {
                  "name": "Ed Sheeran",
                  "feats": "2,791,278,201",
                  "lead_streams": "38,153,682,361",
                  "label": "Artist"
                },
                "label": "Ed Sheeran",
                "color": "#17bebb",
                "styles": {
                  "color": "#FF8C00",
                  "shape": "ellipse",
                  "label": "name"
                },
                "scale_factor": 1,
                "type": null,
                "position": [
                  0,
                  0
                ]
              },
              {
                "id": 23,
                "properties": {
                  "name": "Childish Gambino",
                  "feats": "604,415,192",
                  "lead_streams": "6,247,735,359",
                  "label": "Artist"
                },
                "label": "Childish Gambino",
                "color": "#17bebb",
                "styles": {
                  "color": "#FF8C00",
                  "shape": "ellipse",
                  "label": "name"
                },
                "scale_factor": 1,
                "type": null,
                "position": [
                  0,
                  0
                ]
              },
              {
                "id": 108,
                "properties": {
                  "explicit": false,
                  "duration_ms": 150787,
                  "year": 2019,
                  "album": "No.6 Collaborations Project",
                  "name": "Feels (feat. Young Thug & J Hus)",
                  "danceability": 0.665,
                  "energy": 0.68,
                  "label": "Track"
                },
                "label": "Track",
                "color": "#17bebb",
                "styles": {
                  "color": "#40E0D0",
                  "shape": "ellipse",
                  "label": "label"
                },
                "scale_factor": 1,
                "type": null,
                "position": [
                  0,
                  0
                ]
              },
              {
                "id": 10,
                "properties": {
                  "name": "Young Thug",
                  "feats": "9,576,540,270",
                  "lead_streams": "8,956,248,071",
                  "label": "Artist"
                },
                "label": "Young Thug",
                "color": "#17bebb",
                "styles": {
                  "color": "#FF8C00",
                  "shape": "ellipse",
                  "label": "name"
                },
                "scale_factor": 1,
                "type": null,
                "position": [
                  0,
                  0
                ]
              },
              {
                "id": 240,
                "properties": {
                  "explicit": true,
                  "duration_ms": 229160,
                  "year": 2017,
                  "album": "Funk Wav Bounces Vol.1",
                  "name": "Heatstroke (feat. Young Thug, Pharrell Williams & Ariana Grande)",
                  "danceability": 0.784,
                  "energy": 0.728,
                  "label": "Track"
                },
                "label": "Track",
                "color": "#17bebb",
                "styles": {
                  "color": "#40E0D0",
                  "shape": "ellipse",
                  "label": "label"
                },
                "scale_factor": 1,
                "type": null,
                "position": [
                  0,
                  0
                ]
              },
              {
                "id": 378,
                "properties": {
                  "name": "Ariana Grande",
                  "feats": "2,052,297,828",
                  "lead_streams": "32,287,682,040",
                  "label": "Artist"
                },
                "label": "Ariana Grande",
                "color": "#17bebb",
                "styles": {
                  "color": "#FF8C00",
                  "shape": "ellipse",
                  "label": "name"
                },
                "scale_factor": 1,
                "type": null,
                "position": [
                  0,
                  0
                ]
              },
              {
                "id": 289,
                "properties": {
                  "duration_ms": 367293,
                  "explicit": false,
                  "year": 2020,
                  "album": "3.15.20",
                  "name": "Time (feat. Ariana Grande)",
                  "danceability": 0.621,
                  "energy": 0.5379999999999999,
                  "label": "Track"
                },
                "label": "Track",
                "color": "#17bebb",
                "styles": {
                  "color": "#40E0D0",
                  "shape": "ellipse",
                  "label": "label"
                },
                "scale_factor": 1,
                "type": null,
                "position": [
                  0,
                  0
                ]
              }
            ],
            "_overview": {
              "enabled": null,
              "overview_set": false
            },
            "_sidebar": {
              "enabled": true,
              "start_with": ""
            },
            "_svg": "",
            "_view_count": null,
            "_view_module": "yfiles-jupyter-graphs",
            "_view_module_version": "^1.4.5",
            "_view_name": "GraphView",
            "layout": "IPY_MODEL_991a5f8d5ac245bab9215dc95bf3e2f8"
          }
        },
        "991a5f8d5ac245bab9215dc95bf3e2f8": {
          "model_module": "@jupyter-widgets/base",
          "model_name": "LayoutModel",
          "model_module_version": "1.2.0",
          "state": {
            "_model_module": "@jupyter-widgets/base",
            "_model_module_version": "1.2.0",
            "_model_name": "LayoutModel",
            "_view_count": null,
            "_view_module": "@jupyter-widgets/base",
            "_view_module_version": "1.2.0",
            "_view_name": "LayoutView",
            "align_content": null,
            "align_items": null,
            "align_self": null,
            "border": null,
            "bottom": null,
            "display": null,
            "flex": null,
            "flex_flow": null,
            "grid_area": null,
            "grid_auto_columns": null,
            "grid_auto_flow": null,
            "grid_auto_rows": null,
            "grid_column": null,
            "grid_gap": null,
            "grid_row": null,
            "grid_template_areas": null,
            "grid_template_columns": null,
            "grid_template_rows": null,
            "height": "500px",
            "justify_content": null,
            "justify_items": null,
            "left": null,
            "margin": null,
            "max_height": null,
            "max_width": null,
            "min_height": null,
            "min_width": null,
            "object_fit": null,
            "object_position": null,
            "order": null,
            "overflow": null,
            "overflow_x": null,
            "overflow_y": null,
            "padding": null,
            "right": null,
            "top": null,
            "visibility": null,
            "width": "100%"
          }
        }
      }
    }
  },
  "cells": [
    {
      "cell_type": "markdown",
      "metadata": {
        "id": "view-in-github",
        "colab_type": "text"
      },
      "source": [
        "<a href=\"https://colab.research.google.com/github/Brvilardi/BancoDeDados-P2-Neo4j-Spotify/blob/main/P2_Sportify_Neo4j.ipynb\" target=\"_parent\"><img src=\"https://colab.research.google.com/assets/colab-badge.svg\" alt=\"Open In Colab\"/></a>"
      ]
    },
    {
      "cell_type": "markdown",
      "source": [
        "# Tarefa P2 - LinkedIn usando Neo4j\n",
        "\n",
        "\n",
        "| Nome    | RA |\n",
        "| -------- | ------- |\n",
        "| Bruno Vilardi Bueno  | 19.00331-5     |\n",
        "| Martin Ropke | 19.01592-5      |\n",
        "\n",
        "\n",
        "\n",
        "\n"
      ],
      "metadata": {
        "id": "WkjMJFdHE1e_"
      }
    },
    {
      "cell_type": "markdown",
      "source": [
        "## Setup do ambiente"
      ],
      "metadata": {
        "id": "FCyJ0KamE5Ap"
      }
    },
    {
      "cell_type": "code",
      "source": [
        "from google.colab import drive\n",
        "drive.mount('/content/drive/')"
      ],
      "metadata": {
        "colab": {
          "base_uri": "https://localhost:8080/"
        },
        "id": "jg2Q-nuJ_4P8",
        "outputId": "471ee54d-8cf2-4047-bbfa-bac06b4c8843"
      },
      "execution_count": null,
      "outputs": [
        {
          "output_type": "stream",
          "name": "stdout",
          "text": [
            "Drive already mounted at /content/drive/; to attempt to forcibly remount, call drive.mount(\"/content/drive/\", force_remount=True).\n",
            "time: 2.25 s (started: 2023-06-10 11:15:25 +00:00)\n"
          ]
        }
      ]
    },
    {
      "cell_type": "code",
      "source": [
        "!pip install ipython-autotime\n",
        "!pip install neo4j\n",
        "!pip install yfiles_jupyter_graphs neo4j graphdatascience\n",
        "%load_ext autotime\n",
        "from google.colab import output\n",
        "output.enable_custom_widget_manager()"
      ],
      "metadata": {
        "colab": {
          "base_uri": "https://localhost:8080/"
        },
        "id": "p1cuHlO4E7NH",
        "outputId": "0454b03b-38ce-40e0-fcdb-49d49a8a37fc"
      },
      "execution_count": null,
      "outputs": [
        {
          "output_type": "stream",
          "name": "stdout",
          "text": [
            "Looking in indexes: https://pypi.org/simple, https://us-python.pkg.dev/colab-wheels/public/simple/\n",
            "Requirement already satisfied: ipython-autotime in /usr/local/lib/python3.10/dist-packages (0.3.1)\n",
            "Requirement already satisfied: ipython in /usr/local/lib/python3.10/dist-packages (from ipython-autotime) (7.34.0)\n",
            "Requirement already satisfied: setuptools>=18.5 in /usr/local/lib/python3.10/dist-packages (from ipython->ipython-autotime) (67.7.2)\n",
            "Requirement already satisfied: jedi>=0.16 in /usr/local/lib/python3.10/dist-packages (from ipython->ipython-autotime) (0.18.2)\n",
            "Requirement already satisfied: decorator in /usr/local/lib/python3.10/dist-packages (from ipython->ipython-autotime) (4.4.2)\n",
            "Requirement already satisfied: pickleshare in /usr/local/lib/python3.10/dist-packages (from ipython->ipython-autotime) (0.7.5)\n",
            "Requirement already satisfied: traitlets>=4.2 in /usr/local/lib/python3.10/dist-packages (from ipython->ipython-autotime) (5.7.1)\n",
            "Requirement already satisfied: prompt-toolkit!=3.0.0,!=3.0.1,<3.1.0,>=2.0.0 in /usr/local/lib/python3.10/dist-packages (from ipython->ipython-autotime) (3.0.38)\n",
            "Requirement already satisfied: pygments in /usr/local/lib/python3.10/dist-packages (from ipython->ipython-autotime) (2.14.0)\n",
            "Requirement already satisfied: backcall in /usr/local/lib/python3.10/dist-packages (from ipython->ipython-autotime) (0.2.0)\n",
            "Requirement already satisfied: matplotlib-inline in /usr/local/lib/python3.10/dist-packages (from ipython->ipython-autotime) (0.1.6)\n",
            "Requirement already satisfied: pexpect>4.3 in /usr/local/lib/python3.10/dist-packages (from ipython->ipython-autotime) (4.8.0)\n",
            "Requirement already satisfied: parso<0.9.0,>=0.8.0 in /usr/local/lib/python3.10/dist-packages (from jedi>=0.16->ipython->ipython-autotime) (0.8.3)\n",
            "Requirement already satisfied: ptyprocess>=0.5 in /usr/local/lib/python3.10/dist-packages (from pexpect>4.3->ipython->ipython-autotime) (0.7.0)\n",
            "Requirement already satisfied: wcwidth in /usr/local/lib/python3.10/dist-packages (from prompt-toolkit!=3.0.0,!=3.0.1,<3.1.0,>=2.0.0->ipython->ipython-autotime) (0.2.6)\n",
            "Looking in indexes: https://pypi.org/simple, https://us-python.pkg.dev/colab-wheels/public/simple/\n",
            "Requirement already satisfied: neo4j in /usr/local/lib/python3.10/dist-packages (5.9.0)\n",
            "Requirement already satisfied: pytz in /usr/local/lib/python3.10/dist-packages (from neo4j) (2022.7.1)\n",
            "Looking in indexes: https://pypi.org/simple, https://us-python.pkg.dev/colab-wheels/public/simple/\n",
            "Requirement already satisfied: yfiles_jupyter_graphs in /usr/local/lib/python3.10/dist-packages (1.4.5)\n",
            "Requirement already satisfied: neo4j in /usr/local/lib/python3.10/dist-packages (5.9.0)\n",
            "Requirement already satisfied: graphdatascience in /usr/local/lib/python3.10/dist-packages (1.6)\n",
            "Requirement already satisfied: ipywidgets>=7.6.0 in /usr/local/lib/python3.10/dist-packages (from yfiles_jupyter_graphs) (7.7.1)\n",
            "Requirement already satisfied: pytz in /usr/local/lib/python3.10/dist-packages (from neo4j) (2022.7.1)\n",
            "Requirement already satisfied: multimethod<2.0,>=1.0 in /usr/local/lib/python3.10/dist-packages (from graphdatascience) (1.9.1)\n",
            "Requirement already satisfied: pandas<2.0,>=1.0 in /usr/local/lib/python3.10/dist-packages (from graphdatascience) (1.5.3)\n",
            "Requirement already satisfied: pyarrow<11.0,>=4.0 in /usr/local/lib/python3.10/dist-packages (from graphdatascience) (9.0.0)\n",
            "Requirement already satisfied: tqdm<5.0,>=4.0 in /usr/local/lib/python3.10/dist-packages (from graphdatascience) (4.65.0)\n",
            "Requirement already satisfied: ipykernel>=4.5.1 in /usr/local/lib/python3.10/dist-packages (from ipywidgets>=7.6.0->yfiles_jupyter_graphs) (5.5.6)\n",
            "Requirement already satisfied: ipython-genutils~=0.2.0 in /usr/local/lib/python3.10/dist-packages (from ipywidgets>=7.6.0->yfiles_jupyter_graphs) (0.2.0)\n",
            "Requirement already satisfied: traitlets>=4.3.1 in /usr/local/lib/python3.10/dist-packages (from ipywidgets>=7.6.0->yfiles_jupyter_graphs) (5.7.1)\n",
            "Requirement already satisfied: widgetsnbextension~=3.6.0 in /usr/local/lib/python3.10/dist-packages (from ipywidgets>=7.6.0->yfiles_jupyter_graphs) (3.6.4)\n",
            "Requirement already satisfied: ipython>=4.0.0 in /usr/local/lib/python3.10/dist-packages (from ipywidgets>=7.6.0->yfiles_jupyter_graphs) (7.34.0)\n",
            "Requirement already satisfied: jupyterlab-widgets>=1.0.0 in /usr/local/lib/python3.10/dist-packages (from ipywidgets>=7.6.0->yfiles_jupyter_graphs) (3.0.7)\n",
            "Requirement already satisfied: python-dateutil>=2.8.1 in /usr/local/lib/python3.10/dist-packages (from pandas<2.0,>=1.0->graphdatascience) (2.8.2)\n",
            "Requirement already satisfied: numpy>=1.21.0 in /usr/local/lib/python3.10/dist-packages (from pandas<2.0,>=1.0->graphdatascience) (1.22.4)\n",
            "Requirement already satisfied: jupyter-client in /usr/local/lib/python3.10/dist-packages (from ipykernel>=4.5.1->ipywidgets>=7.6.0->yfiles_jupyter_graphs) (6.1.12)\n",
            "Requirement already satisfied: tornado>=4.2 in /usr/local/lib/python3.10/dist-packages (from ipykernel>=4.5.1->ipywidgets>=7.6.0->yfiles_jupyter_graphs) (6.3.1)\n",
            "Requirement already satisfied: setuptools>=18.5 in /usr/local/lib/python3.10/dist-packages (from ipython>=4.0.0->ipywidgets>=7.6.0->yfiles_jupyter_graphs) (67.7.2)\n",
            "Requirement already satisfied: jedi>=0.16 in /usr/local/lib/python3.10/dist-packages (from ipython>=4.0.0->ipywidgets>=7.6.0->yfiles_jupyter_graphs) (0.18.2)\n",
            "Requirement already satisfied: decorator in /usr/local/lib/python3.10/dist-packages (from ipython>=4.0.0->ipywidgets>=7.6.0->yfiles_jupyter_graphs) (4.4.2)\n",
            "Requirement already satisfied: pickleshare in /usr/local/lib/python3.10/dist-packages (from ipython>=4.0.0->ipywidgets>=7.6.0->yfiles_jupyter_graphs) (0.7.5)\n",
            "Requirement already satisfied: prompt-toolkit!=3.0.0,!=3.0.1,<3.1.0,>=2.0.0 in /usr/local/lib/python3.10/dist-packages (from ipython>=4.0.0->ipywidgets>=7.6.0->yfiles_jupyter_graphs) (3.0.38)\n",
            "Requirement already satisfied: pygments in /usr/local/lib/python3.10/dist-packages (from ipython>=4.0.0->ipywidgets>=7.6.0->yfiles_jupyter_graphs) (2.14.0)\n",
            "Requirement already satisfied: backcall in /usr/local/lib/python3.10/dist-packages (from ipython>=4.0.0->ipywidgets>=7.6.0->yfiles_jupyter_graphs) (0.2.0)\n",
            "Requirement already satisfied: matplotlib-inline in /usr/local/lib/python3.10/dist-packages (from ipython>=4.0.0->ipywidgets>=7.6.0->yfiles_jupyter_graphs) (0.1.6)\n",
            "Requirement already satisfied: pexpect>4.3 in /usr/local/lib/python3.10/dist-packages (from ipython>=4.0.0->ipywidgets>=7.6.0->yfiles_jupyter_graphs) (4.8.0)\n",
            "Requirement already satisfied: six>=1.5 in /usr/local/lib/python3.10/dist-packages (from python-dateutil>=2.8.1->pandas<2.0,>=1.0->graphdatascience) (1.16.0)\n",
            "Requirement already satisfied: notebook>=4.4.1 in /usr/local/lib/python3.10/dist-packages (from widgetsnbextension~=3.6.0->ipywidgets>=7.6.0->yfiles_jupyter_graphs) (6.4.8)\n",
            "Requirement already satisfied: parso<0.9.0,>=0.8.0 in /usr/local/lib/python3.10/dist-packages (from jedi>=0.16->ipython>=4.0.0->ipywidgets>=7.6.0->yfiles_jupyter_graphs) (0.8.3)\n",
            "Requirement already satisfied: jinja2 in /usr/local/lib/python3.10/dist-packages (from notebook>=4.4.1->widgetsnbextension~=3.6.0->ipywidgets>=7.6.0->yfiles_jupyter_graphs) (3.1.2)\n",
            "Requirement already satisfied: pyzmq>=17 in /usr/local/lib/python3.10/dist-packages (from notebook>=4.4.1->widgetsnbextension~=3.6.0->ipywidgets>=7.6.0->yfiles_jupyter_graphs) (23.2.1)\n",
            "Requirement already satisfied: argon2-cffi in /usr/local/lib/python3.10/dist-packages (from notebook>=4.4.1->widgetsnbextension~=3.6.0->ipywidgets>=7.6.0->yfiles_jupyter_graphs) (21.3.0)\n",
            "Requirement already satisfied: jupyter-core>=4.6.1 in /usr/local/lib/python3.10/dist-packages (from notebook>=4.4.1->widgetsnbextension~=3.6.0->ipywidgets>=7.6.0->yfiles_jupyter_graphs) (5.3.0)\n",
            "Requirement already satisfied: nbformat in /usr/local/lib/python3.10/dist-packages (from notebook>=4.4.1->widgetsnbextension~=3.6.0->ipywidgets>=7.6.0->yfiles_jupyter_graphs) (5.8.0)\n",
            "Requirement already satisfied: nbconvert in /usr/local/lib/python3.10/dist-packages (from notebook>=4.4.1->widgetsnbextension~=3.6.0->ipywidgets>=7.6.0->yfiles_jupyter_graphs) (6.5.4)\n",
            "Requirement already satisfied: nest-asyncio>=1.5 in /usr/local/lib/python3.10/dist-packages (from notebook>=4.4.1->widgetsnbextension~=3.6.0->ipywidgets>=7.6.0->yfiles_jupyter_graphs) (1.5.6)\n",
            "Requirement already satisfied: Send2Trash>=1.8.0 in /usr/local/lib/python3.10/dist-packages (from notebook>=4.4.1->widgetsnbextension~=3.6.0->ipywidgets>=7.6.0->yfiles_jupyter_graphs) (1.8.0)\n",
            "Requirement already satisfied: terminado>=0.8.3 in /usr/local/lib/python3.10/dist-packages (from notebook>=4.4.1->widgetsnbextension~=3.6.0->ipywidgets>=7.6.0->yfiles_jupyter_graphs) (0.17.1)\n",
            "Requirement already satisfied: prometheus-client in /usr/local/lib/python3.10/dist-packages (from notebook>=4.4.1->widgetsnbextension~=3.6.0->ipywidgets>=7.6.0->yfiles_jupyter_graphs) (0.16.0)\n",
            "Requirement already satisfied: ptyprocess>=0.5 in /usr/local/lib/python3.10/dist-packages (from pexpect>4.3->ipython>=4.0.0->ipywidgets>=7.6.0->yfiles_jupyter_graphs) (0.7.0)\n",
            "Requirement already satisfied: wcwidth in /usr/local/lib/python3.10/dist-packages (from prompt-toolkit!=3.0.0,!=3.0.1,<3.1.0,>=2.0.0->ipython>=4.0.0->ipywidgets>=7.6.0->yfiles_jupyter_graphs) (0.2.6)\n",
            "Requirement already satisfied: platformdirs>=2.5 in /usr/local/lib/python3.10/dist-packages (from jupyter-core>=4.6.1->notebook>=4.4.1->widgetsnbextension~=3.6.0->ipywidgets>=7.6.0->yfiles_jupyter_graphs) (3.3.0)\n",
            "Requirement already satisfied: argon2-cffi-bindings in /usr/local/lib/python3.10/dist-packages (from argon2-cffi->notebook>=4.4.1->widgetsnbextension~=3.6.0->ipywidgets>=7.6.0->yfiles_jupyter_graphs) (21.2.0)\n",
            "Requirement already satisfied: MarkupSafe>=2.0 in /usr/local/lib/python3.10/dist-packages (from jinja2->notebook>=4.4.1->widgetsnbextension~=3.6.0->ipywidgets>=7.6.0->yfiles_jupyter_graphs) (2.1.2)\n",
            "Requirement already satisfied: lxml in /usr/local/lib/python3.10/dist-packages (from nbconvert->notebook>=4.4.1->widgetsnbextension~=3.6.0->ipywidgets>=7.6.0->yfiles_jupyter_graphs) (4.9.2)\n",
            "Requirement already satisfied: beautifulsoup4 in /usr/local/lib/python3.10/dist-packages (from nbconvert->notebook>=4.4.1->widgetsnbextension~=3.6.0->ipywidgets>=7.6.0->yfiles_jupyter_graphs) (4.11.2)\n",
            "Requirement already satisfied: bleach in /usr/local/lib/python3.10/dist-packages (from nbconvert->notebook>=4.4.1->widgetsnbextension~=3.6.0->ipywidgets>=7.6.0->yfiles_jupyter_graphs) (6.0.0)\n",
            "Requirement already satisfied: defusedxml in /usr/local/lib/python3.10/dist-packages (from nbconvert->notebook>=4.4.1->widgetsnbextension~=3.6.0->ipywidgets>=7.6.0->yfiles_jupyter_graphs) (0.7.1)\n",
            "Requirement already satisfied: entrypoints>=0.2.2 in /usr/local/lib/python3.10/dist-packages (from nbconvert->notebook>=4.4.1->widgetsnbextension~=3.6.0->ipywidgets>=7.6.0->yfiles_jupyter_graphs) (0.4)\n",
            "Requirement already satisfied: jupyterlab-pygments in /usr/local/lib/python3.10/dist-packages (from nbconvert->notebook>=4.4.1->widgetsnbextension~=3.6.0->ipywidgets>=7.6.0->yfiles_jupyter_graphs) (0.2.2)\n",
            "Requirement already satisfied: mistune<2,>=0.8.1 in /usr/local/lib/python3.10/dist-packages (from nbconvert->notebook>=4.4.1->widgetsnbextension~=3.6.0->ipywidgets>=7.6.0->yfiles_jupyter_graphs) (0.8.4)\n",
            "Requirement already satisfied: nbclient>=0.5.0 in /usr/local/lib/python3.10/dist-packages (from nbconvert->notebook>=4.4.1->widgetsnbextension~=3.6.0->ipywidgets>=7.6.0->yfiles_jupyter_graphs) (0.7.4)\n",
            "Requirement already satisfied: packaging in /usr/local/lib/python3.10/dist-packages (from nbconvert->notebook>=4.4.1->widgetsnbextension~=3.6.0->ipywidgets>=7.6.0->yfiles_jupyter_graphs) (23.1)\n",
            "Requirement already satisfied: pandocfilters>=1.4.1 in /usr/local/lib/python3.10/dist-packages (from nbconvert->notebook>=4.4.1->widgetsnbextension~=3.6.0->ipywidgets>=7.6.0->yfiles_jupyter_graphs) (1.5.0)\n",
            "Requirement already satisfied: tinycss2 in /usr/local/lib/python3.10/dist-packages (from nbconvert->notebook>=4.4.1->widgetsnbextension~=3.6.0->ipywidgets>=7.6.0->yfiles_jupyter_graphs) (1.2.1)\n",
            "Requirement already satisfied: fastjsonschema in /usr/local/lib/python3.10/dist-packages (from nbformat->notebook>=4.4.1->widgetsnbextension~=3.6.0->ipywidgets>=7.6.0->yfiles_jupyter_graphs) (2.16.3)\n",
            "Requirement already satisfied: jsonschema>=2.6 in /usr/local/lib/python3.10/dist-packages (from nbformat->notebook>=4.4.1->widgetsnbextension~=3.6.0->ipywidgets>=7.6.0->yfiles_jupyter_graphs) (4.3.3)\n",
            "Requirement already satisfied: attrs>=17.4.0 in /usr/local/lib/python3.10/dist-packages (from jsonschema>=2.6->nbformat->notebook>=4.4.1->widgetsnbextension~=3.6.0->ipywidgets>=7.6.0->yfiles_jupyter_graphs) (23.1.0)\n",
            "Requirement already satisfied: pyrsistent!=0.17.0,!=0.17.1,!=0.17.2,>=0.14.0 in /usr/local/lib/python3.10/dist-packages (from jsonschema>=2.6->nbformat->notebook>=4.4.1->widgetsnbextension~=3.6.0->ipywidgets>=7.6.0->yfiles_jupyter_graphs) (0.19.3)\n",
            "Requirement already satisfied: cffi>=1.0.1 in /usr/local/lib/python3.10/dist-packages (from argon2-cffi-bindings->argon2-cffi->notebook>=4.4.1->widgetsnbextension~=3.6.0->ipywidgets>=7.6.0->yfiles_jupyter_graphs) (1.15.1)\n",
            "Requirement already satisfied: soupsieve>1.2 in /usr/local/lib/python3.10/dist-packages (from beautifulsoup4->nbconvert->notebook>=4.4.1->widgetsnbextension~=3.6.0->ipywidgets>=7.6.0->yfiles_jupyter_graphs) (2.4.1)\n",
            "Requirement already satisfied: webencodings in /usr/local/lib/python3.10/dist-packages (from bleach->nbconvert->notebook>=4.4.1->widgetsnbextension~=3.6.0->ipywidgets>=7.6.0->yfiles_jupyter_graphs) (0.5.1)\n",
            "Requirement already satisfied: pycparser in /usr/local/lib/python3.10/dist-packages (from cffi>=1.0.1->argon2-cffi-bindings->argon2-cffi->notebook>=4.4.1->widgetsnbextension~=3.6.0->ipywidgets>=7.6.0->yfiles_jupyter_graphs) (2.21)\n",
            "The autotime extension is already loaded. To reload it, use:\n",
            "  %reload_ext autotime\n",
            "time: 14.9 s (started: 2023-06-10 11:15:27 +00:00)\n"
          ]
        }
      ]
    },
    {
      "cell_type": "markdown",
      "source": [
        "## Exercício 1 – Escolher um dataset no Kaggle (Spotify)\n",
        "\n",
        "tracks_features -> https://www.kaggle.com/datasets/rodolfofigueroa/spotify-12m-songs\n",
        "\n",
        "spotify_artist_data -> https://www.kaggle.com/datasets/adnananam/spotify-artist-stats"
      ],
      "metadata": {
        "id": "m5jHbPaVF0Cb"
      }
    },
    {
      "cell_type": "markdown",
      "source": [
        "### Import e tratamento das bases de dados do Kaggle sobre Spotify"
      ],
      "metadata": {
        "id": "DOjF0iFrQyJm"
      }
    },
    {
      "cell_type": "code",
      "source": [
        "# Importa musicas\n",
        "import pandas as pd\n",
        "import ast\n",
        "\n",
        "\n",
        "tracks = pd.read_csv(\"/content/drive/MyDrive/neo4j-p2/tracks_features.csv\")\n",
        "tracks['artists'] = tracks['artists'].apply(lambda x: ast.literal_eval(x)) # converte a string para lista\n",
        "tracks['artists'] = tracks['artists'].apply(lambda x: [i.replace('\"', \"\") for i in x]) # remove \" do nome do artista\n",
        "tracks = tracks.drop_duplicates(subset=['name', 'album', 'speechiness', 'track_number']) # remove duplicadas\n",
        "\n",
        "tracks.head()"
      ],
      "metadata": {
        "colab": {
          "base_uri": "https://localhost:8080/",
          "height": 577
        },
        "id": "sQEG8d1pOLTo",
        "outputId": "f5e5380c-e30a-4676-cb50-219f9b299a91"
      },
      "execution_count": 44,
      "outputs": [
        {
          "output_type": "execute_result",
          "data": {
            "text/plain": [
              "                       id                   name                      album  \\\n",
              "0  7lmeHLHBe4nmXzuXc0HDjk                Testify  The Battle Of Los Angeles   \n",
              "1  1wsRitfRRtWyEapl0q22o8        Guerrilla Radio  The Battle Of Los Angeles   \n",
              "2  1hR0fIFK2qRG3f3RF70pb7       Calm Like a Bomb  The Battle Of Los Angeles   \n",
              "3  2lbASgTSoDO7MTuLAXlTW0              Mic Check  The Battle Of Los Angeles   \n",
              "4  1MQTmpYOZ6fcMQc56Hdo7T  Sleep Now In the Fire  The Battle Of Los Angeles   \n",
              "\n",
              "                 album_id                     artists  \\\n",
              "0  2eia0myWFgoHuttJytCxgX  [Rage Against The Machine]   \n",
              "1  2eia0myWFgoHuttJytCxgX  [Rage Against The Machine]   \n",
              "2  2eia0myWFgoHuttJytCxgX  [Rage Against The Machine]   \n",
              "3  2eia0myWFgoHuttJytCxgX  [Rage Against The Machine]   \n",
              "4  2eia0myWFgoHuttJytCxgX  [Rage Against The Machine]   \n",
              "\n",
              "                   artist_ids  track_number  disc_number  explicit  \\\n",
              "0  ['2d0hyoQ5ynDBnkvAbJKORj']             1            1     False   \n",
              "1  ['2d0hyoQ5ynDBnkvAbJKORj']             2            1      True   \n",
              "2  ['2d0hyoQ5ynDBnkvAbJKORj']             3            1     False   \n",
              "3  ['2d0hyoQ5ynDBnkvAbJKORj']             4            1      True   \n",
              "4  ['2d0hyoQ5ynDBnkvAbJKORj']             5            1     False   \n",
              "\n",
              "   danceability  ...  speechiness  acousticness  instrumentalness  liveness  \\\n",
              "0         0.470  ...       0.0727       0.02610          0.000011    0.3560   \n",
              "1         0.599  ...       0.1880       0.01290          0.000071    0.1550   \n",
              "2         0.315  ...       0.4830       0.02340          0.000002    0.1220   \n",
              "3         0.440  ...       0.2370       0.16300          0.000004    0.1210   \n",
              "4         0.426  ...       0.0701       0.00162          0.105000    0.0789   \n",
              "\n",
              "   valence    tempo  duration_ms  time_signature  year  release_date  \n",
              "0    0.503  117.906       210133             4.0  1999    1999-11-02  \n",
              "1    0.489  103.680       206200             4.0  1999    1999-11-02  \n",
              "2    0.370  149.749       298893             4.0  1999    1999-11-02  \n",
              "3    0.574   96.752       213640             4.0  1999    1999-11-02  \n",
              "4    0.539  127.059       205600             4.0  1999    1999-11-02  \n",
              "\n",
              "[5 rows x 24 columns]"
            ],
            "text/html": [
              "\n",
              "  <div id=\"df-d5da2e1e-714f-421f-b2d9-d79814e0df0a\">\n",
              "    <div class=\"colab-df-container\">\n",
              "      <div>\n",
              "<style scoped>\n",
              "    .dataframe tbody tr th:only-of-type {\n",
              "        vertical-align: middle;\n",
              "    }\n",
              "\n",
              "    .dataframe tbody tr th {\n",
              "        vertical-align: top;\n",
              "    }\n",
              "\n",
              "    .dataframe thead th {\n",
              "        text-align: right;\n",
              "    }\n",
              "</style>\n",
              "<table border=\"1\" class=\"dataframe\">\n",
              "  <thead>\n",
              "    <tr style=\"text-align: right;\">\n",
              "      <th></th>\n",
              "      <th>id</th>\n",
              "      <th>name</th>\n",
              "      <th>album</th>\n",
              "      <th>album_id</th>\n",
              "      <th>artists</th>\n",
              "      <th>artist_ids</th>\n",
              "      <th>track_number</th>\n",
              "      <th>disc_number</th>\n",
              "      <th>explicit</th>\n",
              "      <th>danceability</th>\n",
              "      <th>...</th>\n",
              "      <th>speechiness</th>\n",
              "      <th>acousticness</th>\n",
              "      <th>instrumentalness</th>\n",
              "      <th>liveness</th>\n",
              "      <th>valence</th>\n",
              "      <th>tempo</th>\n",
              "      <th>duration_ms</th>\n",
              "      <th>time_signature</th>\n",
              "      <th>year</th>\n",
              "      <th>release_date</th>\n",
              "    </tr>\n",
              "  </thead>\n",
              "  <tbody>\n",
              "    <tr>\n",
              "      <th>0</th>\n",
              "      <td>7lmeHLHBe4nmXzuXc0HDjk</td>\n",
              "      <td>Testify</td>\n",
              "      <td>The Battle Of Los Angeles</td>\n",
              "      <td>2eia0myWFgoHuttJytCxgX</td>\n",
              "      <td>[Rage Against The Machine]</td>\n",
              "      <td>['2d0hyoQ5ynDBnkvAbJKORj']</td>\n",
              "      <td>1</td>\n",
              "      <td>1</td>\n",
              "      <td>False</td>\n",
              "      <td>0.470</td>\n",
              "      <td>...</td>\n",
              "      <td>0.0727</td>\n",
              "      <td>0.02610</td>\n",
              "      <td>0.000011</td>\n",
              "      <td>0.3560</td>\n",
              "      <td>0.503</td>\n",
              "      <td>117.906</td>\n",
              "      <td>210133</td>\n",
              "      <td>4.0</td>\n",
              "      <td>1999</td>\n",
              "      <td>1999-11-02</td>\n",
              "    </tr>\n",
              "    <tr>\n",
              "      <th>1</th>\n",
              "      <td>1wsRitfRRtWyEapl0q22o8</td>\n",
              "      <td>Guerrilla Radio</td>\n",
              "      <td>The Battle Of Los Angeles</td>\n",
              "      <td>2eia0myWFgoHuttJytCxgX</td>\n",
              "      <td>[Rage Against The Machine]</td>\n",
              "      <td>['2d0hyoQ5ynDBnkvAbJKORj']</td>\n",
              "      <td>2</td>\n",
              "      <td>1</td>\n",
              "      <td>True</td>\n",
              "      <td>0.599</td>\n",
              "      <td>...</td>\n",
              "      <td>0.1880</td>\n",
              "      <td>0.01290</td>\n",
              "      <td>0.000071</td>\n",
              "      <td>0.1550</td>\n",
              "      <td>0.489</td>\n",
              "      <td>103.680</td>\n",
              "      <td>206200</td>\n",
              "      <td>4.0</td>\n",
              "      <td>1999</td>\n",
              "      <td>1999-11-02</td>\n",
              "    </tr>\n",
              "    <tr>\n",
              "      <th>2</th>\n",
              "      <td>1hR0fIFK2qRG3f3RF70pb7</td>\n",
              "      <td>Calm Like a Bomb</td>\n",
              "      <td>The Battle Of Los Angeles</td>\n",
              "      <td>2eia0myWFgoHuttJytCxgX</td>\n",
              "      <td>[Rage Against The Machine]</td>\n",
              "      <td>['2d0hyoQ5ynDBnkvAbJKORj']</td>\n",
              "      <td>3</td>\n",
              "      <td>1</td>\n",
              "      <td>False</td>\n",
              "      <td>0.315</td>\n",
              "      <td>...</td>\n",
              "      <td>0.4830</td>\n",
              "      <td>0.02340</td>\n",
              "      <td>0.000002</td>\n",
              "      <td>0.1220</td>\n",
              "      <td>0.370</td>\n",
              "      <td>149.749</td>\n",
              "      <td>298893</td>\n",
              "      <td>4.0</td>\n",
              "      <td>1999</td>\n",
              "      <td>1999-11-02</td>\n",
              "    </tr>\n",
              "    <tr>\n",
              "      <th>3</th>\n",
              "      <td>2lbASgTSoDO7MTuLAXlTW0</td>\n",
              "      <td>Mic Check</td>\n",
              "      <td>The Battle Of Los Angeles</td>\n",
              "      <td>2eia0myWFgoHuttJytCxgX</td>\n",
              "      <td>[Rage Against The Machine]</td>\n",
              "      <td>['2d0hyoQ5ynDBnkvAbJKORj']</td>\n",
              "      <td>4</td>\n",
              "      <td>1</td>\n",
              "      <td>True</td>\n",
              "      <td>0.440</td>\n",
              "      <td>...</td>\n",
              "      <td>0.2370</td>\n",
              "      <td>0.16300</td>\n",
              "      <td>0.000004</td>\n",
              "      <td>0.1210</td>\n",
              "      <td>0.574</td>\n",
              "      <td>96.752</td>\n",
              "      <td>213640</td>\n",
              "      <td>4.0</td>\n",
              "      <td>1999</td>\n",
              "      <td>1999-11-02</td>\n",
              "    </tr>\n",
              "    <tr>\n",
              "      <th>4</th>\n",
              "      <td>1MQTmpYOZ6fcMQc56Hdo7T</td>\n",
              "      <td>Sleep Now In the Fire</td>\n",
              "      <td>The Battle Of Los Angeles</td>\n",
              "      <td>2eia0myWFgoHuttJytCxgX</td>\n",
              "      <td>[Rage Against The Machine]</td>\n",
              "      <td>['2d0hyoQ5ynDBnkvAbJKORj']</td>\n",
              "      <td>5</td>\n",
              "      <td>1</td>\n",
              "      <td>False</td>\n",
              "      <td>0.426</td>\n",
              "      <td>...</td>\n",
              "      <td>0.0701</td>\n",
              "      <td>0.00162</td>\n",
              "      <td>0.105000</td>\n",
              "      <td>0.0789</td>\n",
              "      <td>0.539</td>\n",
              "      <td>127.059</td>\n",
              "      <td>205600</td>\n",
              "      <td>4.0</td>\n",
              "      <td>1999</td>\n",
              "      <td>1999-11-02</td>\n",
              "    </tr>\n",
              "  </tbody>\n",
              "</table>\n",
              "<p>5 rows × 24 columns</p>\n",
              "</div>\n",
              "      <button class=\"colab-df-convert\" onclick=\"convertToInteractive('df-d5da2e1e-714f-421f-b2d9-d79814e0df0a')\"\n",
              "              title=\"Convert this dataframe to an interactive table.\"\n",
              "              style=\"display:none;\">\n",
              "        \n",
              "  <svg xmlns=\"http://www.w3.org/2000/svg\" height=\"24px\"viewBox=\"0 0 24 24\"\n",
              "       width=\"24px\">\n",
              "    <path d=\"M0 0h24v24H0V0z\" fill=\"none\"/>\n",
              "    <path d=\"M18.56 5.44l.94 2.06.94-2.06 2.06-.94-2.06-.94-.94-2.06-.94 2.06-2.06.94zm-11 1L8.5 8.5l.94-2.06 2.06-.94-2.06-.94L8.5 2.5l-.94 2.06-2.06.94zm10 10l.94 2.06.94-2.06 2.06-.94-2.06-.94-.94-2.06-.94 2.06-2.06.94z\"/><path d=\"M17.41 7.96l-1.37-1.37c-.4-.4-.92-.59-1.43-.59-.52 0-1.04.2-1.43.59L10.3 9.45l-7.72 7.72c-.78.78-.78 2.05 0 2.83L4 21.41c.39.39.9.59 1.41.59.51 0 1.02-.2 1.41-.59l7.78-7.78 2.81-2.81c.8-.78.8-2.07 0-2.86zM5.41 20L4 18.59l7.72-7.72 1.47 1.35L5.41 20z\"/>\n",
              "  </svg>\n",
              "      </button>\n",
              "      \n",
              "  <style>\n",
              "    .colab-df-container {\n",
              "      display:flex;\n",
              "      flex-wrap:wrap;\n",
              "      gap: 12px;\n",
              "    }\n",
              "\n",
              "    .colab-df-convert {\n",
              "      background-color: #E8F0FE;\n",
              "      border: none;\n",
              "      border-radius: 50%;\n",
              "      cursor: pointer;\n",
              "      display: none;\n",
              "      fill: #1967D2;\n",
              "      height: 32px;\n",
              "      padding: 0 0 0 0;\n",
              "      width: 32px;\n",
              "    }\n",
              "\n",
              "    .colab-df-convert:hover {\n",
              "      background-color: #E2EBFA;\n",
              "      box-shadow: 0px 1px 2px rgba(60, 64, 67, 0.3), 0px 1px 3px 1px rgba(60, 64, 67, 0.15);\n",
              "      fill: #174EA6;\n",
              "    }\n",
              "\n",
              "    [theme=dark] .colab-df-convert {\n",
              "      background-color: #3B4455;\n",
              "      fill: #D2E3FC;\n",
              "    }\n",
              "\n",
              "    [theme=dark] .colab-df-convert:hover {\n",
              "      background-color: #434B5C;\n",
              "      box-shadow: 0px 1px 3px 1px rgba(0, 0, 0, 0.15);\n",
              "      filter: drop-shadow(0px 1px 2px rgba(0, 0, 0, 0.3));\n",
              "      fill: #FFFFFF;\n",
              "    }\n",
              "  </style>\n",
              "\n",
              "      <script>\n",
              "        const buttonEl =\n",
              "          document.querySelector('#df-d5da2e1e-714f-421f-b2d9-d79814e0df0a button.colab-df-convert');\n",
              "        buttonEl.style.display =\n",
              "          google.colab.kernel.accessAllowed ? 'block' : 'none';\n",
              "\n",
              "        async function convertToInteractive(key) {\n",
              "          const element = document.querySelector('#df-d5da2e1e-714f-421f-b2d9-d79814e0df0a');\n",
              "          const dataTable =\n",
              "            await google.colab.kernel.invokeFunction('convertToInteractive',\n",
              "                                                     [key], {});\n",
              "          if (!dataTable) return;\n",
              "\n",
              "          const docLinkHtml = 'Like what you see? Visit the ' +\n",
              "            '<a target=\"_blank\" href=https://colab.research.google.com/notebooks/data_table.ipynb>data table notebook</a>'\n",
              "            + ' to learn more about interactive tables.';\n",
              "          element.innerHTML = '';\n",
              "          dataTable['output_type'] = 'display_data';\n",
              "          await google.colab.output.renderOutput(dataTable, element);\n",
              "          const docLink = document.createElement('div');\n",
              "          docLink.innerHTML = docLinkHtml;\n",
              "          element.appendChild(docLink);\n",
              "        }\n",
              "      </script>\n",
              "    </div>\n",
              "  </div>\n",
              "  "
            ]
          },
          "metadata": {},
          "execution_count": 44
        },
        {
          "output_type": "stream",
          "name": "stdout",
          "text": [
            "time: 29 s (started: 2023-06-10 11:34:08 +00:00)\n"
          ]
        }
      ]
    },
    {
      "cell_type": "code",
      "source": [
        "# Importa artistas\n",
        "\n",
        "artists = pd.read_csv(\"/content/drive/MyDrive/neo4j-p2/spotify_artist_data.csv\")\n",
        "artists['Artist Name'] = artists['Artist Name'].replace('\"','') # remove \" do nome do artista\n",
        "artists.head()"
      ],
      "metadata": {
        "id": "o3_30zqcSgbE",
        "colab": {
          "base_uri": "https://localhost:8080/",
          "height": 223
        },
        "outputId": "d7d7c038-e20b-4fe4-f987-3efcba1af435"
      },
      "execution_count": null,
      "outputs": [
        {
          "output_type": "execute_result",
          "data": {
            "text/plain": [
              "   Unnamed: 0   Artist Name    Lead Streams           Feats Tracks  \\\n",
              "0           1         Drake  50,162,292,808  19,246,513,666    262   \n",
              "1           2     Bad Bunny  44,369,032,140   5,391,990,975    163   \n",
              "2           3    Ed Sheeran  38,153,682,361   2,791,278,201    240   \n",
              "3           4    The Weeknd  34,767,779,741   4,288,903,657    186   \n",
              "4           5  Taylor Swift  32,596,728,109     424,053,296    323   \n",
              "\n",
              "  One Billion 100 Million Last Updated  \n",
              "0           6         130     19.09.22  \n",
              "1           5         118     20.09.22  \n",
              "2          10          62     19.09.22  \n",
              "3           8          72     19.09.22  \n",
              "4           1          96     20.09.22  "
            ],
            "text/html": [
              "\n",
              "  <div id=\"df-9904c664-28ff-4b6d-a3ab-8251df32620f\">\n",
              "    <div class=\"colab-df-container\">\n",
              "      <div>\n",
              "<style scoped>\n",
              "    .dataframe tbody tr th:only-of-type {\n",
              "        vertical-align: middle;\n",
              "    }\n",
              "\n",
              "    .dataframe tbody tr th {\n",
              "        vertical-align: top;\n",
              "    }\n",
              "\n",
              "    .dataframe thead th {\n",
              "        text-align: right;\n",
              "    }\n",
              "</style>\n",
              "<table border=\"1\" class=\"dataframe\">\n",
              "  <thead>\n",
              "    <tr style=\"text-align: right;\">\n",
              "      <th></th>\n",
              "      <th>Unnamed: 0</th>\n",
              "      <th>Artist Name</th>\n",
              "      <th>Lead Streams</th>\n",
              "      <th>Feats</th>\n",
              "      <th>Tracks</th>\n",
              "      <th>One Billion</th>\n",
              "      <th>100 Million</th>\n",
              "      <th>Last Updated</th>\n",
              "    </tr>\n",
              "  </thead>\n",
              "  <tbody>\n",
              "    <tr>\n",
              "      <th>0</th>\n",
              "      <td>1</td>\n",
              "      <td>Drake</td>\n",
              "      <td>50,162,292,808</td>\n",
              "      <td>19,246,513,666</td>\n",
              "      <td>262</td>\n",
              "      <td>6</td>\n",
              "      <td>130</td>\n",
              "      <td>19.09.22</td>\n",
              "    </tr>\n",
              "    <tr>\n",
              "      <th>1</th>\n",
              "      <td>2</td>\n",
              "      <td>Bad Bunny</td>\n",
              "      <td>44,369,032,140</td>\n",
              "      <td>5,391,990,975</td>\n",
              "      <td>163</td>\n",
              "      <td>5</td>\n",
              "      <td>118</td>\n",
              "      <td>20.09.22</td>\n",
              "    </tr>\n",
              "    <tr>\n",
              "      <th>2</th>\n",
              "      <td>3</td>\n",
              "      <td>Ed Sheeran</td>\n",
              "      <td>38,153,682,361</td>\n",
              "      <td>2,791,278,201</td>\n",
              "      <td>240</td>\n",
              "      <td>10</td>\n",
              "      <td>62</td>\n",
              "      <td>19.09.22</td>\n",
              "    </tr>\n",
              "    <tr>\n",
              "      <th>3</th>\n",
              "      <td>4</td>\n",
              "      <td>The Weeknd</td>\n",
              "      <td>34,767,779,741</td>\n",
              "      <td>4,288,903,657</td>\n",
              "      <td>186</td>\n",
              "      <td>8</td>\n",
              "      <td>72</td>\n",
              "      <td>19.09.22</td>\n",
              "    </tr>\n",
              "    <tr>\n",
              "      <th>4</th>\n",
              "      <td>5</td>\n",
              "      <td>Taylor Swift</td>\n",
              "      <td>32,596,728,109</td>\n",
              "      <td>424,053,296</td>\n",
              "      <td>323</td>\n",
              "      <td>1</td>\n",
              "      <td>96</td>\n",
              "      <td>20.09.22</td>\n",
              "    </tr>\n",
              "  </tbody>\n",
              "</table>\n",
              "</div>\n",
              "      <button class=\"colab-df-convert\" onclick=\"convertToInteractive('df-9904c664-28ff-4b6d-a3ab-8251df32620f')\"\n",
              "              title=\"Convert this dataframe to an interactive table.\"\n",
              "              style=\"display:none;\">\n",
              "        \n",
              "  <svg xmlns=\"http://www.w3.org/2000/svg\" height=\"24px\"viewBox=\"0 0 24 24\"\n",
              "       width=\"24px\">\n",
              "    <path d=\"M0 0h24v24H0V0z\" fill=\"none\"/>\n",
              "    <path d=\"M18.56 5.44l.94 2.06.94-2.06 2.06-.94-2.06-.94-.94-2.06-.94 2.06-2.06.94zm-11 1L8.5 8.5l.94-2.06 2.06-.94-2.06-.94L8.5 2.5l-.94 2.06-2.06.94zm10 10l.94 2.06.94-2.06 2.06-.94-2.06-.94-.94-2.06-.94 2.06-2.06.94z\"/><path d=\"M17.41 7.96l-1.37-1.37c-.4-.4-.92-.59-1.43-.59-.52 0-1.04.2-1.43.59L10.3 9.45l-7.72 7.72c-.78.78-.78 2.05 0 2.83L4 21.41c.39.39.9.59 1.41.59.51 0 1.02-.2 1.41-.59l7.78-7.78 2.81-2.81c.8-.78.8-2.07 0-2.86zM5.41 20L4 18.59l7.72-7.72 1.47 1.35L5.41 20z\"/>\n",
              "  </svg>\n",
              "      </button>\n",
              "      \n",
              "  <style>\n",
              "    .colab-df-container {\n",
              "      display:flex;\n",
              "      flex-wrap:wrap;\n",
              "      gap: 12px;\n",
              "    }\n",
              "\n",
              "    .colab-df-convert {\n",
              "      background-color: #E8F0FE;\n",
              "      border: none;\n",
              "      border-radius: 50%;\n",
              "      cursor: pointer;\n",
              "      display: none;\n",
              "      fill: #1967D2;\n",
              "      height: 32px;\n",
              "      padding: 0 0 0 0;\n",
              "      width: 32px;\n",
              "    }\n",
              "\n",
              "    .colab-df-convert:hover {\n",
              "      background-color: #E2EBFA;\n",
              "      box-shadow: 0px 1px 2px rgba(60, 64, 67, 0.3), 0px 1px 3px 1px rgba(60, 64, 67, 0.15);\n",
              "      fill: #174EA6;\n",
              "    }\n",
              "\n",
              "    [theme=dark] .colab-df-convert {\n",
              "      background-color: #3B4455;\n",
              "      fill: #D2E3FC;\n",
              "    }\n",
              "\n",
              "    [theme=dark] .colab-df-convert:hover {\n",
              "      background-color: #434B5C;\n",
              "      box-shadow: 0px 1px 3px 1px rgba(0, 0, 0, 0.15);\n",
              "      filter: drop-shadow(0px 1px 2px rgba(0, 0, 0, 0.3));\n",
              "      fill: #FFFFFF;\n",
              "    }\n",
              "  </style>\n",
              "\n",
              "      <script>\n",
              "        const buttonEl =\n",
              "          document.querySelector('#df-9904c664-28ff-4b6d-a3ab-8251df32620f button.colab-df-convert');\n",
              "        buttonEl.style.display =\n",
              "          google.colab.kernel.accessAllowed ? 'block' : 'none';\n",
              "\n",
              "        async function convertToInteractive(key) {\n",
              "          const element = document.querySelector('#df-9904c664-28ff-4b6d-a3ab-8251df32620f');\n",
              "          const dataTable =\n",
              "            await google.colab.kernel.invokeFunction('convertToInteractive',\n",
              "                                                     [key], {});\n",
              "          if (!dataTable) return;\n",
              "\n",
              "          const docLinkHtml = 'Like what you see? Visit the ' +\n",
              "            '<a target=\"_blank\" href=https://colab.research.google.com/notebooks/data_table.ipynb>data table notebook</a>'\n",
              "            + ' to learn more about interactive tables.';\n",
              "          element.innerHTML = '';\n",
              "          dataTable['output_type'] = 'display_data';\n",
              "          await google.colab.output.renderOutput(dataTable, element);\n",
              "          const docLink = document.createElement('div');\n",
              "          docLink.innerHTML = docLinkHtml;\n",
              "          element.appendChild(docLink);\n",
              "        }\n",
              "      </script>\n",
              "    </div>\n",
              "  </div>\n",
              "  "
            ]
          },
          "metadata": {},
          "execution_count": 20
        },
        {
          "output_type": "stream",
          "name": "stdout",
          "text": [
            "time: 562 ms (started: 2023-06-10 11:16:16 +00:00)\n"
          ]
        }
      ]
    },
    {
      "cell_type": "code",
      "source": [
        "# Selecionando parte do dataset\n",
        "\n",
        "# primeiros 8 artistas\n",
        "artists_10 = artists[0:8] \n",
        "\n",
        "# todas as musicas que tem pelo menos um dos artistas envolvidos\n",
        "tracks_10 = tracks[tracks['artists'].apply(lambda x: any(artist in x for artist in artists_10['Artist Name'].unique()))]\n",
        "\n",
        "# atualizando a lista de artistas para conter todos os artistas envolvidos nas musicas acima\n",
        "artists_10 = artists[artists['Artist Name'].isin(tracks_10.artists.explode().unique())] \n"
      ],
      "metadata": {
        "id": "xAajP9KrSuoS",
        "colab": {
          "base_uri": "https://localhost:8080/"
        },
        "outputId": "ddafdd7d-26b2-4e17-cdca-030c58101961"
      },
      "execution_count": null,
      "outputs": [
        {
          "output_type": "stream",
          "name": "stdout",
          "text": [
            "time: 56.9 s (started: 2023-06-10 11:16:17 +00:00)\n"
          ]
        }
      ]
    },
    {
      "cell_type": "code",
      "source": [
        "tracks_10.head()"
      ],
      "metadata": {
        "id": "YDPkv54eVj5F",
        "colab": {
          "base_uri": "https://localhost:8080/",
          "height": 733
        },
        "outputId": "6c9c209a-4723-4e4a-d0ca-858af85d5ea5"
      },
      "execution_count": null,
      "outputs": [
        {
          "output_type": "execute_result",
          "data": {
            "text/plain": [
              "                           id  \\\n",
              "19254  1B87ZDrD3Pno9hS4stamWO   \n",
              "19325  70eFcWOvlMObDhURTqT4Fv   \n",
              "19326  4vUmTMuQqjdnvlZmAH61Qk   \n",
              "19327  4wuCQX7JvAZLlrcmH4AeZF   \n",
              "19328  1AI7UPw3fgwAFkvAlZWhE0   \n",
              "\n",
              "                                                    name  \\\n",
              "19254                Comin Out Strong (feat. The Weeknd)   \n",
              "19325                    Beautiful People (feat. Khalid)   \n",
              "19326  South of the Border (feat. Camila Cabello & Ca...   \n",
              "19327      Cross Me (feat. Chance the Rapper & PnB Rock)   \n",
              "19328             Take Me Back to London (feat. Stormzy)   \n",
              "\n",
              "                             album                album_id  \\\n",
              "19254                       HNDRXX  7K6OykPbezfgKgBufihn6X   \n",
              "19325  No.6 Collaborations Project  3oIFxDIo2fwuk4lwCmFZCx   \n",
              "19326  No.6 Collaborations Project  3oIFxDIo2fwuk4lwCmFZCx   \n",
              "19327  No.6 Collaborations Project  3oIFxDIo2fwuk4lwCmFZCx   \n",
              "19328  No.6 Collaborations Project  3oIFxDIo2fwuk4lwCmFZCx   \n",
              "\n",
              "                                         artists  \\\n",
              "19254                       [Future, The Weeknd]   \n",
              "19325                       [Ed Sheeran, Khalid]   \n",
              "19326      [Ed Sheeran, Camila Cabello, Cardi B]   \n",
              "19327  [Ed Sheeran, Chance the Rapper, PnB Rock]   \n",
              "19328                      [Ed Sheeran, Stormzy]   \n",
              "\n",
              "                                              artist_ids  track_number  \\\n",
              "19254  ['1RyvyyTE3xzB2ZywiAwp0i', '1Xyo4u8uXC1ZmMpatF...             2   \n",
              "19325  ['6eUKZXaKkcviH0Ku9w2n3V', '6LuN9FCkKOj5Pcnpou...             1   \n",
              "19326  ['6eUKZXaKkcviH0Ku9w2n3V', '4nDoRrQiYLoBzwC5Bh...             2   \n",
              "19327  ['6eUKZXaKkcviH0Ku9w2n3V', '1anyVhU62p31KFi8ME...             3   \n",
              "19328  ['6eUKZXaKkcviH0Ku9w2n3V', '2SrSdSvpminqmStGEL...             4   \n",
              "\n",
              "       disc_number  explicit  danceability  ...  speechiness  acousticness  \\\n",
              "19254            1      True         0.628  ...       0.4750         0.290   \n",
              "19325            1     False         0.640  ...       0.1860         0.124   \n",
              "19326            1     False         0.857  ...       0.0825         0.148   \n",
              "19327            1      True         0.746  ...       0.1200         0.212   \n",
              "19328            1     False         0.885  ...       0.2160         0.219   \n",
              "\n",
              "       instrumentalness  liveness  valence    tempo  duration_ms  \\\n",
              "19254               0.0    0.1180    0.330  108.761       254370   \n",
              "19325               0.0    0.0801    0.546   92.979       197867   \n",
              "19326               0.0    0.0865    0.668   97.989       204467   \n",
              "19327               0.0    0.0669    0.607   95.005       206187   \n",
              "19328               0.0    0.1620    0.605  138.058       189733   \n",
              "\n",
              "       time_signature  year  release_date  \n",
              "19254             5.0  2017    2017-07-27  \n",
              "19325             4.0  2019    2019-07-12  \n",
              "19326             4.0  2019    2019-07-12  \n",
              "19327             4.0  2019    2019-07-12  \n",
              "19328             4.0  2019    2019-07-12  \n",
              "\n",
              "[5 rows x 24 columns]"
            ],
            "text/html": [
              "\n",
              "  <div id=\"df-548a58b1-1eab-4bb8-b6c9-4caaac651920\">\n",
              "    <div class=\"colab-df-container\">\n",
              "      <div>\n",
              "<style scoped>\n",
              "    .dataframe tbody tr th:only-of-type {\n",
              "        vertical-align: middle;\n",
              "    }\n",
              "\n",
              "    .dataframe tbody tr th {\n",
              "        vertical-align: top;\n",
              "    }\n",
              "\n",
              "    .dataframe thead th {\n",
              "        text-align: right;\n",
              "    }\n",
              "</style>\n",
              "<table border=\"1\" class=\"dataframe\">\n",
              "  <thead>\n",
              "    <tr style=\"text-align: right;\">\n",
              "      <th></th>\n",
              "      <th>id</th>\n",
              "      <th>name</th>\n",
              "      <th>album</th>\n",
              "      <th>album_id</th>\n",
              "      <th>artists</th>\n",
              "      <th>artist_ids</th>\n",
              "      <th>track_number</th>\n",
              "      <th>disc_number</th>\n",
              "      <th>explicit</th>\n",
              "      <th>danceability</th>\n",
              "      <th>...</th>\n",
              "      <th>speechiness</th>\n",
              "      <th>acousticness</th>\n",
              "      <th>instrumentalness</th>\n",
              "      <th>liveness</th>\n",
              "      <th>valence</th>\n",
              "      <th>tempo</th>\n",
              "      <th>duration_ms</th>\n",
              "      <th>time_signature</th>\n",
              "      <th>year</th>\n",
              "      <th>release_date</th>\n",
              "    </tr>\n",
              "  </thead>\n",
              "  <tbody>\n",
              "    <tr>\n",
              "      <th>19254</th>\n",
              "      <td>1B87ZDrD3Pno9hS4stamWO</td>\n",
              "      <td>Comin Out Strong (feat. The Weeknd)</td>\n",
              "      <td>HNDRXX</td>\n",
              "      <td>7K6OykPbezfgKgBufihn6X</td>\n",
              "      <td>[Future, The Weeknd]</td>\n",
              "      <td>['1RyvyyTE3xzB2ZywiAwp0i', '1Xyo4u8uXC1ZmMpatF...</td>\n",
              "      <td>2</td>\n",
              "      <td>1</td>\n",
              "      <td>True</td>\n",
              "      <td>0.628</td>\n",
              "      <td>...</td>\n",
              "      <td>0.4750</td>\n",
              "      <td>0.290</td>\n",
              "      <td>0.0</td>\n",
              "      <td>0.1180</td>\n",
              "      <td>0.330</td>\n",
              "      <td>108.761</td>\n",
              "      <td>254370</td>\n",
              "      <td>5.0</td>\n",
              "      <td>2017</td>\n",
              "      <td>2017-07-27</td>\n",
              "    </tr>\n",
              "    <tr>\n",
              "      <th>19325</th>\n",
              "      <td>70eFcWOvlMObDhURTqT4Fv</td>\n",
              "      <td>Beautiful People (feat. Khalid)</td>\n",
              "      <td>No.6 Collaborations Project</td>\n",
              "      <td>3oIFxDIo2fwuk4lwCmFZCx</td>\n",
              "      <td>[Ed Sheeran, Khalid]</td>\n",
              "      <td>['6eUKZXaKkcviH0Ku9w2n3V', '6LuN9FCkKOj5Pcnpou...</td>\n",
              "      <td>1</td>\n",
              "      <td>1</td>\n",
              "      <td>False</td>\n",
              "      <td>0.640</td>\n",
              "      <td>...</td>\n",
              "      <td>0.1860</td>\n",
              "      <td>0.124</td>\n",
              "      <td>0.0</td>\n",
              "      <td>0.0801</td>\n",
              "      <td>0.546</td>\n",
              "      <td>92.979</td>\n",
              "      <td>197867</td>\n",
              "      <td>4.0</td>\n",
              "      <td>2019</td>\n",
              "      <td>2019-07-12</td>\n",
              "    </tr>\n",
              "    <tr>\n",
              "      <th>19326</th>\n",
              "      <td>4vUmTMuQqjdnvlZmAH61Qk</td>\n",
              "      <td>South of the Border (feat. Camila Cabello &amp; Ca...</td>\n",
              "      <td>No.6 Collaborations Project</td>\n",
              "      <td>3oIFxDIo2fwuk4lwCmFZCx</td>\n",
              "      <td>[Ed Sheeran, Camila Cabello, Cardi B]</td>\n",
              "      <td>['6eUKZXaKkcviH0Ku9w2n3V', '4nDoRrQiYLoBzwC5Bh...</td>\n",
              "      <td>2</td>\n",
              "      <td>1</td>\n",
              "      <td>False</td>\n",
              "      <td>0.857</td>\n",
              "      <td>...</td>\n",
              "      <td>0.0825</td>\n",
              "      <td>0.148</td>\n",
              "      <td>0.0</td>\n",
              "      <td>0.0865</td>\n",
              "      <td>0.668</td>\n",
              "      <td>97.989</td>\n",
              "      <td>204467</td>\n",
              "      <td>4.0</td>\n",
              "      <td>2019</td>\n",
              "      <td>2019-07-12</td>\n",
              "    </tr>\n",
              "    <tr>\n",
              "      <th>19327</th>\n",
              "      <td>4wuCQX7JvAZLlrcmH4AeZF</td>\n",
              "      <td>Cross Me (feat. Chance the Rapper &amp; PnB Rock)</td>\n",
              "      <td>No.6 Collaborations Project</td>\n",
              "      <td>3oIFxDIo2fwuk4lwCmFZCx</td>\n",
              "      <td>[Ed Sheeran, Chance the Rapper, PnB Rock]</td>\n",
              "      <td>['6eUKZXaKkcviH0Ku9w2n3V', '1anyVhU62p31KFi8ME...</td>\n",
              "      <td>3</td>\n",
              "      <td>1</td>\n",
              "      <td>True</td>\n",
              "      <td>0.746</td>\n",
              "      <td>...</td>\n",
              "      <td>0.1200</td>\n",
              "      <td>0.212</td>\n",
              "      <td>0.0</td>\n",
              "      <td>0.0669</td>\n",
              "      <td>0.607</td>\n",
              "      <td>95.005</td>\n",
              "      <td>206187</td>\n",
              "      <td>4.0</td>\n",
              "      <td>2019</td>\n",
              "      <td>2019-07-12</td>\n",
              "    </tr>\n",
              "    <tr>\n",
              "      <th>19328</th>\n",
              "      <td>1AI7UPw3fgwAFkvAlZWhE0</td>\n",
              "      <td>Take Me Back to London (feat. Stormzy)</td>\n",
              "      <td>No.6 Collaborations Project</td>\n",
              "      <td>3oIFxDIo2fwuk4lwCmFZCx</td>\n",
              "      <td>[Ed Sheeran, Stormzy]</td>\n",
              "      <td>['6eUKZXaKkcviH0Ku9w2n3V', '2SrSdSvpminqmStGEL...</td>\n",
              "      <td>4</td>\n",
              "      <td>1</td>\n",
              "      <td>False</td>\n",
              "      <td>0.885</td>\n",
              "      <td>...</td>\n",
              "      <td>0.2160</td>\n",
              "      <td>0.219</td>\n",
              "      <td>0.0</td>\n",
              "      <td>0.1620</td>\n",
              "      <td>0.605</td>\n",
              "      <td>138.058</td>\n",
              "      <td>189733</td>\n",
              "      <td>4.0</td>\n",
              "      <td>2019</td>\n",
              "      <td>2019-07-12</td>\n",
              "    </tr>\n",
              "  </tbody>\n",
              "</table>\n",
              "<p>5 rows × 24 columns</p>\n",
              "</div>\n",
              "      <button class=\"colab-df-convert\" onclick=\"convertToInteractive('df-548a58b1-1eab-4bb8-b6c9-4caaac651920')\"\n",
              "              title=\"Convert this dataframe to an interactive table.\"\n",
              "              style=\"display:none;\">\n",
              "        \n",
              "  <svg xmlns=\"http://www.w3.org/2000/svg\" height=\"24px\"viewBox=\"0 0 24 24\"\n",
              "       width=\"24px\">\n",
              "    <path d=\"M0 0h24v24H0V0z\" fill=\"none\"/>\n",
              "    <path d=\"M18.56 5.44l.94 2.06.94-2.06 2.06-.94-2.06-.94-.94-2.06-.94 2.06-2.06.94zm-11 1L8.5 8.5l.94-2.06 2.06-.94-2.06-.94L8.5 2.5l-.94 2.06-2.06.94zm10 10l.94 2.06.94-2.06 2.06-.94-2.06-.94-.94-2.06-.94 2.06-2.06.94z\"/><path d=\"M17.41 7.96l-1.37-1.37c-.4-.4-.92-.59-1.43-.59-.52 0-1.04.2-1.43.59L10.3 9.45l-7.72 7.72c-.78.78-.78 2.05 0 2.83L4 21.41c.39.39.9.59 1.41.59.51 0 1.02-.2 1.41-.59l7.78-7.78 2.81-2.81c.8-.78.8-2.07 0-2.86zM5.41 20L4 18.59l7.72-7.72 1.47 1.35L5.41 20z\"/>\n",
              "  </svg>\n",
              "      </button>\n",
              "      \n",
              "  <style>\n",
              "    .colab-df-container {\n",
              "      display:flex;\n",
              "      flex-wrap:wrap;\n",
              "      gap: 12px;\n",
              "    }\n",
              "\n",
              "    .colab-df-convert {\n",
              "      background-color: #E8F0FE;\n",
              "      border: none;\n",
              "      border-radius: 50%;\n",
              "      cursor: pointer;\n",
              "      display: none;\n",
              "      fill: #1967D2;\n",
              "      height: 32px;\n",
              "      padding: 0 0 0 0;\n",
              "      width: 32px;\n",
              "    }\n",
              "\n",
              "    .colab-df-convert:hover {\n",
              "      background-color: #E2EBFA;\n",
              "      box-shadow: 0px 1px 2px rgba(60, 64, 67, 0.3), 0px 1px 3px 1px rgba(60, 64, 67, 0.15);\n",
              "      fill: #174EA6;\n",
              "    }\n",
              "\n",
              "    [theme=dark] .colab-df-convert {\n",
              "      background-color: #3B4455;\n",
              "      fill: #D2E3FC;\n",
              "    }\n",
              "\n",
              "    [theme=dark] .colab-df-convert:hover {\n",
              "      background-color: #434B5C;\n",
              "      box-shadow: 0px 1px 3px 1px rgba(0, 0, 0, 0.15);\n",
              "      filter: drop-shadow(0px 1px 2px rgba(0, 0, 0, 0.3));\n",
              "      fill: #FFFFFF;\n",
              "    }\n",
              "  </style>\n",
              "\n",
              "      <script>\n",
              "        const buttonEl =\n",
              "          document.querySelector('#df-548a58b1-1eab-4bb8-b6c9-4caaac651920 button.colab-df-convert');\n",
              "        buttonEl.style.display =\n",
              "          google.colab.kernel.accessAllowed ? 'block' : 'none';\n",
              "\n",
              "        async function convertToInteractive(key) {\n",
              "          const element = document.querySelector('#df-548a58b1-1eab-4bb8-b6c9-4caaac651920');\n",
              "          const dataTable =\n",
              "            await google.colab.kernel.invokeFunction('convertToInteractive',\n",
              "                                                     [key], {});\n",
              "          if (!dataTable) return;\n",
              "\n",
              "          const docLinkHtml = 'Like what you see? Visit the ' +\n",
              "            '<a target=\"_blank\" href=https://colab.research.google.com/notebooks/data_table.ipynb>data table notebook</a>'\n",
              "            + ' to learn more about interactive tables.';\n",
              "          element.innerHTML = '';\n",
              "          dataTable['output_type'] = 'display_data';\n",
              "          await google.colab.output.renderOutput(dataTable, element);\n",
              "          const docLink = document.createElement('div');\n",
              "          docLink.innerHTML = docLinkHtml;\n",
              "          element.appendChild(docLink);\n",
              "        }\n",
              "      </script>\n",
              "    </div>\n",
              "  </div>\n",
              "  "
            ]
          },
          "metadata": {},
          "execution_count": 22
        },
        {
          "output_type": "stream",
          "name": "stdout",
          "text": [
            "time: 31.5 ms (started: 2023-06-10 11:17:14 +00:00)\n"
          ]
        }
      ]
    },
    {
      "cell_type": "code",
      "source": [
        "artists_10.head()"
      ],
      "metadata": {
        "id": "EMg2RjxHbXzA",
        "colab": {
          "base_uri": "https://localhost:8080/",
          "height": 223
        },
        "outputId": "573b2ce5-afde-48d3-8a70-9af24a5222cb"
      },
      "execution_count": null,
      "outputs": [
        {
          "output_type": "execute_result",
          "data": {
            "text/plain": [
              "   Unnamed: 0   Artist Name    Lead Streams           Feats Tracks  \\\n",
              "0           1         Drake  50,162,292,808  19,246,513,666    262   \n",
              "1           2     Bad Bunny  44,369,032,140   5,391,990,975    163   \n",
              "2           3    Ed Sheeran  38,153,682,361   2,791,278,201    240   \n",
              "3           4    The Weeknd  34,767,779,741   4,288,903,657    186   \n",
              "4           5  Taylor Swift  32,596,728,109     424,053,296    323   \n",
              "\n",
              "  One Billion 100 Million Last Updated  \n",
              "0           6         130     19.09.22  \n",
              "1           5         118     20.09.22  \n",
              "2          10          62     19.09.22  \n",
              "3           8          72     19.09.22  \n",
              "4           1          96     20.09.22  "
            ],
            "text/html": [
              "\n",
              "  <div id=\"df-f7fad52e-f66b-4f8d-a5e3-7468ca70dcc2\">\n",
              "    <div class=\"colab-df-container\">\n",
              "      <div>\n",
              "<style scoped>\n",
              "    .dataframe tbody tr th:only-of-type {\n",
              "        vertical-align: middle;\n",
              "    }\n",
              "\n",
              "    .dataframe tbody tr th {\n",
              "        vertical-align: top;\n",
              "    }\n",
              "\n",
              "    .dataframe thead th {\n",
              "        text-align: right;\n",
              "    }\n",
              "</style>\n",
              "<table border=\"1\" class=\"dataframe\">\n",
              "  <thead>\n",
              "    <tr style=\"text-align: right;\">\n",
              "      <th></th>\n",
              "      <th>Unnamed: 0</th>\n",
              "      <th>Artist Name</th>\n",
              "      <th>Lead Streams</th>\n",
              "      <th>Feats</th>\n",
              "      <th>Tracks</th>\n",
              "      <th>One Billion</th>\n",
              "      <th>100 Million</th>\n",
              "      <th>Last Updated</th>\n",
              "    </tr>\n",
              "  </thead>\n",
              "  <tbody>\n",
              "    <tr>\n",
              "      <th>0</th>\n",
              "      <td>1</td>\n",
              "      <td>Drake</td>\n",
              "      <td>50,162,292,808</td>\n",
              "      <td>19,246,513,666</td>\n",
              "      <td>262</td>\n",
              "      <td>6</td>\n",
              "      <td>130</td>\n",
              "      <td>19.09.22</td>\n",
              "    </tr>\n",
              "    <tr>\n",
              "      <th>1</th>\n",
              "      <td>2</td>\n",
              "      <td>Bad Bunny</td>\n",
              "      <td>44,369,032,140</td>\n",
              "      <td>5,391,990,975</td>\n",
              "      <td>163</td>\n",
              "      <td>5</td>\n",
              "      <td>118</td>\n",
              "      <td>20.09.22</td>\n",
              "    </tr>\n",
              "    <tr>\n",
              "      <th>2</th>\n",
              "      <td>3</td>\n",
              "      <td>Ed Sheeran</td>\n",
              "      <td>38,153,682,361</td>\n",
              "      <td>2,791,278,201</td>\n",
              "      <td>240</td>\n",
              "      <td>10</td>\n",
              "      <td>62</td>\n",
              "      <td>19.09.22</td>\n",
              "    </tr>\n",
              "    <tr>\n",
              "      <th>3</th>\n",
              "      <td>4</td>\n",
              "      <td>The Weeknd</td>\n",
              "      <td>34,767,779,741</td>\n",
              "      <td>4,288,903,657</td>\n",
              "      <td>186</td>\n",
              "      <td>8</td>\n",
              "      <td>72</td>\n",
              "      <td>19.09.22</td>\n",
              "    </tr>\n",
              "    <tr>\n",
              "      <th>4</th>\n",
              "      <td>5</td>\n",
              "      <td>Taylor Swift</td>\n",
              "      <td>32,596,728,109</td>\n",
              "      <td>424,053,296</td>\n",
              "      <td>323</td>\n",
              "      <td>1</td>\n",
              "      <td>96</td>\n",
              "      <td>20.09.22</td>\n",
              "    </tr>\n",
              "  </tbody>\n",
              "</table>\n",
              "</div>\n",
              "      <button class=\"colab-df-convert\" onclick=\"convertToInteractive('df-f7fad52e-f66b-4f8d-a5e3-7468ca70dcc2')\"\n",
              "              title=\"Convert this dataframe to an interactive table.\"\n",
              "              style=\"display:none;\">\n",
              "        \n",
              "  <svg xmlns=\"http://www.w3.org/2000/svg\" height=\"24px\"viewBox=\"0 0 24 24\"\n",
              "       width=\"24px\">\n",
              "    <path d=\"M0 0h24v24H0V0z\" fill=\"none\"/>\n",
              "    <path d=\"M18.56 5.44l.94 2.06.94-2.06 2.06-.94-2.06-.94-.94-2.06-.94 2.06-2.06.94zm-11 1L8.5 8.5l.94-2.06 2.06-.94-2.06-.94L8.5 2.5l-.94 2.06-2.06.94zm10 10l.94 2.06.94-2.06 2.06-.94-2.06-.94-.94-2.06-.94 2.06-2.06.94z\"/><path d=\"M17.41 7.96l-1.37-1.37c-.4-.4-.92-.59-1.43-.59-.52 0-1.04.2-1.43.59L10.3 9.45l-7.72 7.72c-.78.78-.78 2.05 0 2.83L4 21.41c.39.39.9.59 1.41.59.51 0 1.02-.2 1.41-.59l7.78-7.78 2.81-2.81c.8-.78.8-2.07 0-2.86zM5.41 20L4 18.59l7.72-7.72 1.47 1.35L5.41 20z\"/>\n",
              "  </svg>\n",
              "      </button>\n",
              "      \n",
              "  <style>\n",
              "    .colab-df-container {\n",
              "      display:flex;\n",
              "      flex-wrap:wrap;\n",
              "      gap: 12px;\n",
              "    }\n",
              "\n",
              "    .colab-df-convert {\n",
              "      background-color: #E8F0FE;\n",
              "      border: none;\n",
              "      border-radius: 50%;\n",
              "      cursor: pointer;\n",
              "      display: none;\n",
              "      fill: #1967D2;\n",
              "      height: 32px;\n",
              "      padding: 0 0 0 0;\n",
              "      width: 32px;\n",
              "    }\n",
              "\n",
              "    .colab-df-convert:hover {\n",
              "      background-color: #E2EBFA;\n",
              "      box-shadow: 0px 1px 2px rgba(60, 64, 67, 0.3), 0px 1px 3px 1px rgba(60, 64, 67, 0.15);\n",
              "      fill: #174EA6;\n",
              "    }\n",
              "\n",
              "    [theme=dark] .colab-df-convert {\n",
              "      background-color: #3B4455;\n",
              "      fill: #D2E3FC;\n",
              "    }\n",
              "\n",
              "    [theme=dark] .colab-df-convert:hover {\n",
              "      background-color: #434B5C;\n",
              "      box-shadow: 0px 1px 3px 1px rgba(0, 0, 0, 0.15);\n",
              "      filter: drop-shadow(0px 1px 2px rgba(0, 0, 0, 0.3));\n",
              "      fill: #FFFFFF;\n",
              "    }\n",
              "  </style>\n",
              "\n",
              "      <script>\n",
              "        const buttonEl =\n",
              "          document.querySelector('#df-f7fad52e-f66b-4f8d-a5e3-7468ca70dcc2 button.colab-df-convert');\n",
              "        buttonEl.style.display =\n",
              "          google.colab.kernel.accessAllowed ? 'block' : 'none';\n",
              "\n",
              "        async function convertToInteractive(key) {\n",
              "          const element = document.querySelector('#df-f7fad52e-f66b-4f8d-a5e3-7468ca70dcc2');\n",
              "          const dataTable =\n",
              "            await google.colab.kernel.invokeFunction('convertToInteractive',\n",
              "                                                     [key], {});\n",
              "          if (!dataTable) return;\n",
              "\n",
              "          const docLinkHtml = 'Like what you see? Visit the ' +\n",
              "            '<a target=\"_blank\" href=https://colab.research.google.com/notebooks/data_table.ipynb>data table notebook</a>'\n",
              "            + ' to learn more about interactive tables.';\n",
              "          element.innerHTML = '';\n",
              "          dataTable['output_type'] = 'display_data';\n",
              "          await google.colab.output.renderOutput(dataTable, element);\n",
              "          const docLink = document.createElement('div');\n",
              "          docLink.innerHTML = docLinkHtml;\n",
              "          element.appendChild(docLink);\n",
              "        }\n",
              "      </script>\n",
              "    </div>\n",
              "  </div>\n",
              "  "
            ]
          },
          "metadata": {},
          "execution_count": 23
        },
        {
          "output_type": "stream",
          "name": "stdout",
          "text": [
            "time: 12.9 ms (started: 2023-06-10 11:17:14 +00:00)\n"
          ]
        }
      ]
    },
    {
      "cell_type": "markdown",
      "source": [
        "## Setup Neo4j"
      ],
      "metadata": {
        "id": "we8pkRVGjiws"
      }
    },
    {
      "cell_type": "code",
      "source": [
        "# Conecta com o banco\n",
        "from neo4j import GraphDatabase\n",
        "\n",
        "# URI examples: \"neo4j://localhost\", \"neo4j+s://xxx.databases.neo4j.io\"\n",
        "URI = \"neo4j+s://393f3617.databases.neo4j.io\"\n",
        "AUTH = (\"neo4j\", \"it-AfG0hmi3F26d4hQF8SIFeCdFGhQtjLL1RFArfmbw\")\n",
        "\n",
        "with GraphDatabase.driver(URI, auth=AUTH) as driver:\n",
        "    driver.verify_connectivity()\n",
        "\n",
        "driver = GraphDatabase.driver(URI, auth=AUTH)\n"
      ],
      "metadata": {
        "id": "l1ZamhZvjq-J",
        "colab": {
          "base_uri": "https://localhost:8080/"
        },
        "outputId": "be2898a6-e0fd-4c96-8095-8d0f3aacd9db"
      },
      "execution_count": null,
      "outputs": [
        {
          "output_type": "stream",
          "name": "stdout",
          "text": [
            "time: 2.02 s (started: 2023-06-10 11:17:14 +00:00)\n"
          ]
        }
      ]
    },
    {
      "cell_type": "code",
      "source": [
        "#limpa o banco\n",
        "with driver.session() as session:\n",
        "    session.run(\"MATCH (n) DETACH DELETE n\")"
      ],
      "metadata": {
        "id": "cn4QzKSIjk_T",
        "colab": {
          "base_uri": "https://localhost:8080/"
        },
        "outputId": "2264fad5-f8e5-494a-ed76-493c03523c6b"
      },
      "execution_count": null,
      "outputs": [
        {
          "output_type": "stream",
          "name": "stdout",
          "text": [
            "time: 2.28 s (started: 2023-06-10 11:17:16 +00:00)\n"
          ]
        }
      ]
    },
    {
      "cell_type": "markdown",
      "source": [
        "## Exercício2 – Importe os dados para o Neo4J "
      ],
      "metadata": {
        "id": "imEZBKzwboCn"
      }
    },
    {
      "cell_type": "markdown",
      "source": [
        "#### Import dos Artistas"
      ],
      "metadata": {
        "id": "OyccHQevQ9b8"
      }
    },
    {
      "cell_type": "code",
      "source": [
        "# Importanto artistas\n",
        "with driver.session() as session:\n",
        "    for _, row in artists_10.iterrows():\n",
        "        session.run(\"CREATE (:Artist {name: $name, lead_streams: $lead_streams, feats: $feats})\", \n",
        "                    name=row[\"Artist Name\"],\n",
        "                    lead_streams=row[\"Lead Streams\"],\n",
        "                    feats=row[\"Feats\"])\n"
      ],
      "metadata": {
        "id": "HVCFfKhPbuYP",
        "colab": {
          "base_uri": "https://localhost:8080/"
        },
        "outputId": "b572eb02-79a2-4633-f38e-f96289cf2df8"
      },
      "execution_count": null,
      "outputs": [
        {
          "output_type": "stream",
          "name": "stdout",
          "text": [
            "time: 17.8 s (started: 2023-06-10 11:17:18 +00:00)\n"
          ]
        }
      ]
    },
    {
      "cell_type": "markdown",
      "source": [
        "### Import das Músicas"
      ],
      "metadata": {
        "id": "b3DS_mCeRB_s"
      }
    },
    {
      "cell_type": "code",
      "source": [
        "# Importanto Tracks\n",
        "\n",
        "with driver.session() as session:\n",
        "    for _, row in tracks_10.iterrows():\n",
        "        session.run(\"CREATE (:Track {name: $name, album: $album, year: $year, danceability: $danceability, explicit: $explicit, energy: $energy, duration_ms: $duration_ms})\", \n",
        "                    name=row[\"name\"],\n",
        "                    album=row[\"album\"],\n",
        "                    year=row[\"year\"],\n",
        "                    danceability=row[\"danceability\"],\n",
        "                    explicit=row[\"explicit\"],\n",
        "                    energy=row[\"energy\"],\n",
        "                    duration_ms=row[\"duration_ms\"],\n",
        "                    )\n"
      ],
      "metadata": {
        "id": "aFHE87BZjIX3",
        "colab": {
          "base_uri": "https://localhost:8080/"
        },
        "outputId": "a0aa02c8-0575-42e7-9266-15597697fa56"
      },
      "execution_count": null,
      "outputs": [
        {
          "output_type": "stream",
          "name": "stdout",
          "text": [
            "time: 45 s (started: 2023-06-10 11:17:36 +00:00)\n"
          ]
        }
      ]
    },
    {
      "cell_type": "markdown",
      "source": [
        "### Criar relacionamentos"
      ],
      "metadata": {
        "id": "1S02bDCKRJpy"
      }
    },
    {
      "cell_type": "code",
      "source": [
        "# Fazendo o match entre artistas e musicas\n",
        "\n",
        "for _, track in tracks_10.iterrows():\n",
        "  track_name = track['name']\n",
        "  for artist_name in track['artists']:\n",
        "    with driver.session() as session:       \n",
        "        print(f\"{artist_name} - [:PERFORMS] -> {track_name}\")\n",
        "\n",
        "        res = session.run(f\"\"\"MATCH (a:Artist), (t:Track )\n",
        "        WHERE a.name= \"{artist_name}\" AND t.name = \"{track_name}\"\n",
        "        MERGE (a)-[:PERFORMS]->(t)\n",
        "        \"\"\")\n",
        "        \n",
        "    \n",
        "  \n",
        "\n"
      ],
      "metadata": {
        "id": "HEoXh50snQlu",
        "colab": {
          "base_uri": "https://localhost:8080/"
        },
        "outputId": "cfee267f-30cd-4ea8-fce4-370042872ed5"
      },
      "execution_count": null,
      "outputs": [
        {
          "output_type": "stream",
          "name": "stdout",
          "text": [
            "Future - [:PERFORMS] -> Comin Out Strong (feat. The Weeknd)\n",
            "The Weeknd - [:PERFORMS] -> Comin Out Strong (feat. The Weeknd)\n",
            "Ed Sheeran - [:PERFORMS] -> Beautiful People (feat. Khalid)\n",
            "Khalid - [:PERFORMS] -> Beautiful People (feat. Khalid)\n",
            "Ed Sheeran - [:PERFORMS] -> South of the Border (feat. Camila Cabello & Cardi B)\n",
            "Camila Cabello - [:PERFORMS] -> South of the Border (feat. Camila Cabello & Cardi B)\n",
            "Cardi B - [:PERFORMS] -> South of the Border (feat. Camila Cabello & Cardi B)\n",
            "Ed Sheeran - [:PERFORMS] -> Cross Me (feat. Chance the Rapper & PnB Rock)\n",
            "Chance the Rapper - [:PERFORMS] -> Cross Me (feat. Chance the Rapper & PnB Rock)\n",
            "PnB Rock - [:PERFORMS] -> Cross Me (feat. Chance the Rapper & PnB Rock)\n",
            "Ed Sheeran - [:PERFORMS] -> Take Me Back to London (feat. Stormzy)\n",
            "Stormzy - [:PERFORMS] -> Take Me Back to London (feat. Stormzy)\n",
            "Ed Sheeran - [:PERFORMS] -> Best Part of Me (feat. YEBBA)\n",
            "Yebba - [:PERFORMS] -> Best Part of Me (feat. YEBBA)\n",
            "Ed Sheeran - [:PERFORMS] -> I Don't Care (with Justin Bieber)\n",
            "Justin Bieber - [:PERFORMS] -> I Don't Care (with Justin Bieber)\n",
            "Ed Sheeran - [:PERFORMS] -> Antisocial (with Travis Scott)\n",
            "Travis Scott - [:PERFORMS] -> Antisocial (with Travis Scott)\n",
            "Ed Sheeran - [:PERFORMS] -> Remember The Name (feat. Eminem & 50 Cent)\n",
            "Eminem - [:PERFORMS] -> Remember The Name (feat. Eminem & 50 Cent)\n",
            "50 Cent - [:PERFORMS] -> Remember The Name (feat. Eminem & 50 Cent)\n",
            "Ed Sheeran - [:PERFORMS] -> Feels (feat. Young Thug & J Hus)\n",
            "Young Thug - [:PERFORMS] -> Feels (feat. Young Thug & J Hus)\n",
            "J Hus - [:PERFORMS] -> Feels (feat. Young Thug & J Hus)\n",
            "Ed Sheeran - [:PERFORMS] -> Put It All on Me (feat. Ella Mai)\n",
            "Ella Mai - [:PERFORMS] -> Put It All on Me (feat. Ella Mai)\n",
            "Ed Sheeran - [:PERFORMS] -> Nothing On You (feat. Paulo Londra & Dave)\n",
            "Paulo Londra - [:PERFORMS] -> Nothing On You (feat. Paulo Londra & Dave)\n",
            "Dave - [:PERFORMS] -> Nothing On You (feat. Paulo Londra & Dave)\n",
            "Ed Sheeran - [:PERFORMS] -> I Don't Want Your Money (feat. H.E.R.)\n",
            "H.E.R. - [:PERFORMS] -> I Don't Want Your Money (feat. H.E.R.)\n",
            "Ed Sheeran - [:PERFORMS] -> 1000 Nights (feat. Meek Mill & A Boogie Wit da Hoodie)\n",
            "Meek Mill - [:PERFORMS] -> 1000 Nights (feat. Meek Mill & A Boogie Wit da Hoodie)\n",
            "A Boogie Wit da Hoodie - [:PERFORMS] -> 1000 Nights (feat. Meek Mill & A Boogie Wit da Hoodie)\n",
            "Ed Sheeran - [:PERFORMS] -> Way To Break My Heart (feat. Skrillex)\n",
            "Skrillex - [:PERFORMS] -> Way To Break My Heart (feat. Skrillex)\n",
            "Ed Sheeran - [:PERFORMS] -> BLOW (with Chris Stapleton & Bruno Mars)\n",
            "Chris Stapleton - [:PERFORMS] -> BLOW (with Chris Stapleton & Bruno Mars)\n",
            "Bruno Mars - [:PERFORMS] -> BLOW (with Chris Stapleton & Bruno Mars)\n",
            "Ed Sheeran - [:PERFORMS] -> Beautiful People (feat. Khalid) - NOTD Remix\n",
            "Khalid - [:PERFORMS] -> Beautiful People (feat. Khalid) - NOTD Remix\n",
            "NOTD - [:PERFORMS] -> Beautiful People (feat. Khalid) - NOTD Remix\n",
            "Gucci Mane - [:PERFORMS] -> Both (feat. Drake)\n",
            "Drake - [:PERFORMS] -> Both (feat. Drake)\n",
            "Gucci Mane - [:PERFORMS] -> Curve (feat. The Weeknd)\n",
            "The Weeknd - [:PERFORMS] -> Curve (feat. The Weeknd)\n",
            "P!nk - [:PERFORMS] -> Here Comes the Weekend (feat. Eminem)\n",
            "Eminem - [:PERFORMS] -> Here Comes the Weekend (feat. Eminem)\n",
            "DJ Kay Slay - [:PERFORMS] -> I'm Gone (feat. Eminem & Obie Trice)\n",
            "Eminem - [:PERFORMS] -> I'm Gone (feat. Eminem & Obie Trice)\n",
            "Obie Trice - [:PERFORMS] -> I'm Gone (feat. Eminem & Obie Trice)\n",
            "Xzibit - [:PERFORMS] -> My Name (feat. Eminem & Nate Dogg)\n",
            "Eminem - [:PERFORMS] -> My Name (feat. Eminem & Nate Dogg)\n",
            "Nate Dogg - [:PERFORMS] -> My Name (feat. Eminem & Nate Dogg)\n",
            "DJ Khaled - [:PERFORMS] -> No Brainer (feat. Justin Bieber, Chance the Rapper & Quavo)\n",
            "Justin Bieber - [:PERFORMS] -> No Brainer (feat. Justin Bieber, Chance the Rapper & Quavo)\n",
            "Chance the Rapper - [:PERFORMS] -> No Brainer (feat. Justin Bieber, Chance the Rapper & Quavo)\n",
            "Quavo - [:PERFORMS] -> No Brainer (feat. Justin Bieber, Chance the Rapper & Quavo)\n",
            "Ed Sheeran - [:PERFORMS] -> Beautiful People (feat. Khalid)\n",
            "Khalid - [:PERFORMS] -> Beautiful People (feat. Khalid)\n",
            "Ed Sheeran - [:PERFORMS] -> South of the Border (feat. Camila Cabello & Cardi B)\n",
            "Camila Cabello - [:PERFORMS] -> South of the Border (feat. Camila Cabello & Cardi B)\n",
            "Cardi B - [:PERFORMS] -> South of the Border (feat. Camila Cabello & Cardi B)\n",
            "Ed Sheeran - [:PERFORMS] -> Cross Me (feat. Chance the Rapper & PnB Rock)\n",
            "Chance the Rapper - [:PERFORMS] -> Cross Me (feat. Chance the Rapper & PnB Rock)\n",
            "PnB Rock - [:PERFORMS] -> Cross Me (feat. Chance the Rapper & PnB Rock)\n",
            "Ed Sheeran - [:PERFORMS] -> Best Part of Me (feat. YEBBA)\n",
            "Yebba - [:PERFORMS] -> Best Part of Me (feat. YEBBA)\n",
            "Ed Sheeran - [:PERFORMS] -> Remember The Name (feat. Eminem & 50 Cent)\n",
            "Eminem - [:PERFORMS] -> Remember The Name (feat. Eminem & 50 Cent)\n",
            "50 Cent - [:PERFORMS] -> Remember The Name (feat. Eminem & 50 Cent)\n",
            "Ed Sheeran - [:PERFORMS] -> Feels (feat. Young Thug & J Hus)\n",
            "Young Thug - [:PERFORMS] -> Feels (feat. Young Thug & J Hus)\n",
            "J Hus - [:PERFORMS] -> Feels (feat. Young Thug & J Hus)\n",
            "Ed Sheeran - [:PERFORMS] -> Put It All on Me (feat. Ella Mai)\n",
            "Ella Mai - [:PERFORMS] -> Put It All on Me (feat. Ella Mai)\n",
            "Ed Sheeran - [:PERFORMS] -> Nothing On You (feat. Paulo Londra & Dave)\n",
            "Paulo Londra - [:PERFORMS] -> Nothing On You (feat. Paulo Londra & Dave)\n",
            "Dave - [:PERFORMS] -> Nothing On You (feat. Paulo Londra & Dave)\n",
            "Ed Sheeran - [:PERFORMS] -> I Don't Want Your Money (feat. H.E.R.)\n",
            "H.E.R. - [:PERFORMS] -> I Don't Want Your Money (feat. H.E.R.)\n",
            "Ed Sheeran - [:PERFORMS] -> 1000 Nights (feat. Meek Mill & A Boogie Wit da Hoodie)\n",
            "Meek Mill - [:PERFORMS] -> 1000 Nights (feat. Meek Mill & A Boogie Wit da Hoodie)\n",
            "A Boogie Wit da Hoodie - [:PERFORMS] -> 1000 Nights (feat. Meek Mill & A Boogie Wit da Hoodie)\n",
            "Bad Bunny - [:PERFORMS] -> Solo de Mi\n",
            "Ariana Grande - [:PERFORMS] -> Breathin\n",
            "Ed Sheeran - [:PERFORMS] -> All of the Stars\n",
            "DJ Khaled - [:PERFORMS] -> Fed Up (feat. Lil Wayne, Usher, Drake, Young Jeezy, Rick Ross)\n",
            "Rick Ross - [:PERFORMS] -> Fed Up (feat. Lil Wayne, Usher, Drake, Young Jeezy, Rick Ross)\n",
            "Jeezy - [:PERFORMS] -> Fed Up (feat. Lil Wayne, Usher, Drake, Young Jeezy, Rick Ross)\n",
            "Usher - [:PERFORMS] -> Fed Up (feat. Lil Wayne, Usher, Drake, Young Jeezy, Rick Ross)\n",
            "Drake - [:PERFORMS] -> Fed Up (feat. Lil Wayne, Usher, Drake, Young Jeezy, Rick Ross)\n",
            "DJ Drama - [:PERFORMS] -> We In This 1.5 (feat. Drake and Future)\n",
            "Future - [:PERFORMS] -> We In This 1.5 (feat. Drake and Future)\n",
            "Drake - [:PERFORMS] -> We In This 1.5 (feat. Drake and Future)\n",
            "Future - [:PERFORMS] -> Tony Montana (feat. Drake)\n",
            "Drake - [:PERFORMS] -> Tony Montana (feat. Drake)\n",
            "Ed Sheeran - [:PERFORMS] -> I See Fire\n",
            "The High & Mighty - [:PERFORMS] -> The Last Hit\n",
            "Eminem - [:PERFORMS] -> The Last Hit\n",
            "Trey Songz - [:PERFORMS] -> Foreign Remix (feat. Justin Bieber)\n",
            "Justin Bieber - [:PERFORMS] -> Foreign Remix (feat. Justin Bieber)\n",
            "SZA - [:PERFORMS] -> Power is Power (feat. The Weeknd & Travis Scott)\n",
            "The Weeknd - [:PERFORMS] -> Power is Power (feat. The Weeknd & Travis Scott)\n",
            "Travis Scott - [:PERFORMS] -> Power is Power (feat. The Weeknd & Travis Scott)\n",
            "Game of Thrones - [:PERFORMS] -> Power is Power (feat. The Weeknd & Travis Scott)\n",
            "Gucci Mane - [:PERFORMS] -> Love Thru the Computer (feat. Justin Bieber)\n",
            "Justin Bieber - [:PERFORMS] -> Love Thru the Computer (feat. Justin Bieber)\n",
            "PSY - [:PERFORMS] -> SING - PSYmix\n",
            "Ed Sheeran - [:PERFORMS] -> SING - PSYmix\n",
            "Ed Sheeran - [:PERFORMS] -> Cross Me (feat. Chance the Rapper & PnB Rock)\n",
            "Chance the Rapper - [:PERFORMS] -> Cross Me (feat. Chance the Rapper & PnB Rock)\n",
            "PnB Rock - [:PERFORMS] -> Cross Me (feat. Chance the Rapper & PnB Rock)\n",
            "DJ Khaled - [:PERFORMS] -> No Brainer (feat. Justin Bieber, Chance the Rapper & Quavo)\n",
            "Justin Bieber - [:PERFORMS] -> No Brainer (feat. Justin Bieber, Chance the Rapper & Quavo)\n",
            "Chance the Rapper - [:PERFORMS] -> No Brainer (feat. Justin Bieber, Chance the Rapper & Quavo)\n",
            "Quavo - [:PERFORMS] -> No Brainer (feat. Justin Bieber, Chance the Rapper & Quavo)\n",
            "DJ Khaled - [:PERFORMS] -> For Free (feat. Drake)\n",
            "Drake - [:PERFORMS] -> For Free (feat. Drake)\n",
            "DJ Khaled - [:PERFORMS] -> To the Max (feat. Drake)\n",
            "Drake - [:PERFORMS] -> To the Max (feat. Drake)\n",
            "DJ Khaled - [:PERFORMS] -> I'm the One (feat. Justin Bieber, Quavo, Chance the Rapper & Lil Wayne)\n",
            "Justin Bieber - [:PERFORMS] -> I'm the One (feat. Justin Bieber, Quavo, Chance the Rapper & Lil Wayne)\n",
            "Quavo - [:PERFORMS] -> I'm the One (feat. Justin Bieber, Quavo, Chance the Rapper & Lil Wayne)\n",
            "Chance the Rapper - [:PERFORMS] -> I'm the One (feat. Justin Bieber, Quavo, Chance the Rapper & Lil Wayne)\n",
            "Lil Wayne - [:PERFORMS] -> I'm the One (feat. Justin Bieber, Quavo, Chance the Rapper & Lil Wayne)\n",
            "Ed Sheeran - [:PERFORMS] -> Castle on the Hill\n",
            "Ed Sheeran - [:PERFORMS] -> Shape of You\n",
            "Ricky Martin - [:PERFORMS] -> Cántalo\n",
            "Residente - [:PERFORMS] -> Cántalo\n",
            "Bad Bunny - [:PERFORMS] -> Cántalo\n",
            "Ed Sheeran - [:PERFORMS] -> The A Team\n",
            "Ed Sheeran - [:PERFORMS] -> Drunk\n",
            "Ed Sheeran - [:PERFORMS] -> U.N.I.\n",
            "Ed Sheeran - [:PERFORMS] -> Grade 8\n",
            "Ed Sheeran - [:PERFORMS] -> Wake Me Up\n",
            "Ed Sheeran - [:PERFORMS] -> Small Bump\n",
            "Ed Sheeran - [:PERFORMS] -> This\n",
            "Ed Sheeran - [:PERFORMS] -> The City\n",
            "Ed Sheeran - [:PERFORMS] -> Lego House\n",
            "Ed Sheeran - [:PERFORMS] -> You Need Me, I Don't Need You\n",
            "Ed Sheeran - [:PERFORMS] -> Kiss Me\n",
            "Ed Sheeran - [:PERFORMS] -> Give Me Love\n",
            "Ed Sheeran - [:PERFORMS] -> Autumn Leaves - Deluxe Edition\n",
            "Ed Sheeran - [:PERFORMS] -> Little Bird - Deluxe Edition\n",
            "Ed Sheeran - [:PERFORMS] -> Gold Rush - Deluxe Edition\n",
            "Ed Sheeran - [:PERFORMS] -> Sunburn - Deluxe Edition\n",
            "DJ Khaled - [:PERFORMS] -> Fed Up (feat. Lil Wayne, Usher, Drake, Young Jeezy, Rick Ross)\n",
            "Drake - [:PERFORMS] -> Fed Up (feat. Lil Wayne, Usher, Drake, Young Jeezy, Rick Ross)\n",
            "Rick Ross - [:PERFORMS] -> Fed Up (feat. Lil Wayne, Usher, Drake, Young Jeezy, Rick Ross)\n",
            "Usher - [:PERFORMS] -> Fed Up (feat. Lil Wayne, Usher, Drake, Young Jeezy, Rick Ross)\n",
            "Jeezy - [:PERFORMS] -> Fed Up (feat. Lil Wayne, Usher, Drake, Young Jeezy, Rick Ross)\n",
            "DJ Khaled - [:PERFORMS] -> For Free (feat. Drake)\n",
            "Drake - [:PERFORMS] -> For Free (feat. Drake)\n",
            "Ed Sheeran - [:PERFORMS] -> Shape of You - Galantis Remix\n",
            "Galantis - [:PERFORMS] -> Shape of You - Galantis Remix\n",
            "Ed Sheeran - [:PERFORMS] -> Castle on the Hill - Acoustic\n",
            "Ed Sheeran - [:PERFORMS] -> How Would You Feel (Paean)\n",
            "DJ Khaled - [:PERFORMS] -> To the Max (feat. Drake)\n",
            "Drake - [:PERFORMS] -> To the Max (feat. Drake)\n",
            "DJ Khaled - [:PERFORMS] -> I'm the One (feat. Justin Bieber, Quavo, Chance the Rapper & Lil Wayne)\n",
            "Justin Bieber - [:PERFORMS] -> I'm the One (feat. Justin Bieber, Quavo, Chance the Rapper & Lil Wayne)\n",
            "Quavo - [:PERFORMS] -> I'm the One (feat. Justin Bieber, Quavo, Chance the Rapper & Lil Wayne)\n",
            "Chance the Rapper - [:PERFORMS] -> I'm the One (feat. Justin Bieber, Quavo, Chance the Rapper & Lil Wayne)\n",
            "Lil Wayne - [:PERFORMS] -> I'm the One (feat. Justin Bieber, Quavo, Chance the Rapper & Lil Wayne)\n",
            "Jack Ü - [:PERFORMS] -> Where Are Ü Now (with Justin Bieber)\n",
            "Skrillex - [:PERFORMS] -> Where Are Ü Now (with Justin Bieber)\n",
            "Diplo - [:PERFORMS] -> Where Are Ü Now (with Justin Bieber)\n",
            "Justin Bieber - [:PERFORMS] -> Where Are Ü Now (with Justin Bieber)\n",
            "KXNG Crooked - [:PERFORMS] -> Welcome To Planet X (We're Coming For You) (with Eminem & The Observer)\n",
            "Eminem - [:PERFORMS] -> Welcome To Planet X (We're Coming For You) (with Eminem & The Observer)\n",
            "The Observer - [:PERFORMS] -> Welcome To Planet X (We're Coming For You) (with Eminem & The Observer)\n",
            "Future - [:PERFORMS] -> Where Ya At\n",
            "Drake - [:PERFORMS] -> Where Ya At\n",
            "Farruko - [:PERFORMS] -> Krippy Kush (feat. 21 Savage & Rvssian) - Remix\n",
            "Nicki Minaj - [:PERFORMS] -> Krippy Kush (feat. 21 Savage & Rvssian) - Remix\n",
            "Bad Bunny - [:PERFORMS] -> Krippy Kush (feat. 21 Savage & Rvssian) - Remix\n",
            "21 Savage - [:PERFORMS] -> Krippy Kush (feat. 21 Savage & Rvssian) - Remix\n",
            "Rvssian - [:PERFORMS] -> Krippy Kush (feat. 21 Savage & Rvssian) - Remix\n",
            "Future - [:PERFORMS] -> Comin Out Strong (feat. The Weeknd)\n",
            "The Weeknd - [:PERFORMS] -> Comin Out Strong (feat. The Weeknd)\n",
            "The Notorious B.I.G. - [:PERFORMS] -> Dead Wrong (feat. Eminem) - 2007 Remaster\n",
            "Eminem - [:PERFORMS] -> Dead Wrong (feat. Eminem) - 2007 Remaster\n",
            "The Notorious B.I.G. - [:PERFORMS] -> Dead Wrong (feat. Eminem) - 2007 Remaster\n",
            "Eminem - [:PERFORMS] -> Dead Wrong (feat. Eminem) - 2007 Remaster\n",
            "Ed Sheeran - [:PERFORMS] -> Perfect Duet (Ed Sheeran & Beyoncé)\n",
            "Beyoncé - [:PERFORMS] -> Perfect Duet (Ed Sheeran & Beyoncé)\n",
            "Jack Ü - [:PERFORMS] -> Where Are Ü Now (with Justin Bieber) - Kaskade Remix\n",
            "Skrillex - [:PERFORMS] -> Where Are Ü Now (with Justin Bieber) - Kaskade Remix\n",
            "Diplo - [:PERFORMS] -> Where Are Ü Now (with Justin Bieber) - Kaskade Remix\n",
            "Justin Bieber - [:PERFORMS] -> Where Are Ü Now (with Justin Bieber) - Kaskade Remix\n",
            "Kaskade - [:PERFORMS] -> Where Are Ü Now (with Justin Bieber) - Kaskade Remix\n",
            "Jack Ü - [:PERFORMS] -> Where Are Ü Now (with Justin Bieber) - Rustie Remix\n",
            "Skrillex - [:PERFORMS] -> Where Are Ü Now (with Justin Bieber) - Rustie Remix\n",
            "Diplo - [:PERFORMS] -> Where Are Ü Now (with Justin Bieber) - Rustie Remix\n",
            "Justin Bieber - [:PERFORMS] -> Where Are Ü Now (with Justin Bieber) - Rustie Remix\n",
            "Rustie - [:PERFORMS] -> Where Are Ü Now (with Justin Bieber) - Rustie Remix\n",
            "Jack Ü - [:PERFORMS] -> Where Are Ü Now (with Justin Bieber) - Marshmello Remix\n",
            "Skrillex - [:PERFORMS] -> Where Are Ü Now (with Justin Bieber) - Marshmello Remix\n",
            "Diplo - [:PERFORMS] -> Where Are Ü Now (with Justin Bieber) - Marshmello Remix\n",
            "Justin Bieber - [:PERFORMS] -> Where Are Ü Now (with Justin Bieber) - Marshmello Remix\n",
            "Marshmello - [:PERFORMS] -> Where Are Ü Now (with Justin Bieber) - Marshmello Remix\n",
            "Jack Ü - [:PERFORMS] -> Where Are Ü Now (with Justin Bieber) - Ember Island Remix\n",
            "Skrillex - [:PERFORMS] -> Where Are Ü Now (with Justin Bieber) - Ember Island Remix\n",
            "Diplo - [:PERFORMS] -> Where Are Ü Now (with Justin Bieber) - Ember Island Remix\n",
            "Justin Bieber - [:PERFORMS] -> Where Are Ü Now (with Justin Bieber) - Ember Island Remix\n",
            "Ember Island - [:PERFORMS] -> Where Are Ü Now (with Justin Bieber) - Ember Island Remix\n",
            "Bad Bunny - [:PERFORMS] -> MIA (feat. Drake)\n",
            "Drake - [:PERFORMS] -> MIA (feat. Drake)\n",
            "Nio Garcia - [:PERFORMS] -> Te Boté - Remix\n",
            "Casper Magico - [:PERFORMS] -> Te Boté - Remix\n",
            "Bad Bunny - [:PERFORMS] -> Te Boté - Remix\n",
            "Darell - [:PERFORMS] -> Te Boté - Remix\n",
            "Ozuna - [:PERFORMS] -> Te Boté - Remix\n",
            "Nicky Jam - [:PERFORMS] -> Te Boté - Remix\n",
            "Cardi B - [:PERFORMS] -> I Like It\n",
            "Bad Bunny - [:PERFORMS] -> I Like It\n",
            "J Balvin - [:PERFORMS] -> I Like It\n",
            "Anuel AA - [:PERFORMS] -> 47 - Remix\n",
            "Sinfonico - [:PERFORMS] -> 47 - Remix\n",
            "Farruko - [:PERFORMS] -> 47 - Remix\n",
            "Ñengo Flow - [:PERFORMS] -> 47 - Remix\n",
            "Casper Magico - [:PERFORMS] -> 47 - Remix\n",
            "Darell - [:PERFORMS] -> 47 - Remix\n",
            "Bad Bunny - [:PERFORMS] -> 47 - Remix\n",
            "Lil Geniuz - [:PERFORMS] -> 47 - Remix\n",
            "Spiff TV - [:PERFORMS] -> Thinkin (feat. Anuel AA, Bad Bunny & Future)\n",
            "Anuel AA - [:PERFORMS] -> Thinkin (feat. Anuel AA, Bad Bunny & Future)\n",
            "Bad Bunny - [:PERFORMS] -> Thinkin (feat. Anuel AA, Bad Bunny & Future)\n",
            "Future - [:PERFORMS] -> Thinkin (feat. Anuel AA, Bad Bunny & Future)\n",
            "The Game - [:PERFORMS] -> 100 (feat. Drake)\n",
            "Drake - [:PERFORMS] -> 100 (feat. Drake)\n",
            "J Alvarez - [:PERFORMS] -> Haters - Remix\n",
            "Bad Bunny - [:PERFORMS] -> Haters - Remix\n",
            "Almighty - [:PERFORMS] -> Haters - Remix\n",
            "Ed Sheeran - [:PERFORMS] -> I Don't Care - Acoustic\n",
            "DJ Khaled - [:PERFORMS] -> No Brainer\n",
            "Justin Bieber - [:PERFORMS] -> No Brainer\n",
            "Quavo - [:PERFORMS] -> No Brainer\n",
            "Chance the Rapper - [:PERFORMS] -> No Brainer\n",
            "Bryant Myers - [:PERFORMS] -> Triste\n",
            "Bad Bunny - [:PERFORMS] -> Triste\n",
            "Lunay - [:PERFORMS] -> Soltera - Remix\n",
            "Daddy Yankee - [:PERFORMS] -> Soltera - Remix\n",
            "Bad Bunny - [:PERFORMS] -> Soltera - Remix\n",
            "Nicky Jam - [:PERFORMS] -> Satisfacción\n",
            "Bad Bunny - [:PERFORMS] -> Satisfacción\n",
            "Arcangel - [:PERFORMS] -> Satisfacción\n",
            "Farruko - [:PERFORMS] -> La Cartera\n",
            "Bad Bunny - [:PERFORMS] -> La Cartera\n",
            "Ed Sheeran - [:PERFORMS] -> BLOW (with Chris Stapleton & Bruno Mars)\n",
            "Chris Stapleton - [:PERFORMS] -> BLOW (with Chris Stapleton & Bruno Mars)\n",
            "Bruno Mars - [:PERFORMS] -> BLOW (with Chris Stapleton & Bruno Mars)\n",
            "Víctor Manuelle - [:PERFORMS] -> Mala y Peligrosa (feat. Bad Bunny)\n",
            "Bad Bunny - [:PERFORMS] -> Mala y Peligrosa (feat. Bad Bunny)\n",
            "Xzibit - [:PERFORMS] -> Don't Aproach Me (feat. Eminem)\n",
            "Eminem - [:PERFORMS] -> Don't Aproach Me (feat. Eminem)\n",
            "Gucci Mane - [:PERFORMS] -> Love Thru the Computer (feat. Justin Bieber)\n",
            "Justin Bieber - [:PERFORMS] -> Love Thru the Computer (feat. Justin Bieber)\n",
            "French Montana - [:PERFORMS] -> No Stylist (feat. Drake)\n",
            "Drake - [:PERFORMS] -> No Stylist (feat. Drake)\n",
            "Beyoncé - [:PERFORMS] -> 6 Inch (feat. The Weeknd)\n",
            "The Weeknd - [:PERFORMS] -> 6 Inch (feat. The Weeknd)\n",
            "Beyoncé - [:PERFORMS] -> 6 Inch (feat. The Weeknd)\n",
            "The Weeknd - [:PERFORMS] -> 6 Inch (feat. The Weeknd)\n",
            "Ed Sheeran - [:PERFORMS] -> Cross Me (feat. Chance the Rapper & PnB Rock) - M-22 Remix\n",
            "Chance the Rapper - [:PERFORMS] -> Cross Me (feat. Chance the Rapper & PnB Rock) - M-22 Remix\n",
            "PnB Rock - [:PERFORMS] -> Cross Me (feat. Chance the Rapper & PnB Rock) - M-22 Remix\n",
            "M-22 - [:PERFORMS] -> Cross Me (feat. Chance the Rapper & PnB Rock) - M-22 Remix\n",
            "Ed Sheeran - [:PERFORMS] -> I Don't Care (with Justin Bieber) - Chronixx & Koffee Remix\n",
            "Justin Bieber - [:PERFORMS] -> I Don't Care (with Justin Bieber) - Chronixx & Koffee Remix\n",
            "Chronixx - [:PERFORMS] -> I Don't Care (with Justin Bieber) - Chronixx & Koffee Remix\n",
            "Koffee - [:PERFORMS] -> I Don't Care (with Justin Bieber) - Chronixx & Koffee Remix\n",
            "David Guetta - [:PERFORMS] -> 2U (feat. Justin Bieber)\n",
            "Justin Bieber - [:PERFORMS] -> 2U (feat. Justin Bieber)\n",
            "Maddie Baillio - [:PERFORMS] -> Mama, I'm a Big Girl Now\n",
            "Ariana Grande - [:PERFORMS] -> Mama, I'm a Big Girl Now\n",
            "Dove Cameron - [:PERFORMS] -> Mama, I'm a Big Girl Now\n",
            "Harvey Fierstein - [:PERFORMS] -> Mama, I'm a Big Girl Now\n",
            "Andrea Martin - [:PERFORMS] -> Mama, I'm a Big Girl Now\n",
            "Kristin Chenoweth - [:PERFORMS] -> Mama, I'm a Big Girl Now\n",
            "Joshua Alexander - [:PERFORMS] -> Mama, I'm a Big Girl Now\n",
            "Will Bell - [:PERFORMS] -> Mama, I'm a Big Girl Now\n",
            "Helene - [:PERFORMS] -> Mama, I'm a Big Girl Now\n",
            "Riley Costello - [:PERFORMS] -> Mama, I'm a Big Girl Now\n",
            "Kelli Ann Erdmann - [:PERFORMS] -> Mama, I'm a Big Girl Now\n",
            "Sam Faulkner - [:PERFORMS] -> Mama, I'm a Big Girl Now\n",
            "Marissa Heart - [:PERFORMS] -> Mama, I'm a Big Girl Now\n",
            "Joanna Jones - [:PERFORMS] -> Mama, I'm a Big Girl Now\n",
            "Jacque Lewarne - [:PERFORMS] -> Mama, I'm a Big Girl Now\n",
            "Tommy Martinez - [:PERFORMS] -> Mama, I'm a Big Girl Now\n",
            "Tiana Okoye - [:PERFORMS] -> Mama, I'm a Big Girl Now\n",
            "Amos Oliver III - [:PERFORMS] -> Mama, I'm a Big Girl Now\n",
            "Re'Sean Pates - [:PERFORMS] -> Mama, I'm a Big Girl Now\n",
            "Katherine Roarty - [:PERFORMS] -> Mama, I'm a Big Girl Now\n",
            "Rhon Saunders - [:PERFORMS] -> Mama, I'm a Big Girl Now\n",
            "Ricky Schroeder - [:PERFORMS] -> Mama, I'm a Big Girl Now\n",
            "Heather Tepe - [:PERFORMS] -> Mama, I'm a Big Girl Now\n",
            "Mason Trueblood - [:PERFORMS] -> Mama, I'm a Big Girl Now\n",
            "Karl Skyler Urban - [:PERFORMS] -> Mama, I'm a Big Girl Now\n",
            "Paul Vogt - [:PERFORMS] -> Mama, I'm a Big Girl Now\n",
            "Garrett Clayton - [:PERFORMS] -> Without Love\n",
            "Maddie Baillio - [:PERFORMS] -> Without Love\n",
            "Ariana Grande - [:PERFORMS] -> Without Love\n",
            "Ephraim Sykes - [:PERFORMS] -> Without Love\n",
            "Joshua Alexander - [:PERFORMS] -> Without Love\n",
            "Will Bell - [:PERFORMS] -> Without Love\n",
            "Helene - [:PERFORMS] -> Without Love\n",
            "Riley Costello - [:PERFORMS] -> Without Love\n",
            "Kelli Ann Erdmann - [:PERFORMS] -> Without Love\n",
            "Sam Faulkner - [:PERFORMS] -> Without Love\n",
            "Marissa Heart - [:PERFORMS] -> Without Love\n",
            "Joanna Jones - [:PERFORMS] -> Without Love\n",
            "Jacque Lewarne - [:PERFORMS] -> Without Love\n",
            "Tommy Martinez - [:PERFORMS] -> Without Love\n",
            "Tiana Okoye - [:PERFORMS] -> Without Love\n",
            "Amos Oliver III - [:PERFORMS] -> Without Love\n",
            "Re'Sean Pates - [:PERFORMS] -> Without Love\n",
            "Katherine Roarty - [:PERFORMS] -> Without Love\n",
            "Rhon Saunders - [:PERFORMS] -> Without Love\n",
            "Ricky Schroeder - [:PERFORMS] -> Without Love\n",
            "Heather Tepe - [:PERFORMS] -> Without Love\n",
            "Mason Trueblood - [:PERFORMS] -> Without Love\n",
            "Karl Skyler Urban - [:PERFORMS] -> Without Love\n",
            "Paul Vogt - [:PERFORMS] -> Without Love\n",
            "Maddie Baillio - [:PERFORMS] -> You Can't Stop the Beat\n",
            "Garrett Clayton - [:PERFORMS] -> You Can't Stop the Beat\n",
            "Ariana Grande - [:PERFORMS] -> You Can't Stop the Beat\n",
            "Ephraim Sykes - [:PERFORMS] -> You Can't Stop the Beat\n",
            "Harvey Fierstein - [:PERFORMS] -> You Can't Stop the Beat\n",
            "Martin Short - [:PERFORMS] -> You Can't Stop the Beat\n",
            "Jennifer Hudson - [:PERFORMS] -> You Can't Stop the Beat\n",
            "Dove Cameron - [:PERFORMS] -> You Can't Stop the Beat\n",
            "Kristin Chenoweth - [:PERFORMS] -> You Can't Stop the Beat\n",
            "Joshua Alexander - [:PERFORMS] -> You Can't Stop the Beat\n",
            "Will Bell - [:PERFORMS] -> You Can't Stop the Beat\n",
            "Helene - [:PERFORMS] -> You Can't Stop the Beat\n",
            "Riley Costello - [:PERFORMS] -> You Can't Stop the Beat\n",
            "Kelli Ann Erdmann - [:PERFORMS] -> You Can't Stop the Beat\n",
            "Sam Faulkner - [:PERFORMS] -> You Can't Stop the Beat\n",
            "Marissa Heart - [:PERFORMS] -> You Can't Stop the Beat\n",
            "Joanna Jones - [:PERFORMS] -> You Can't Stop the Beat\n",
            "Jacque Lewarne - [:PERFORMS] -> You Can't Stop the Beat\n",
            "Tommy Martinez - [:PERFORMS] -> You Can't Stop the Beat\n",
            "Tiana Okoye - [:PERFORMS] -> You Can't Stop the Beat\n",
            "Amos Oliver III - [:PERFORMS] -> You Can't Stop the Beat\n",
            "Re'Sean Pates - [:PERFORMS] -> You Can't Stop the Beat\n",
            "Katherine Roarty - [:PERFORMS] -> You Can't Stop the Beat\n",
            "Rhon Saunders - [:PERFORMS] -> You Can't Stop the Beat\n",
            "Ricky Schroeder - [:PERFORMS] -> You Can't Stop the Beat\n",
            "Heather Tepe - [:PERFORMS] -> You Can't Stop the Beat\n",
            "Mason Trueblood - [:PERFORMS] -> You Can't Stop the Beat\n",
            "Karl Skyler Urban - [:PERFORMS] -> You Can't Stop the Beat\n",
            "Paul Vogt - [:PERFORMS] -> You Can't Stop the Beat\n",
            "Ariana Grande - [:PERFORMS] -> Come So Far (Got So Far to Go)\n",
            "Jennifer Hudson - [:PERFORMS] -> Come So Far (Got So Far to Go)\n",
            "Joshua Alexander - [:PERFORMS] -> Come So Far (Got So Far to Go)\n",
            "Will Bell - [:PERFORMS] -> Come So Far (Got So Far to Go)\n",
            "Helene - [:PERFORMS] -> Come So Far (Got So Far to Go)\n",
            "Riley Costello - [:PERFORMS] -> Come So Far (Got So Far to Go)\n",
            "Kelli Ann Erdmann - [:PERFORMS] -> Come So Far (Got So Far to Go)\n",
            "Sam Faulkner - [:PERFORMS] -> Come So Far (Got So Far to Go)\n",
            "Marissa Heart - [:PERFORMS] -> Come So Far (Got So Far to Go)\n",
            "Joanna Jones - [:PERFORMS] -> Come So Far (Got So Far to Go)\n",
            "Jacque Lewarne - [:PERFORMS] -> Come So Far (Got So Far to Go)\n",
            "Tommy Martinez - [:PERFORMS] -> Come So Far (Got So Far to Go)\n",
            "Tiana Okoye - [:PERFORMS] -> Come So Far (Got So Far to Go)\n",
            "Amos Oliver III - [:PERFORMS] -> Come So Far (Got So Far to Go)\n",
            "Re'Sean Pates - [:PERFORMS] -> Come So Far (Got So Far to Go)\n",
            "Katherine Roarty - [:PERFORMS] -> Come So Far (Got So Far to Go)\n",
            "Rhon Saunders - [:PERFORMS] -> Come So Far (Got So Far to Go)\n",
            "Ricky Schroeder - [:PERFORMS] -> Come So Far (Got So Far to Go)\n",
            "Heather Tepe - [:PERFORMS] -> Come So Far (Got So Far to Go)\n",
            "Mason Trueblood - [:PERFORMS] -> Come So Far (Got So Far to Go)\n",
            "Karl Skyler Urban - [:PERFORMS] -> Come So Far (Got So Far to Go)\n",
            "Paul Vogt - [:PERFORMS] -> Come So Far (Got So Far to Go)\n",
            "Ed Sheeran - [:PERFORMS] -> Beautiful People (feat. Khalid)\n",
            "Khalid - [:PERFORMS] -> Beautiful People (feat. Khalid)\n",
            "Ed Sheeran - [:PERFORMS] -> I Don't Care (with Justin Bieber) - Loud Luxury Remix\n",
            "Justin Bieber - [:PERFORMS] -> I Don't Care (with Justin Bieber) - Loud Luxury Remix\n",
            "Loud Luxury - [:PERFORMS] -> I Don't Care (with Justin Bieber) - Loud Luxury Remix\n",
            "Ed Sheeran - [:PERFORMS] -> I Don't Care (with Justin Bieber) - Jonas Blue Remix\n",
            "Justin Bieber - [:PERFORMS] -> I Don't Care (with Justin Bieber) - Jonas Blue Remix\n",
            "Jonas Blue - [:PERFORMS] -> I Don't Care (with Justin Bieber) - Jonas Blue Remix\n",
            "Drake - [:PERFORMS] -> The Future of the Future (feat. Cassettes Won't Listen)\n",
            "Cassettes Won't Listen - [:PERFORMS] -> The Future of the Future (feat. Cassettes Won't Listen)\n",
            "Gucci Mane - [:PERFORMS] -> Love Thru the Computer (feat. Justin Bieber)\n",
            "Justin Bieber - [:PERFORMS] -> Love Thru the Computer (feat. Justin Bieber)\n",
            "Wisin & Yandel - [:PERFORMS] -> Dame Algo\n",
            "Bad Bunny - [:PERFORMS] -> Dame Algo\n",
            "Major Lazer - [:PERFORMS] -> Cold Water\n",
            "Justin Bieber - [:PERFORMS] -> Cold Water\n",
            "MØ - [:PERFORMS] -> Cold Water\n",
            "Major Lazer - [:PERFORMS] -> All My Love - Remix\n",
            "Ariana Grande - [:PERFORMS] -> All My Love - Remix\n",
            "Machel Montano - [:PERFORMS] -> All My Love - Remix\n",
            "Meek Mill - [:PERFORMS] -> Going Bad (feat. Drake)\n",
            "Drake - [:PERFORMS] -> Going Bad (feat. Drake)\n",
            "Meek Mill - [:PERFORMS] -> Going Bad (feat. Drake)\n",
            "Drake - [:PERFORMS] -> Going Bad (feat. Drake)\n",
            "Ariana Grande - [:PERFORMS] -> break up with your girlfriend, i'm bored\n",
            "Bad Bunny - [:PERFORMS] -> Callaita\n",
            "Tainy - [:PERFORMS] -> Callaita\n",
            "Bad Bunny - [:PERFORMS] -> NI BIEN NI MAL\n",
            "Bad Bunny - [:PERFORMS] -> 200 Mph\n",
            "Diplo - [:PERFORMS] -> 200 Mph\n",
            "Nitti Gritti - [:PERFORMS] -> 200 Mph\n",
            "Bad Bunny - [:PERFORMS] -> ¿Quien Tu Eres?\n",
            "Bad Bunny - [:PERFORMS] -> Caro\n",
            "Bad Bunny - [:PERFORMS] -> Tenemos Que Hablar\n",
            "Bad Bunny - [:PERFORMS] -> Otra Noche en Miami\n",
            "Bad Bunny - [:PERFORMS] -> Ser Bichote\n",
            "Bad Bunny - [:PERFORMS] -> Si Estuviésemos Juntos\n",
            "Bad Bunny - [:PERFORMS] -> Solo de Mi\n",
            "Bad Bunny - [:PERFORMS] -> Cuando Perriabas\n",
            "Bad Bunny - [:PERFORMS] -> La Romana\n",
            "El Alfa - [:PERFORMS] -> La Romana\n",
            "Bad Bunny - [:PERFORMS] -> Como Antes\n",
            "Bad Bunny - [:PERFORMS] -> RLNDT\n",
            "Bad Bunny - [:PERFORMS] -> Estamos Bien\n",
            "Bad Bunny - [:PERFORMS] -> MIA\n",
            "Drake - [:PERFORMS] -> MIA\n",
            "French Montana - [:PERFORMS] -> No Stylist (feat. Drake)\n",
            "Drake - [:PERFORMS] -> No Stylist (feat. Drake)\n",
            "French Montana - [:PERFORMS] -> No Shopping (feat. Drake)\n",
            "Drake - [:PERFORMS] -> No Shopping (feat. Drake)\n",
            "Bad Bunny - [:PERFORMS] -> Desde el Corazón\n",
            "Taylor Swift - [:PERFORMS] -> ...Ready for It?\n",
            "Ed Sheeran - [:PERFORMS] -> Beautiful People (feat. Khalid) - Jack Wins Remix\n",
            "Khalid - [:PERFORMS] -> Beautiful People (feat. Khalid) - Jack Wins Remix\n",
            "Jack Wins - [:PERFORMS] -> Beautiful People (feat. Khalid) - Jack Wins Remix\n",
            "Ed Sheeran - [:PERFORMS] -> Beautiful People (feat. Khalid) - Danny L Harle Harlecore Remix\n",
            "Khalid - [:PERFORMS] -> Beautiful People (feat. Khalid) - Danny L Harle Harlecore Remix\n",
            "Danny L Harle - [:PERFORMS] -> Beautiful People (feat. Khalid) - Danny L Harle Harlecore Remix\n",
            "Ed Sheeran - [:PERFORMS] -> Beautiful People - Acoustic\n",
            "Ed Sheeran - [:PERFORMS] -> Remember The Name (feat. Eminem & 50 Cent)\n",
            "Eminem - [:PERFORMS] -> Remember The Name (feat. Eminem & 50 Cent)\n",
            "50 Cent - [:PERFORMS] -> Remember The Name (feat. Eminem & 50 Cent)\n",
            "Ed Sheeran - [:PERFORMS] -> Antisocial (with Travis Scott)\n",
            "Travis Scott - [:PERFORMS] -> Antisocial (with Travis Scott)\n",
            "Ed Sheeran - [:PERFORMS] -> South of the Border (feat. Camila Cabello & Cardi B)\n",
            "Camila Cabello - [:PERFORMS] -> South of the Border (feat. Camila Cabello & Cardi B)\n",
            "Cardi B - [:PERFORMS] -> South of the Border (feat. Camila Cabello & Cardi B)\n",
            "Ed Sheeran - [:PERFORMS] -> South of the Border (feat. Camila Cabello) - Acoustic\n",
            "Camila Cabello - [:PERFORMS] -> South of the Border (feat. Camila Cabello) - Acoustic\n",
            "Rick Ross - [:PERFORMS] -> Gold Roses (feat. Drake)\n",
            "Drake - [:PERFORMS] -> Gold Roses (feat. Drake)\n",
            "Ed Sheeran - [:PERFORMS] -> South of the Border (feat. Camila Cabello & Cardi B) - Cheat Codes Remix\n",
            "Cardi B - [:PERFORMS] -> South of the Border (feat. Camila Cabello & Cardi B) - Cheat Codes Remix\n",
            "Camila Cabello - [:PERFORMS] -> South of the Border (feat. Camila Cabello & Cardi B) - Cheat Codes Remix\n",
            "Cheat Codes - [:PERFORMS] -> South of the Border (feat. Camila Cabello & Cardi B) - Cheat Codes Remix\n",
            "MC Kevin o Chris - [:PERFORMS] -> Ela É do Tipo (feat. Drake) - Remix\n",
            "Drake - [:PERFORMS] -> Ela É do Tipo (feat. Drake) - Remix\n",
            "Ricky Hil - [:PERFORMS] -> Nomads\n",
            "The Weeknd - [:PERFORMS] -> Nomads\n",
            "Ed Sheeran - [:PERFORMS] -> South of the Border (feat. Camila Cabello & Cardi B) - Andy Jarvis Remix\n",
            "Cardi B - [:PERFORMS] -> South of the Border (feat. Camila Cabello & Cardi B) - Andy Jarvis Remix\n",
            "Camila Cabello - [:PERFORMS] -> South of the Border (feat. Camila Cabello & Cardi B) - Andy Jarvis Remix\n",
            "Andy Jarvis - [:PERFORMS] -> South of the Border (feat. Camila Cabello & Cardi B) - Andy Jarvis Remix\n",
            "Dan + Shay - [:PERFORMS] -> 10,000 Hours (with Justin Bieber)\n",
            "Justin Bieber - [:PERFORMS] -> 10,000 Hours (with Justin Bieber)\n",
            "Ed Sheeran - [:PERFORMS] -> South of the Border (feat. Camila Cabello & Cardi B) - Sam Feldt Remix\n",
            "Cardi B - [:PERFORMS] -> South of the Border (feat. Camila Cabello & Cardi B) - Sam Feldt Remix\n",
            "Camila Cabello - [:PERFORMS] -> South of the Border (feat. Camila Cabello & Cardi B) - Sam Feldt Remix\n",
            "Sam Feldt - [:PERFORMS] -> South of the Border (feat. Camila Cabello & Cardi B) - Sam Feldt Remix\n",
            "Calvin Harris - [:PERFORMS] -> Heatstroke (feat. Young Thug, Pharrell Williams & Ariana Grande)\n",
            "Young Thug - [:PERFORMS] -> Heatstroke (feat. Young Thug, Pharrell Williams & Ariana Grande)\n",
            "Pharrell Williams - [:PERFORMS] -> Heatstroke (feat. Young Thug, Pharrell Williams & Ariana Grande)\n",
            "Ariana Grande - [:PERFORMS] -> Heatstroke (feat. Young Thug, Pharrell Williams & Ariana Grande)\n",
            "Funk Wav - [:PERFORMS] -> Heatstroke (feat. Young Thug, Pharrell Williams & Ariana Grande)\n",
            "The Weeknd - [:PERFORMS] -> In Your eyes (Remix)\n",
            "Doja Cat - [:PERFORMS] -> In Your eyes (Remix)\n",
            "Justin Bieber - [:PERFORMS] -> Intentions\n",
            "Quavo - [:PERFORMS] -> Intentions\n",
            "Ariana Grande - [:PERFORMS] -> Stuck With U\n",
            "Justin Bieber - [:PERFORMS] -> Stuck With U\n",
            "Drake - [:PERFORMS] -> Behind Barz - Bonus\n",
            "DJ Kay Slay - [:PERFORMS] -> Freestyle (feat. Eminem) - Clean Album Version\n",
            "Eminem - [:PERFORMS] -> Freestyle (feat. Eminem) - Clean Album Version\n",
            "Ed Sheeran - [:PERFORMS] -> Best Part of Me (feat. YEBBA)\n",
            "Yebba - [:PERFORMS] -> Best Part of Me (feat. YEBBA)\n",
            "Rick Ross - [:PERFORMS] -> Gold Roses (feat. Drake)\n",
            "Drake - [:PERFORMS] -> Gold Roses (feat. Drake)\n",
            "Ed Sheeran - [:PERFORMS] -> Put It All on Me (feat. Ella Mai)\n",
            "Ella Mai - [:PERFORMS] -> Put It All on Me (feat. Ella Mai)\n",
            "Lunay - [:PERFORMS] -> Soltera - Remix\n",
            "Daddy Yankee - [:PERFORMS] -> Soltera - Remix\n",
            "Bad Bunny - [:PERFORMS] -> Soltera - Remix\n",
            "Cardi B - [:PERFORMS] -> I Like It\n",
            "Bad Bunny - [:PERFORMS] -> I Like It\n",
            "J Balvin - [:PERFORMS] -> I Like It\n",
            "Chris Brown - [:PERFORMS] -> No Guidance (feat. Drake)\n",
            "Drake - [:PERFORMS] -> No Guidance (feat. Drake)\n",
            "Chris Brown - [:PERFORMS] -> Don't Check On Me (feat. Justin Bieber & Ink)\n",
            "Justin Bieber - [:PERFORMS] -> Don't Check On Me (feat. Justin Bieber & Ink)\n",
            "Ink - [:PERFORMS] -> Don't Check On Me (feat. Justin Bieber & Ink)\n",
            "Dan + Shay - [:PERFORMS] -> 10,000 Hours (with Justin Bieber) - Piano\n",
            "Justin Bieber - [:PERFORMS] -> 10,000 Hours (with Justin Bieber) - Piano\n",
            "Chris Brown - [:PERFORMS] -> No Guidance (feat. Drake)\n",
            "Drake - [:PERFORMS] -> No Guidance (feat. Drake)\n",
            "Chris Brown - [:PERFORMS] -> Don't Check On Me (feat. Justin Bieber & Ink)\n",
            "Justin Bieber - [:PERFORMS] -> Don't Check On Me (feat. Justin Bieber & Ink)\n",
            "Ink - [:PERFORMS] -> Don't Check On Me (feat. Justin Bieber & Ink)\n",
            "Chris Brown - [:PERFORMS] -> No Guidance (feat. Drake)\n",
            "Drake - [:PERFORMS] -> No Guidance (feat. Drake)\n",
            "DJ Khaled - [:PERFORMS] -> GREECE (feat. Drake)\n",
            "Drake - [:PERFORMS] -> GREECE (feat. Drake)\n",
            "DJ Khaled - [:PERFORMS] -> POPSTAR (feat. Drake)\n",
            "Drake - [:PERFORMS] -> POPSTAR (feat. Drake)\n",
            "Taylor Swift - [:PERFORMS] -> Lover (feat. Shawn Mendes) - Remix\n",
            "Shawn Mendes - [:PERFORMS] -> Lover (feat. Shawn Mendes) - Remix\n",
            "Dan + Shay - [:PERFORMS] -> 10,000 Hours\n",
            "Justin Bieber - [:PERFORMS] -> 10,000 Hours\n",
            "Drake - [:PERFORMS] -> Behind Barz - Bonus\n",
            "Drake - [:PERFORMS] -> Behind Barz - Bonus\n",
            "Taylor Swift - [:PERFORMS] -> Delicate\n",
            "Royce Da 5'9 - [:PERFORMS] -> Caterpillar (feat. Eminem & King Green)\n",
            "Eminem - [:PERFORMS] -> Caterpillar (feat. Eminem & King Green)\n",
            "King Green - [:PERFORMS] -> Caterpillar (feat. Eminem & King Green)\n",
            "Jack Ü - [:PERFORMS] -> Where Are Ü Now (with Justin Bieber) - Marshmello Remix\n",
            "Skrillex - [:PERFORMS] -> Where Are Ü Now (with Justin Bieber) - Marshmello Remix\n",
            "Diplo - [:PERFORMS] -> Where Are Ü Now (with Justin Bieber) - Marshmello Remix\n",
            "Justin Bieber - [:PERFORMS] -> Where Are Ü Now (with Justin Bieber) - Marshmello Remix\n",
            "Marshmello - [:PERFORMS] -> Where Are Ü Now (with Justin Bieber) - Marshmello Remix\n",
            "Bad Bunny - [:PERFORMS] -> Si Veo a Tu Mamá\n",
            "Bad Bunny - [:PERFORMS] -> La Difícil\n",
            "Bad Bunny - [:PERFORMS] -> Pero Ya No\n",
            "Bad Bunny - [:PERFORMS] -> La Santa\n",
            "Daddy Yankee - [:PERFORMS] -> La Santa\n",
            "Bad Bunny - [:PERFORMS] -> Yo Perreo Sola\n",
            "Bad Bunny - [:PERFORMS] -> Bichiyal\n",
            "Yaviah - [:PERFORMS] -> Bichiyal\n",
            "Bad Bunny - [:PERFORMS] -> Soliá\n",
            "Bad Bunny - [:PERFORMS] -> La Zona\n",
            "Bad Bunny - [:PERFORMS] -> Que Malo\n",
            "Ñengo Flow - [:PERFORMS] -> Que Malo\n",
            "Bad Bunny - [:PERFORMS] -> Vete\n",
            "Bad Bunny - [:PERFORMS] -> Ignorantes\n",
            "Sech - [:PERFORMS] -> Ignorantes\n",
            "Bad Bunny - [:PERFORMS] -> A Tu Merced\n",
            "Bad Bunny - [:PERFORMS] -> Una Vez\n",
            "Mora - [:PERFORMS] -> Una Vez\n",
            "Bad Bunny - [:PERFORMS] -> Safaera\n",
            "Jowell & Randy - [:PERFORMS] -> Safaera\n",
            "Ñengo Flow - [:PERFORMS] -> Safaera\n",
            "Bad Bunny - [:PERFORMS] -> 25/8\n",
            "Bad Bunny - [:PERFORMS] -> Está Cabrón Ser Yo\n",
            "Anuel AA - [:PERFORMS] -> Está Cabrón Ser Yo\n",
            "Bad Bunny - [:PERFORMS] -> Puesto Pa' Guerrial\n",
            "Myke Towers - [:PERFORMS] -> Puesto Pa' Guerrial\n",
            "Bad Bunny - [:PERFORMS] -> P FKN R\n",
            "Kendo Kaponi - [:PERFORMS] -> P FKN R\n",
            "Arcangel - [:PERFORMS] -> P FKN R\n",
            "Bad Bunny - [:PERFORMS] -> Hablamos Mañana\n",
            "Duki - [:PERFORMS] -> Hablamos Mañana\n",
            "Pablo Chill-E - [:PERFORMS] -> Hablamos Mañana\n",
            "Bad Bunny - [:PERFORMS] -> <3\n",
            "Lizzo - [:PERFORMS] -> Good as Hell (feat. Ariana Grande)\n",
            "Ariana Grande - [:PERFORMS] -> Good as Hell (feat. Ariana Grande)\n",
            "Popcaan - [:PERFORMS] -> TWIST & TURN (feat. Drake & PARTYNEXTDOOR)\n",
            "Drake - [:PERFORMS] -> TWIST & TURN (feat. Drake & PARTYNEXTDOOR)\n",
            "PARTYNEXTDOOR - [:PERFORMS] -> TWIST & TURN (feat. Drake & PARTYNEXTDOOR)\n",
            "Popcaan - [:PERFORMS] -> ALL I NEED (feat. Drake)\n",
            "Drake - [:PERFORMS] -> ALL I NEED (feat. Drake)\n",
            "Childish Gambino - [:PERFORMS] -> Time (feat. Ariana Grande)\n",
            "Ariana Grande - [:PERFORMS] -> Time (feat. Ariana Grande)\n",
            "Calvin Harris - [:PERFORMS] -> Over Now (with The Weeknd)\n",
            "The Weeknd - [:PERFORMS] -> Over Now (with The Weeknd)\n",
            "PARTYNEXTDOOR - [:PERFORMS] -> LOYAL (feat. Drake)\n",
            "Drake - [:PERFORMS] -> LOYAL (feat. Drake)\n",
            "PARTYNEXTDOOR - [:PERFORMS] -> LOYAL (feat. Drake and Bad Bunny) - Remix\n",
            "Drake - [:PERFORMS] -> LOYAL (feat. Drake and Bad Bunny) - Remix\n",
            "Bad Bunny - [:PERFORMS] -> LOYAL (feat. Drake and Bad Bunny) - Remix\n",
            "Headie One - [:PERFORMS] -> Only You Freestyle\n",
            "Drake - [:PERFORMS] -> Only You Freestyle\n",
            "Bryson Tiller - [:PERFORMS] -> Outta Time (feat. Drake)\n",
            "Drake - [:PERFORMS] -> Outta Time (feat. Drake)\n",
            "Chris Brown - [:PERFORMS] -> No Guidance (feat. Drake)\n",
            "Drake - [:PERFORMS] -> No Guidance (feat. Drake)\n",
            "Bryson Tiller - [:PERFORMS] -> Rambo (Last Blood) (feat. The Weeknd)\n",
            "The Weeknd - [:PERFORMS] -> Rambo (Last Blood) (feat. The Weeknd)\n",
            "21 Savage - [:PERFORMS] -> Mr. Right Now (feat. Drake)\n",
            "Metro Boomin - [:PERFORMS] -> Mr. Right Now (feat. Drake)\n",
            "Drake - [:PERFORMS] -> Mr. Right Now (feat. Drake)\n",
            "21 Savage - [:PERFORMS] -> Mr. Right Now (feat. Drake)\n",
            "Metro Boomin - [:PERFORMS] -> Mr. Right Now (feat. Drake)\n",
            "Drake - [:PERFORMS] -> Mr. Right Now (feat. Drake)\n",
            "Stormzy - [:PERFORMS] -> Own It (feat. Ed Sheeran & Burna Boy) - Joel Corry Remix\n",
            "Ed Sheeran - [:PERFORMS] -> Own It (feat. Ed Sheeran & Burna Boy) - Joel Corry Remix\n",
            "Burna Boy - [:PERFORMS] -> Own It (feat. Ed Sheeran & Burna Boy) - Joel Corry Remix\n",
            "Joel Corry - [:PERFORMS] -> Own It (feat. Ed Sheeran & Burna Boy) - Joel Corry Remix\n",
            "Missy Elliott - [:PERFORMS] -> Busa Rhyme (feat. Eminem)\n",
            "Eminem - [:PERFORMS] -> Busa Rhyme (feat. Eminem)\n",
            "Bad Bunny - [:PERFORMS] -> SI ELLA SALE\n",
            "Bad Bunny - [:PERFORMS] -> MÁS DE UNA CITA\n",
            "Zion & Lennox - [:PERFORMS] -> MÁS DE UNA CITA\n",
            "Bad Bunny - [:PERFORMS] -> BYE ME FUI\n",
            "Yandel - [:PERFORMS] -> CANCIÓN CON YANDEL\n",
            "Bad Bunny - [:PERFORMS] -> CANCIÓN CON YANDEL\n",
            "Bad Bunny - [:PERFORMS] -> PA' ROMPERLA\n",
            "Don Omar - [:PERFORMS] -> PA' ROMPERLA\n",
            "Bad Bunny - [:PERFORMS] -> BAD CON NICKY\n",
            "Nicky Jam - [:PERFORMS] -> BAD CON NICKY\n",
            "Bad Bunny - [:PERFORMS] -> BENDICIONES\n",
            "Jhay Cortez - [:PERFORMS] -> CÓMO SE SIENTE - Remix\n",
            "Bad Bunny - [:PERFORMS] -> CÓMO SE SIENTE - Remix\n",
            "Bad Bunny - [:PERFORMS] -> RONCA FREESTYLE\n",
            "Bad Bunny - [:PERFORMS] -> EN CASITA\n",
            "Gabriela - [:PERFORMS] -> EN CASITA\n",
            "Tyler Shaw - [:PERFORMS] -> Lean on Me - ArtistsCAN\n",
            "Fefe Dobson - [:PERFORMS] -> Lean on Me - ArtistsCAN\n",
            "BAD CHILD - [:PERFORMS] -> Lean on Me - ArtistsCAN\n",
            "Command Sisters - [:PERFORMS] -> Lean on Me - ArtistsCAN\n",
            "Dan Kanter - [:PERFORMS] -> Lean on Me - ArtistsCAN\n",
            "Desiire - [:PERFORMS] -> Lean on Me - ArtistsCAN\n",
            "Donovan Woods - [:PERFORMS] -> Lean on Me - ArtistsCAN\n",
            "Johnny Orlando - [:PERFORMS] -> Lean on Me - ArtistsCAN\n",
            "Josh Ramsay - [:PERFORMS] -> Lean on Me - ArtistsCAN\n",
            "Jules Halpern - [:PERFORMS] -> Lean on Me - ArtistsCAN\n",
            "Marie-Mai - [:PERFORMS] -> Lean on Me - ArtistsCAN\n",
            "Olivia Lunny - [:PERFORMS] -> Lean on Me - ArtistsCAN\n",
            "Ryland James - [:PERFORMS] -> Lean on Me - ArtistsCAN\n",
            "Scott Helman - [:PERFORMS] -> Lean on Me - ArtistsCAN\n",
            "Serena Ryder - [:PERFORMS] -> Lean on Me - ArtistsCAN\n",
            "Shawn Hook - [:PERFORMS] -> Lean on Me - ArtistsCAN\n",
            "The Tenors - [:PERFORMS] -> Lean on Me - ArtistsCAN\n",
            "TiKA - [:PERFORMS] -> Lean on Me - ArtistsCAN\n",
            "Walk Off the Earth - [:PERFORMS] -> Lean on Me - ArtistsCAN\n",
            "Avril Lavigne - [:PERFORMS] -> Lean on Me - ArtistsCAN\n",
            "Bryan Adams - [:PERFORMS] -> Lean on Me - ArtistsCAN\n",
            "Buffy Sainte-Marie - [:PERFORMS] -> Lean on Me - ArtistsCAN\n",
            "Geddy Lee - [:PERFORMS] -> Lean on Me - ArtistsCAN\n",
            "Jann Arden - [:PERFORMS] -> Lean on Me - ArtistsCAN\n",
            "Justin Bieber - [:PERFORMS] -> Lean on Me - ArtistsCAN\n",
            "Michael Bublé - [:PERFORMS] -> Lean on Me - ArtistsCAN\n",
            "Sarah McLachlan - [:PERFORMS] -> Lean on Me - ArtistsCAN\n",
            "Travis Scott - [:PERFORMS] -> Pray 4 Love (feat. The Weeknd)\n",
            "The Weeknd - [:PERFORMS] -> Pray 4 Love (feat. The Weeknd)\n",
            "Travis Scott - [:PERFORMS] -> Maria I'm Drunk (feat. Justin Bieber & Young Thug)\n",
            "Justin Bieber - [:PERFORMS] -> Maria I'm Drunk (feat. Justin Bieber & Young Thug)\n",
            "Young Thug - [:PERFORMS] -> Maria I'm Drunk (feat. Justin Bieber & Young Thug)\n",
            "Future - [:PERFORMS] -> Life Is Good (feat. Drake)\n",
            "Drake - [:PERFORMS] -> Life Is Good (feat. Drake)\n",
            "Future - [:PERFORMS] -> Life Is Good (feat. Drake, DaBaby & Lil Baby) - Remix\n",
            "Drake - [:PERFORMS] -> Life Is Good (feat. Drake, DaBaby & Lil Baby) - Remix\n",
            "DaBaby - [:PERFORMS] -> Life Is Good (feat. Drake, DaBaby & Lil Baby) - Remix\n",
            "Lil Baby - [:PERFORMS] -> Life Is Good (feat. Drake, DaBaby & Lil Baby) - Remix\n",
            "Future - [:PERFORMS] -> Life Is Good (feat. Drake)\n",
            "Drake - [:PERFORMS] -> Life Is Good (feat. Drake)\n",
            "Future - [:PERFORMS] -> Life Is Good (feat. Drake, DaBaby & Lil Baby) - Remix\n",
            "Drake - [:PERFORMS] -> Life Is Good (feat. Drake, DaBaby & Lil Baby) - Remix\n",
            "DaBaby - [:PERFORMS] -> Life Is Good (feat. Drake, DaBaby & Lil Baby) - Remix\n",
            "Lil Baby - [:PERFORMS] -> Life Is Good (feat. Drake, DaBaby & Lil Baby) - Remix\n",
            "Anuel AA - [:PERFORMS] -> Hasta Que Dios Diga\n",
            "Bad Bunny - [:PERFORMS] -> Hasta Que Dios Diga\n",
            "Anuel AA - [:PERFORMS] -> Así Soy Yo\n",
            "Bad Bunny - [:PERFORMS] -> Así Soy Yo\n",
            "Beyoncé - [:PERFORMS] -> Mine (feat. Drake)\n",
            "Drake - [:PERFORMS] -> Mine (feat. Drake)\n",
            "21 Savage - [:PERFORMS] -> Mr. Right Now [ChopNotSlop Remix] (feat. Drake)\n",
            "Metro Boomin - [:PERFORMS] -> Mr. Right Now [ChopNotSlop Remix] (feat. Drake)\n",
            "Drake - [:PERFORMS] -> Mr. Right Now [ChopNotSlop Remix] (feat. Drake)\n",
            "21 Savage - [:PERFORMS] -> Mr. Right Now (feat. Drake)\n",
            "Metro Boomin - [:PERFORMS] -> Mr. Right Now (feat. Drake)\n",
            "Drake - [:PERFORMS] -> Mr. Right Now (feat. Drake)\n",
            "Becky G - [:PERFORMS] -> Mayores\n",
            "Bad Bunny - [:PERFORMS] -> Mayores\n",
            "Becky G - [:PERFORMS] -> Mayores - Urban Tropical\n",
            "Bad Bunny - [:PERFORMS] -> Mayores - Urban Tropical\n",
            "Ear Candy - [:PERFORMS] -> Mayores - Urban Tropical\n",
            "Busta Rhymes - [:PERFORMS] -> Calm Down (feat. Eminem)\n",
            "Eminem - [:PERFORMS] -> Calm Down (feat. Eminem)\n",
            "Bad Bunny - [:PERFORMS] -> Dakiti\n",
            "Jhay Cortez - [:PERFORMS] -> Dakiti\n",
            "24kGoldn - [:PERFORMS] -> Mood (Remix) feat. Justin Bieber, J Balvin & iann dior\n",
            "Justin Bieber - [:PERFORMS] -> Mood (Remix) feat. Justin Bieber, J Balvin & iann dior\n",
            "J Balvin - [:PERFORMS] -> Mood (Remix) feat. Justin Bieber, J Balvin & iann dior\n",
            "iann dior - [:PERFORMS] -> Mood (Remix) feat. Justin Bieber, J Balvin & iann dior\n",
            "Yung Bleu - [:PERFORMS] -> You're Mines Still\n",
            "Drake - [:PERFORMS] -> You're Mines Still\n",
            "Maluma - [:PERFORMS] -> Hawái - Remix\n",
            "The Weeknd - [:PERFORMS] -> Hawái - Remix\n",
            "A$AP Rocky - [:PERFORMS] -> F**kin' Problems (feat. Drake, 2 Chainz & Kendrick Lamar)\n",
            "Drake - [:PERFORMS] -> F**kin' Problems (feat. Drake, 2 Chainz & Kendrick Lamar)\n",
            "2 Chainz - [:PERFORMS] -> F**kin' Problems (feat. Drake, 2 Chainz & Kendrick Lamar)\n",
            "Kendrick Lamar - [:PERFORMS] -> F**kin' Problems (feat. Drake, 2 Chainz & Kendrick Lamar)\n",
            "Bad Bunny - [:PERFORMS] -> Tu No Metes Cabra - Remix\n",
            "Daddy Yankee - [:PERFORMS] -> Tu No Metes Cabra - Remix\n",
            "Anuel AA - [:PERFORMS] -> Tu No Metes Cabra - Remix\n",
            "Cosculluela - [:PERFORMS] -> Tu No Metes Cabra - Remix\n",
            "Busta Rhymes - [:PERFORMS] -> Calm Down (feat. Eminem)\n",
            "Eminem - [:PERFORMS] -> Calm Down (feat. Eminem)\n",
            "Sabrina Claudio - [:PERFORMS] -> Christmas Blues\n",
            "The Weeknd - [:PERFORMS] -> Christmas Blues\n",
            "Bad Bunny - [:PERFORMS] -> EL MUNDO ES MÍO\n",
            "Bad Bunny - [:PERFORMS] -> TE MUDASTE\n",
            "Bad Bunny - [:PERFORMS] -> HOY COBRÉ\n",
            "Bad Bunny - [:PERFORMS] -> MALDITA POBREZA\n",
            "Bad Bunny - [:PERFORMS] -> LA NOCHE DE ANOCHE\n",
            "ROSALÍA - [:PERFORMS] -> LA NOCHE DE ANOCHE\n",
            "Bad Bunny - [:PERFORMS] -> TE DESEO LO MEJOR\n",
            "Bad Bunny - [:PERFORMS] -> YO VISTO ASÍ\n",
            "Bad Bunny - [:PERFORMS] -> HACIENDO QUE ME AMAS\n",
            "Bad Bunny - [:PERFORMS] -> BOOKER T\n",
            "Bad Bunny - [:PERFORMS] -> LA DROGA\n",
            "Bad Bunny - [:PERFORMS] -> DÁKITI\n",
            "Jhay Cortez - [:PERFORMS] -> DÁKITI\n",
            "Bad Bunny - [:PERFORMS] -> TRELLAS\n",
            "Bad Bunny - [:PERFORMS] -> SORRY PAPI\n",
            "ABRA - [:PERFORMS] -> SORRY PAPI\n",
            "Bad Bunny - [:PERFORMS] -> 120\n",
            "Bad Bunny - [:PERFORMS] -> ANTES QUE SE ACABE\n",
            "time: 3min 56s (started: 2023-06-10 11:18:21 +00:00)\n"
          ]
        }
      ]
    },
    {
      "cell_type": "markdown",
      "source": [
        "### Visualizar os grafos"
      ],
      "metadata": {
        "id": "IQTYn_PmlC7M"
      }
    },
    {
      "cell_type": "code",
      "source": [
        "from yfiles_jupyter_graphs import GraphWidget\n",
        "from pprint import pprint\n",
        "\n",
        "def visualize_neo4j_graph(driver, cypher_query, graph_layout=\"organic\"):\n",
        "    \"\"\"\n",
        "    Visualize neo4j graph, expect queries with two nodes (n / m) and relationship r\n",
        "    \"\"\"\n",
        "    styles = {\n",
        "    \"Artist\": {\"color\":\"#FF8C00\", \"shape\":\"ellipse\", \"label\":\"name\"},\n",
        "    \"Track\": {\"color\":\"#40E0D0\", \"shape\":\"ellipse\", \"label\":\"label\"}\n",
        "    }\n",
        "\n",
        "    # Execute the Cypher query and retrieve the graph data\n",
        "    with driver.session() as session:\n",
        "        result = session.run(cypher_query)\n",
        "        graph = result.graph()\n",
        "        # pprint(result.data())\n",
        "    w = GraphWidget(graph = graph)\n",
        "    w.set_node_styles_mapping(lambda index, node : styles.get(node[\"properties\"][\"label\"], {}))\n",
        "    w.set_node_label_mapping(lambda index, node : node[\"properties\"][styles.get(node[\"properties\"][\"label\"], {\"label\":\"label\"})[\"label\"]])\n",
        "    w.graph_layout = graph_layout\n",
        "    w.show()\n",
        "    "
      ],
      "metadata": {
        "id": "Gc5c9jDWeRN5",
        "colab": {
          "base_uri": "https://localhost:8080/"
        },
        "outputId": "30e735ac-b0b9-4a74-d0d3-0b61d04db2fa"
      },
      "execution_count": null,
      "outputs": [
        {
          "output_type": "stream",
          "name": "stdout",
          "text": [
            "time: 94 ms (started: 2023-06-10 11:22:17 +00:00)\n"
          ]
        }
      ]
    },
    {
      "cell_type": "markdown",
      "source": [
        "#### Grafo de um Artista"
      ],
      "metadata": {
        "id": "OsStYfCvRQW7"
      }
    },
    {
      "cell_type": "code",
      "source": [
        "visualize_neo4j_graph(driver, \"MATCH (a:Artist)-[r:PERFORMS]->(t:Track) WHERE a.name = 'Ed Sheeran' RETURN * LIMIT 50\", \n",
        "                      graph_layout=\"circular\")"
      ],
      "metadata": {
        "id": "cdf_zjCeeXgD",
        "colab": {
          "base_uri": "https://localhost:8080/",
          "height": 534,
          "referenced_widgets": [
            "68d39b58300f4813a62ea83d444f870a",
            "abc8643a77d24804afd34e1ef7b666ed"
          ]
        },
        "outputId": "48bfdc02-2343-4784-ea2a-b38caaea906d"
      },
      "execution_count": null,
      "outputs": [
        {
          "output_type": "display_data",
          "data": {
            "text/plain": [
              "GraphWidget(layout=Layout(height='500px', width='100%'))"
            ],
            "application/vnd.jupyter.widget-view+json": {
              "version_major": 2,
              "version_minor": 0,
              "model_id": "68d39b58300f4813a62ea83d444f870a"
            }
          },
          "metadata": {
            "application/vnd.jupyter.widget-view+json": {
              "colab": {
                "custom_widget_manager": {
                  "url": "https://ssl.gstatic.com/colaboratory-static/widgets/colab-cdn-widget-manager/b3e629b1971e1542/manager.min.js"
                }
              }
            }
          }
        },
        {
          "output_type": "stream",
          "name": "stdout",
          "text": [
            "time: 820 ms (started: 2023-06-10 11:22:17 +00:00)\n"
          ]
        }
      ]
    },
    {
      "cell_type": "markdown",
      "source": [
        "#### Grafo de uma Música"
      ],
      "metadata": {
        "id": "htiTwgysRYcb"
      }
    },
    {
      "cell_type": "code",
      "source": [
        "visualize_neo4j_graph(driver, \"MATCH (a:Artist)-[r:PERFORMS]->(t:Track) WHERE t.name = 'Mood (Remix) feat. Justin Bieber, J Balvin & iann dior' RETURN * LIMIT 20\")"
      ],
      "metadata": {
        "id": "HAy6LXSYhsL-",
        "colab": {
          "base_uri": "https://localhost:8080/",
          "height": 534,
          "referenced_widgets": [
            "1ac951919f3347bfb9fddca7e25d029e",
            "1c9fb57d1cdd4341b099970cce70f74a"
          ]
        },
        "outputId": "27208af3-3426-414d-dffc-c8a3a26244b8"
      },
      "execution_count": null,
      "outputs": [
        {
          "output_type": "display_data",
          "data": {
            "text/plain": [
              "GraphWidget(layout=Layout(height='500px', width='100%'))"
            ],
            "application/vnd.jupyter.widget-view+json": {
              "version_major": 2,
              "version_minor": 0,
              "model_id": "1ac951919f3347bfb9fddca7e25d029e"
            }
          },
          "metadata": {
            "application/vnd.jupyter.widget-view+json": {
              "colab": {
                "custom_widget_manager": {
                  "url": "https://ssl.gstatic.com/colaboratory-static/widgets/colab-cdn-widget-manager/b3e629b1971e1542/manager.min.js"
                }
              }
            }
          }
        },
        {
          "output_type": "stream",
          "name": "stdout",
          "text": [
            "time: 383 ms (started: 2023-06-10 11:22:18 +00:00)\n"
          ]
        }
      ]
    },
    {
      "cell_type": "markdown",
      "source": [
        "#### Grafo completo"
      ],
      "metadata": {
        "id": "MfC5KiJIRaut"
      }
    },
    {
      "cell_type": "code",
      "source": [
        "visualize_neo4j_graph(driver, \"MATCH (a:Artist)-[r:PERFORMS]->(t:Track) RETURN *\")"
      ],
      "metadata": {
        "id": "IAe1AR079FKw",
        "colab": {
          "base_uri": "https://localhost:8080/",
          "height": 534,
          "referenced_widgets": [
            "82d83b18bca44c1f850dc9f44feb32ac",
            "b83de25926b940d2937740b966d11fd6"
          ]
        },
        "outputId": "64a96466-444c-4558-eb65-91ca6ae521ff"
      },
      "execution_count": null,
      "outputs": [
        {
          "output_type": "display_data",
          "data": {
            "text/plain": [
              "GraphWidget(layout=Layout(height='500px', width='100%'))"
            ],
            "application/vnd.jupyter.widget-view+json": {
              "version_major": 2,
              "version_minor": 0,
              "model_id": "82d83b18bca44c1f850dc9f44feb32ac"
            }
          },
          "metadata": {
            "application/vnd.jupyter.widget-view+json": {
              "colab": {
                "custom_widget_manager": {
                  "url": "https://ssl.gstatic.com/colaboratory-static/widgets/colab-cdn-widget-manager/b3e629b1971e1542/manager.min.js"
                }
              }
            }
          }
        },
        {
          "output_type": "stream",
          "name": "stdout",
          "text": [
            "time: 1.43 s (started: 2023-06-10 11:22:18 +00:00)\n"
          ]
        }
      ]
    },
    {
      "cell_type": "markdown",
      "source": [
        "## EX 4 - A rede de relacionamentos no nível mais próximo e no segundo nível."
      ],
      "metadata": {
        "id": "6uLhcTnVJLbV"
      }
    },
    {
      "cell_type": "markdown",
      "source": [
        "#### Nível mais próximo"
      ],
      "metadata": {
        "id": "13NPQj1OJZp8"
      }
    },
    {
      "cell_type": "code",
      "source": [
        "from pprint import pprint\n",
        "#a rede de relacionamentos no nível mais próximo\n",
        "\n",
        "ARTIST_NAME = \"Ed Sheeran\"\n",
        "\n",
        "with driver.session() as session:\n",
        "      res = session.run(\"\"\"\n",
        "      MATCH (a:Artist)-[:PERFORMS]->(:Track)<-[:PERFORMS]-(relatedArtist:Artist)\n",
        "      WHERE a.name = $name\n",
        "      RETURN DISTINCT relatedArtist.name AS name\n",
        "      ORDER BY relatedArtist.name \n",
        "      \"\"\", \n",
        "      name=ARTIST_NAME)\n",
        "      nomes = [i['name'] for i in res.data()]\n",
        "\n",
        "print(f\"Nomes dos artistas de nível mais próximo a {ARTIST_NAME}\")\n",
        "pprint(nomes)\n"
      ],
      "metadata": {
        "id": "dtk2_447ALex",
        "colab": {
          "base_uri": "https://localhost:8080/"
        },
        "outputId": "bad3df7c-32bd-4be5-9c28-c08b84dbcb18"
      },
      "execution_count": null,
      "outputs": [
        {
          "output_type": "stream",
          "name": "stdout",
          "text": [
            "Nomes dos artistas de nível mais próximo a Ed Sheeran\n",
            "['50 Cent',\n",
            " 'A Boogie Wit da Hoodie',\n",
            " 'Beyoncé',\n",
            " 'Bruno Mars',\n",
            " 'Burna Boy',\n",
            " 'Camila Cabello',\n",
            " 'Cardi B',\n",
            " 'Chance the Rapper',\n",
            " 'Cheat Codes',\n",
            " 'Chris Stapleton',\n",
            " 'Dave',\n",
            " 'Ella Mai',\n",
            " 'Eminem',\n",
            " 'Galantis',\n",
            " 'H.E.R.',\n",
            " 'Joel Corry',\n",
            " 'Jonas Blue',\n",
            " 'Justin Bieber',\n",
            " 'Khalid',\n",
            " 'Loud Luxury',\n",
            " 'Meek Mill',\n",
            " 'Paulo Londra',\n",
            " 'PnB Rock',\n",
            " 'Sam Feldt',\n",
            " 'Skrillex',\n",
            " 'Stormzy',\n",
            " 'Travis Scott',\n",
            " 'Young Thug']\n",
            "time: 415 ms (started: 2023-06-10 11:22:20 +00:00)\n"
          ]
        }
      ]
    },
    {
      "cell_type": "code",
      "source": [
        "# Visualização dos nodes\n",
        "visualize_neo4j_graph(driver, f\"MATCH (a:Artist)-[r1:PERFORMS]->(t:Track)<-[r2:PERFORMS]-(relatedArtist:Artist) WHERE relatedArtist.name = '{ARTIST_NAME}' RETURN *\",\n",
        "                      graph_layout='radial')"
      ],
      "metadata": {
        "id": "X6YkKEpUFB7H",
        "colab": {
          "base_uri": "https://localhost:8080/",
          "height": 534,
          "referenced_widgets": [
            "2cedc40de0fd4d478cb22715684fdfd9",
            "9f83929e5b684c4ea24f40b00a1fe407"
          ]
        },
        "outputId": "d03542ec-86f0-4b67-855d-d7d0f47f7c9e"
      },
      "execution_count": null,
      "outputs": [
        {
          "output_type": "display_data",
          "data": {
            "text/plain": [
              "GraphWidget(layout=Layout(height='500px', width='100%'))"
            ],
            "application/vnd.jupyter.widget-view+json": {
              "version_major": 2,
              "version_minor": 0,
              "model_id": "2cedc40de0fd4d478cb22715684fdfd9"
            }
          },
          "metadata": {
            "application/vnd.jupyter.widget-view+json": {
              "colab": {
                "custom_widget_manager": {
                  "url": "https://ssl.gstatic.com/colaboratory-static/widgets/colab-cdn-widget-manager/b3e629b1971e1542/manager.min.js"
                }
              }
            }
          }
        },
        {
          "output_type": "stream",
          "name": "stdout",
          "text": [
            "time: 667 ms (started: 2023-06-10 11:22:20 +00:00)\n"
          ]
        }
      ]
    },
    {
      "cell_type": "markdown",
      "source": [
        "#### Segundo nível"
      ],
      "metadata": {
        "id": "yio3EMszJfas"
      }
    },
    {
      "cell_type": "code",
      "source": [
        "from pprint import pprint\n",
        "#a rede de relacionamentos no nível mais próximo e no segundo nível.\n",
        "\n",
        "ARTIST_NAME = \"Ed Sheeran\"\n",
        "\n",
        "with driver.session() as session:\n",
        "      res = session.run(\"\"\"MATCH (a1:Artist)-[:PERFORMS]->(t1:Track)<-[:PERFORMS]-(a2:Artist)-[:PERFORMS]->(t2:Track)<-[:PERFORMS]-(a3:Artist)\n",
        "      WHERE a1 <> a2 AND a2 <> a3 AND a1 <> a3\n",
        "      AND a1.name = $name\n",
        "      AND NOT (a1)-[:PERFORMS]->(:Track)<-[:PERFORMS]-(a3)\n",
        "      RETURN DISTINCT a3.name AS name\n",
        "      ORDER BY name\n",
        "      \"\"\", \n",
        "      name=ARTIST_NAME)\n",
        "      nomes = [i['name'] for i in res.data()]\n",
        "\n",
        "print(f\"Nomes dos artistas de nível mais próximo a {ARTIST_NAME}\")\n",
        "pprint(nomes)\n"
      ],
      "metadata": {
        "id": "vPfUQJk5IKLC",
        "colab": {
          "base_uri": "https://localhost:8080/"
        },
        "outputId": "f403d176-3d44-4942-b651-01bdb9ed917b"
      },
      "execution_count": null,
      "outputs": [
        {
          "output_type": "stream",
          "name": "stdout",
          "text": [
            "Nomes dos artistas de nível mais próximo a Ed Sheeran\n",
            "['24kGoldn',\n",
            " 'Ariana Grande',\n",
            " 'Avril Lavigne',\n",
            " 'Bad Bunny',\n",
            " 'Bryan Adams',\n",
            " 'Calvin Harris',\n",
            " 'Chris Brown',\n",
            " 'DJ Khaled',\n",
            " 'Dan + Shay',\n",
            " 'David Guetta',\n",
            " 'Diplo',\n",
            " 'Drake',\n",
            " 'Gucci Mane',\n",
            " 'J Balvin',\n",
            " 'Jack Ü',\n",
            " 'Lil Wayne',\n",
            " 'Major Lazer',\n",
            " 'Marshmello',\n",
            " 'Michael Bublé',\n",
            " 'MØ',\n",
            " 'P!nk',\n",
            " 'Pharrell Williams',\n",
            " 'Quavo',\n",
            " 'SZA',\n",
            " 'The Notorious B.I.G.',\n",
            " 'The Weeknd',\n",
            " 'Trey Songz',\n",
            " 'iann dior']\n",
            "time: 711 ms (started: 2023-06-10 11:22:21 +00:00)\n"
          ]
        }
      ]
    },
    {
      "cell_type": "code",
      "source": [
        "# Visualização dos nodes\n",
        "\n",
        "ARTIST_NAME = \"Ed Sheeran\"\n",
        "\n",
        "\n",
        "visualize_neo4j_graph(driver, \n",
        "      f\"\"\"MATCH (a1:Artist)-[r1:PERFORMS]->(t1:Track)<-[r2:PERFORMS]-(a2:Artist)-[r3:PERFORMS]->(t2:Track)<-[r4:PERFORMS]-(a3:Artist)\n",
        "      WHERE a1 <> a2 AND a2 <> a3 AND a1 <> a3\n",
        "      AND a1.name = '{ARTIST_NAME}'\n",
        "      AND NOT (a1)-[:PERFORMS]->(:Track)<-[:PERFORMS]-(a3)\n",
        "      RETURN *\"\"\",\n",
        "                      graph_layout='radial')"
      ],
      "metadata": {
        "id": "0OUTHq1xIjLs",
        "colab": {
          "base_uri": "https://localhost:8080/",
          "height": 534,
          "referenced_widgets": [
            "dfb4450aed474541ac51d211b4a08368",
            "bbece808c1b342298a950117a5063df0"
          ]
        },
        "outputId": "5f7e324d-8de2-454e-9a33-26edf8e90418"
      },
      "execution_count": null,
      "outputs": [
        {
          "output_type": "display_data",
          "data": {
            "text/plain": [
              "GraphWidget(layout=Layout(height='500px', width='100%'))"
            ],
            "application/vnd.jupyter.widget-view+json": {
              "version_major": 2,
              "version_minor": 0,
              "model_id": "dfb4450aed474541ac51d211b4a08368"
            }
          },
          "metadata": {
            "application/vnd.jupyter.widget-view+json": {
              "colab": {
                "custom_widget_manager": {
                  "url": "https://ssl.gstatic.com/colaboratory-static/widgets/colab-cdn-widget-manager/b3e629b1971e1542/manager.min.js"
                }
              }
            }
          }
        },
        {
          "output_type": "stream",
          "name": "stdout",
          "text": [
            "time: 1.26 s (started: 2023-06-10 11:22:22 +00:00)\n"
          ]
        }
      ]
    },
    {
      "cell_type": "markdown",
      "source": [
        "### A força do relacionamento para chegar a um determinado nó"
      ],
      "metadata": {
        "id": "FYzTNnazJlDp"
      }
    },
    {
      "cell_type": "code",
      "source": [
        "\n",
        "ARTISTA_1 = 'Ed Sheeran'\n",
        "ARTISTA_2 = \"Childish Gambino\"\n",
        "\n",
        "with driver.session() as session:\n",
        "      res = session.run(\"\"\"MATCH (a1:Artist { name:$name1 }),(a2:Artist { name:$name2 }), \n",
        "      p = shortestPath((a1)-[*..15]-(a2))\n",
        "      RETURN length(p) as distancia\n",
        "      \"\"\", \n",
        "      name1=ARTISTA_1,\n",
        "      name2=ARTISTA_2)\n",
        "      resp = res.data()[0]['distancia'] \n",
        "\n",
        "print(f\"Distancia entre os artistas {ARTISTA_1} e {ARTISTA_2} é de {int(resp/2-1)}\")\n",
        "\n",
        "\n",
        "\n"
      ],
      "metadata": {
        "id": "Jv34y_gxKVSJ",
        "colab": {
          "base_uri": "https://localhost:8080/"
        },
        "outputId": "a858fca6-98fd-4225-bafe-a22c2287fcb9"
      },
      "execution_count": 41,
      "outputs": [
        {
          "output_type": "stream",
          "name": "stdout",
          "text": [
            "Distancia entre os artistas Ed Sheeran e Childish Gambino é de 2\n",
            "time: 372 ms (started: 2023-06-10 11:32:43 +00:00)\n"
          ]
        }
      ]
    },
    {
      "cell_type": "code",
      "source": [
        "# Visualização dos nodes\n",
        "\n",
        "\n",
        "visualize_neo4j_graph(driver, \n",
        "      f\"\"\"MATCH (a1:Artist {{ name:'{ARTISTA_1}' }}),(a2:Artist {{ name:'{ARTISTA_2}' }}),\n",
        "      p = shortestPath((a1)-[*..15]-(a2))\n",
        "      RETURN *\n",
        "      \"\"\",\n",
        "                      graph_layout='radial')"
      ],
      "metadata": {
        "id": "dnMXYZB6PZJ3",
        "colab": {
          "base_uri": "https://localhost:8080/",
          "height": 534,
          "referenced_widgets": [
            "72d8fc00239b4690b0d8a3c129ca09fd",
            "991a5f8d5ac245bab9215dc95bf3e2f8"
          ]
        },
        "outputId": "a49a7a2f-a828-404a-aea2-e18230696029"
      },
      "execution_count": 42,
      "outputs": [
        {
          "output_type": "display_data",
          "data": {
            "text/plain": [
              "GraphWidget(layout=Layout(height='500px', width='100%'))"
            ],
            "application/vnd.jupyter.widget-view+json": {
              "version_major": 2,
              "version_minor": 0,
              "model_id": "72d8fc00239b4690b0d8a3c129ca09fd"
            }
          },
          "metadata": {
            "application/vnd.jupyter.widget-view+json": {
              "colab": {
                "custom_widget_manager": {
                  "url": "https://ssl.gstatic.com/colaboratory-static/widgets/colab-cdn-widget-manager/b3e629b1971e1542/manager.min.js"
                }
              }
            }
          }
        },
        {
          "output_type": "stream",
          "name": "stdout",
          "text": [
            "time: 408 ms (started: 2023-06-10 11:32:46 +00:00)\n"
          ]
        }
      ]
    }
  ]
}